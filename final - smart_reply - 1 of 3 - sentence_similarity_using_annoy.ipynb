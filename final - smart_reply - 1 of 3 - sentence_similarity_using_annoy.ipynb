{
 "cells": [
  {
   "cell_type": "code",
   "execution_count": 1,
   "metadata": {
    "_cell_guid": "b1076dfc-b9ad-4769-8c92-a6c4dae69d19",
    "_uuid": "8f2839f25d086af736a60e9eeb907d3b93b6e0e5",
    "execution": {
     "iopub.execute_input": "2021-03-14T13:04:39.529276Z",
     "iopub.status.busy": "2021-03-14T13:04:39.528418Z",
     "iopub.status.idle": "2021-03-14T13:04:49.682961Z",
     "shell.execute_reply": "2021-03-14T13:04:49.681820Z"
    },
    "papermill": {
     "duration": 10.186221,
     "end_time": "2021-03-14T13:04:49.683245",
     "exception": false,
     "start_time": "2021-03-14T13:04:39.497024",
     "status": "completed"
    },
    "tags": []
   },
   "outputs": [],
   "source": [
    "import numpy as np\n",
    "import tensorflow as tf\n",
    "from tensorflow import keras\n",
    "import string, os \n",
    "import re\n",
    "from tqdm import tqdm\n",
    "import pandas as pd\n",
    "import matplotlib.pyplot as plt\n",
    "import pickle\n",
    "from tensorflow.keras.preprocessing.text import Tokenizer\n",
    "from scipy import spatial"
   ]
  },
  {
   "cell_type": "code",
   "execution_count": 2,
   "metadata": {
    "execution": {
     "iopub.execute_input": "2021-03-14T13:04:49.734690Z",
     "iopub.status.busy": "2021-03-14T13:04:49.733658Z",
     "iopub.status.idle": "2021-03-14T13:04:50.609140Z",
     "shell.execute_reply": "2021-03-14T13:04:50.608128Z"
    },
    "papermill": {
     "duration": 0.903419,
     "end_time": "2021-03-14T13:04:50.609354",
     "exception": false,
     "start_time": "2021-03-14T13:04:49.705935",
     "status": "completed"
    },
    "tags": []
   },
   "outputs": [
    {
     "data": {
      "text/html": [
       "<div>\n",
       "<style scoped>\n",
       "    .dataframe tbody tr th:only-of-type {\n",
       "        vertical-align: middle;\n",
       "    }\n",
       "\n",
       "    .dataframe tbody tr th {\n",
       "        vertical-align: top;\n",
       "    }\n",
       "\n",
       "    .dataframe thead th {\n",
       "        text-align: right;\n",
       "    }\n",
       "</style>\n",
       "<table border=\"1\" class=\"dataframe\">\n",
       "  <thead>\n",
       "    <tr style=\"text-align: right;\">\n",
       "      <th></th>\n",
       "      <th>conversation_id</th>\n",
       "      <th>message</th>\n",
       "      <th>sentiment</th>\n",
       "    </tr>\n",
       "  </thead>\n",
       "  <tbody>\n",
       "    <tr>\n",
       "      <th>0</th>\n",
       "      <td>1</td>\n",
       "      <td>Are you a fan of Google or Microsoft?</td>\n",
       "      <td>Curious to dive deeper</td>\n",
       "    </tr>\n",
       "    <tr>\n",
       "      <th>1</th>\n",
       "      <td>1</td>\n",
       "      <td>Both are excellent technology they are helpfu...</td>\n",
       "      <td>Curious to dive deeper</td>\n",
       "    </tr>\n",
       "    <tr>\n",
       "      <th>2</th>\n",
       "      <td>1</td>\n",
       "      <td>I'm not  a huge fan of Google, but I use it a...</td>\n",
       "      <td>Curious to dive deeper</td>\n",
       "    </tr>\n",
       "    <tr>\n",
       "      <th>3</th>\n",
       "      <td>1</td>\n",
       "      <td>Google provides online related services and p...</td>\n",
       "      <td>Curious to dive deeper</td>\n",
       "    </tr>\n",
       "    <tr>\n",
       "      <th>4</th>\n",
       "      <td>1</td>\n",
       "      <td>Yeah, their services are good. I'm just not a...</td>\n",
       "      <td>Curious to dive deeper</td>\n",
       "    </tr>\n",
       "    <tr>\n",
       "      <th>...</th>\n",
       "      <td>...</td>\n",
       "      <td>...</td>\n",
       "      <td>...</td>\n",
       "    </tr>\n",
       "    <tr>\n",
       "      <th>188373</th>\n",
       "      <td>8628</td>\n",
       "      <td>Wow, it does not seem like that long. Since I...</td>\n",
       "      <td>Surprised</td>\n",
       "    </tr>\n",
       "    <tr>\n",
       "      <th>188374</th>\n",
       "      <td>8628</td>\n",
       "      <td>I havent seen that episode, I might google it...</td>\n",
       "      <td>Curious to dive deeper</td>\n",
       "    </tr>\n",
       "    <tr>\n",
       "      <th>188375</th>\n",
       "      <td>8628</td>\n",
       "      <td>I don't think I have either. That's an insane...</td>\n",
       "      <td>Curious to dive deeper</td>\n",
       "    </tr>\n",
       "    <tr>\n",
       "      <th>188376</th>\n",
       "      <td>8628</td>\n",
       "      <td>I did, my little brother used to love Thomas ...</td>\n",
       "      <td>Happy</td>\n",
       "    </tr>\n",
       "    <tr>\n",
       "      <th>188377</th>\n",
       "      <td>8628</td>\n",
       "      <td>It did. Ringo Starr, George Carlin, and Alec ...</td>\n",
       "      <td>Neutral</td>\n",
       "    </tr>\n",
       "  </tbody>\n",
       "</table>\n",
       "<p>188378 rows × 3 columns</p>\n",
       "</div>"
      ],
      "text/plain": [
       "        conversation_id                                            message  \\\n",
       "0                     1              Are you a fan of Google or Microsoft?   \n",
       "1                     1   Both are excellent technology they are helpfu...   \n",
       "2                     1   I'm not  a huge fan of Google, but I use it a...   \n",
       "3                     1   Google provides online related services and p...   \n",
       "4                     1   Yeah, their services are good. I'm just not a...   \n",
       "...                 ...                                                ...   \n",
       "188373             8628   Wow, it does not seem like that long. Since I...   \n",
       "188374             8628   I havent seen that episode, I might google it...   \n",
       "188375             8628   I don't think I have either. That's an insane...   \n",
       "188376             8628   I did, my little brother used to love Thomas ...   \n",
       "188377             8628   It did. Ringo Starr, George Carlin, and Alec ...   \n",
       "\n",
       "                      sentiment  \n",
       "0        Curious to dive deeper  \n",
       "1        Curious to dive deeper  \n",
       "2        Curious to dive deeper  \n",
       "3        Curious to dive deeper  \n",
       "4        Curious to dive deeper  \n",
       "...                         ...  \n",
       "188373                Surprised  \n",
       "188374   Curious to dive deeper  \n",
       "188375   Curious to dive deeper  \n",
       "188376                    Happy  \n",
       "188377                  Neutral  \n",
       "\n",
       "[188378 rows x 3 columns]"
      ]
     },
     "execution_count": 2,
     "metadata": {},
     "output_type": "execute_result"
    }
   ],
   "source": [
    "# reading dataset\n",
    "df = pd.read_csv('../input/chatbot-dataset-topical-chat/topical_chat.csv')\n",
    "df"
   ]
  },
  {
   "cell_type": "code",
   "execution_count": 3,
   "metadata": {
    "execution": {
     "iopub.execute_input": "2021-03-14T13:04:50.667448Z",
     "iopub.status.busy": "2021-03-14T13:04:50.666582Z",
     "iopub.status.idle": "2021-03-14T13:04:50.839430Z",
     "shell.execute_reply": "2021-03-14T13:04:50.838542Z"
    },
    "papermill": {
     "duration": 0.20659,
     "end_time": "2021-03-14T13:04:50.839608",
     "exception": false,
     "start_time": "2021-03-14T13:04:50.633018",
     "status": "completed"
    },
    "tags": []
   },
   "outputs": [],
   "source": [
    "# dropping duplicates\n",
    "df.drop_duplicates(subset=['conversation_id', 'message'], inplace=True)"
   ]
  },
  {
   "cell_type": "code",
   "execution_count": 4,
   "metadata": {
    "execution": {
     "iopub.execute_input": "2021-03-14T13:04:50.954784Z",
     "iopub.status.busy": "2021-03-14T13:04:50.953821Z",
     "iopub.status.idle": "2021-03-14T13:04:50.968129Z",
     "shell.execute_reply": "2021-03-14T13:04:50.967002Z"
    },
    "papermill": {
     "duration": 0.10504,
     "end_time": "2021-03-14T13:04:50.968346",
     "exception": false,
     "start_time": "2021-03-14T13:04:50.863306",
     "status": "completed"
    },
    "tags": []
   },
   "outputs": [
    {
     "data": {
      "text/plain": [
       "conversation_id    188336\n",
       "message            188336\n",
       "sentiment          188336\n",
       "dtype: int64"
      ]
     },
     "execution_count": 4,
     "metadata": {},
     "output_type": "execute_result"
    }
   ],
   "source": [
    "df.count()"
   ]
  },
  {
   "cell_type": "code",
   "execution_count": 5,
   "metadata": {
    "execution": {
     "iopub.execute_input": "2021-03-14T13:04:51.027434Z",
     "iopub.status.busy": "2021-03-14T13:04:51.026467Z",
     "iopub.status.idle": "2021-03-14T13:04:51.032397Z",
     "shell.execute_reply": "2021-03-14T13:04:51.031637Z"
    },
    "papermill": {
     "duration": 0.04005,
     "end_time": "2021-03-14T13:04:51.032579",
     "exception": false,
     "start_time": "2021-03-14T13:04:50.992529",
     "status": "completed"
    },
    "tags": []
   },
   "outputs": [],
   "source": [
    "# basic preprocessing\n",
    "def process(text):\n",
    "    text = text.lower().replace('\\n', ' ').replace('-', ' ').replace(':', ' ').replace(',', '') \\\n",
    "          .replace('\"', '').replace(\"...\", \".\").replace(\"..\", \".\").replace(\"!\", \".\").replace(\"?\", \"\").replace(\";\", \".\").replace(\":\", \" \")\n",
    "\n",
    "    #text = \"\".join(v for v in text if v not in string.punctuation).lower()\n",
    "    #text = text.encode(\"utf8\").decode(\"ascii\",'ignore')\n",
    "\n",
    "    text = \" \".join(text.split())\n",
    "    #text+=\"<eos>\"\n",
    "    return text"
   ]
  },
  {
   "cell_type": "code",
   "execution_count": 6,
   "metadata": {
    "execution": {
     "iopub.execute_input": "2021-03-14T13:04:51.102146Z",
     "iopub.status.busy": "2021-03-14T13:04:51.096337Z",
     "iopub.status.idle": "2021-03-14T13:04:51.972976Z",
     "shell.execute_reply": "2021-03-14T13:04:51.972047Z"
    },
    "papermill": {
     "duration": 0.914958,
     "end_time": "2021-03-14T13:04:51.973167",
     "exception": false,
     "start_time": "2021-03-14T13:04:51.058209",
     "status": "completed"
    },
    "tags": []
   },
   "outputs": [],
   "source": [
    "df.message = df.message.apply(process)"
   ]
  },
  {
   "cell_type": "code",
   "execution_count": 7,
   "metadata": {
    "execution": {
     "iopub.execute_input": "2021-03-14T13:04:52.035115Z",
     "iopub.status.busy": "2021-03-14T13:04:52.034157Z",
     "iopub.status.idle": "2021-03-14T13:04:52.042750Z",
     "shell.execute_reply": "2021-03-14T13:04:52.041950Z"
    },
    "papermill": {
     "duration": 0.044966,
     "end_time": "2021-03-14T13:04:52.042938",
     "exception": false,
     "start_time": "2021-03-14T13:04:51.997972",
     "status": "completed"
    },
    "tags": []
   },
   "outputs": [
    {
     "data": {
      "text/html": [
       "<div>\n",
       "<style scoped>\n",
       "    .dataframe tbody tr th:only-of-type {\n",
       "        vertical-align: middle;\n",
       "    }\n",
       "\n",
       "    .dataframe tbody tr th {\n",
       "        vertical-align: top;\n",
       "    }\n",
       "\n",
       "    .dataframe thead th {\n",
       "        text-align: right;\n",
       "    }\n",
       "</style>\n",
       "<table border=\"1\" class=\"dataframe\">\n",
       "  <thead>\n",
       "    <tr style=\"text-align: right;\">\n",
       "      <th></th>\n",
       "      <th>conversation_id</th>\n",
       "      <th>message</th>\n",
       "      <th>sentiment</th>\n",
       "    </tr>\n",
       "  </thead>\n",
       "  <tbody>\n",
       "    <tr>\n",
       "      <th>0</th>\n",
       "      <td>1</td>\n",
       "      <td>are you a fan of google or microsoft</td>\n",
       "      <td>Curious to dive deeper</td>\n",
       "    </tr>\n",
       "    <tr>\n",
       "      <th>1</th>\n",
       "      <td>1</td>\n",
       "      <td>both are excellent technology they are helpful...</td>\n",
       "      <td>Curious to dive deeper</td>\n",
       "    </tr>\n",
       "    <tr>\n",
       "      <th>2</th>\n",
       "      <td>1</td>\n",
       "      <td>i'm not a huge fan of google but i use it a lo...</td>\n",
       "      <td>Curious to dive deeper</td>\n",
       "    </tr>\n",
       "    <tr>\n",
       "      <th>3</th>\n",
       "      <td>1</td>\n",
       "      <td>google provides online related services and pr...</td>\n",
       "      <td>Curious to dive deeper</td>\n",
       "    </tr>\n",
       "    <tr>\n",
       "      <th>4</th>\n",
       "      <td>1</td>\n",
       "      <td>yeah their services are good. i'm just not a f...</td>\n",
       "      <td>Curious to dive deeper</td>\n",
       "    </tr>\n",
       "  </tbody>\n",
       "</table>\n",
       "</div>"
      ],
      "text/plain": [
       "   conversation_id                                            message  \\\n",
       "0                1               are you a fan of google or microsoft   \n",
       "1                1  both are excellent technology they are helpful...   \n",
       "2                1  i'm not a huge fan of google but i use it a lo...   \n",
       "3                1  google provides online related services and pr...   \n",
       "4                1  yeah their services are good. i'm just not a f...   \n",
       "\n",
       "                 sentiment  \n",
       "0   Curious to dive deeper  \n",
       "1   Curious to dive deeper  \n",
       "2   Curious to dive deeper  \n",
       "3   Curious to dive deeper  \n",
       "4   Curious to dive deeper  "
      ]
     },
     "execution_count": 7,
     "metadata": {},
     "output_type": "execute_result"
    }
   ],
   "source": [
    "df.head()"
   ]
  },
  {
   "cell_type": "code",
   "execution_count": 8,
   "metadata": {
    "execution": {
     "iopub.execute_input": "2021-03-14T13:04:52.107311Z",
     "iopub.status.busy": "2021-03-14T13:04:52.106550Z",
     "iopub.status.idle": "2021-03-14T13:06:23.030820Z",
     "shell.execute_reply": "2021-03-14T13:06:23.029275Z"
    },
    "papermill": {
     "duration": 90.959629,
     "end_time": "2021-03-14T13:06:23.030965",
     "exception": false,
     "start_time": "2021-03-14T13:04:52.071336",
     "status": "completed"
    },
    "tags": []
   },
   "outputs": [
    {
     "name": "stderr",
     "output_type": "stream",
     "text": [
      "100%|██████████| 188336/188336 [01:30<00:00, 2078.86it/s]\n"
     ]
    }
   ],
   "source": [
    "# Vectorize the data.\n",
    "input_texts = []\n",
    "target_texts = []\n",
    "\n",
    "for conversation_index in tqdm(range(df.shape[0])):\n",
    "    \n",
    "    if conversation_index == 0:\n",
    "        continue\n",
    "        \n",
    "    input_text = df.iloc[conversation_index - 1]\n",
    "    target_text = df.iloc[conversation_index]\n",
    "    \n",
    "    \"\"\"\n",
    "    if \".\" in question:\n",
    "        if question.index(\".\") <= len(question):\n",
    "            question = question.split(\".\")[len(question.split(\".\")) - 1].strip()\n",
    "            \n",
    "            \n",
    "    \n",
    "    if \".\" in answer:\n",
    "        if answer.index(\".\") <= len(answer):\n",
    "            answer = answer.split('.')[0].strip()\n",
    "    \n",
    "    answer = \"\\t\" + answer + \"\\n\"\n",
    "    \"\"\"\n",
    "    if input_text.conversation_id == target_text.conversation_id:\n",
    "        \n",
    "        input_text = input_text.message\n",
    "        target_text = target_text.message\n",
    "        \n",
    "        if len(input_text.split()) > 2 and \\\n",
    "            len(target_text.split()) > 0 and \\\n",
    "            len(input_text.split()) < 50 and \\\n",
    "            len(target_text.split()) < 10 and \\\n",
    "            input_text and \\\n",
    "            target_text:\n",
    "                \n",
    "            input_texts.append(input_text)\n",
    "            target_texts.append(target_text)"
   ]
  },
  {
   "cell_type": "code",
   "execution_count": 9,
   "metadata": {
    "execution": {
     "iopub.execute_input": "2021-03-14T13:06:23.640537Z",
     "iopub.status.busy": "2021-03-14T13:06:23.639837Z",
     "iopub.status.idle": "2021-03-14T13:06:23.645640Z",
     "shell.execute_reply": "2021-03-14T13:06:23.645034Z"
    },
    "papermill": {
     "duration": 0.315662,
     "end_time": "2021-03-14T13:06:23.646119",
     "exception": false,
     "start_time": "2021-03-14T13:06:23.330457",
     "status": "completed"
    },
    "tags": []
   },
   "outputs": [
    {
     "name": "stdout",
     "output_type": "stream",
     "text": [
      "21861\n",
      "21861\n"
     ]
    }
   ],
   "source": [
    "print(len(input_texts))\n",
    "print(len(target_texts))"
   ]
  },
  {
   "cell_type": "code",
   "execution_count": 10,
   "metadata": {
    "execution": {
     "iopub.execute_input": "2021-03-14T13:06:24.293263Z",
     "iopub.status.busy": "2021-03-14T13:06:24.292547Z",
     "iopub.status.idle": "2021-03-14T13:06:24.314688Z",
     "shell.execute_reply": "2021-03-14T13:06:24.314008Z"
    },
    "papermill": {
     "duration": 0.358936,
     "end_time": "2021-03-14T13:06:24.314875",
     "exception": false,
     "start_time": "2021-03-14T13:06:23.955939",
     "status": "completed"
    },
    "tags": []
   },
   "outputs": [],
   "source": [
    "#saving\n",
    "with open('input_texts.pickle', 'wb') as handle:\n",
    "    pickle.dump(input_texts, handle, protocol=pickle.HIGHEST_PROTOCOL)\n",
    "    \n",
    "#saving\n",
    "with open('target_texts.pickle', 'wb') as handle:\n",
    "    pickle.dump(target_texts, handle, protocol=pickle.HIGHEST_PROTOCOL)"
   ]
  },
  {
   "cell_type": "code",
   "execution_count": 11,
   "metadata": {
    "execution": {
     "iopub.execute_input": "2021-03-14T13:06:24.928428Z",
     "iopub.status.busy": "2021-03-14T13:06:24.927731Z",
     "iopub.status.idle": "2021-03-14T13:06:34.293685Z",
     "shell.execute_reply": "2021-03-14T13:06:34.291831Z"
    },
    "papermill": {
     "duration": 9.677361,
     "end_time": "2021-03-14T13:06:34.293907",
     "exception": false,
     "start_time": "2021-03-14T13:06:24.616546",
     "status": "completed"
    },
    "tags": []
   },
   "outputs": [
    {
     "name": "stdout",
     "output_type": "stream",
     "text": [
      "Requirement already satisfied: annoy in /opt/conda/lib/python3.7/site-packages (1.17.0)\r\n",
      "Note: you may need to restart the kernel to use updated packages.\n"
     ]
    }
   ],
   "source": [
    "pip install --user annoy"
   ]
  },
  {
   "cell_type": "code",
   "execution_count": 12,
   "metadata": {
    "execution": {
     "iopub.execute_input": "2021-03-14T13:06:35.296617Z",
     "iopub.status.busy": "2021-03-14T13:06:35.290823Z",
     "iopub.status.idle": "2021-03-14T13:06:38.193689Z",
     "shell.execute_reply": "2021-03-14T13:06:38.192906Z"
    },
    "papermill": {
     "duration": 3.424438,
     "end_time": "2021-03-14T13:06:38.193864",
     "exception": false,
     "start_time": "2021-03-14T13:06:34.769426",
     "status": "completed"
    },
    "tags": []
   },
   "outputs": [],
   "source": [
    "#tokenizing data\n",
    "\n",
    "input_tokenizer = Tokenizer()\n",
    "input_tokenizer.fit_on_texts(input_texts) \n",
    "input_sequences = input_tokenizer.texts_to_sequences(input_texts)\n",
    "\n",
    "target_tokenizer = Tokenizer()\n",
    "target_tokenizer.fit_on_texts(target_texts) \n",
    "target_sequences = target_tokenizer.texts_to_sequences(target_texts)"
   ]
  },
  {
   "cell_type": "code",
   "execution_count": 13,
   "metadata": {
    "execution": {
     "iopub.execute_input": "2021-03-14T13:06:39.160346Z",
     "iopub.status.busy": "2021-03-14T13:06:39.159419Z",
     "iopub.status.idle": "2021-03-14T13:06:39.165952Z",
     "shell.execute_reply": "2021-03-14T13:06:39.165035Z"
    },
    "papermill": {
     "duration": 0.496044,
     "end_time": "2021-03-14T13:06:39.166129",
     "exception": false,
     "start_time": "2021-03-14T13:06:38.670085",
     "status": "completed"
    },
    "tags": []
   },
   "outputs": [],
   "source": [
    "def generate_padded_sequences(sequences):\n",
    "    max_sequence_len = max([len(x) for x in sequences])\n",
    "    sequences = np.array(tf.keras.preprocessing.sequence.pad_sequences(sequences, maxlen=max_sequence_len, padding='pre'))\n",
    "    return sequences, max_sequence_len"
   ]
  },
  {
   "cell_type": "code",
   "execution_count": 14,
   "metadata": {
    "execution": {
     "iopub.execute_input": "2021-03-14T13:06:40.154395Z",
     "iopub.status.busy": "2021-03-14T13:06:40.153468Z",
     "iopub.status.idle": "2021-03-14T13:06:40.292546Z",
     "shell.execute_reply": "2021-03-14T13:06:40.291598Z"
    },
    "papermill": {
     "duration": 0.655384,
     "end_time": "2021-03-14T13:06:40.292721",
     "exception": false,
     "start_time": "2021-03-14T13:06:39.637337",
     "status": "completed"
    },
    "tags": []
   },
   "outputs": [],
   "source": [
    "input_total_words = len(input_tokenizer.word_index) + 1\n",
    "input_sequences, input_max_sequence_len = generate_padded_sequences(input_sequences)"
   ]
  },
  {
   "cell_type": "code",
   "execution_count": 15,
   "metadata": {
    "execution": {
     "iopub.execute_input": "2021-03-14T13:06:41.253574Z",
     "iopub.status.busy": "2021-03-14T13:06:41.252643Z",
     "iopub.status.idle": "2021-03-14T13:06:45.424582Z",
     "shell.execute_reply": "2021-03-14T13:06:45.423791Z"
    },
    "papermill": {
     "duration": 4.657692,
     "end_time": "2021-03-14T13:06:45.424793",
     "exception": false,
     "start_time": "2021-03-14T13:06:40.767101",
     "status": "completed"
    },
    "tags": []
   },
   "outputs": [
    {
     "data": {
      "text/plain": [
       "True"
      ]
     },
     "execution_count": 15,
     "metadata": {},
     "output_type": "execute_result"
    }
   ],
   "source": [
    "# using annoy algorithm\n",
    "\n",
    "from annoy import AnnoyIndex\n",
    "import random\n",
    "\n",
    "inputAnnoyIndex = AnnoyIndex(input_max_sequence_len, 'angular')  # Length of item vector that will be indexed\n",
    "for i, row in enumerate(input_sequences):\n",
    "    inputAnnoyIndex.add_item(i, row)\n",
    "\n",
    "inputAnnoyIndex.build(100) # 100 trees\n",
    "inputAnnoyIndex.save('input_annoy.ann')"
   ]
  },
  {
   "cell_type": "code",
   "execution_count": 16,
   "metadata": {
    "execution": {
     "iopub.execute_input": "2021-03-14T13:06:46.390914Z",
     "iopub.status.busy": "2021-03-14T13:06:46.389978Z",
     "iopub.status.idle": "2021-03-14T13:06:46.395383Z",
     "shell.execute_reply": "2021-03-14T13:06:46.394282Z"
    },
    "papermill": {
     "duration": 0.491805,
     "end_time": "2021-03-14T13:06:46.395572",
     "exception": false,
     "start_time": "2021-03-14T13:06:45.903767",
     "status": "completed"
    },
    "tags": []
   },
   "outputs": [],
   "source": [
    "#inputAnnoyIndex = AnnoyIndex(input_max_sequence_len, 'angular')\n",
    "#inputAnnoyIndex.load('input_annoy.ann') # super fast, will just mmap the file\n",
    "#print(u.get_nns_by_item(0, 100)) # will find the 1000 nearest neighbors"
   ]
  },
  {
   "cell_type": "code",
   "execution_count": 17,
   "metadata": {
    "execution": {
     "iopub.execute_input": "2021-03-14T13:06:47.355620Z",
     "iopub.status.busy": "2021-03-14T13:06:47.354455Z",
     "iopub.status.idle": "2021-03-14T13:06:47.367838Z",
     "shell.execute_reply": "2021-03-14T13:06:47.366571Z"
    },
    "papermill": {
     "duration": 0.49425,
     "end_time": "2021-03-14T13:06:47.368615",
     "exception": false,
     "start_time": "2021-03-14T13:06:46.874365",
     "status": "completed"
    },
    "tags": []
   },
   "outputs": [
    {
     "name": "stdout",
     "output_type": "stream",
     "text": [
      "hi. do you like to dance\n",
      "\n",
      "-------------Nearest Neighbours-------------\n",
      "\n",
      "hi do you like to dance --------- neighbor_index - 5446 , distance - 0.0\n",
      "hi do you like to travel --------- neighbor_index - 9930 , distance - 0.029285771772265434\n",
      "hi do you like to travel --------- neighbor_index - 10582 , distance - 0.029285771772265434\n",
      "absolutely cool. great chat. go cowboys. --------- neighbor_index - 20024 , distance - 0.06294306367635727\n",
      "yep and it is derived from the latin word congressus. --------- neighbor_index - 13936 , distance - 0.07048922032117844\n",
      "hi there do you like dramas --------- neighbor_index - 11006 , distance - 0.08256812393665314\n",
      "are you sure hip doesn't already have an entry --------- neighbor_index - 17554 , distance - 0.09979437291622162\n",
      "true but when else do you hear about qatar. --------- neighbor_index - 12723 , distance - 0.10811832547187805\n",
      "yeah that is really cool i didnt know that for the longest. --------- neighbor_index - 19131 , distance - 0.1142072081565857\n",
      "i enjoyed the part when they stopped in at the little nightclub. --------- neighbor_index - 1325 , distance - 0.11671381443738937\n"
     ]
    }
   ],
   "source": [
    "query_index = 7\n",
    "neighbor_index, distances = inputAnnoyIndex.get_nns_by_item(query_index, 10, include_distances=True)\n",
    "\n",
    "print(input_texts[query_index])\n",
    "print(\"\\n-------------Nearest Neighbours-------------\\n\")\n",
    "for i in range(len(neighbor_index)):\n",
    "    print(input_texts[neighbor_index[i]], \"--------- neighbor_index -\", neighbor_index[i], \", distance -\", distances[i])"
   ]
  },
  {
   "cell_type": "code",
   "execution_count": 18,
   "metadata": {
    "execution": {
     "iopub.execute_input": "2021-03-14T13:06:48.337998Z",
     "iopub.status.busy": "2021-03-14T13:06:48.335953Z",
     "iopub.status.idle": "2021-03-14T13:06:48.343976Z",
     "shell.execute_reply": "2021-03-14T13:06:48.343048Z"
    },
    "papermill": {
     "duration": 0.494508,
     "end_time": "2021-03-14T13:06:48.344172",
     "exception": false,
     "start_time": "2021-03-14T13:06:47.849664",
     "status": "completed"
    },
    "tags": []
   },
   "outputs": [
    {
     "data": {
      "text/plain": [
       "[-1, -1, -1, 34, -1]"
      ]
     },
     "execution_count": 18,
     "metadata": {},
     "output_type": "execute_result"
    }
   ],
   "source": [
    "a = [-1] * 5\n",
    "a[3] = 34\n",
    "a"
   ]
  },
  {
   "cell_type": "code",
   "execution_count": 19,
   "metadata": {
    "execution": {
     "iopub.execute_input": "2021-03-14T13:06:49.205867Z",
     "iopub.status.busy": "2021-03-14T13:06:49.205196Z",
     "iopub.status.idle": "2021-03-14T13:06:49.211019Z",
     "shell.execute_reply": "2021-03-14T13:06:49.210368Z"
    },
    "papermill": {
     "duration": 0.391166,
     "end_time": "2021-03-14T13:06:49.211166",
     "exception": false,
     "start_time": "2021-03-14T13:06:48.820000",
     "status": "completed"
    },
    "tags": []
   },
   "outputs": [
    {
     "data": {
      "text/plain": [
       "'input_similarity_matrix = list()\\n\\nfor i in tqdm(range(len(input_texts))):\\n    neighbor_index, distances = inputAnnoyIndex.get_nns_by_item(i, len(input_texts), include_distances=True)\\n    \\n    input_similarity_row = [-1] * len(input_texts)\\n    for index in range(len(neighbor_index)):\\n        j = neighbor_index[index]\\n        input_similarity_row[j] = distances[index]\\n            \\n    input_similarity_matrix.append(input_similarity_row)\\n'"
      ]
     },
     "execution_count": 19,
     "metadata": {},
     "output_type": "execute_result"
    }
   ],
   "source": [
    "\"\"\"input_similarity_matrix = list()\n",
    "\n",
    "for i in tqdm(range(len(input_texts))):\n",
    "    neighbor_index, distances = inputAnnoyIndex.get_nns_by_item(i, len(input_texts), include_distances=True)\n",
    "    \n",
    "    input_similarity_row = [-1] * len(input_texts)\n",
    "    for index in range(len(neighbor_index)):\n",
    "        j = neighbor_index[index]\n",
    "        input_similarity_row[j] = distances[index]\n",
    "            \n",
    "    input_similarity_matrix.append(input_similarity_row)\n",
    "\"\"\""
   ]
  },
  {
   "cell_type": "code",
   "execution_count": 20,
   "metadata": {
    "execution": {
     "iopub.execute_input": "2021-03-14T13:06:49.837824Z",
     "iopub.status.busy": "2021-03-14T13:06:49.837126Z",
     "iopub.status.idle": "2021-03-14T14:52:50.073922Z",
     "shell.execute_reply": "2021-03-14T14:52:50.074634Z"
    },
    "papermill": {
     "duration": 6360.557596,
     "end_time": "2021-03-14T14:52:50.075107",
     "exception": false,
     "start_time": "2021-03-14T13:06:49.517511",
     "status": "completed"
    },
    "tags": []
   },
   "outputs": [
    {
     "name": "stderr",
     "output_type": "stream",
     "text": [
      "100%|██████████| 21861/21861 [1:45:59<00:00,  3.44it/s]\n"
     ]
    },
    {
     "ename": "ValueError",
     "evalue": "I/O operation on closed file.",
     "output_type": "error",
     "traceback": [
      "\u001b[0;31m---------------------------------------------------------------------------\u001b[0m",
      "\u001b[0;31mValueError\u001b[0m                                Traceback (most recent call last)",
      "\u001b[0;32m<ipython-input-20-7f32152d8a9c>\u001b[0m in \u001b[0;36m<module>\u001b[0;34m\u001b[0m\n\u001b[1;32m     15\u001b[0m \u001b[0;34m\u001b[0m\u001b[0m\n\u001b[1;32m     16\u001b[0m \u001b[0;34m\u001b[0m\u001b[0m\n\u001b[0;32m---> 17\u001b[0;31m \u001b[0minput_similarity_matrix_file\u001b[0m\u001b[0;34m.\u001b[0m\u001b[0mflush\u001b[0m\u001b[0;34m(\u001b[0m\u001b[0;34m)\u001b[0m\u001b[0;34m\u001b[0m\u001b[0;34m\u001b[0m\u001b[0m\n\u001b[0m\u001b[1;32m     18\u001b[0m \u001b[0minput_similarity_matrix_file\u001b[0m\u001b[0;34m.\u001b[0m\u001b[0mclose\u001b[0m\u001b[0;34m(\u001b[0m\u001b[0;34m)\u001b[0m\u001b[0;34m\u001b[0m\u001b[0;34m\u001b[0m\u001b[0m\n",
      "\u001b[0;31mValueError\u001b[0m: I/O operation on closed file."
     ]
    }
   ],
   "source": [
    "# generating similarity matrix for input texts\n",
    "with open('input_similarity_matrix.txt', 'w') as input_similarity_matrix_file:\n",
    "    for i in tqdm(range(len(input_texts))):\n",
    "        neighbor_index, distances = inputAnnoyIndex.get_nns_by_item(i, len(input_texts), include_distances=True)\n",
    "\n",
    "        input_similarity_row = [-1] * len(input_texts)\n",
    "        for index in range(len(neighbor_index)):\n",
    "            j = neighbor_index[index]\n",
    "            input_similarity_row[j] = distances[index]\n",
    "        \n",
    "        \n",
    "        input_similarity_matrix_file.write(str(input_similarity_row))\n",
    "        if i != len(input_texts) - 1:\n",
    "            input_similarity_matrix_file.write(\"\\n\")\n",
    "            \n",
    "\n",
    "input_similarity_matrix_file.flush()\n",
    "input_similarity_matrix_file.close()"
   ]
  },
  {
   "cell_type": "code",
   "execution_count": 21,
   "metadata": {
    "execution": {
     "iopub.execute_input": "2021-03-14T14:53:13.924702Z",
     "iopub.status.busy": "2021-03-14T14:53:13.923840Z",
     "iopub.status.idle": "2021-03-14T14:53:17.866034Z",
     "shell.execute_reply": "2021-03-14T14:53:17.866995Z"
    },
    "papermill": {
     "duration": 15.853483,
     "end_time": "2021-03-14T14:53:17.867250",
     "exception": false,
     "start_time": "2021-03-14T14:53:02.013767",
     "status": "completed"
    },
    "tags": []
   },
   "outputs": [
    {
     "name": "stdout",
     "output_type": "stream",
     "text": [
      "i love to dance a lot. how about you\n",
      "\n",
      "-------------Nearest Neighbours-------------\n",
      "\n",
      "i love to dance a lot. how about you --------- neighbor_index - 7 , distance - 0.0\n",
      "sure. i mostly like netflix. how about you --------- neighbor_index - 8818 , distance - 0.09169900417327881\n",
      "i know a little i guess. how about you. --------- neighbor_index - 12472 , distance - 0.1020965501666069\n",
      "no i haven't. i heard it was good. --------- neighbor_index - 1940 , distance - 0.1167769581079483\n",
      "sure. what kind of music do you like --------- neighbor_index - 14184 , distance - 0.16140127182006836\n",
      "so true. what kinds of entertainment do you like. --------- neighbor_index - 6861 , distance - 0.17580711841583252\n",
      "that is nuts. that 70s show was great. --------- neighbor_index - 20996 , distance - 0.17930185794830322\n",
      "i even have old 78 and 33 1/3 albums --------- neighbor_index - 4943 , distance - 0.1824990063905716\n",
      "i have not watched that show. is it good --------- neighbor_index - 9091 , distance - 0.1825711727142334\n",
      "they probably edited those parts out huh. lol. --------- neighbor_index - 10153 , distance - 0.18455250561237335\n"
     ]
    }
   ],
   "source": [
    "target_total_words = len(target_tokenizer.word_index) + 1\n",
    "target_sequences, target_max_sequence_len = generate_padded_sequences(target_sequences)\n",
    "\n",
    "targetAnnoyIndex = AnnoyIndex(target_max_sequence_len, 'angular')  # Length of item vector that will be indexed\n",
    "for i, row in enumerate(target_sequences):\n",
    "    targetAnnoyIndex.add_item(i, row)\n",
    "\n",
    "targetAnnoyIndex.build(100) # 100 trees\n",
    "targetAnnoyIndex.save('target_annoy.ann')\n",
    "\n",
    "query_index = 7\n",
    "neighbor_index, distances = targetAnnoyIndex.get_nns_by_item(query_index, 10, include_distances=True)\n",
    "\n",
    "print(target_texts[query_index])\n",
    "print(\"\\n-------------Nearest Neighbours-------------\\n\")\n",
    "for i in range(len(neighbor_index)):\n",
    "    print(target_texts[neighbor_index[i]], \"--------- neighbor_index -\", neighbor_index[i], \", distance -\", distances[i])"
   ]
  },
  {
   "cell_type": "code",
   "execution_count": 22,
   "metadata": {
    "execution": {
     "iopub.execute_input": "2021-03-14T14:53:39.004484Z",
     "iopub.status.busy": "2021-03-14T14:53:39.003812Z",
     "iopub.status.idle": "2021-03-14T17:08:31.968742Z",
     "shell.execute_reply": "2021-03-14T17:08:31.969630Z"
    },
    "papermill": {
     "duration": 8102.251005,
     "end_time": "2021-03-14T17:08:31.969983",
     "exception": false,
     "start_time": "2021-03-14T14:53:29.718978",
     "status": "completed"
    },
    "tags": []
   },
   "outputs": [
    {
     "name": "stderr",
     "output_type": "stream",
     "text": [
      "100%|██████████| 21861/21861 [2:14:52<00:00,  2.70it/s]\n"
     ]
    },
    {
     "ename": "ValueError",
     "evalue": "I/O operation on closed file.",
     "output_type": "error",
     "traceback": [
      "\u001b[0;31m---------------------------------------------------------------------------\u001b[0m",
      "\u001b[0;31mValueError\u001b[0m                                Traceback (most recent call last)",
      "\u001b[0;32m<ipython-input-22-2ae7f6449f89>\u001b[0m in \u001b[0;36m<module>\u001b[0;34m\u001b[0m\n\u001b[1;32m     15\u001b[0m \u001b[0;34m\u001b[0m\u001b[0m\n\u001b[1;32m     16\u001b[0m \u001b[0;34m\u001b[0m\u001b[0m\n\u001b[0;32m---> 17\u001b[0;31m \u001b[0mtarget_similarity_matrix_file\u001b[0m\u001b[0;34m.\u001b[0m\u001b[0mflush\u001b[0m\u001b[0;34m(\u001b[0m\u001b[0;34m)\u001b[0m\u001b[0;34m\u001b[0m\u001b[0;34m\u001b[0m\u001b[0m\n\u001b[0m\u001b[1;32m     18\u001b[0m \u001b[0mtarget_similarity_matrix_file\u001b[0m\u001b[0;34m.\u001b[0m\u001b[0mclose\u001b[0m\u001b[0;34m(\u001b[0m\u001b[0;34m)\u001b[0m\u001b[0;34m\u001b[0m\u001b[0;34m\u001b[0m\u001b[0m\n",
      "\u001b[0;31mValueError\u001b[0m: I/O operation on closed file."
     ]
    }
   ],
   "source": [
    "# generating similarity matrix for target\n",
    "with open('target_similarity_matrix.txt', 'w') as target_similarity_matrix_file:\n",
    "    for i in tqdm(range(len(target_texts))):\n",
    "        neighbor_index, distances = targetAnnoyIndex.get_nns_by_item(i, len(target_texts), include_distances=True)\n",
    "\n",
    "        target_similarity_row = [-1] * len(target_texts)\n",
    "        for index in range(len(neighbor_index)):\n",
    "            j = neighbor_index[index]\n",
    "            target_similarity_row[j] = distances[index]\n",
    "        \n",
    "        \n",
    "        target_similarity_matrix_file.write(str(target_similarity_row))\n",
    "        if i != len(target_texts) - 1:\n",
    "            target_similarity_matrix_file.write(\"\\n\")\n",
    "            \n",
    "\n",
    "target_similarity_matrix_file.flush()\n",
    "target_similarity_matrix_file.close()"
   ]
  }
 ],
 "metadata": {
  "kernelspec": {
   "display_name": "Python 3",
   "language": "python",
   "name": "python3"
  },
  "language_info": {
   "codemirror_mode": {
    "name": "ipython",
    "version": 3
   },
   "file_extension": ".py",
   "mimetype": "text/x-python",
   "name": "python",
   "nbconvert_exporter": "python",
   "pygments_lexer": "ipython3",
   "version": "3.7.9"
  },
  "papermill": {
   "default_parameters": {},
   "duration": 14657.726109,
   "end_time": "2021-03-14T17:08:49.294819",
   "environment_variables": {},
   "exception": null,
   "input_path": "__notebook__.ipynb",
   "output_path": "__notebook__.ipynb",
   "parameters": {},
   "start_time": "2021-03-14T13:04:31.568710",
   "version": "2.2.2"
  }
 },
 "nbformat": 4,
 "nbformat_minor": 4
}
