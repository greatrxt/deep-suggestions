{
 "cells": [
  {
   "cell_type": "code",
   "execution_count": 1,
   "id": "urban-therapist",
   "metadata": {
    "execution": {
     "iopub.execute_input": "2021-03-27T06:40:31.602871Z",
     "iopub.status.busy": "2021-03-27T06:40:31.602208Z",
     "iopub.status.idle": "2021-03-27T06:40:38.901907Z",
     "shell.execute_reply": "2021-03-27T06:40:38.900572Z"
    },
    "papermill": {
     "duration": 7.327997,
     "end_time": "2021-03-27T06:40:38.902096",
     "exception": false,
     "start_time": "2021-03-27T06:40:31.574099",
     "status": "completed"
    },
    "tags": []
   },
   "outputs": [],
   "source": [
    "import pickle\n",
    "import numpy as np\n",
    "import tensorflow as tf\n",
    "from sklearn.preprocessing import OneHotEncoder\n",
    "import random\n",
    "from sklearn.metrics import confusion_matrix\n",
    "from sklearn.metrics import plot_confusion_matrix\n",
    "import seaborn as sns\n",
    "import pandas as pd"
   ]
  },
  {
   "cell_type": "code",
   "execution_count": 2,
   "id": "editorial-cathedral",
   "metadata": {
    "execution": {
     "iopub.execute_input": "2021-03-27T06:40:39.011250Z",
     "iopub.status.busy": "2021-03-27T06:40:38.961019Z",
     "iopub.status.idle": "2021-03-27T06:40:44.632549Z",
     "shell.execute_reply": "2021-03-27T06:40:44.631972Z"
    },
    "papermill": {
     "duration": 5.710308,
     "end_time": "2021-03-27T06:40:44.632720",
     "exception": false,
     "start_time": "2021-03-27T06:40:38.922412",
     "status": "completed"
    },
    "tags": []
   },
   "outputs": [
    {
     "name": "stdout",
     "output_type": "stream",
     "text": [
      "Device: grpc://10.0.0.2:8470\n",
      "Number of replicas: 8\n",
      "2.4.1\n"
     ]
    }
   ],
   "source": [
    "try:\n",
    "    tpu = tf.distribute.cluster_resolver.TPUClusterResolver()\n",
    "    print('Device:', tpu.master())\n",
    "    tf.config.experimental_connect_to_cluster(tpu)\n",
    "    tf.tpu.experimental.initialize_tpu_system(tpu)\n",
    "    strategy = tf.distribute.experimental.TPUStrategy(tpu)\n",
    "except:\n",
    "    strategy = tf.distribute.get_strategy()\n",
    "print('Number of replicas:', strategy.num_replicas_in_sync)\n",
    "\n",
    "AUTOTUNE = tf.data.experimental.AUTOTUNE\n",
    "    \n",
    "print(tf.__version__)"
   ]
  },
  {
   "cell_type": "code",
   "execution_count": 3,
   "id": "occupational-genre",
   "metadata": {
    "execution": {
     "iopub.execute_input": "2021-03-27T06:40:44.681477Z",
     "iopub.status.busy": "2021-03-27T06:40:44.680842Z",
     "iopub.status.idle": "2021-03-27T06:40:59.952541Z",
     "shell.execute_reply": "2021-03-27T06:40:59.953135Z"
    },
    "papermill": {
     "duration": 15.299115,
     "end_time": "2021-03-27T06:40:59.953422",
     "exception": false,
     "start_time": "2021-03-27T06:40:44.654307",
     "status": "completed"
    },
    "tags": []
   },
   "outputs": [],
   "source": [
    "with open('../input/smart-reply-sentence-similarity-using-annoy/input_texts.pickle', 'rb') as handle:\n",
    "    input_texts = pickle.load(handle)\n",
    "    \n",
    "with open('../input/smart-reply-sentence-similarity-using-annoy/target_texts.pickle', 'rb') as handle:\n",
    "    output_texts = pickle.load(handle)\n",
    "    \n",
    "with open('../input/smart-reply-clustering-annoy-output/target_dbscan_006.pickle', 'rb') as handle:\n",
    "    dbscan = pickle.load(handle)"
   ]
  },
  {
   "cell_type": "code",
   "execution_count": 4,
   "id": "religious-athens",
   "metadata": {
    "execution": {
     "iopub.execute_input": "2021-03-27T06:40:59.999217Z",
     "iopub.status.busy": "2021-03-27T06:40:59.998574Z",
     "iopub.status.idle": "2021-03-27T06:41:00.005647Z",
     "shell.execute_reply": "2021-03-27T06:41:00.005132Z"
    },
    "papermill": {
     "duration": 0.030807,
     "end_time": "2021-03-27T06:41:00.005950",
     "exception": false,
     "start_time": "2021-03-27T06:40:59.975143",
     "status": "completed"
    },
    "tags": []
   },
   "outputs": [
    {
     "name": "stdout",
     "output_type": "stream",
     "text": [
      "21861\n",
      "21861\n"
     ]
    }
   ],
   "source": [
    "print(len(input_texts))\n",
    "print(len(dbscan.labels_))"
   ]
  },
  {
   "cell_type": "code",
   "execution_count": 5,
   "id": "ruled-safety",
   "metadata": {
    "execution": {
     "iopub.execute_input": "2021-03-27T06:41:00.057229Z",
     "iopub.status.busy": "2021-03-27T06:41:00.056283Z",
     "iopub.status.idle": "2021-03-27T06:41:00.062064Z",
     "shell.execute_reply": "2021-03-27T06:41:00.061452Z"
    },
    "papermill": {
     "duration": 0.03464,
     "end_time": "2021-03-27T06:41:00.062229",
     "exception": false,
     "start_time": "2021-03-27T06:41:00.027589",
     "status": "completed"
    },
    "tags": []
   },
   "outputs": [
    {
     "data": {
      "text/plain": [
       "(21861,)"
      ]
     },
     "execution_count": 5,
     "metadata": {},
     "output_type": "execute_result"
    }
   ],
   "source": [
    "dbscan.labels_.shape"
   ]
  },
  {
   "cell_type": "code",
   "execution_count": 6,
   "id": "federal-grocery",
   "metadata": {
    "execution": {
     "iopub.execute_input": "2021-03-27T06:41:00.150113Z",
     "iopub.status.busy": "2021-03-27T06:41:00.145038Z",
     "iopub.status.idle": "2021-03-27T06:41:00.647587Z",
     "shell.execute_reply": "2021-03-27T06:41:00.646953Z"
    },
    "papermill": {
     "duration": 0.553945,
     "end_time": "2021-03-27T06:41:00.647745",
     "exception": false,
     "start_time": "2021-03-27T06:41:00.093800",
     "status": "completed"
    },
    "tags": []
   },
   "outputs": [],
   "source": [
    "# fitting tokenizer on all short messages\n",
    "tokenizer = tf.keras.preprocessing.text.Tokenizer()\n",
    "tokenizer.fit_on_texts(input_texts)\n",
    "total_words = len(tokenizer.word_index) + 1"
   ]
  },
  {
   "cell_type": "code",
   "execution_count": 7,
   "id": "amber-allocation",
   "metadata": {
    "execution": {
     "iopub.execute_input": "2021-03-27T06:41:00.704184Z",
     "iopub.status.busy": "2021-03-27T06:41:00.698210Z",
     "iopub.status.idle": "2021-03-27T06:41:00.716225Z",
     "shell.execute_reply": "2021-03-27T06:41:00.715584Z"
    },
    "papermill": {
     "duration": 0.046522,
     "end_time": "2021-03-27T06:41:00.716374",
     "exception": false,
     "start_time": "2021-03-27T06:41:00.669852",
     "status": "completed"
    },
    "tags": []
   },
   "outputs": [],
   "source": [
    "with open('tokenizer.pickle', 'wb') as handle:\n",
    "    pickle.dump(tokenizer, handle, protocol=pickle.HIGHEST_PROTOCOL)"
   ]
  },
  {
   "cell_type": "code",
   "execution_count": 8,
   "id": "friendly-headline",
   "metadata": {
    "execution": {
     "iopub.execute_input": "2021-03-27T06:41:00.796135Z",
     "iopub.status.busy": "2021-03-27T06:41:00.769719Z",
     "iopub.status.idle": "2021-03-27T06:41:01.345069Z",
     "shell.execute_reply": "2021-03-27T06:41:01.343885Z"
    },
    "papermill": {
     "duration": 0.606579,
     "end_time": "2021-03-27T06:41:01.345239",
     "exception": false,
     "start_time": "2021-03-27T06:41:00.738660",
     "status": "completed"
    },
    "tags": []
   },
   "outputs": [],
   "source": [
    "input_tokens = tokenizer.texts_to_sequences(input_texts)\n",
    "# input_tokens[:10]"
   ]
  },
  {
   "cell_type": "code",
   "execution_count": 9,
   "id": "domestic-pursuit",
   "metadata": {
    "execution": {
     "iopub.execute_input": "2021-03-27T06:41:01.416427Z",
     "iopub.status.busy": "2021-03-27T06:41:01.412494Z",
     "iopub.status.idle": "2021-03-27T06:41:01.624571Z",
     "shell.execute_reply": "2021-03-27T06:41:01.625087Z"
    },
    "papermill": {
     "duration": 0.255063,
     "end_time": "2021-03-27T06:41:01.625288",
     "exception": false,
     "start_time": "2021-03-27T06:41:01.370225",
     "status": "completed"
    },
    "tags": []
   },
   "outputs": [],
   "source": [
    "def generate_padded_sequences(input_sequences):\n",
    "    max_sequence_len = max([len(x) for x in input_sequences])\n",
    "    input_sequences = np.array(tf.keras.preprocessing.sequence.pad_sequences(input_sequences, maxlen=max_sequence_len, padding='pre'))\n",
    "    \n",
    "    predictors = input_sequences\n",
    "    #label = tf.keras.utils.to_categorical(label, num_classes=total_words)\n",
    "    return predictors, max_sequence_len\n",
    "\n",
    "predictors, max_sequence_len = generate_padded_sequences(input_tokens)"
   ]
  },
  {
   "cell_type": "code",
   "execution_count": 10,
   "id": "sealed-vegetation",
   "metadata": {
    "execution": {
     "iopub.execute_input": "2021-03-27T06:41:01.703776Z",
     "iopub.status.busy": "2021-03-27T06:41:01.702941Z",
     "iopub.status.idle": "2021-03-27T06:41:01.709929Z",
     "shell.execute_reply": "2021-03-27T06:41:01.710509Z"
    },
    "papermill": {
     "duration": 0.052823,
     "end_time": "2021-03-27T06:41:01.710716",
     "exception": false,
     "start_time": "2021-03-27T06:41:01.657893",
     "status": "completed"
    },
    "tags": []
   },
   "outputs": [
    {
     "name": "stdout",
     "output_type": "stream",
     "text": [
      "[881 881 881   0 881 881 881 881 881 881]\n"
     ]
    }
   ],
   "source": [
    "labels = np.array(dbscan.labels_, copy=True)\n",
    "labels[labels == -1] = len(set(dbscan.labels_)) - 1\n",
    "print(labels[:10])"
   ]
  },
  {
   "cell_type": "code",
   "execution_count": 11,
   "id": "headed-diploma",
   "metadata": {
    "execution": {
     "iopub.execute_input": "2021-03-27T06:41:01.761646Z",
     "iopub.status.busy": "2021-03-27T06:41:01.761007Z",
     "iopub.status.idle": "2021-03-27T06:41:01.777290Z",
     "shell.execute_reply": "2021-03-27T06:41:01.776598Z"
    },
    "papermill": {
     "duration": 0.043545,
     "end_time": "2021-03-27T06:41:01.777434",
     "exception": false,
     "start_time": "2021-03-27T06:41:01.733889",
     "status": "completed"
    },
    "tags": []
   },
   "outputs": [
    {
     "data": {
      "text/plain": [
       "(21861, 882)"
      ]
     },
     "execution_count": 11,
     "metadata": {},
     "output_type": "execute_result"
    }
   ],
   "source": [
    "encoder_labels = OneHotEncoder().fit(labels.reshape(-1, 1))\n",
    "one_hot_labels = encoder_labels.transform(labels.reshape(-1, 1))\n",
    "one_hot_labels.shape"
   ]
  },
  {
   "cell_type": "code",
   "execution_count": 12,
   "id": "military-winning",
   "metadata": {
    "execution": {
     "iopub.execute_input": "2021-03-27T06:41:01.829386Z",
     "iopub.status.busy": "2021-03-27T06:41:01.828369Z",
     "iopub.status.idle": "2021-03-27T06:41:01.834875Z",
     "shell.execute_reply": "2021-03-27T06:41:01.834181Z"
    },
    "papermill": {
     "duration": 0.033805,
     "end_time": "2021-03-27T06:41:01.835027",
     "exception": false,
     "start_time": "2021-03-27T06:41:01.801222",
     "status": "completed"
    },
    "tags": []
   },
   "outputs": [],
   "source": [
    "with open('encoder_labels.pickle', 'wb') as handle:\n",
    "    pickle.dump(encoder_labels, handle, protocol=pickle.HIGHEST_PROTOCOL)"
   ]
  },
  {
   "cell_type": "code",
   "execution_count": 13,
   "id": "defined-pointer",
   "metadata": {
    "execution": {
     "iopub.execute_input": "2021-03-27T06:41:01.886791Z",
     "iopub.status.busy": "2021-03-27T06:41:01.885829Z",
     "iopub.status.idle": "2021-03-27T06:41:07.165315Z",
     "shell.execute_reply": "2021-03-27T06:41:07.164581Z"
    },
    "papermill": {
     "duration": 5.306671,
     "end_time": "2021-03-27T06:41:07.165459",
     "exception": false,
     "start_time": "2021-03-27T06:41:01.858788",
     "status": "completed"
    },
    "tags": []
   },
   "outputs": [
    {
     "name": "stdout",
     "output_type": "stream",
     "text": [
      "Model: \"sequential\"\n",
      "_________________________________________________________________\n",
      "Layer (type)                 Output Shape              Param #   \n",
      "=================================================================\n",
      "embedding (Embedding)        (None, 49, 512)           7095296   \n",
      "_________________________________________________________________\n",
      "lstm (LSTM)                  (None, 512)               2099200   \n",
      "_________________________________________________________________\n",
      "dropout (Dropout)            (None, 512)               0         \n",
      "_________________________________________________________________\n",
      "dense (Dense)                (None, 882)               452466    \n",
      "=================================================================\n",
      "Total params: 9,646,962\n",
      "Trainable params: 9,646,962\n",
      "Non-trainable params: 0\n",
      "_________________________________________________________________\n"
     ]
    }
   ],
   "source": [
    "def create_model(max_sequence_len, total_words):\n",
    "    input_len = max_sequence_len - 1\n",
    "    model = tf.keras.Sequential()\n",
    "    \n",
    "    # Add Input Embedding Layer\n",
    "    model.add(tf.keras.layers.Embedding(total_words, 512, input_length=input_len))\n",
    "    \n",
    "    # Add Hidden Layer 1 - LSTM Layer\n",
    "    #model.add(tf.keras.layers.LSTM(256, return_sequences=True))\n",
    "    #model.add(tf.keras.layers.Dropout(0.2))\n",
    "    \n",
    "    model.add(tf.keras.layers.LSTM(512))\n",
    "    model.add(tf.keras.layers.Dropout(0.2))\n",
    "    \n",
    "    # Add Output Layer\n",
    "    model.add(tf.keras.layers.Dense(one_hot_labels.shape[1], activation='softmax'))\n",
    "\n",
    "    model.compile(loss='categorical_crossentropy', optimizer='adam', metrics=[\"accuracy\"])\n",
    "    \n",
    "    return model\n",
    "\n",
    "\n",
    "with strategy.scope():\n",
    "    model = create_model(max_sequence_len, total_words)\n",
    "    model.summary()"
   ]
  },
  {
   "cell_type": "code",
   "execution_count": 14,
   "id": "consecutive-saint",
   "metadata": {
    "execution": {
     "iopub.execute_input": "2021-03-27T06:41:07.221511Z",
     "iopub.status.busy": "2021-03-27T06:41:07.220267Z",
     "iopub.status.idle": "2021-03-27T06:47:15.526937Z",
     "shell.execute_reply": "2021-03-27T06:47:15.527543Z"
    },
    "papermill": {
     "duration": 368.337001,
     "end_time": "2021-03-27T06:47:15.527866",
     "exception": false,
     "start_time": "2021-03-27T06:41:07.190865",
     "status": "completed"
    },
    "tags": []
   },
   "outputs": [
    {
     "name": "stdout",
     "output_type": "stream",
     "text": [
      "Epoch 1/25\n",
      "684/684 [==============================] - 24s 25ms/step - loss: 1.9564 - accuracy: 0.7761\n",
      "Epoch 2/25\n",
      "684/684 [==============================] - 14s 21ms/step - loss: 1.5578 - accuracy: 0.7899\n",
      "Epoch 3/25\n",
      "684/684 [==============================] - 14s 21ms/step - loss: 1.4903 - accuracy: 0.7862\n",
      "Epoch 4/25\n",
      "684/684 [==============================] - 14s 21ms/step - loss: 1.3270 - accuracy: 0.7950\n",
      "Epoch 5/25\n",
      "684/684 [==============================] - 14s 21ms/step - loss: 1.1643 - accuracy: 0.8064\n",
      "Epoch 6/25\n",
      "684/684 [==============================] - 14s 21ms/step - loss: 1.0256 - accuracy: 0.8090\n",
      "Epoch 7/25\n",
      "684/684 [==============================] - 14s 21ms/step - loss: 0.8463 - accuracy: 0.8236\n",
      "Epoch 8/25\n",
      "684/684 [==============================] - 14s 21ms/step - loss: 0.6656 - accuracy: 0.8502\n",
      "Epoch 9/25\n",
      "684/684 [==============================] - 14s 21ms/step - loss: 0.4974 - accuracy: 0.8803\n",
      "Epoch 10/25\n",
      "684/684 [==============================] - 14s 21ms/step - loss: 0.3392 - accuracy: 0.9162\n",
      "Epoch 11/25\n",
      "684/684 [==============================] - 14s 21ms/step - loss: 0.2566 - accuracy: 0.9387\n",
      "Epoch 12/25\n",
      "684/684 [==============================] - 14s 21ms/step - loss: 0.2065 - accuracy: 0.9465\n",
      "Epoch 13/25\n",
      "684/684 [==============================] - 14s 21ms/step - loss: 0.1669 - accuracy: 0.9575\n",
      "Epoch 14/25\n",
      "684/684 [==============================] - 15s 21ms/step - loss: 0.1384 - accuracy: 0.9623\n",
      "Epoch 15/25\n",
      "684/684 [==============================] - 14s 21ms/step - loss: 0.1211 - accuracy: 0.9665\n",
      "Epoch 16/25\n",
      "684/684 [==============================] - 14s 21ms/step - loss: 0.1146 - accuracy: 0.9685\n",
      "Epoch 17/25\n",
      "684/684 [==============================] - 14s 21ms/step - loss: 0.1176 - accuracy: 0.9674\n",
      "Epoch 18/25\n",
      "684/684 [==============================] - 14s 21ms/step - loss: 0.1002 - accuracy: 0.9732\n",
      "Epoch 19/25\n",
      "684/684 [==============================] - 14s 21ms/step - loss: 0.0863 - accuracy: 0.9758\n",
      "Epoch 20/25\n",
      "684/684 [==============================] - 14s 21ms/step - loss: 0.0871 - accuracy: 0.9752\n",
      "Epoch 21/25\n",
      "684/684 [==============================] - 14s 21ms/step - loss: 0.0861 - accuracy: 0.9760\n",
      "Epoch 22/25\n",
      "684/684 [==============================] - 14s 21ms/step - loss: 0.0901 - accuracy: 0.9743\n",
      "Epoch 23/25\n",
      "684/684 [==============================] - 14s 21ms/step - loss: 0.0823 - accuracy: 0.9767\n",
      "Epoch 24/25\n",
      "684/684 [==============================] - 14s 21ms/step - loss: 0.0744 - accuracy: 0.9784\n",
      "Epoch 25/25\n",
      "684/684 [==============================] - 14s 21ms/step - loss: 0.0728 - accuracy: 0.9791\n"
     ]
    }
   ],
   "source": [
    "history = model.fit(predictors, one_hot_labels.todense(), epochs=25, verbose=1)"
   ]
  },
  {
   "cell_type": "code",
   "execution_count": 15,
   "id": "minor-oregon",
   "metadata": {
    "execution": {
     "iopub.execute_input": "2021-03-27T06:47:19.161283Z",
     "iopub.status.busy": "2021-03-27T06:47:19.160580Z",
     "iopub.status.idle": "2021-03-27T06:47:19.879401Z",
     "shell.execute_reply": "2021-03-27T06:47:19.879944Z"
    },
    "papermill": {
     "duration": 2.566066,
     "end_time": "2021-03-27T06:47:19.880159",
     "exception": false,
     "start_time": "2021-03-27T06:47:17.314093",
     "status": "completed"
    },
    "tags": []
   },
   "outputs": [],
   "source": [
    "# Save model\n",
    "model.save(\"op_annoy_lstm.hdf5\")"
   ]
  },
  {
   "cell_type": "code",
   "execution_count": 16,
   "id": "governing-colonial",
   "metadata": {
    "execution": {
     "iopub.execute_input": "2021-03-27T06:47:23.511316Z",
     "iopub.status.busy": "2021-03-27T06:47:23.510319Z",
     "iopub.status.idle": "2021-03-27T06:47:24.289627Z",
     "shell.execute_reply": "2021-03-27T06:47:24.289073Z"
    },
    "papermill": {
     "duration": 2.574736,
     "end_time": "2021-03-27T06:47:24.289797",
     "exception": false,
     "start_time": "2021-03-27T06:47:21.715061",
     "status": "completed"
    },
    "tags": []
   },
   "outputs": [
    {
     "data": {
      "image/png": "[encoded data removed]",
      "text/plain": [
       "<Figure size 432x288 with 1 Axes>"
      ]
     },
     "metadata": {
      "needs_background": "light"
     },
     "output_type": "display_data"
    }
   ],
   "source": [
    "import matplotlib.pyplot as plt\n",
    "# summarize history for loss\n",
    "plt.plot(history.history['loss'])\n",
    "plt.title('model loss')\n",
    "plt.ylabel('loss')\n",
    "plt.xlabel('epoch')\n",
    "plt.legend(['train'], loc='upper right')\n",
    "plt.show()"
   ]
  },
  {
   "cell_type": "code",
   "execution_count": 17,
   "id": "hybrid-oliver",
   "metadata": {
    "execution": {
     "iopub.execute_input": "2021-03-27T06:47:27.988114Z",
     "iopub.status.busy": "2021-03-27T06:47:27.987411Z",
     "iopub.status.idle": "2021-03-27T06:47:33.235339Z",
     "shell.execute_reply": "2021-03-27T06:47:33.234655Z"
    },
    "papermill": {
     "duration": 7.090389,
     "end_time": "2021-03-27T06:47:33.235478",
     "exception": false,
     "start_time": "2021-03-27T06:47:26.145089",
     "status": "completed"
    },
    "tags": []
   },
   "outputs": [
    {
     "name": "stderr",
     "output_type": "stream",
     "text": [
      "/opt/conda/lib/python3.7/site-packages/tensorflow/python/keras/engine/sequential.py:450: UserWarning: `model.predict_classes()` is deprecated and will be removed after 2021-01-01. Please use instead:* `np.argmax(model.predict(x), axis=-1)`,   if your model does multi-class classification   (e.g. if it uses a `softmax` last-layer activation).* `(model.predict(x) > 0.5).astype(\"int32\")`,   if your model does binary classification   (e.g. if it uses a `sigmoid` last-layer activation).\n",
      "  warnings.warn('`model.predict_classes()` is deprecated and '\n"
     ]
    },
    {
     "data": {
      "text/plain": [
       "array([881, 881, 881, ..., 881, 881, 881])"
      ]
     },
     "execution_count": 17,
     "metadata": {},
     "output_type": "execute_result"
    }
   ],
   "source": [
    "predictions = model.predict_classes(predictors, verbose=0)\n",
    "predictions"
   ]
  },
  {
   "cell_type": "code",
   "execution_count": 18,
   "id": "instant-indian",
   "metadata": {
    "execution": {
     "iopub.execute_input": "2021-03-27T06:47:36.828359Z",
     "iopub.status.busy": "2021-03-27T06:47:36.827519Z",
     "iopub.status.idle": "2021-03-27T06:47:36.834139Z",
     "shell.execute_reply": "2021-03-27T06:47:36.834619Z"
    },
    "papermill": {
     "duration": 1.808346,
     "end_time": "2021-03-27T06:47:36.834837",
     "exception": false,
     "start_time": "2021-03-27T06:47:35.026491",
     "status": "completed"
    },
    "tags": []
   },
   "outputs": [
    {
     "name": "stdout",
     "output_type": "stream",
     "text": [
      "[[    0  1088]\n",
      " [    1    46]\n",
      " [    2     3]\n",
      " ...\n",
      " [  879     2]\n",
      " [  880     2]\n",
      " [  881 17183]]\n"
     ]
    }
   ],
   "source": [
    "unique, counts = np.unique(predictions, return_counts=True)\n",
    "print(np.asarray((unique, counts)).T)"
   ]
  },
  {
   "cell_type": "code",
   "execution_count": 19,
   "id": "lasting-somalia",
   "metadata": {
    "execution": {
     "iopub.execute_input": "2021-03-27T06:47:40.458398Z",
     "iopub.status.busy": "2021-03-27T06:47:40.457504Z",
     "iopub.status.idle": "2021-03-27T06:47:40.462578Z",
     "shell.execute_reply": "2021-03-27T06:47:40.461940Z"
    },
    "papermill": {
     "duration": 1.845211,
     "end_time": "2021-03-27T06:47:40.462740",
     "exception": false,
     "start_time": "2021-03-27T06:47:38.617529",
     "status": "completed"
    },
    "tags": []
   },
   "outputs": [
    {
     "data": {
      "text/plain": [
       "(array([   34,   833,  1013,  2391,  2684,  2728,  2734,  4158,  4252,\n",
       "         4530,  5233,  5454,  6335,  6642,  7208,  7327,  7451,  7894,\n",
       "         7979,  8485,  8752,  9680,  9688,  9798, 10936, 11012, 11740,\n",
       "        12101, 12468, 12844, 13033, 13399, 14305, 14310, 14313, 14490,\n",
       "        14805, 15027, 15832, 15847, 16679, 16785, 17698, 20110, 20740,\n",
       "        21223]),)"
      ]
     },
     "execution_count": 19,
     "metadata": {},
     "output_type": "execute_result"
    }
   ],
   "source": [
    "np.where(predictions==1)"
   ]
  },
  {
   "cell_type": "code",
   "execution_count": 20,
   "id": "charged-diana",
   "metadata": {
    "execution": {
     "iopub.execute_input": "2021-03-27T06:47:44.109754Z",
     "iopub.status.busy": "2021-03-27T06:47:44.108990Z",
     "iopub.status.idle": "2021-03-27T06:47:44.111788Z",
     "shell.execute_reply": "2021-03-27T06:47:44.112346Z"
    },
    "papermill": {
     "duration": 1.849429,
     "end_time": "2021-03-27T06:47:44.112526",
     "exception": false,
     "start_time": "2021-03-27T06:47:42.263097",
     "status": "completed"
    },
    "tags": []
   },
   "outputs": [
    {
     "data": {
      "text/plain": [
       "array([881, 881, 881, ..., 881, 881, 881])"
      ]
     },
     "execution_count": 20,
     "metadata": {},
     "output_type": "execute_result"
    }
   ],
   "source": [
    "labels"
   ]
  },
  {
   "cell_type": "code",
   "execution_count": 21,
   "id": "spectacular-neighborhood",
   "metadata": {
    "execution": {
     "iopub.execute_input": "2021-03-27T06:47:47.769038Z",
     "iopub.status.busy": "2021-03-27T06:47:47.768172Z",
     "iopub.status.idle": "2021-03-27T06:47:47.771601Z",
     "shell.execute_reply": "2021-03-27T06:47:47.771095Z"
    },
    "papermill": {
     "duration": 1.852371,
     "end_time": "2021-03-27T06:47:47.771759",
     "exception": false,
     "start_time": "2021-03-27T06:47:45.919388",
     "status": "completed"
    },
    "tags": []
   },
   "outputs": [],
   "source": [
    "def get_responses(seed_text, n):\n",
    "    print(\"Input -\", seed_text)\n",
    "    print(\"----------------------\")\n",
    "    responses = list()\n",
    "    token_list = tokenizer.texts_to_sequences([seed_text])[0]\n",
    "    token_list = tf.keras.preprocessing.sequence.pad_sequences([token_list], maxlen=max_sequence_len-1, padding='pre')\n",
    "    with strategy.scope():\n",
    "        predictions = model.predict(token_list, verbose=10)\n",
    "        # print(model.predict_classes(token_list, verbose=10))\n",
    "        # print(predictions)\n",
    "        predicted_indices = predictions.argsort()[0][::-1][:n]\n",
    "        print(predicted_indices)\n",
    "        #print(encoder_labels.inverse_transform([[533]]))\n",
    "    \n",
    "    for predicted_index in predicted_indices:\n",
    "        score = 0\n",
    "        if predicted_index == len(set(dbscan.labels_)) - 1:\n",
    "            print(\"Predicting outside clusters\")\n",
    "            predicted_index = -1\n",
    "        else:\n",
    "            score = predictions[0][predicted_index]\n",
    "            \n",
    "        # randomly pick 1 index\n",
    "        possible_response = np.where(dbscan.labels_==predicted_index)[0]\n",
    "        response_index = random.sample(possible_response.tolist(), 1)[0]\n",
    "        # print(response_index)\n",
    "        responses.append([output_texts[response_index].replace(\"\\t\", \"\").replace(\"\\n\", \"\"), score])\n",
    "\n",
    "\n",
    "    for i, response in enumerate(responses):\n",
    "        print(\"Response\", (i + 1), \"->\", response[0], \" -> Score :\", response[1])"
   ]
  },
  {
   "cell_type": "code",
   "execution_count": 22,
   "id": "elect-anthony",
   "metadata": {
    "execution": {
     "iopub.execute_input": "2021-03-27T06:47:51.378462Z",
     "iopub.status.busy": "2021-03-27T06:47:51.377582Z",
     "iopub.status.idle": "2021-03-27T06:47:52.700655Z",
     "shell.execute_reply": "2021-03-27T06:47:52.699853Z"
    },
    "papermill": {
     "duration": 3.136416,
     "end_time": "2021-03-27T06:47:52.700837",
     "exception": false,
     "start_time": "2021-03-27T06:47:49.564421",
     "status": "completed"
    },
    "tags": []
   },
   "outputs": [
    {
     "name": "stdout",
     "output_type": "stream",
     "text": [
      "Input - goodbye\n",
      "----------------------\n",
      "[  0 307 881  16  93]\n",
      "Predicting outside clusters\n",
      "Response 1 -> ta.  -> Score : 0.80264837\n",
      "Response 2 -> i don't understand  -> Score : 0.1614099\n",
      "Response 3 -> yeah he got caught stealing.  -> Score : 0\n",
      "Response 4 -> thanks you too.  -> Score : 0.0058214646\n",
      "Response 5 -> same to you.  -> Score : 0.004095591\n"
     ]
    }
   ],
   "source": [
    "get_responses(\"goodbye\", 5)"
   ]
  },
  {
   "cell_type": "code",
   "execution_count": 23,
   "id": "still-robert",
   "metadata": {
    "execution": {
     "iopub.execute_input": "2021-03-27T06:47:56.369115Z",
     "iopub.status.busy": "2021-03-27T06:47:56.368416Z",
     "iopub.status.idle": "2021-03-27T06:47:56.856049Z",
     "shell.execute_reply": "2021-03-27T06:47:56.855141Z"
    },
    "papermill": {
     "duration": 2.3319,
     "end_time": "2021-03-27T06:47:56.856242",
     "exception": false,
     "start_time": "2021-03-27T06:47:54.524342",
     "status": "completed"
    },
    "tags": []
   },
   "outputs": [
    {
     "name": "stdout",
     "output_type": "stream",
     "text": [
      "Input - he was indeed his music is even in the library of congress.\n",
      "----------------------\n",
      "[881 320 818 338 156]\n",
      "Predicting outside clusters\n",
      "Response 1 -> i like dc but grew up watching bmore.  -> Score : 0\n",
      "Response 2 -> yes it is there for cultural significance  -> Score : 0.004024648\n",
      "Response 3 -> yes it's true.  -> Score : 0.00024570542\n",
      "Response 4 -> what is the candy desk  -> Score : 7.233429e-05\n",
      "Response 5 -> well i got to go nice talking with you  -> Score : 6.6268054e-05\n"
     ]
    }
   ],
   "source": [
    "get_responses(input_texts[9], 5)"
   ]
  },
  {
   "cell_type": "code",
   "execution_count": 24,
   "id": "associate-console",
   "metadata": {
    "execution": {
     "iopub.execute_input": "2021-03-27T06:48:00.479369Z",
     "iopub.status.busy": "2021-03-27T06:48:00.478465Z",
     "iopub.status.idle": "2021-03-27T06:48:00.965963Z",
     "shell.execute_reply": "2021-03-27T06:48:00.965067Z"
    },
    "papermill": {
     "duration": 2.284126,
     "end_time": "2021-03-27T06:48:00.966133",
     "exception": false,
     "start_time": "2021-03-27T06:47:58.682007",
     "status": "completed"
    },
    "tags": []
   },
   "outputs": [
    {
     "name": "stdout",
     "output_type": "stream",
     "text": [
      "Input - so cool. nice chatting with you\n",
      "----------------------\n",
      "[ 70 881   1 585   0]\n",
      "Predicting outside clusters\n",
      "Response 1 -> same here  -> Score : 0.93253255\n",
      "Response 2 -> hi how are you i sometimes watch baseball. you  -> Score : 0\n",
      "Response 3 -> you as well.  -> Score : 0.016216712\n",
      "Response 4 -> yes same here  -> Score : 0.0031270455\n",
      "Response 5 -> bye.  -> Score : 0.0020802054\n"
     ]
    }
   ],
   "source": [
    "get_responses(input_texts[508], 5)"
   ]
  },
  {
   "cell_type": "code",
   "execution_count": 25,
   "id": "empirical-offer",
   "metadata": {
    "execution": {
     "iopub.execute_input": "2021-03-27T06:48:04.659304Z",
     "iopub.status.busy": "2021-03-27T06:48:04.658408Z",
     "iopub.status.idle": "2021-03-27T06:48:05.095857Z",
     "shell.execute_reply": "2021-03-27T06:48:05.095147Z"
    },
    "papermill": {
     "duration": 2.322256,
     "end_time": "2021-03-27T06:48:05.096004",
     "exception": false,
     "start_time": "2021-03-27T06:48:02.773748",
     "status": "completed"
    },
    "tags": []
   },
   "outputs": [
    {
     "name": "stdout",
     "output_type": "stream",
     "text": [
      "Input - thanks. have a great day.\n",
      "----------------------\n",
      "[  1   0 881  16 170]\n",
      "Predicting outside clusters\n",
      "Response 1 -> you as well  -> Score : 0.73519754\n",
      "Response 2 -> literature  -> Score : 0.17584628\n",
      "Response 3 -> maybe it got passed down to his children.  -> Score : 0\n",
      "Response 4 -> thanks. you too.  -> Score : 0.011126764\n",
      "Response 5 -> the same to you.  -> Score : 0.005872339\n"
     ]
    }
   ],
   "source": [
    "get_responses(input_texts[21223], 5)"
   ]
  },
  {
   "cell_type": "code",
   "execution_count": 26,
   "id": "developed-vienna",
   "metadata": {
    "execution": {
     "iopub.execute_input": "2021-03-27T06:48:08.679356Z",
     "iopub.status.busy": "2021-03-27T06:48:08.678552Z",
     "iopub.status.idle": "2021-03-27T06:48:09.122149Z",
     "shell.execute_reply": "2021-03-27T06:48:09.120888Z"
    },
    "papermill": {
     "duration": 2.238821,
     "end_time": "2021-03-27T06:48:09.122392",
     "exception": false,
     "start_time": "2021-03-27T06:48:06.883571",
     "status": "completed"
    },
    "tags": []
   },
   "outputs": [
    {
     "name": "stdout",
     "output_type": "stream",
     "text": [
      "Input - have a great day.\n",
      "----------------------\n",
      "[  0 881   1  93 170]\n",
      "Predicting outside clusters\n",
      "Response 1 -> i like trump  -> Score : 0.5556589\n",
      "Response 2 -> mine too. do you like animals  -> Score : 0\n",
      "Response 3 -> you as well  -> Score : 0.09248673\n",
      "Response 4 -> same to you.  -> Score : 0.07962441\n",
      "Response 5 -> the same to you.  -> Score : 0.046950508\n"
     ]
    }
   ],
   "source": [
    "get_responses(\"have a great day.\", 5)"
   ]
  },
  {
   "cell_type": "code",
   "execution_count": 27,
   "id": "polyphonic-ottawa",
   "metadata": {
    "execution": {
     "iopub.execute_input": "2021-03-27T06:48:12.781476Z",
     "iopub.status.busy": "2021-03-27T06:48:12.780395Z",
     "iopub.status.idle": "2021-03-27T06:48:13.248198Z",
     "shell.execute_reply": "2021-03-27T06:48:13.247293Z"
    },
    "papermill": {
     "duration": 2.279161,
     "end_time": "2021-03-27T06:48:13.248348",
     "exception": false,
     "start_time": "2021-03-27T06:48:10.969187",
     "status": "completed"
    },
    "tags": []
   },
   "outputs": [
    {
     "name": "stdout",
     "output_type": "stream",
     "text": [
      "Input - do you like dance\n",
      "----------------------\n",
      "[881  96 164  50 431]\n",
      "Predicting outside clusters\n",
      "Response 1 -> i think the ceo has colorblindness.  -> Score : 0\n",
      "Response 2 -> hello no i do not do you  -> Score : 0.00736947\n",
      "Response 3 -> i do like sports. do you  -> Score : 0.0045045656\n",
      "Response 4 -> yes i do do you  -> Score : 0.0042443383\n",
      "Response 5 -> i sure do what about you  -> Score : 0.0032472466\n"
     ]
    }
   ],
   "source": [
    "get_responses(\"do you like dance\", 5)"
   ]
  },
  {
   "cell_type": "code",
   "execution_count": 28,
   "id": "consolidated-information",
   "metadata": {
    "execution": {
     "iopub.execute_input": "2021-03-27T06:48:16.874952Z",
     "iopub.status.busy": "2021-03-27T06:48:16.874231Z",
     "iopub.status.idle": "2021-03-27T06:48:17.360845Z",
     "shell.execute_reply": "2021-03-27T06:48:17.360145Z"
    },
    "papermill": {
     "duration": 2.309783,
     "end_time": "2021-03-27T06:48:17.361000",
     "exception": false,
     "start_time": "2021-03-27T06:48:15.051217",
     "status": "completed"
    },
    "tags": []
   },
   "outputs": [
    {
     "name": "stdout",
     "output_type": "stream",
     "text": [
      "Input - good morning\n",
      "----------------------\n",
      "[  0 881 107  16  42]\n",
      "Predicting outside clusters\n",
      "Response 1 -> disney  -> Score : 0.8870121\n",
      "Response 2 -> you mean the line supported by nike and jordan  -> Score : 0\n",
      "Response 3 -> thanks you as well.  -> Score : 0.010050118\n",
      "Response 4 -> thanks you too.  -> Score : 0.0011219211\n",
      "Response 5 -> good bye  -> Score : 0.0005267606\n"
     ]
    }
   ],
   "source": [
    "get_responses(\"good morning\", 5)"
   ]
  },
  {
   "cell_type": "code",
   "execution_count": 29,
   "id": "previous-cylinder",
   "metadata": {
    "execution": {
     "iopub.execute_input": "2021-03-27T06:48:21.019355Z",
     "iopub.status.busy": "2021-03-27T06:48:21.017455Z",
     "iopub.status.idle": "2021-03-27T06:48:21.522709Z",
     "shell.execute_reply": "2021-03-27T06:48:21.521887Z"
    },
    "papermill": {
     "duration": 2.308812,
     "end_time": "2021-03-27T06:48:21.522863",
     "exception": false,
     "start_time": "2021-03-27T06:48:19.214051",
     "status": "completed"
    },
    "tags": []
   },
   "outputs": [
    {
     "name": "stdout",
     "output_type": "stream",
     "text": [
      "Input - how are you\n",
      "----------------------\n",
      "[881 125 452 855 313]\n",
      "Predicting outside clusters\n",
      "Response 1 -> i wonder how apple would even check that.  -> Score : 0\n",
      "Response 2 -> great. how are you  -> Score : 0.005419015\n",
      "Response 3 -> i'm good. how are you  -> Score : 0.0047490904\n",
      "Response 4 -> i am doing well. how are you  -> Score : 0.0042373533\n",
      "Response 5 -> good. how are you  -> Score : 0.0029580065\n"
     ]
    }
   ],
   "source": [
    "get_responses(\"how are you\", 5)"
   ]
  }
 ],
 "metadata": {
  "kernelspec": {
   "display_name": "Python 3",
   "language": "python",
   "name": "python3"
  },
  "language_info": {
   "codemirror_mode": {
    "name": "ipython",
    "version": 3
   },
   "file_extension": ".py",
   "mimetype": "text/x-python",
   "name": "python",
   "nbconvert_exporter": "python",
   "pygments_lexer": "ipython3",
   "version": "3.7.9"
  },
  "papermill": {
   "default_parameters": {},
   "duration": 479.795253,
   "end_time": "2021-03-27T06:48:24.928819",
   "environment_variables": {},
   "exception": null,
   "input_path": "__notebook__.ipynb",
   "output_path": "__notebook__.ipynb",
   "parameters": {},
   "start_time": "2021-03-27T06:40:25.133566",
   "version": "2.3.2"
  }
 },
 "nbformat": 4,
 "nbformat_minor": 5
}
