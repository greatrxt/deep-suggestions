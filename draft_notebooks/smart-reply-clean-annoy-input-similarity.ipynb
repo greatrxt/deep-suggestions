{
 "cells": [
  {
   "cell_type": "code",
   "execution_count": 1,
   "metadata": {
    "_cell_guid": "b1076dfc-b9ad-4769-8c92-a6c4dae69d19",
    "_uuid": "8f2839f25d086af736a60e9eeb907d3b93b6e0e5",
    "execution": {
     "iopub.execute_input": "2021-03-15T05:19:21.766897Z",
     "iopub.status.busy": "2021-03-15T05:19:21.766139Z",
     "iopub.status.idle": "2021-03-15T05:19:23.098169Z",
     "shell.execute_reply": "2021-03-15T05:19:23.098728Z"
    },
    "papermill": {
     "duration": 1.345649,
     "end_time": "2021-03-15T05:19:23.099047",
     "exception": false,
     "start_time": "2021-03-15T05:19:21.753398",
     "status": "completed"
    },
    "tags": []
   },
   "outputs": [],
   "source": [
    "import pickle\n",
    "import numpy as np\n",
    "import os\n",
    "from sklearn.cluster import DBSCAN\n",
    "from sklearn import metrics\n",
    "from sklearn.preprocessing import StandardScaler\n",
    "from tqdm import tqdm\n",
    "import pandas as pd\n",
    "import matplotlib.pyplot as plt"
   ]
  },
  {
   "cell_type": "code",
   "execution_count": 2,
   "metadata": {
    "execution": {
     "iopub.execute_input": "2021-03-15T05:19:23.114114Z",
     "iopub.status.busy": "2021-03-15T05:19:23.113465Z",
     "iopub.status.idle": "2021-03-15T05:28:50.994883Z",
     "shell.execute_reply": "2021-03-15T05:28:50.995369Z"
    },
    "papermill": {
     "duration": 567.890425,
     "end_time": "2021-03-15T05:28:50.995732",
     "exception": false,
     "start_time": "2021-03-15T05:19:23.105307",
     "status": "completed"
    },
    "tags": []
   },
   "outputs": [
    {
     "data": {
      "text/html": [
       "<div>\n",
       "<style scoped>\n",
       "    .dataframe tbody tr th:only-of-type {\n",
       "        vertical-align: middle;\n",
       "    }\n",
       "\n",
       "    .dataframe tbody tr th {\n",
       "        vertical-align: top;\n",
       "    }\n",
       "\n",
       "    .dataframe thead th {\n",
       "        text-align: right;\n",
       "    }\n",
       "</style>\n",
       "<table border=\"1\" class=\"dataframe\">\n",
       "  <thead>\n",
       "    <tr style=\"text-align: right;\">\n",
       "      <th></th>\n",
       "      <th>0</th>\n",
       "      <th>1</th>\n",
       "      <th>2</th>\n",
       "      <th>3</th>\n",
       "      <th>4</th>\n",
       "      <th>5</th>\n",
       "      <th>6</th>\n",
       "      <th>7</th>\n",
       "      <th>8</th>\n",
       "      <th>9</th>\n",
       "      <th>...</th>\n",
       "      <th>21851</th>\n",
       "      <th>21852</th>\n",
       "      <th>21853</th>\n",
       "      <th>21854</th>\n",
       "      <th>21855</th>\n",
       "      <th>21856</th>\n",
       "      <th>21857</th>\n",
       "      <th>21858</th>\n",
       "      <th>21859</th>\n",
       "      <th>21860</th>\n",
       "    </tr>\n",
       "  </thead>\n",
       "  <tbody>\n",
       "    <tr>\n",
       "      <th>0</th>\n",
       "      <td>[0.0</td>\n",
       "      <td>1.141314</td>\n",
       "      <td>0.739278</td>\n",
       "      <td>1.065237</td>\n",
       "      <td>1.364808</td>\n",
       "      <td>1.361341</td>\n",
       "      <td>1.267907</td>\n",
       "      <td>0.358515</td>\n",
       "      <td>0.995389</td>\n",
       "      <td>0.855678</td>\n",
       "      <td>...</td>\n",
       "      <td>1.321036</td>\n",
       "      <td>0.768110</td>\n",
       "      <td>1.311950</td>\n",
       "      <td>1.388766</td>\n",
       "      <td>1.245038</td>\n",
       "      <td>1.167628</td>\n",
       "      <td>0.953615</td>\n",
       "      <td>1.255388</td>\n",
       "      <td>0.805379</td>\n",
       "      <td>1.199280023574829]</td>\n",
       "    </tr>\n",
       "    <tr>\n",
       "      <th>1</th>\n",
       "      <td>[1.141314148902893</td>\n",
       "      <td>0.000000</td>\n",
       "      <td>1.208509</td>\n",
       "      <td>1.245685</td>\n",
       "      <td>1.383762</td>\n",
       "      <td>1.216114</td>\n",
       "      <td>1.269372</td>\n",
       "      <td>0.953707</td>\n",
       "      <td>0.791277</td>\n",
       "      <td>1.128460</td>\n",
       "      <td>...</td>\n",
       "      <td>1.309301</td>\n",
       "      <td>1.103240</td>\n",
       "      <td>1.229787</td>\n",
       "      <td>1.379067</td>\n",
       "      <td>1.325001</td>\n",
       "      <td>1.325661</td>\n",
       "      <td>1.295232</td>\n",
       "      <td>1.293990</td>\n",
       "      <td>1.191827</td>\n",
       "      <td>0.9326186180114746]</td>\n",
       "    </tr>\n",
       "    <tr>\n",
       "      <th>2</th>\n",
       "      <td>[0.7392775416374207</td>\n",
       "      <td>1.208509</td>\n",
       "      <td>0.000000</td>\n",
       "      <td>0.720378</td>\n",
       "      <td>1.368834</td>\n",
       "      <td>1.256209</td>\n",
       "      <td>0.986893</td>\n",
       "      <td>0.763642</td>\n",
       "      <td>0.929416</td>\n",
       "      <td>1.020079</td>\n",
       "      <td>...</td>\n",
       "      <td>0.967532</td>\n",
       "      <td>0.912500</td>\n",
       "      <td>1.335236</td>\n",
       "      <td>1.114811</td>\n",
       "      <td>0.965196</td>\n",
       "      <td>1.070835</td>\n",
       "      <td>1.089031</td>\n",
       "      <td>1.333803</td>\n",
       "      <td>0.838690</td>\n",
       "      <td>1.3089876174926758]</td>\n",
       "    </tr>\n",
       "    <tr>\n",
       "      <th>3</th>\n",
       "      <td>[1.0652371644973755</td>\n",
       "      <td>1.245685</td>\n",
       "      <td>0.720378</td>\n",
       "      <td>0.000000</td>\n",
       "      <td>1.194829</td>\n",
       "      <td>1.380972</td>\n",
       "      <td>0.619906</td>\n",
       "      <td>1.102341</td>\n",
       "      <td>0.900154</td>\n",
       "      <td>1.231292</td>\n",
       "      <td>...</td>\n",
       "      <td>0.440970</td>\n",
       "      <td>1.094629</td>\n",
       "      <td>1.365876</td>\n",
       "      <td>1.363651</td>\n",
       "      <td>1.253728</td>\n",
       "      <td>1.320156</td>\n",
       "      <td>1.246677</td>\n",
       "      <td>1.373108</td>\n",
       "      <td>1.063383</td>\n",
       "      <td>1.3540117740631104]</td>\n",
       "    </tr>\n",
       "    <tr>\n",
       "      <th>4</th>\n",
       "      <td>[1.364808440208435</td>\n",
       "      <td>1.383762</td>\n",
       "      <td>1.368834</td>\n",
       "      <td>1.194829</td>\n",
       "      <td>0.000000</td>\n",
       "      <td>1.392209</td>\n",
       "      <td>1.400194</td>\n",
       "      <td>1.392744</td>\n",
       "      <td>1.395235</td>\n",
       "      <td>1.354218</td>\n",
       "      <td>...</td>\n",
       "      <td>1.408263</td>\n",
       "      <td>1.351133</td>\n",
       "      <td>1.352064</td>\n",
       "      <td>1.384548</td>\n",
       "      <td>1.360818</td>\n",
       "      <td>1.335063</td>\n",
       "      <td>1.395140</td>\n",
       "      <td>1.375792</td>\n",
       "      <td>0.943220</td>\n",
       "      <td>1.3656384944915771]</td>\n",
       "    </tr>\n",
       "  </tbody>\n",
       "</table>\n",
       "<p>5 rows × 21861 columns</p>\n",
       "</div>"
      ],
      "text/plain": [
       "                 0         1         2         3         4         5      \\\n",
       "0                 [0.0  1.141314  0.739278  1.065237  1.364808  1.361341   \n",
       "1   [1.141314148902893  0.000000  1.208509  1.245685  1.383762  1.216114   \n",
       "2  [0.7392775416374207  1.208509  0.000000  0.720378  1.368834  1.256209   \n",
       "3  [1.0652371644973755  1.245685  0.720378  0.000000  1.194829  1.380972   \n",
       "4   [1.364808440208435  1.383762  1.368834  1.194829  0.000000  1.392209   \n",
       "\n",
       "      6         7         8         9      ...     21851     21852     21853  \\\n",
       "0  1.267907  0.358515  0.995389  0.855678  ...  1.321036  0.768110  1.311950   \n",
       "1  1.269372  0.953707  0.791277  1.128460  ...  1.309301  1.103240  1.229787   \n",
       "2  0.986893  0.763642  0.929416  1.020079  ...  0.967532  0.912500  1.335236   \n",
       "3  0.619906  1.102341  0.900154  1.231292  ...  0.440970  1.094629  1.365876   \n",
       "4  1.400194  1.392744  1.395235  1.354218  ...  1.408263  1.351133  1.352064   \n",
       "\n",
       "      21854     21855     21856     21857     21858     21859  \\\n",
       "0  1.388766  1.245038  1.167628  0.953615  1.255388  0.805379   \n",
       "1  1.379067  1.325001  1.325661  1.295232  1.293990  1.191827   \n",
       "2  1.114811  0.965196  1.070835  1.089031  1.333803  0.838690   \n",
       "3  1.363651  1.253728  1.320156  1.246677  1.373108  1.063383   \n",
       "4  1.384548  1.360818  1.335063  1.395140  1.375792  0.943220   \n",
       "\n",
       "                  21860  \n",
       "0    1.199280023574829]  \n",
       "1   0.9326186180114746]  \n",
       "2   1.3089876174926758]  \n",
       "3   1.3540117740631104]  \n",
       "4   1.3656384944915771]  \n",
       "\n",
       "[5 rows x 21861 columns]"
      ]
     },
     "execution_count": 2,
     "metadata": {},
     "output_type": "execute_result"
    }
   ],
   "source": [
    "df = pd.read_csv(\"../input/smart-reply-sentence-similarity-using-annoy/input_similarity_matrix.txt\", header=None)\n",
    "df.head()"
   ]
  },
  {
   "cell_type": "code",
   "execution_count": 3,
   "metadata": {
    "execution": {
     "iopub.execute_input": "2021-03-15T05:28:51.012478Z",
     "iopub.status.busy": "2021-03-15T05:28:51.011550Z",
     "iopub.status.idle": "2021-03-15T05:28:51.020302Z",
     "shell.execute_reply": "2021-03-15T05:28:51.020825Z"
    },
    "papermill": {
     "duration": 0.019008,
     "end_time": "2021-03-15T05:28:51.020974",
     "exception": false,
     "start_time": "2021-03-15T05:28:51.001966",
     "status": "completed"
    },
    "tags": []
   },
   "outputs": [
    {
     "data": {
      "text/plain": [
       "0                       [0.0\n",
       "1         [1.141314148902893\n",
       "2        [0.7392775416374207\n",
       "3        [1.0652371644973755\n",
       "4         [1.364808440208435\n",
       "                ...         \n",
       "21856    [1.1676279306411743\n",
       "21857    [0.9536146521568298\n",
       "21858    [1.2553884983062744\n",
       "21859    [0.8053792715072632\n",
       "21860     [1.199280023574829\n",
       "Name: 0, Length: 21861, dtype: object"
      ]
     },
     "execution_count": 3,
     "metadata": {},
     "output_type": "execute_result"
    }
   ],
   "source": [
    "# first and last column data contains [ and ]\n",
    "df.iloc[:,0]"
   ]
  },
  {
   "cell_type": "code",
   "execution_count": 4,
   "metadata": {
    "execution": {
     "iopub.execute_input": "2021-03-15T05:28:51.037797Z",
     "iopub.status.busy": "2021-03-15T05:28:51.036932Z",
     "iopub.status.idle": "2021-03-15T05:28:51.049883Z",
     "shell.execute_reply": "2021-03-15T05:28:51.049045Z"
    },
    "papermill": {
     "duration": 0.022204,
     "end_time": "2021-03-15T05:28:51.050027",
     "exception": false,
     "start_time": "2021-03-15T05:28:51.027823",
     "status": "completed"
    },
    "tags": []
   },
   "outputs": [
    {
     "data": {
      "text/html": [
       "<div>\n",
       "<style scoped>\n",
       "    .dataframe tbody tr th:only-of-type {\n",
       "        vertical-align: middle;\n",
       "    }\n",
       "\n",
       "    .dataframe tbody tr th {\n",
       "        vertical-align: top;\n",
       "    }\n",
       "\n",
       "    .dataframe thead th {\n",
       "        text-align: right;\n",
       "    }\n",
       "</style>\n",
       "<table border=\"1\" class=\"dataframe\">\n",
       "  <thead>\n",
       "    <tr style=\"text-align: right;\">\n",
       "      <th></th>\n",
       "      <th>21860</th>\n",
       "    </tr>\n",
       "  </thead>\n",
       "  <tbody>\n",
       "    <tr>\n",
       "      <th>0</th>\n",
       "      <td>1.199280023574829]</td>\n",
       "    </tr>\n",
       "    <tr>\n",
       "      <th>1</th>\n",
       "      <td>0.9326186180114746]</td>\n",
       "    </tr>\n",
       "    <tr>\n",
       "      <th>2</th>\n",
       "      <td>1.3089876174926758]</td>\n",
       "    </tr>\n",
       "    <tr>\n",
       "      <th>3</th>\n",
       "      <td>1.3540117740631104]</td>\n",
       "    </tr>\n",
       "    <tr>\n",
       "      <th>4</th>\n",
       "      <td>1.3656384944915771]</td>\n",
       "    </tr>\n",
       "    <tr>\n",
       "      <th>...</th>\n",
       "      <td>...</td>\n",
       "    </tr>\n",
       "    <tr>\n",
       "      <th>21856</th>\n",
       "      <td>1.186025619506836]</td>\n",
       "    </tr>\n",
       "    <tr>\n",
       "      <th>21857</th>\n",
       "      <td>1.3036071062088013]</td>\n",
       "    </tr>\n",
       "    <tr>\n",
       "      <th>21858</th>\n",
       "      <td>1.0414623022079468]</td>\n",
       "    </tr>\n",
       "    <tr>\n",
       "      <th>21859</th>\n",
       "      <td>1.249380111694336]</td>\n",
       "    </tr>\n",
       "    <tr>\n",
       "      <th>21860</th>\n",
       "      <td>0.0]</td>\n",
       "    </tr>\n",
       "  </tbody>\n",
       "</table>\n",
       "<p>21861 rows × 1 columns</p>\n",
       "</div>"
      ],
      "text/plain": [
       "                      21860\n",
       "0        1.199280023574829]\n",
       "1       0.9326186180114746]\n",
       "2       1.3089876174926758]\n",
       "3       1.3540117740631104]\n",
       "4       1.3656384944915771]\n",
       "...                     ...\n",
       "21856    1.186025619506836]\n",
       "21857   1.3036071062088013]\n",
       "21858   1.0414623022079468]\n",
       "21859    1.249380111694336]\n",
       "21860                  0.0]\n",
       "\n",
       "[21861 rows x 1 columns]"
      ]
     },
     "execution_count": 4,
     "metadata": {},
     "output_type": "execute_result"
    }
   ],
   "source": [
    "df.iloc[:,-1:]"
   ]
  },
  {
   "cell_type": "code",
   "execution_count": 5,
   "metadata": {
    "execution": {
     "iopub.execute_input": "2021-03-15T05:28:51.081880Z",
     "iopub.status.busy": "2021-03-15T05:28:51.072330Z",
     "iopub.status.idle": "2021-03-15T05:28:51.135947Z",
     "shell.execute_reply": "2021-03-15T05:28:51.135345Z"
    },
    "papermill": {
     "duration": 0.078483,
     "end_time": "2021-03-15T05:28:51.136077",
     "exception": false,
     "start_time": "2021-03-15T05:28:51.057594",
     "status": "completed"
    },
    "tags": []
   },
   "outputs": [
    {
     "name": "stderr",
     "output_type": "stream",
     "text": [
      "/opt/conda/lib/python3.7/site-packages/ipykernel_launcher.py:2: FutureWarning: The default value of regex will change from True to False in a future version. In addition, single character regular expressions will*not* be treated as literal strings when regex=True.\n",
      "  \n",
      "/opt/conda/lib/python3.7/site-packages/ipykernel_launcher.py:3: FutureWarning: The default value of regex will change from True to False in a future version. In addition, single character regular expressions will*not* be treated as literal strings when regex=True.\n",
      "  This is separate from the ipykernel package so we can avoid doing imports until\n"
     ]
    }
   ],
   "source": [
    "# cleaning first and last columns\n",
    "df.iloc[:,0] = df.iloc[:,0].str.replace(\"[\", \"\").str.strip()\n",
    "df.iloc[:,-1:] = df.iloc[:,-1].str.replace(\"]\", \"\").str.strip()"
   ]
  },
  {
   "cell_type": "code",
   "execution_count": 6,
   "metadata": {
    "execution": {
     "iopub.execute_input": "2021-03-15T05:28:51.158025Z",
     "iopub.status.busy": "2021-03-15T05:28:51.157335Z",
     "iopub.status.idle": "2021-03-15T05:28:51.161423Z",
     "shell.execute_reply": "2021-03-15T05:28:51.160867Z"
    },
    "papermill": {
     "duration": 0.017598,
     "end_time": "2021-03-15T05:28:51.161546",
     "exception": false,
     "start_time": "2021-03-15T05:28:51.143948",
     "status": "completed"
    },
    "tags": []
   },
   "outputs": [
    {
     "data": {
      "text/plain": [
       "0                       0.0\n",
       "1         1.141314148902893\n",
       "2        0.7392775416374207\n",
       "3        1.0652371644973755\n",
       "4         1.364808440208435\n",
       "                ...        \n",
       "21856    1.1676279306411743\n",
       "21857    0.9536146521568298\n",
       "21858    1.2553884983062744\n",
       "21859    0.8053792715072632\n",
       "21860     1.199280023574829\n",
       "Name: 0, Length: 21861, dtype: object"
      ]
     },
     "execution_count": 6,
     "metadata": {},
     "output_type": "execute_result"
    }
   ],
   "source": [
    "df.iloc[:,0]"
   ]
  },
  {
   "cell_type": "code",
   "execution_count": 7,
   "metadata": {
    "execution": {
     "iopub.execute_input": "2021-03-15T05:28:51.186985Z",
     "iopub.status.busy": "2021-03-15T05:28:51.181049Z",
     "iopub.status.idle": "2021-03-15T05:28:51.190745Z",
     "shell.execute_reply": "2021-03-15T05:28:51.190140Z"
    },
    "papermill": {
     "duration": 0.021291,
     "end_time": "2021-03-15T05:28:51.190869",
     "exception": false,
     "start_time": "2021-03-15T05:28:51.169578",
     "status": "completed"
    },
    "tags": []
   },
   "outputs": [
    {
     "data": {
      "text/html": [
       "<div>\n",
       "<style scoped>\n",
       "    .dataframe tbody tr th:only-of-type {\n",
       "        vertical-align: middle;\n",
       "    }\n",
       "\n",
       "    .dataframe tbody tr th {\n",
       "        vertical-align: top;\n",
       "    }\n",
       "\n",
       "    .dataframe thead th {\n",
       "        text-align: right;\n",
       "    }\n",
       "</style>\n",
       "<table border=\"1\" class=\"dataframe\">\n",
       "  <thead>\n",
       "    <tr style=\"text-align: right;\">\n",
       "      <th></th>\n",
       "      <th>21860</th>\n",
       "    </tr>\n",
       "  </thead>\n",
       "  <tbody>\n",
       "    <tr>\n",
       "      <th>0</th>\n",
       "      <td>1.199280023574829</td>\n",
       "    </tr>\n",
       "    <tr>\n",
       "      <th>1</th>\n",
       "      <td>0.9326186180114746</td>\n",
       "    </tr>\n",
       "    <tr>\n",
       "      <th>2</th>\n",
       "      <td>1.3089876174926758</td>\n",
       "    </tr>\n",
       "    <tr>\n",
       "      <th>3</th>\n",
       "      <td>1.3540117740631104</td>\n",
       "    </tr>\n",
       "    <tr>\n",
       "      <th>4</th>\n",
       "      <td>1.3656384944915771</td>\n",
       "    </tr>\n",
       "    <tr>\n",
       "      <th>...</th>\n",
       "      <td>...</td>\n",
       "    </tr>\n",
       "    <tr>\n",
       "      <th>21856</th>\n",
       "      <td>1.186025619506836</td>\n",
       "    </tr>\n",
       "    <tr>\n",
       "      <th>21857</th>\n",
       "      <td>1.3036071062088013</td>\n",
       "    </tr>\n",
       "    <tr>\n",
       "      <th>21858</th>\n",
       "      <td>1.0414623022079468</td>\n",
       "    </tr>\n",
       "    <tr>\n",
       "      <th>21859</th>\n",
       "      <td>1.249380111694336</td>\n",
       "    </tr>\n",
       "    <tr>\n",
       "      <th>21860</th>\n",
       "      <td>0.0</td>\n",
       "    </tr>\n",
       "  </tbody>\n",
       "</table>\n",
       "<p>21861 rows × 1 columns</p>\n",
       "</div>"
      ],
      "text/plain": [
       "                    21860\n",
       "0       1.199280023574829\n",
       "1      0.9326186180114746\n",
       "2      1.3089876174926758\n",
       "3      1.3540117740631104\n",
       "4      1.3656384944915771\n",
       "...                   ...\n",
       "21856   1.186025619506836\n",
       "21857  1.3036071062088013\n",
       "21858  1.0414623022079468\n",
       "21859   1.249380111694336\n",
       "21860                 0.0\n",
       "\n",
       "[21861 rows x 1 columns]"
      ]
     },
     "execution_count": 7,
     "metadata": {},
     "output_type": "execute_result"
    }
   ],
   "source": [
    "df.iloc[:,-1:]"
   ]
  },
  {
   "cell_type": "code",
   "execution_count": 8,
   "metadata": {
    "execution": {
     "iopub.execute_input": "2021-03-15T05:28:51.212255Z",
     "iopub.status.busy": "2021-03-15T05:28:51.211722Z",
     "iopub.status.idle": "2021-03-15T05:49:55.198648Z",
     "shell.execute_reply": "2021-03-15T05:49:55.197810Z"
    },
    "papermill": {
     "duration": 1263.99954,
     "end_time": "2021-03-15T05:49:55.198963",
     "exception": false,
     "start_time": "2021-03-15T05:28:51.199423",
     "status": "completed"
    },
    "tags": []
   },
   "outputs": [],
   "source": [
    "# saving the dataframe \n",
    "df.to_csv('input_similarity_matrix_float.csv', header=False, index=False)"
   ]
  }
 ],
 "metadata": {
  "kernelspec": {
   "display_name": "Python 3",
   "language": "python",
   "name": "python3"
  },
  "language_info": {
   "codemirror_mode": {
    "name": "ipython",
    "version": 3
   },
   "file_extension": ".py",
   "mimetype": "text/x-python",
   "name": "python",
   "nbconvert_exporter": "python",
   "pygments_lexer": "ipython3",
   "version": "3.7.9"
  },
  "papermill": {
   "default_parameters": {},
   "duration": 1839.903777,
   "end_time": "2021-03-15T05:49:56.331217",
   "environment_variables": {},
   "exception": null,
   "input_path": "__notebook__.ipynb",
   "output_path": "__notebook__.ipynb",
   "parameters": {},
   "start_time": "2021-03-15T05:19:16.427440",
   "version": "2.2.2"
  }
 },
 "nbformat": 4,
 "nbformat_minor": 4
}
