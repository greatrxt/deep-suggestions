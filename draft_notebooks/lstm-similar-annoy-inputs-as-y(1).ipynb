{
 "cells": [
  {
   "cell_type": "code",
   "execution_count": 1,
   "id": "lonely-diesel",
   "metadata": {
    "execution": {
     "iopub.execute_input": "2021-03-17T05:37:21.750118Z",
     "iopub.status.busy": "2021-03-17T05:37:21.749504Z",
     "iopub.status.idle": "2021-03-17T05:37:28.523629Z",
     "shell.execute_reply": "2021-03-17T05:37:28.522694Z"
    },
    "papermill": {
     "duration": 6.799244,
     "end_time": "2021-03-17T05:37:28.523814",
     "exception": false,
     "start_time": "2021-03-17T05:37:21.724570",
     "status": "completed"
    },
    "tags": []
   },
   "outputs": [],
   "source": [
    "import pickle\n",
    "import numpy as np\n",
    "import tensorflow as tf\n",
    "from sklearn.preprocessing import OneHotEncoder\n",
    "import random"
   ]
  },
  {
   "cell_type": "code",
   "execution_count": 2,
   "id": "clean-google",
   "metadata": {
    "execution": {
     "iopub.execute_input": "2021-03-17T05:37:28.579948Z",
     "iopub.status.busy": "2021-03-17T05:37:28.572913Z",
     "iopub.status.idle": "2021-03-17T05:37:34.185428Z",
     "shell.execute_reply": "2021-03-17T05:37:34.184858Z"
    },
    "papermill": {
     "duration": 5.642712,
     "end_time": "2021-03-17T05:37:34.185590",
     "exception": false,
     "start_time": "2021-03-17T05:37:28.542878",
     "status": "completed"
    },
    "tags": []
   },
   "outputs": [
    {
     "name": "stdout",
     "output_type": "stream",
     "text": [
      "Device: grpc://10.0.0.2:8470\n",
      "Number of replicas: 8\n",
      "2.4.1\n"
     ]
    }
   ],
   "source": [
    "try:\n",
    "    tpu = tf.distribute.cluster_resolver.TPUClusterResolver()\n",
    "    print('Device:', tpu.master())\n",
    "    tf.config.experimental_connect_to_cluster(tpu)\n",
    "    tf.tpu.experimental.initialize_tpu_system(tpu)\n",
    "    strategy = tf.distribute.experimental.TPUStrategy(tpu)\n",
    "except:\n",
    "    strategy = tf.distribute.get_strategy()\n",
    "print('Number of replicas:', strategy.num_replicas_in_sync)\n",
    "\n",
    "AUTOTUNE = tf.data.experimental.AUTOTUNE\n",
    "    \n",
    "print(tf.__version__)"
   ]
  },
  {
   "cell_type": "code",
   "execution_count": 3,
   "id": "applicable-serum",
   "metadata": {
    "execution": {
     "iopub.execute_input": "2021-03-17T05:37:34.229458Z",
     "iopub.status.busy": "2021-03-17T05:37:34.228817Z",
     "iopub.status.idle": "2021-03-17T05:37:36.540226Z",
     "shell.execute_reply": "2021-03-17T05:37:36.539101Z"
    },
    "papermill": {
     "duration": 2.335316,
     "end_time": "2021-03-17T05:37:36.540404",
     "exception": false,
     "start_time": "2021-03-17T05:37:34.205088",
     "status": "completed"
    },
    "tags": []
   },
   "outputs": [],
   "source": [
    "with open('../input/smart-reply-sentence-similarity-using-annoy/input_texts.pickle', 'rb') as handle:\n",
    "    input_texts = pickle.load(handle)\n",
    "    \n",
    "with open('../input/smart-reply-clustering-annoy-input/input_dbscan.pickle', 'rb') as handle:\n",
    "    dbscan = pickle.load(handle)"
   ]
  },
  {
   "cell_type": "code",
   "execution_count": 4,
   "id": "grave-occasion",
   "metadata": {
    "execution": {
     "iopub.execute_input": "2021-03-17T05:37:36.585151Z",
     "iopub.status.busy": "2021-03-17T05:37:36.584514Z",
     "iopub.status.idle": "2021-03-17T05:37:36.588744Z",
     "shell.execute_reply": "2021-03-17T05:37:36.588058Z"
    },
    "papermill": {
     "duration": 0.028776,
     "end_time": "2021-03-17T05:37:36.588890",
     "exception": false,
     "start_time": "2021-03-17T05:37:36.560114",
     "status": "completed"
    },
    "tags": []
   },
   "outputs": [
    {
     "name": "stdout",
     "output_type": "stream",
     "text": [
      "21861\n",
      "21861\n"
     ]
    }
   ],
   "source": [
    "print(len(input_texts))\n",
    "print(len(dbscan.labels_))"
   ]
  },
  {
   "cell_type": "code",
   "execution_count": 5,
   "id": "efficient-student",
   "metadata": {
    "execution": {
     "iopub.execute_input": "2021-03-17T05:37:36.636817Z",
     "iopub.status.busy": "2021-03-17T05:37:36.635809Z",
     "iopub.status.idle": "2021-03-17T05:37:36.639892Z",
     "shell.execute_reply": "2021-03-17T05:37:36.639385Z"
    },
    "papermill": {
     "duration": 0.031264,
     "end_time": "2021-03-17T05:37:36.640039",
     "exception": false,
     "start_time": "2021-03-17T05:37:36.608775",
     "status": "completed"
    },
    "tags": []
   },
   "outputs": [
    {
     "data": {
      "text/plain": [
       "(21861,)"
      ]
     },
     "execution_count": 5,
     "metadata": {},
     "output_type": "execute_result"
    }
   ],
   "source": [
    "dbscan.labels_.shape"
   ]
  },
  {
   "cell_type": "code",
   "execution_count": 6,
   "id": "immediate-maryland",
   "metadata": {
    "execution": {
     "iopub.execute_input": "2021-03-17T05:37:36.688108Z",
     "iopub.status.busy": "2021-03-17T05:37:36.687063Z",
     "iopub.status.idle": "2021-03-17T05:37:36.691568Z",
     "shell.execute_reply": "2021-03-17T05:37:36.691030Z"
    },
    "papermill": {
     "duration": 0.029781,
     "end_time": "2021-03-17T05:37:36.691713",
     "exception": false,
     "start_time": "2021-03-17T05:37:36.661932",
     "status": "completed"
    },
    "tags": []
   },
   "outputs": [
    {
     "data": {
      "text/plain": [
       "['yes.google is the biggest search engine and google service figure out top 100 website including youtube and blogger.',\n",
       " 'yes he even won a hardcore cha cha championship in 1958',\n",
       " 'true did you know jackson had a patent on a dancing device',\n",
       " 'yes it helped him smooth out his dance moves',\n",
       " 'i wonder if they met how that would go from there',\n",
       " \"oh yeah i didn't know that either. i also want to go to google plex to see the goats who mow their lawn by eating it.\",\n",
       " 'that is so funny i guess i never considered a seahorse a fish. the black swallower fish sounds a lot like a snake because it can eat pray that is so large.',\n",
       " 'hi. do you like to dance',\n",
       " 'dancing is a lot of fun. did you know that bruce lee was a great dancer',\n",
       " 'he was indeed his music is even in the library of congress.']"
      ]
     },
     "execution_count": 6,
     "metadata": {},
     "output_type": "execute_result"
    }
   ],
   "source": [
    "input_texts[:10]"
   ]
  },
  {
   "cell_type": "code",
   "execution_count": 7,
   "id": "involved-prediction",
   "metadata": {
    "execution": {
     "iopub.execute_input": "2021-03-17T05:37:36.777832Z",
     "iopub.status.busy": "2021-03-17T05:37:36.762114Z",
     "iopub.status.idle": "2021-03-17T05:37:37.234996Z",
     "shell.execute_reply": "2021-03-17T05:37:37.234393Z"
    },
    "papermill": {
     "duration": 0.522753,
     "end_time": "2021-03-17T05:37:37.235154",
     "exception": false,
     "start_time": "2021-03-17T05:37:36.712401",
     "status": "completed"
    },
    "tags": []
   },
   "outputs": [],
   "source": [
    "# fitting tokenizer on all short messages\n",
    "tokenizer = tf.keras.preprocessing.text.Tokenizer()\n",
    "tokenizer.fit_on_texts(input_texts)\n",
    "total_words = len(tokenizer.word_index) + 1"
   ]
  },
  {
   "cell_type": "code",
   "execution_count": 8,
   "id": "knowing-intranet",
   "metadata": {
    "execution": {
     "iopub.execute_input": "2021-03-17T05:37:37.344184Z",
     "iopub.status.busy": "2021-03-17T05:37:37.307773Z",
     "iopub.status.idle": "2021-03-17T05:37:37.826611Z",
     "shell.execute_reply": "2021-03-17T05:37:37.827095Z"
    },
    "papermill": {
     "duration": 0.570208,
     "end_time": "2021-03-17T05:37:37.827281",
     "exception": false,
     "start_time": "2021-03-17T05:37:37.257073",
     "status": "completed"
    },
    "tags": []
   },
   "outputs": [],
   "source": [
    "input_tokens = tokenizer.texts_to_sequences(input_texts)"
   ]
  },
  {
   "cell_type": "code",
   "execution_count": 9,
   "id": "industrial-pierce",
   "metadata": {
    "execution": {
     "iopub.execute_input": "2021-03-17T05:37:37.882192Z",
     "iopub.status.busy": "2021-03-17T05:37:37.881082Z",
     "iopub.status.idle": "2021-03-17T05:37:38.081004Z",
     "shell.execute_reply": "2021-03-17T05:37:38.081528Z"
    },
    "papermill": {
     "duration": 0.233191,
     "end_time": "2021-03-17T05:37:38.081723",
     "exception": false,
     "start_time": "2021-03-17T05:37:37.848532",
     "status": "completed"
    },
    "tags": []
   },
   "outputs": [],
   "source": [
    "def generate_padded_sequences(input_sequences):\n",
    "    max_sequence_len = max([len(x) for x in input_sequences])\n",
    "    input_sequences = np.array(tf.keras.preprocessing.sequence.pad_sequences(input_sequences, maxlen=max_sequence_len, padding='pre'))\n",
    "    \n",
    "    predictors = input_sequences\n",
    "    #label = tf.keras.utils.to_categorical(label, num_classes=total_words)\n",
    "    return predictors, max_sequence_len\n",
    "\n",
    "predictors, max_sequence_len = generate_padded_sequences(input_tokens)"
   ]
  },
  {
   "cell_type": "code",
   "execution_count": 10,
   "id": "manufactured-brighton",
   "metadata": {
    "execution": {
     "iopub.execute_input": "2021-03-17T05:37:38.136415Z",
     "iopub.status.busy": "2021-03-17T05:37:38.135734Z",
     "iopub.status.idle": "2021-03-17T05:37:38.141130Z",
     "shell.execute_reply": "2021-03-17T05:37:38.141649Z"
    },
    "papermill": {
     "duration": 0.03894,
     "end_time": "2021-03-17T05:37:38.141823",
     "exception": false,
     "start_time": "2021-03-17T05:37:38.102883",
     "status": "completed"
    },
    "tags": []
   },
   "outputs": [
    {
     "name": "stdout",
     "output_type": "stream",
     "text": [
      "[62 62 62 62 62 62 62 62 62 62]\n"
     ]
    }
   ],
   "source": [
    "labels = np.array(dbscan.labels_, copy=True)\n",
    "labels[labels == -1] = len(set(dbscan.labels_)) - 1\n",
    "print(labels[:10])"
   ]
  },
  {
   "cell_type": "code",
   "execution_count": 11,
   "id": "asian-roots",
   "metadata": {
    "execution": {
     "iopub.execute_input": "2021-03-17T05:37:38.190594Z",
     "iopub.status.busy": "2021-03-17T05:37:38.189964Z",
     "iopub.status.idle": "2021-03-17T05:37:38.199550Z",
     "shell.execute_reply": "2021-03-17T05:37:38.199043Z"
    },
    "papermill": {
     "duration": 0.036009,
     "end_time": "2021-03-17T05:37:38.199701",
     "exception": false,
     "start_time": "2021-03-17T05:37:38.163692",
     "status": "completed"
    },
    "tags": []
   },
   "outputs": [
    {
     "data": {
      "text/plain": [
       "(21861, 63)"
      ]
     },
     "execution_count": 11,
     "metadata": {},
     "output_type": "execute_result"
    }
   ],
   "source": [
    "encoder_labels = OneHotEncoder().fit(labels.reshape(-1, 1))\n",
    "one_hot_labels = encoder_labels.transform(labels.reshape(-1, 1))\n",
    "one_hot_labels.shape"
   ]
  },
  {
   "cell_type": "code",
   "execution_count": 12,
   "id": "tutorial-adoption",
   "metadata": {
    "execution": {
     "iopub.execute_input": "2021-03-17T05:37:38.252826Z",
     "iopub.status.busy": "2021-03-17T05:37:38.252059Z",
     "iopub.status.idle": "2021-03-17T05:37:40.301392Z",
     "shell.execute_reply": "2021-03-17T05:37:40.302690Z"
    },
    "papermill": {
     "duration": 2.081276,
     "end_time": "2021-03-17T05:37:40.302889",
     "exception": false,
     "start_time": "2021-03-17T05:37:38.221613",
     "status": "completed"
    },
    "tags": []
   },
   "outputs": [
    {
     "name": "stdout",
     "output_type": "stream",
     "text": [
      "Model: \"sequential\"\n",
      "_________________________________________________________________\n",
      "Layer (type)                 Output Shape              Param #   \n",
      "=================================================================\n",
      "embedding (Embedding)        (None, 49, 256)           3547648   \n",
      "_________________________________________________________________\n",
      "lstm (LSTM)                  (None, 256)               525312    \n",
      "_________________________________________________________________\n",
      "dropout (Dropout)            (None, 256)               0         \n",
      "_________________________________________________________________\n",
      "dense (Dense)                (None, 63)                16191     \n",
      "=================================================================\n",
      "Total params: 4,089,151\n",
      "Trainable params: 4,089,151\n",
      "Non-trainable params: 0\n",
      "_________________________________________________________________\n"
     ]
    }
   ],
   "source": [
    "def create_model(max_sequence_len, total_words):\n",
    "    input_len = max_sequence_len - 1\n",
    "    model = tf.keras.Sequential()\n",
    "    \n",
    "    # Add Input Embedding Layer\n",
    "    model.add(tf.keras.layers.Embedding(total_words, 256, input_length=input_len))\n",
    "    \n",
    "    # Add Hidden Layer 1 - LSTM Layer\n",
    "    #model.add(tf.keras.layers.LSTM(256, return_sequences=True))\n",
    "    #model.add(tf.keras.layers.Dropout(0.2))\n",
    "    \n",
    "    model.add(tf.keras.layers.LSTM(256))\n",
    "    model.add(tf.keras.layers.Dropout(0.2))\n",
    "    \n",
    "    # Add Output Layer\n",
    "    model.add(tf.keras.layers.Dense(one_hot_labels.shape[1], activation='softmax'))\n",
    "\n",
    "    model.compile(loss='categorical_crossentropy', optimizer='adam', metrics=[\"accuracy\"])\n",
    "    \n",
    "    return model\n",
    "\n",
    "\n",
    "with strategy.scope():\n",
    "    model = create_model(max_sequence_len, total_words)\n",
    "    model.summary()"
   ]
  },
  {
   "cell_type": "code",
   "execution_count": 13,
   "id": "grateful-statement",
   "metadata": {
    "execution": {
     "iopub.execute_input": "2021-03-17T05:37:40.353741Z",
     "iopub.status.busy": "2021-03-17T05:37:40.353062Z",
     "iopub.status.idle": "2021-03-17T05:42:19.908858Z",
     "shell.execute_reply": "2021-03-17T05:42:19.908228Z"
    },
    "papermill": {
     "duration": 279.583386,
     "end_time": "2021-03-17T05:42:19.909029",
     "exception": false,
     "start_time": "2021-03-17T05:37:40.325643",
     "status": "completed"
    },
    "tags": []
   },
   "outputs": [
    {
     "name": "stdout",
     "output_type": "stream",
     "text": [
      "Epoch 1/25\n",
      "547/547 [==============================] - 19s 26ms/step - loss: 0.4426 - accuracy: 0.9568 - val_loss: 0.1440 - val_accuracy: 0.9758\n",
      "Epoch 2/25\n",
      "547/547 [==============================] - 11s 20ms/step - loss: 0.1254 - accuracy: 0.9758 - val_loss: 0.1117 - val_accuracy: 0.9780\n",
      "Epoch 3/25\n",
      "547/547 [==============================] - 10s 19ms/step - loss: 0.0933 - accuracy: 0.9791 - val_loss: 0.0858 - val_accuracy: 0.9803\n",
      "Epoch 4/25\n",
      "547/547 [==============================] - 11s 20ms/step - loss: 0.0587 - accuracy: 0.9843 - val_loss: 0.0635 - val_accuracy: 0.9844\n",
      "Epoch 5/25\n",
      "547/547 [==============================] - 11s 21ms/step - loss: 0.0363 - accuracy: 0.9890 - val_loss: 0.0451 - val_accuracy: 0.9899\n",
      "Epoch 6/25\n",
      "547/547 [==============================] - 11s 20ms/step - loss: 0.0232 - accuracy: 0.9940 - val_loss: 0.0382 - val_accuracy: 0.9925\n",
      "Epoch 7/25\n",
      "547/547 [==============================] - 11s 20ms/step - loss: 0.0170 - accuracy: 0.9949 - val_loss: 0.0416 - val_accuracy: 0.9897\n",
      "Epoch 8/25\n",
      "547/547 [==============================] - 11s 20ms/step - loss: 0.0118 - accuracy: 0.9971 - val_loss: 0.0331 - val_accuracy: 0.9915\n",
      "Epoch 9/25\n",
      "547/547 [==============================] - 11s 20ms/step - loss: 0.0083 - accuracy: 0.9975 - val_loss: 0.0295 - val_accuracy: 0.9925\n",
      "Epoch 10/25\n",
      "547/547 [==============================] - 11s 19ms/step - loss: 0.0064 - accuracy: 0.9982 - val_loss: 0.0414 - val_accuracy: 0.9895\n",
      "Epoch 11/25\n",
      "547/547 [==============================] - 11s 19ms/step - loss: 0.0068 - accuracy: 0.9977 - val_loss: 0.0298 - val_accuracy: 0.9929\n",
      "Epoch 12/25\n",
      "547/547 [==============================] - 11s 19ms/step - loss: 0.0049 - accuracy: 0.9981 - val_loss: 0.0280 - val_accuracy: 0.9941\n",
      "Epoch 13/25\n",
      "547/547 [==============================] - 11s 20ms/step - loss: 0.0035 - accuracy: 0.9992 - val_loss: 0.0318 - val_accuracy: 0.9938\n",
      "Epoch 14/25\n",
      "547/547 [==============================] - 11s 19ms/step - loss: 0.0017 - accuracy: 0.9996 - val_loss: 0.0306 - val_accuracy: 0.9934\n",
      "Epoch 15/25\n",
      "547/547 [==============================] - 11s 19ms/step - loss: 0.0013 - accuracy: 0.9996 - val_loss: 0.0373 - val_accuracy: 0.9925\n",
      "Epoch 16/25\n",
      "547/547 [==============================] - 11s 20ms/step - loss: 0.0030 - accuracy: 0.9992 - val_loss: 0.0321 - val_accuracy: 0.9927\n",
      "Epoch 17/25\n",
      "547/547 [==============================] - 11s 20ms/step - loss: 0.0021 - accuracy: 0.9992 - val_loss: 0.0350 - val_accuracy: 0.9934\n",
      "Epoch 18/25\n",
      "547/547 [==============================] - 11s 20ms/step - loss: 0.0012 - accuracy: 0.9998 - val_loss: 0.0341 - val_accuracy: 0.9945\n",
      "Epoch 19/25\n",
      "547/547 [==============================] - 11s 20ms/step - loss: 4.2641e-04 - accuracy: 1.0000 - val_loss: 0.0350 - val_accuracy: 0.9938\n",
      "Epoch 20/25\n",
      "547/547 [==============================] - 11s 20ms/step - loss: 1.9979e-04 - accuracy: 1.0000 - val_loss: 0.0370 - val_accuracy: 0.9941\n",
      "Epoch 21/25\n",
      "547/547 [==============================] - 11s 20ms/step - loss: 1.1408e-04 - accuracy: 1.0000 - val_loss: 0.0379 - val_accuracy: 0.9938\n",
      "Epoch 22/25\n",
      "547/547 [==============================] - 11s 20ms/step - loss: 1.0130e-04 - accuracy: 1.0000 - val_loss: 0.0405 - val_accuracy: 0.9934\n",
      "Epoch 23/25\n",
      "547/547 [==============================] - 11s 20ms/step - loss: 7.2251e-05 - accuracy: 1.0000 - val_loss: 0.0423 - val_accuracy: 0.9934\n",
      "Epoch 24/25\n",
      "547/547 [==============================] - 11s 20ms/step - loss: 5.2937e-05 - accuracy: 1.0000 - val_loss: 0.0418 - val_accuracy: 0.9938\n",
      "Epoch 25/25\n",
      "547/547 [==============================] - 11s 20ms/step - loss: 3.0495e-05 - accuracy: 1.0000 - val_loss: 0.0427 - val_accuracy: 0.9936\n"
     ]
    }
   ],
   "source": [
    "history = model.fit(predictors, one_hot_labels.todense(), epochs=25, validation_split=0.2, verbose=1)"
   ]
  },
  {
   "cell_type": "code",
   "execution_count": 14,
   "id": "promotional-backup",
   "metadata": {
    "execution": {
     "iopub.execute_input": "2021-03-17T05:42:22.325078Z",
     "iopub.status.busy": "2021-03-17T05:42:22.324395Z",
     "iopub.status.idle": "2021-03-17T05:42:22.500548Z",
     "shell.execute_reply": "2021-03-17T05:42:22.501149Z"
    },
    "papermill": {
     "duration": 1.39268,
     "end_time": "2021-03-17T05:42:22.501332",
     "exception": false,
     "start_time": "2021-03-17T05:42:21.108652",
     "status": "completed"
    },
    "tags": []
   },
   "outputs": [
    {
     "data": {
      "image/png": "[encoded data removed]",
      "text/plain": [
       "<Figure size 432x288 with 1 Axes>"
      ]
     },
     "metadata": {
      "needs_background": "light"
     },
     "output_type": "display_data"
    }
   ],
   "source": [
    "import matplotlib.pyplot as plt\n",
    "# summarize history for loss\n",
    "plt.plot(history.history['loss'])\n",
    "plt.plot(history.history['val_loss'])\n",
    "plt.title('model loss')\n",
    "plt.ylabel('loss')\n",
    "plt.xlabel('epoch')\n",
    "plt.legend(['train', 'test'], loc='upper right')\n",
    "plt.show()"
   ]
  },
  {
   "cell_type": "code",
   "execution_count": 15,
   "id": "detailed-trailer",
   "metadata": {
    "execution": {
     "iopub.execute_input": "2021-03-17T05:42:24.869384Z",
     "iopub.status.busy": "2021-03-17T05:42:24.868349Z",
     "iopub.status.idle": "2021-03-17T05:42:24.902454Z",
     "shell.execute_reply": "2021-03-17T05:42:24.903049Z"
    },
    "papermill": {
     "duration": 1.218848,
     "end_time": "2021-03-17T05:42:24.903265",
     "exception": false,
     "start_time": "2021-03-17T05:42:23.684417",
     "status": "completed"
    },
    "tags": []
   },
   "outputs": [],
   "source": [
    "with open('../input/smart-reply-sentence-similarity-using-annoy/target_texts.pickle', 'rb') as handle:\n",
    "    target_texts = pickle.load(handle)"
   ]
  },
  {
   "cell_type": "code",
   "execution_count": 16,
   "id": "intellectual-better",
   "metadata": {
    "execution": {
     "iopub.execute_input": "2021-03-17T05:42:27.260632Z",
     "iopub.status.busy": "2021-03-17T05:42:27.259643Z",
     "iopub.status.idle": "2021-03-17T05:42:31.848717Z",
     "shell.execute_reply": "2021-03-17T05:42:31.849276Z"
    },
    "papermill": {
     "duration": 5.768562,
     "end_time": "2021-03-17T05:42:31.849519",
     "exception": false,
     "start_time": "2021-03-17T05:42:26.080957",
     "status": "completed"
    },
    "tags": []
   },
   "outputs": [
    {
     "name": "stderr",
     "output_type": "stream",
     "text": [
      "/opt/conda/lib/python3.7/site-packages/tensorflow/python/keras/engine/sequential.py:450: UserWarning: `model.predict_classes()` is deprecated and will be removed after 2021-01-01. Please use instead:* `np.argmax(model.predict(x), axis=-1)`,   if your model does multi-class classification   (e.g. if it uses a `softmax` last-layer activation).* `(model.predict(x) > 0.5).astype(\"int32\")`,   if your model does binary classification   (e.g. if it uses a `sigmoid` last-layer activation).\n",
      "  warnings.warn('`model.predict_classes()` is deprecated and '\n"
     ]
    }
   ],
   "source": [
    "predictions = model.predict_classes(predictors, verbose=0)"
   ]
  },
  {
   "cell_type": "code",
   "execution_count": 17,
   "id": "arabic-fifty",
   "metadata": {
    "execution": {
     "iopub.execute_input": "2021-03-17T05:42:34.285950Z",
     "iopub.status.busy": "2021-03-17T05:42:34.285172Z",
     "iopub.status.idle": "2021-03-17T05:42:34.290224Z",
     "shell.execute_reply": "2021-03-17T05:42:34.290860Z"
    },
    "papermill": {
     "duration": 1.184116,
     "end_time": "2021-03-17T05:42:34.291035",
     "exception": false,
     "start_time": "2021-03-17T05:42:33.106919",
     "status": "completed"
    },
    "tags": []
   },
   "outputs": [
    {
     "data": {
      "text/plain": [
       "array([[   0,    0,    0, ...,  224,   11, 7719],\n",
       "       [   0,    0,    0, ..., 1162,   10, 1810],\n",
       "       [   0,    0,    0, ...,    3,  823, 1608],\n",
       "       ...,\n",
       "       [   0,    0,    0, ...,   32,   19,    4],\n",
       "       [   0,    0,    0, ...,  210,  152,  317],\n",
       "       [   0,    0,    0, ..., 1279,  662,  772]], dtype=int32)"
      ]
     },
     "execution_count": 17,
     "metadata": {},
     "output_type": "execute_result"
    }
   ],
   "source": [
    "predictors"
   ]
  },
  {
   "cell_type": "code",
   "execution_count": 18,
   "id": "young-aircraft",
   "metadata": {
    "execution": {
     "iopub.execute_input": "2021-03-17T05:42:36.656803Z",
     "iopub.status.busy": "2021-03-17T05:42:36.656103Z",
     "iopub.status.idle": "2021-03-17T05:42:36.662975Z",
     "shell.execute_reply": "2021-03-17T05:42:36.663445Z"
    },
    "papermill": {
     "duration": 1.195503,
     "end_time": "2021-03-17T05:42:36.663640",
     "exception": false,
     "start_time": "2021-03-17T05:42:35.468137",
     "status": "completed"
    },
    "tags": []
   },
   "outputs": [
    {
     "name": "stdout",
     "output_type": "stream",
     "text": [
      "[[    0    15]\n",
      " [    1    24]\n",
      " [    2     7]\n",
      " [    3   153]\n",
      " [    4     7]\n",
      " [    5    20]\n",
      " [    6     6]\n",
      " [    7     7]\n",
      " [    8     5]\n",
      " [    9    12]\n",
      " [   10     5]\n",
      " [   11     7]\n",
      " [   12    16]\n",
      " [   13    18]\n",
      " [   14     5]\n",
      " [   15     5]\n",
      " [   16    31]\n",
      " [   17    17]\n",
      " [   18     7]\n",
      " [   19     6]\n",
      " [   20     6]\n",
      " [   21    11]\n",
      " [   22    25]\n",
      " [   23    11]\n",
      " [   24    13]\n",
      " [   25     8]\n",
      " [   26     7]\n",
      " [   27    17]\n",
      " [   28     5]\n",
      " [   29    21]\n",
      " [   30     9]\n",
      " [   31    10]\n",
      " [   32     6]\n",
      " [   33     6]\n",
      " [   34    10]\n",
      " [   35     7]\n",
      " [   36     9]\n",
      " [   37     6]\n",
      " [   38     5]\n",
      " [   39     7]\n",
      " [   40     9]\n",
      " [   41     5]\n",
      " [   42     5]\n",
      " [   43     5]\n",
      " [   44    11]\n",
      " [   45     6]\n",
      " [   46     5]\n",
      " [   47     8]\n",
      " [   48     9]\n",
      " [   49     5]\n",
      " [   50     9]\n",
      " [   51     7]\n",
      " [   52     6]\n",
      " [   53     5]\n",
      " [   54     5]\n",
      " [   55     8]\n",
      " [   56     5]\n",
      " [   57     6]\n",
      " [   58    10]\n",
      " [   59    13]\n",
      " [   60     5]\n",
      " [   61     8]\n",
      " [   62 21134]]\n"
     ]
    }
   ],
   "source": [
    "unique, counts = np.unique(predictions, return_counts=True)\n",
    "print(np.asarray((unique, counts)).T)"
   ]
  },
  {
   "cell_type": "code",
   "execution_count": 19,
   "id": "superior-annual",
   "metadata": {
    "execution": {
     "iopub.execute_input": "2021-03-17T05:42:39.073578Z",
     "iopub.status.busy": "2021-03-17T05:42:39.072898Z",
     "iopub.status.idle": "2021-03-17T05:42:39.075903Z",
     "shell.execute_reply": "2021-03-17T05:42:39.076384Z"
    },
    "papermill": {
     "duration": 1.236584,
     "end_time": "2021-03-17T05:42:39.076574",
     "exception": false,
     "start_time": "2021-03-17T05:42:37.839990",
     "status": "completed"
    },
    "tags": []
   },
   "outputs": [
    {
     "data": {
      "text/plain": [
       "(array([ 6012,  6609, 11732, 11790, 12332, 13788, 16956, 18011, 18441,\n",
       "        20282, 20756]),)"
      ]
     },
     "execution_count": 19,
     "metadata": {},
     "output_type": "execute_result"
    }
   ],
   "source": [
    "np.where(predictions==44)"
   ]
  },
  {
   "cell_type": "code",
   "execution_count": 20,
   "id": "falling-sender",
   "metadata": {
    "execution": {
     "iopub.execute_input": "2021-03-17T05:42:41.467886Z",
     "iopub.status.busy": "2021-03-17T05:42:41.466848Z",
     "iopub.status.idle": "2021-03-17T05:42:41.470257Z",
     "shell.execute_reply": "2021-03-17T05:42:41.469525Z"
    },
    "papermill": {
     "duration": 1.209562,
     "end_time": "2021-03-17T05:42:41.470404",
     "exception": false,
     "start_time": "2021-03-17T05:42:40.260842",
     "status": "completed"
    },
    "tags": []
   },
   "outputs": [],
   "source": [
    "def get_responses(seed_text, n):\n",
    "    print(\"Input -\", seed_text)\n",
    "    print(\"----------------------\")\n",
    "    responses = set()\n",
    "    while len(responses) < n:\n",
    "        token_list = tokenizer.texts_to_sequences([seed_text])[0]\n",
    "        token_list = tf.keras.preprocessing.sequence.pad_sequences([token_list], maxlen=max_sequence_len-1, padding='pre')\n",
    "        predicted_index = model.predict_classes(token_list, verbose=0)\n",
    "        # print(predicted_index)\n",
    "        if predicted_index[0] == len(set(dbscan.labels_)) - 1:\n",
    "            print(\"Predicting outside clusters\")\n",
    "            predicted_index = -1\n",
    "\n",
    "        # randomly pick 1 index\n",
    "        possible_response = np.where(dbscan.labels_==predicted_index)[0]\n",
    "        response_index = random.sample(possible_response.tolist(), 1)[0]\n",
    "        # print(response_index)\n",
    "        responses.add(target_texts[response_index].replace(\"\\t\", \"\").replace(\"\\n\", \"\"))\n",
    "        \n",
    "    for i, response in enumerate(responses):\n",
    "        print(\"Response\", (i + 1), \"->\", response)"
   ]
  },
  {
   "cell_type": "code",
   "execution_count": 21,
   "id": "complete-novelty",
   "metadata": {
    "execution": {
     "iopub.execute_input": "2021-03-17T05:42:43.889375Z",
     "iopub.status.busy": "2021-03-17T05:42:43.888761Z",
     "iopub.status.idle": "2021-03-17T05:42:47.081420Z",
     "shell.execute_reply": "2021-03-17T05:42:47.081907Z"
    },
    "papermill": {
     "duration": 4.419672,
     "end_time": "2021-03-17T05:42:47.082102",
     "exception": false,
     "start_time": "2021-03-17T05:42:42.662430",
     "status": "completed"
    },
    "tags": []
   },
   "outputs": [
    {
     "name": "stdout",
     "output_type": "stream",
     "text": [
      "Input - goodbye\n",
      "----------------------\n",
      "Predicting outside clusters\n",
      "Predicting outside clusters\n",
      "Predicting outside clusters\n",
      "Predicting outside clusters\n",
      "Predicting outside clusters\n",
      "Response 1 -> no i had no idea. cool.\n",
      "Response 2 -> apparently it is 13 but differs by local laws.\n",
      "Response 3 -> i like green eggs and ham.\n",
      "Response 4 -> bye.\n",
      "Response 5 -> i know. too bad the duel is outlawed.\n"
     ]
    }
   ],
   "source": [
    "get_responses(\"goodbye\", 5)"
   ]
  },
  {
   "cell_type": "code",
   "execution_count": 22,
   "id": "radio-snake",
   "metadata": {
    "execution": {
     "iopub.execute_input": "2021-03-17T05:42:49.495433Z",
     "iopub.status.busy": "2021-03-17T05:42:49.494572Z",
     "iopub.status.idle": "2021-03-17T05:42:51.534889Z",
     "shell.execute_reply": "2021-03-17T05:42:51.534195Z"
    },
    "papermill": {
     "duration": 3.273463,
     "end_time": "2021-03-17T05:42:51.535047",
     "exception": false,
     "start_time": "2021-03-17T05:42:48.261584",
     "status": "completed"
    },
    "tags": []
   },
   "outputs": [
    {
     "name": "stdout",
     "output_type": "stream",
     "text": [
      "Input - hi how are you\n",
      "----------------------\n",
      "Response 1 -> fine. what about you\n",
      "Response 2 -> good thanks how are you\n",
      "Response 3 -> i'm great. do you like dogs\n",
      "Response 4 -> great. you do you like television\n",
      "Response 5 -> hey. i'm doing well how are you today\n"
     ]
    }
   ],
   "source": [
    "get_responses(input_texts[387], 5)"
   ]
  },
  {
   "cell_type": "code",
   "execution_count": 23,
   "id": "north-bulgaria",
   "metadata": {
    "execution": {
     "iopub.execute_input": "2021-03-17T05:42:53.911278Z",
     "iopub.status.busy": "2021-03-17T05:42:53.910171Z",
     "iopub.status.idle": "2021-03-17T05:42:55.859750Z",
     "shell.execute_reply": "2021-03-17T05:42:55.858573Z"
    },
    "papermill": {
     "duration": 3.145555,
     "end_time": "2021-03-17T05:42:55.859911",
     "exception": false,
     "start_time": "2021-03-17T05:42:52.714356",
     "status": "completed"
    },
    "tags": []
   },
   "outputs": [
    {
     "name": "stdout",
     "output_type": "stream",
     "text": [
      "Input - have a good night.\n",
      "----------------------\n",
      "Response 1 -> bye...\n",
      "Response 2 -> thanks.\n",
      "Response 3 -> thanks you as well.\n",
      "Response 4 -> signing off.\n",
      "Response 5 -> bye.\n"
     ]
    }
   ],
   "source": [
    "get_responses(input_texts[2985], 5)"
   ]
  },
  {
   "cell_type": "code",
   "execution_count": 24,
   "id": "cheap-smith",
   "metadata": {
    "execution": {
     "iopub.execute_input": "2021-03-17T05:42:58.231452Z",
     "iopub.status.busy": "2021-03-17T05:42:58.230815Z",
     "iopub.status.idle": "2021-03-17T05:43:01.335172Z",
     "shell.execute_reply": "2021-03-17T05:43:01.334618Z"
    },
    "papermill": {
     "duration": 4.288826,
     "end_time": "2021-03-17T05:43:01.335338",
     "exception": false,
     "start_time": "2021-03-17T05:42:57.046512",
     "status": "completed"
    },
    "tags": []
   },
   "outputs": [
    {
     "name": "stdout",
     "output_type": "stream",
     "text": [
      "Input - do you like tv\n",
      "----------------------\n",
      "Response 1 -> i do like it and have a passing familiarity\n",
      "Response 2 -> love it i actually like both football and basketball\n",
      "Response 3 -> i love it. have you ever seen space jam\n",
      "Response 4 -> hi yes i do. my favorite are animation movies.\n",
      "Response 5 -> yes especially watching the nba finals. cavs. vs. warriors.\n"
     ]
    }
   ],
   "source": [
    "get_responses(input_texts[13788], 5)"
   ]
  },
  {
   "cell_type": "code",
   "execution_count": 25,
   "id": "progressive-weather",
   "metadata": {
    "execution": {
     "iopub.execute_input": "2021-03-17T05:43:03.744236Z",
     "iopub.status.busy": "2021-03-17T05:43:03.743604Z",
     "iopub.status.idle": "2021-03-17T05:43:06.085532Z",
     "shell.execute_reply": "2021-03-17T05:43:06.086314Z"
    },
    "papermill": {
     "duration": 3.572382,
     "end_time": "2021-03-17T05:43:06.086529",
     "exception": false,
     "start_time": "2021-03-17T05:43:02.514147",
     "status": "completed"
    },
    "tags": []
   },
   "outputs": [
    {
     "name": "stdout",
     "output_type": "stream",
     "text": [
      "Input - do you like movies\n",
      "----------------------\n",
      "Response 1 -> yes. i am a knick fan\n",
      "Response 2 -> i do like it and have a passing familiarity\n",
      "Response 3 -> i love it.do you know who kareem jabbar is\n",
      "Response 4 -> yes i do. do you like movies\n",
      "Response 5 -> i do. do you\n"
     ]
    }
   ],
   "source": [
    "get_responses(\"do you like movies\", 5)"
   ]
  },
  {
   "cell_type": "code",
   "execution_count": 26,
   "id": "grateful-fiction",
   "metadata": {
    "execution": {
     "iopub.execute_input": "2021-03-17T05:43:08.449265Z",
     "iopub.status.busy": "2021-03-17T05:43:08.448172Z",
     "iopub.status.idle": "2021-03-17T05:43:10.517448Z",
     "shell.execute_reply": "2021-03-17T05:43:10.516834Z"
    },
    "papermill": {
     "duration": 3.252079,
     "end_time": "2021-03-17T05:43:10.517621",
     "exception": false,
     "start_time": "2021-03-17T05:43:07.265542",
     "status": "completed"
    },
    "tags": []
   },
   "outputs": [
    {
     "name": "stdout",
     "output_type": "stream",
     "text": [
      "Input - how are you\n",
      "----------------------\n",
      "Predicting outside clusters\n",
      "Predicting outside clusters\n",
      "Predicting outside clusters\n",
      "Predicting outside clusters\n",
      "Predicting outside clusters\n",
      "Response 1 -> bad decision. nice chatting with you\n",
      "Response 2 -> yes the website that displays secrets of the government\n",
      "Response 3 -> i did a long time ago. did you\n",
      "Response 4 -> lol. that one might not go on facebook.\n",
      "Response 5 -> the simpsons is always making fun of them.\n"
     ]
    }
   ],
   "source": [
    "get_responses(\"how are you\", 5)"
   ]
  },
  {
   "cell_type": "code",
   "execution_count": 27,
   "id": "aware-bearing",
   "metadata": {
    "execution": {
     "iopub.execute_input": "2021-03-17T05:43:12.894658Z",
     "iopub.status.busy": "2021-03-17T05:43:12.893927Z",
     "iopub.status.idle": "2021-03-17T05:43:14.908557Z",
     "shell.execute_reply": "2021-03-17T05:43:14.907921Z"
    },
    "papermill": {
     "duration": 3.20437,
     "end_time": "2021-03-17T05:43:14.908705",
     "exception": false,
     "start_time": "2021-03-17T05:43:11.704335",
     "status": "completed"
    },
    "tags": []
   },
   "outputs": [
    {
     "name": "stdout",
     "output_type": "stream",
     "text": [
      "Input - goodmorning\n",
      "----------------------\n",
      "Response 1 -> it was actually edgar allen poe.\n",
      "Response 2 -> i dont really know wrestling. do you like it\n",
      "Response 3 -> i have but in name and murder only. you\n",
      "Response 4 -> no never. anything interesting about it.\n",
      "Response 5 -> bye.\n"
     ]
    }
   ],
   "source": [
    "get_responses(\"goodmorning\", 5)"
   ]
  }
 ],
 "metadata": {
  "kernelspec": {
   "display_name": "Python 3",
   "language": "python",
   "name": "python3"
  },
  "language_info": {
   "codemirror_mode": {
    "name": "ipython",
    "version": 3
   },
   "file_extension": ".py",
   "mimetype": "text/x-python",
   "name": "python",
   "nbconvert_exporter": "python",
   "pygments_lexer": "ipython3",
   "version": "3.7.9"
  },
  "papermill": {
   "default_parameters": {},
   "duration": 362.223275,
   "end_time": "2021-03-17T05:43:17.639390",
   "environment_variables": {},
   "exception": null,
   "input_path": "__notebook__.ipynb",
   "output_path": "__notebook__.ipynb",
   "parameters": {},
   "start_time": "2021-03-17T05:37:15.416115",
   "version": "2.3.2"
  }
 },
 "nbformat": 4,
 "nbformat_minor": 5
}
