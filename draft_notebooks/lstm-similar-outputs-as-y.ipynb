{
 "cells": [
  {
   "cell_type": "code",
   "execution_count": 1,
   "id": "opened-sixth",
   "metadata": {
    "execution": {
     "iopub.execute_input": "2021-03-17T12:40:45.399070Z",
     "iopub.status.busy": "2021-03-17T12:40:45.398366Z",
     "iopub.status.idle": "2021-03-17T12:40:53.252889Z",
     "shell.execute_reply": "2021-03-17T12:40:53.253468Z"
    },
    "papermill": {
     "duration": 7.880275,
     "end_time": "2021-03-17T12:40:53.253835",
     "exception": false,
     "start_time": "2021-03-17T12:40:45.373560",
     "status": "completed"
    },
    "tags": []
   },
   "outputs": [],
   "source": [
    "import pickle\n",
    "import numpy as np\n",
    "import tensorflow as tf\n",
    "from sklearn.preprocessing import OneHotEncoder\n",
    "import random\n",
    "from sklearn.metrics import confusion_matrix\n",
    "from sklearn.metrics import plot_confusion_matrix\n",
    "import seaborn as sns\n",
    "import pandas as pd"
   ]
  },
  {
   "cell_type": "code",
   "execution_count": 2,
   "id": "equivalent-bumper",
   "metadata": {
    "execution": {
     "iopub.execute_input": "2021-03-17T12:40:53.291879Z",
     "iopub.status.busy": "2021-03-17T12:40:53.290904Z",
     "iopub.status.idle": "2021-03-17T12:40:58.879077Z",
     "shell.execute_reply": "2021-03-17T12:40:58.879809Z"
    },
    "papermill": {
     "duration": 5.608862,
     "end_time": "2021-03-17T12:40:58.880135",
     "exception": false,
     "start_time": "2021-03-17T12:40:53.271273",
     "status": "completed"
    },
    "tags": []
   },
   "outputs": [
    {
     "name": "stdout",
     "output_type": "stream",
     "text": [
      "Device: grpc://10.0.0.2:8470\n",
      "Number of replicas: 8\n",
      "2.4.1\n"
     ]
    }
   ],
   "source": [
    "try:\n",
    "    tpu = tf.distribute.cluster_resolver.TPUClusterResolver()\n",
    "    print('Device:', tpu.master())\n",
    "    tf.config.experimental_connect_to_cluster(tpu)\n",
    "    tf.tpu.experimental.initialize_tpu_system(tpu)\n",
    "    strategy = tf.distribute.experimental.TPUStrategy(tpu)\n",
    "except:\n",
    "    strategy = tf.distribute.get_strategy()\n",
    "print('Number of replicas:', strategy.num_replicas_in_sync)\n",
    "\n",
    "AUTOTUNE = tf.data.experimental.AUTOTUNE\n",
    "    \n",
    "print(tf.__version__)"
   ]
  },
  {
   "cell_type": "code",
   "execution_count": 3,
   "id": "moderate-kentucky",
   "metadata": {
    "execution": {
     "iopub.execute_input": "2021-03-17T12:40:58.922284Z",
     "iopub.status.busy": "2021-03-17T12:40:58.921582Z",
     "iopub.status.idle": "2021-03-17T12:41:00.659081Z",
     "shell.execute_reply": "2021-03-17T12:41:00.658265Z"
    },
    "papermill": {
     "duration": 1.760826,
     "end_time": "2021-03-17T12:41:00.659239",
     "exception": false,
     "start_time": "2021-03-17T12:40:58.898413",
     "status": "completed"
    },
    "tags": []
   },
   "outputs": [],
   "source": [
    "with open('../input/smart-reply-sentence-similarity/input_texts.pickle', 'rb') as handle:\n",
    "    input_texts = pickle.load(handle)\n",
    "    \n",
    "with open('../input/smart-reply-sentence-similarity/target_texts.pickle', 'rb') as handle:\n",
    "    output_texts = pickle.load(handle)\n",
    "    \n",
    "with open('../input/smart-reply-clustering-output/target_dbscan.pickle', 'rb') as handle:\n",
    "    dbscan = pickle.load(handle)"
   ]
  },
  {
   "cell_type": "code",
   "execution_count": 4,
   "id": "fatty-messaging",
   "metadata": {
    "execution": {
     "iopub.execute_input": "2021-03-17T12:41:00.701659Z",
     "iopub.status.busy": "2021-03-17T12:41:00.700857Z",
     "iopub.status.idle": "2021-03-17T12:41:00.705937Z",
     "shell.execute_reply": "2021-03-17T12:41:00.705356Z"
    },
    "papermill": {
     "duration": 0.029149,
     "end_time": "2021-03-17T12:41:00.706093",
     "exception": false,
     "start_time": "2021-03-17T12:41:00.676944",
     "status": "completed"
    },
    "tags": []
   },
   "outputs": [
    {
     "name": "stdout",
     "output_type": "stream",
     "text": [
      "5001\n",
      "5001\n"
     ]
    }
   ],
   "source": [
    "print(len(input_texts))\n",
    "print(len(dbscan.labels_))"
   ]
  },
  {
   "cell_type": "code",
   "execution_count": 5,
   "id": "occupational-fraction",
   "metadata": {
    "execution": {
     "iopub.execute_input": "2021-03-17T12:41:00.751112Z",
     "iopub.status.busy": "2021-03-17T12:41:00.750022Z",
     "iopub.status.idle": "2021-03-17T12:41:00.755552Z",
     "shell.execute_reply": "2021-03-17T12:41:00.754890Z"
    },
    "papermill": {
     "duration": 0.031567,
     "end_time": "2021-03-17T12:41:00.755707",
     "exception": false,
     "start_time": "2021-03-17T12:41:00.724140",
     "status": "completed"
    },
    "tags": []
   },
   "outputs": [
    {
     "data": {
      "text/plain": [
       "(5001,)"
      ]
     },
     "execution_count": 5,
     "metadata": {},
     "output_type": "execute_result"
    }
   ],
   "source": [
    "dbscan.labels_.shape"
   ]
  },
  {
   "cell_type": "code",
   "execution_count": 6,
   "id": "spectacular-backing",
   "metadata": {
    "execution": {
     "iopub.execute_input": "2021-03-17T12:41:00.800640Z",
     "iopub.status.busy": "2021-03-17T12:41:00.799561Z",
     "iopub.status.idle": "2021-03-17T12:41:00.805398Z",
     "shell.execute_reply": "2021-03-17T12:41:00.804835Z"
    },
    "papermill": {
     "duration": 0.03101,
     "end_time": "2021-03-17T12:41:00.805543",
     "exception": false,
     "start_time": "2021-03-17T12:41:00.774533",
     "status": "completed"
    },
    "tags": []
   },
   "outputs": [
    {
     "data": {
      "text/plain": [
       "['yes it helped him smooth out his dance moves',\n",
       " 'hi. do you like to dance',\n",
       " \"yeah good point. he also invented some women's names\",\n",
       " 'do you know how google maps calculates traffic',\n",
       " 'i am not sure how do they do this',\n",
       " 'do you like comic books',\n",
       " 'hi do you like fish',\n",
       " 'you as well..',\n",
       " \"doesn't music needs melody .)\",\n",
       " 'lots of rap does have that.']"
      ]
     },
     "execution_count": 6,
     "metadata": {},
     "output_type": "execute_result"
    }
   ],
   "source": [
    "input_texts[:10]"
   ]
  },
  {
   "cell_type": "code",
   "execution_count": 7,
   "id": "linear-drink",
   "metadata": {
    "execution": {
     "iopub.execute_input": "2021-03-17T12:41:00.858555Z",
     "iopub.status.busy": "2021-03-17T12:41:00.857792Z",
     "iopub.status.idle": "2021-03-17T12:41:00.932645Z",
     "shell.execute_reply": "2021-03-17T12:41:00.931871Z"
    },
    "papermill": {
     "duration": 0.107813,
     "end_time": "2021-03-17T12:41:00.932830",
     "exception": false,
     "start_time": "2021-03-17T12:41:00.825017",
     "status": "completed"
    },
    "tags": []
   },
   "outputs": [],
   "source": [
    "# fitting tokenizer on all short messages\n",
    "tokenizer = tf.keras.preprocessing.text.Tokenizer()\n",
    "tokenizer.fit_on_texts(input_texts)\n",
    "total_words = len(tokenizer.word_index) + 1"
   ]
  },
  {
   "cell_type": "code",
   "execution_count": 8,
   "id": "skilled-thesis",
   "metadata": {
    "execution": {
     "iopub.execute_input": "2021-03-17T12:41:01.012904Z",
     "iopub.status.busy": "2021-03-17T12:41:00.991511Z",
     "iopub.status.idle": "2021-03-17T12:41:01.053149Z",
     "shell.execute_reply": "2021-03-17T12:41:01.052235Z"
    },
    "papermill": {
     "duration": 0.100572,
     "end_time": "2021-03-17T12:41:01.053349",
     "exception": false,
     "start_time": "2021-03-17T12:41:00.952777",
     "status": "completed"
    },
    "tags": []
   },
   "outputs": [
    {
     "data": {
      "text/plain": [
       "[[15, 12, 961, 152, 962, 178, 120, 153, 1422],\n",
       " [14, 2, 1, 8, 13, 153],\n",
       " [25, 16, 321, 34, 99, 279, 137, 963, 445],\n",
       " [2, 1, 17, 11, 179, 1423, 1424, 964],\n",
       " [3, 105, 40, 74, 11, 2, 31, 2, 106],\n",
       " [2, 1, 8, 604, 280],\n",
       " [14, 2, 1, 8, 226],\n",
       " [1, 58, 37],\n",
       " [446, 57, 965, 1425],\n",
       " [605, 19, 201, 154, 7, 9]]"
      ]
     },
     "execution_count": 8,
     "metadata": {},
     "output_type": "execute_result"
    }
   ],
   "source": [
    "input_tokens = tokenizer.texts_to_sequences(input_texts)\n",
    "input_tokens[:10]"
   ]
  },
  {
   "cell_type": "code",
   "execution_count": 9,
   "id": "minute-banking",
   "metadata": {
    "execution": {
     "iopub.execute_input": "2021-03-17T12:41:01.106100Z",
     "iopub.status.busy": "2021-03-17T12:41:01.105348Z",
     "iopub.status.idle": "2021-03-17T12:41:01.148595Z",
     "shell.execute_reply": "2021-03-17T12:41:01.147852Z"
    },
    "papermill": {
     "duration": 0.074182,
     "end_time": "2021-03-17T12:41:01.148772",
     "exception": false,
     "start_time": "2021-03-17T12:41:01.074590",
     "status": "completed"
    },
    "tags": []
   },
   "outputs": [],
   "source": [
    "def generate_padded_sequences(input_sequences):\n",
    "    max_sequence_len = max([len(x) for x in input_sequences])\n",
    "    input_sequences = np.array(tf.keras.preprocessing.sequence.pad_sequences(input_sequences, maxlen=max_sequence_len, padding='pre'))\n",
    "    \n",
    "    predictors = input_sequences\n",
    "    #label = tf.keras.utils.to_categorical(label, num_classes=total_words)\n",
    "    return predictors, max_sequence_len\n",
    "\n",
    "predictors, max_sequence_len = generate_padded_sequences(input_tokens)"
   ]
  },
  {
   "cell_type": "code",
   "execution_count": 10,
   "id": "indonesian-mobility",
   "metadata": {
    "execution": {
     "iopub.execute_input": "2021-03-17T12:41:01.200319Z",
     "iopub.status.busy": "2021-03-17T12:41:01.199227Z",
     "iopub.status.idle": "2021-03-17T12:41:01.208012Z",
     "shell.execute_reply": "2021-03-17T12:41:01.207033Z"
    },
    "papermill": {
     "duration": 0.035914,
     "end_time": "2021-03-17T12:41:01.208177",
     "exception": false,
     "start_time": "2021-03-17T12:41:01.172263",
     "status": "completed"
    },
    "tags": []
   },
   "outputs": [
    {
     "name": "stdout",
     "output_type": "stream",
     "text": [
      "[273 273 273 273 273 273   0   1 273 273]\n"
     ]
    }
   ],
   "source": [
    "labels = np.array(dbscan.labels_, copy=True)\n",
    "labels[labels == -1] = len(set(dbscan.labels_)) - 1\n",
    "print(labels[:10])"
   ]
  },
  {
   "cell_type": "code",
   "execution_count": 11,
   "id": "north-first",
   "metadata": {
    "execution": {
     "iopub.execute_input": "2021-03-17T12:41:01.257807Z",
     "iopub.status.busy": "2021-03-17T12:41:01.257053Z",
     "iopub.status.idle": "2021-03-17T12:41:01.266119Z",
     "shell.execute_reply": "2021-03-17T12:41:01.265473Z"
    },
    "papermill": {
     "duration": 0.037174,
     "end_time": "2021-03-17T12:41:01.266266",
     "exception": false,
     "start_time": "2021-03-17T12:41:01.229092",
     "status": "completed"
    },
    "tags": []
   },
   "outputs": [
    {
     "data": {
      "text/plain": [
       "(5001, 274)"
      ]
     },
     "execution_count": 11,
     "metadata": {},
     "output_type": "execute_result"
    }
   ],
   "source": [
    "encoder_labels = OneHotEncoder().fit(labels.reshape(-1, 1))\n",
    "one_hot_labels = encoder_labels.transform(labels.reshape(-1, 1))\n",
    "one_hot_labels.shape"
   ]
  },
  {
   "cell_type": "code",
   "execution_count": 12,
   "id": "vocational-discipline",
   "metadata": {
    "execution": {
     "iopub.execute_input": "2021-03-17T12:41:01.312111Z",
     "iopub.status.busy": "2021-03-17T12:41:01.310953Z",
     "iopub.status.idle": "2021-03-17T12:41:06.618363Z",
     "shell.execute_reply": "2021-03-17T12:41:06.617409Z"
    },
    "papermill": {
     "duration": 5.331587,
     "end_time": "2021-03-17T12:41:06.618623",
     "exception": false,
     "start_time": "2021-03-17T12:41:01.287036",
     "status": "completed"
    },
    "tags": []
   },
   "outputs": [
    {
     "name": "stdout",
     "output_type": "stream",
     "text": [
      "Model: \"sequential\"\n",
      "_________________________________________________________________\n",
      "Layer (type)                 Output Shape              Param #   \n",
      "=================================================================\n",
      "embedding (Embedding)        (None, 9, 512)            1623040   \n",
      "_________________________________________________________________\n",
      "lstm (LSTM)                  (None, 512)               2099200   \n",
      "_________________________________________________________________\n",
      "dropout (Dropout)            (None, 512)               0         \n",
      "_________________________________________________________________\n",
      "dense (Dense)                (None, 274)               140562    \n",
      "=================================================================\n",
      "Total params: 3,862,802\n",
      "Trainable params: 3,862,802\n",
      "Non-trainable params: 0\n",
      "_________________________________________________________________\n"
     ]
    }
   ],
   "source": [
    "def create_model(max_sequence_len, total_words):\n",
    "    input_len = max_sequence_len - 1\n",
    "    model = tf.keras.Sequential()\n",
    "    \n",
    "    # Add Input Embedding Layer\n",
    "    model.add(tf.keras.layers.Embedding(total_words, 512, input_length=input_len))\n",
    "    \n",
    "    # Add Hidden Layer 1 - LSTM Layer\n",
    "    #model.add(tf.keras.layers.LSTM(256, return_sequences=True))\n",
    "    #model.add(tf.keras.layers.Dropout(0.2))\n",
    "    \n",
    "    model.add(tf.keras.layers.LSTM(512))\n",
    "    model.add(tf.keras.layers.Dropout(0.2))\n",
    "    \n",
    "    # Add Output Layer\n",
    "    model.add(tf.keras.layers.Dense(one_hot_labels.shape[1], activation='softmax'))\n",
    "\n",
    "    model.compile(loss='categorical_crossentropy', optimizer='adam', metrics=[\"accuracy\"])\n",
    "    \n",
    "    return model\n",
    "\n",
    "\n",
    "with strategy.scope():\n",
    "    model = create_model(max_sequence_len, total_words)\n",
    "    model.summary()"
   ]
  },
  {
   "cell_type": "code",
   "execution_count": 13,
   "id": "registered-original",
   "metadata": {
    "execution": {
     "iopub.execute_input": "2021-03-17T12:41:06.670236Z",
     "iopub.status.busy": "2021-03-17T12:41:06.669507Z",
     "iopub.status.idle": "2021-03-17T12:42:19.585654Z",
     "shell.execute_reply": "2021-03-17T12:42:19.586178Z"
    },
    "papermill": {
     "duration": 72.944361,
     "end_time": "2021-03-17T12:42:19.586387",
     "exception": false,
     "start_time": "2021-03-17T12:41:06.642026",
     "status": "completed"
    },
    "tags": []
   },
   "outputs": [
    {
     "name": "stdout",
     "output_type": "stream",
     "text": [
      "Epoch 1/25\n",
      "157/157 [==============================] - 10s 30ms/step - loss: 2.5511 - accuracy: 0.7069\n",
      "Epoch 2/25\n",
      "157/157 [==============================] - 3s 16ms/step - loss: 1.8099 - accuracy: 0.7224\n",
      "Epoch 3/25\n",
      "157/157 [==============================] - 3s 16ms/step - loss: 1.5588 - accuracy: 0.7369\n",
      "Epoch 4/25\n",
      "157/157 [==============================] - 3s 16ms/step - loss: 1.4767 - accuracy: 0.7371\n",
      "Epoch 5/25\n",
      "157/157 [==============================] - 3s 16ms/step - loss: 1.3258 - accuracy: 0.7422\n",
      "Epoch 6/25\n",
      "157/157 [==============================] - 3s 16ms/step - loss: 1.2607 - accuracy: 0.7402\n",
      "Epoch 7/25\n",
      "157/157 [==============================] - 3s 16ms/step - loss: 1.1923 - accuracy: 0.7369\n",
      "Epoch 8/25\n",
      "157/157 [==============================] - 3s 16ms/step - loss: 1.0643 - accuracy: 0.7502\n",
      "Epoch 9/25\n",
      "157/157 [==============================] - 3s 17ms/step - loss: 0.9980 - accuracy: 0.7593\n",
      "Epoch 10/25\n",
      "157/157 [==============================] - 3s 16ms/step - loss: 0.8440 - accuracy: 0.7875\n",
      "Epoch 11/25\n",
      "157/157 [==============================] - 3s 16ms/step - loss: 0.7796 - accuracy: 0.8028\n",
      "Epoch 12/25\n",
      "157/157 [==============================] - 3s 17ms/step - loss: 0.6567 - accuracy: 0.8274\n",
      "Epoch 13/25\n",
      "157/157 [==============================] - 3s 16ms/step - loss: 0.5831 - accuracy: 0.8360\n",
      "Epoch 14/25\n",
      "157/157 [==============================] - 3s 17ms/step - loss: 0.5297 - accuracy: 0.8500\n",
      "Epoch 15/25\n",
      "157/157 [==============================] - 3s 16ms/step - loss: 0.4921 - accuracy: 0.8606\n",
      "Epoch 16/25\n",
      "157/157 [==============================] - 3s 16ms/step - loss: 0.4227 - accuracy: 0.8799\n",
      "Epoch 17/25\n",
      "157/157 [==============================] - 3s 17ms/step - loss: 0.3956 - accuracy: 0.8780\n",
      "Epoch 18/25\n",
      "157/157 [==============================] - 3s 17ms/step - loss: 0.3651 - accuracy: 0.8870\n",
      "Epoch 19/25\n",
      "157/157 [==============================] - 3s 17ms/step - loss: 0.3324 - accuracy: 0.8976\n",
      "Epoch 20/25\n",
      "157/157 [==============================] - 3s 16ms/step - loss: 0.3106 - accuracy: 0.9036\n",
      "Epoch 21/25\n",
      "157/157 [==============================] - 2s 16ms/step - loss: 0.2956 - accuracy: 0.9002\n",
      "Epoch 22/25\n",
      "157/157 [==============================] - 3s 16ms/step - loss: 0.2951 - accuracy: 0.9030\n",
      "Epoch 23/25\n",
      "157/157 [==============================] - 2s 16ms/step - loss: 0.2796 - accuracy: 0.9098\n",
      "Epoch 24/25\n",
      "157/157 [==============================] - 2s 16ms/step - loss: 0.2660 - accuracy: 0.9034\n",
      "Epoch 25/25\n",
      "157/157 [==============================] - 2s 16ms/step - loss: 0.2760 - accuracy: 0.9068\n"
     ]
    }
   ],
   "source": [
    "history = model.fit(predictors, one_hot_labels.todense(), epochs=25, verbose=1)"
   ]
  },
  {
   "cell_type": "code",
   "execution_count": 14,
   "id": "pressing-helicopter",
   "metadata": {
    "execution": {
     "iopub.execute_input": "2021-03-17T12:42:20.409765Z",
     "iopub.status.busy": "2021-03-17T12:42:20.374836Z",
     "iopub.status.idle": "2021-03-17T12:42:20.594357Z",
     "shell.execute_reply": "2021-03-17T12:42:20.593563Z"
    },
    "papermill": {
     "duration": 0.585503,
     "end_time": "2021-03-17T12:42:20.594517",
     "exception": false,
     "start_time": "2021-03-17T12:42:20.009014",
     "status": "completed"
    },
    "tags": []
   },
   "outputs": [
    {
     "data": {
      "image/png": "[encoded data removed]",
      "text/plain": [
       "<Figure size 432x288 with 1 Axes>"
      ]
     },
     "metadata": {
      "needs_background": "light"
     },
     "output_type": "display_data"
    }
   ],
   "source": [
    "import matplotlib.pyplot as plt\n",
    "# summarize history for loss\n",
    "plt.plot(history.history['loss'])\n",
    "plt.title('model loss')\n",
    "plt.ylabel('loss')\n",
    "plt.xlabel('epoch')\n",
    "plt.legend(['train', 'test'], loc='upper right')\n",
    "plt.show()"
   ]
  },
  {
   "cell_type": "code",
   "execution_count": 15,
   "id": "specified-mentor",
   "metadata": {
    "execution": {
     "iopub.execute_input": "2021-03-17T12:42:21.322272Z",
     "iopub.status.busy": "2021-03-17T12:42:21.321591Z",
     "iopub.status.idle": "2021-03-17T12:42:23.586495Z",
     "shell.execute_reply": "2021-03-17T12:42:23.587180Z"
    },
    "papermill": {
     "duration": 2.633908,
     "end_time": "2021-03-17T12:42:23.587364",
     "exception": false,
     "start_time": "2021-03-17T12:42:20.953456",
     "status": "completed"
    },
    "tags": []
   },
   "outputs": [
    {
     "name": "stderr",
     "output_type": "stream",
     "text": [
      "/opt/conda/lib/python3.7/site-packages/tensorflow/python/keras/engine/sequential.py:450: UserWarning: `model.predict_classes()` is deprecated and will be removed after 2021-01-01. Please use instead:* `np.argmax(model.predict(x), axis=-1)`,   if your model does multi-class classification   (e.g. if it uses a `softmax` last-layer activation).* `(model.predict(x) > 0.5).astype(\"int32\")`,   if your model does binary classification   (e.g. if it uses a `sigmoid` last-layer activation).\n",
      "  warnings.warn('`model.predict_classes()` is deprecated and '\n"
     ]
    }
   ],
   "source": [
    "predictions = model.predict_classes(predictors, verbose=0)"
   ]
  },
  {
   "cell_type": "code",
   "execution_count": 16,
   "id": "noble-alpha",
   "metadata": {
    "execution": {
     "iopub.execute_input": "2021-03-17T12:42:24.314796Z",
     "iopub.status.busy": "2021-03-17T12:42:24.313804Z",
     "iopub.status.idle": "2021-03-17T12:42:24.326931Z",
     "shell.execute_reply": "2021-03-17T12:42:24.326126Z"
    },
    "papermill": {
     "duration": 0.381456,
     "end_time": "2021-03-17T12:42:24.327104",
     "exception": false,
     "start_time": "2021-03-17T12:42:23.945648",
     "status": "completed"
    },
    "tags": []
   },
   "outputs": [
    {
     "name": "stdout",
     "output_type": "stream",
     "text": [
      "[[   0    2]\n",
      " [   1   57]\n",
      " [   2   23]\n",
      " [   3   42]\n",
      " [   4    8]\n",
      " [   5   59]\n",
      " [   6    2]\n",
      " [   7    4]\n",
      " [   8    4]\n",
      " [   9    2]\n",
      " [  10   14]\n",
      " [  11    2]\n",
      " [  12    4]\n",
      " [  13    2]\n",
      " [  14    2]\n",
      " [  15    2]\n",
      " [  16   14]\n",
      " [  17    2]\n",
      " [  18   24]\n",
      " [  19    1]\n",
      " [  20    3]\n",
      " [  21    2]\n",
      " [  22    2]\n",
      " [  23   15]\n",
      " [  24   18]\n",
      " [  25    1]\n",
      " [  26    1]\n",
      " [  27    3]\n",
      " [  28    5]\n",
      " [  29    2]\n",
      " [  30    1]\n",
      " [  31    5]\n",
      " [  32    1]\n",
      " [  33    1]\n",
      " [  34    9]\n",
      " [  35    4]\n",
      " [  36   11]\n",
      " [  38   85]\n",
      " [  39   13]\n",
      " [  40   58]\n",
      " [  41    8]\n",
      " [  42    3]\n",
      " [  43    8]\n",
      " [  44    3]\n",
      " [  45    8]\n",
      " [  46    2]\n",
      " [  47   24]\n",
      " [  48    1]\n",
      " [  49    2]\n",
      " [  50   10]\n",
      " [  51    2]\n",
      " [  52    8]\n",
      " [  57    4]\n",
      " [  58    5]\n",
      " [  59    2]\n",
      " [  60    3]\n",
      " [  61    2]\n",
      " [  62   11]\n",
      " [  63    1]\n",
      " [  64   11]\n",
      " [  65    2]\n",
      " [  66    3]\n",
      " [  67   23]\n",
      " [  68    4]\n",
      " [  69    2]\n",
      " [  70    2]\n",
      " [  71    4]\n",
      " [  72    2]\n",
      " [  73    3]\n",
      " [  74    4]\n",
      " [  75   13]\n",
      " [  76    3]\n",
      " [  77    2]\n",
      " [  78    2]\n",
      " [  79    7]\n",
      " [  80    3]\n",
      " [  81    2]\n",
      " [  82    3]\n",
      " [  84    2]\n",
      " [  85    1]\n",
      " [  86    2]\n",
      " [  87    2]\n",
      " [  88    1]\n",
      " [  89    2]\n",
      " [  90   20]\n",
      " [  91    5]\n",
      " [  92    1]\n",
      " [  93    2]\n",
      " [  94    5]\n",
      " [  95    2]\n",
      " [  96    4]\n",
      " [  97    9]\n",
      " [  98    2]\n",
      " [  99    1]\n",
      " [ 100    3]\n",
      " [ 101    2]\n",
      " [ 102    2]\n",
      " [ 103    2]\n",
      " [ 104    1]\n",
      " [ 105    2]\n",
      " [ 106    2]\n",
      " [ 107    2]\n",
      " [ 108    1]\n",
      " [ 109    3]\n",
      " [ 110    1]\n",
      " [ 111    3]\n",
      " [ 112    2]\n",
      " [ 113    2]\n",
      " [ 114    1]\n",
      " [ 115    2]\n",
      " [ 116    2]\n",
      " [ 117    2]\n",
      " [ 118   11]\n",
      " [ 119    2]\n",
      " [ 120    2]\n",
      " [ 121   20]\n",
      " [ 122    4]\n",
      " [ 123    3]\n",
      " [ 124    2]\n",
      " [ 125    4]\n",
      " [ 126    1]\n",
      " [ 127    1]\n",
      " [ 128    2]\n",
      " [ 129    3]\n",
      " [ 130    1]\n",
      " [ 131    3]\n",
      " [ 132    2]\n",
      " [ 133    1]\n",
      " [ 134    3]\n",
      " [ 135    4]\n",
      " [ 136    2]\n",
      " [ 137    2]\n",
      " [ 138    3]\n",
      " [ 139    7]\n",
      " [ 140   12]\n",
      " [ 141    2]\n",
      " [ 142    4]\n",
      " [ 143    2]\n",
      " [ 144    6]\n",
      " [ 145    9]\n",
      " [ 147   12]\n",
      " [ 148    2]\n",
      " [ 149    2]\n",
      " [ 150    2]\n",
      " [ 151    1]\n",
      " [ 153    1]\n",
      " [ 154    7]\n",
      " [ 155    2]\n",
      " [ 156    2]\n",
      " [ 157    2]\n",
      " [ 158    2]\n",
      " [ 159    1]\n",
      " [ 160    4]\n",
      " [ 161    2]\n",
      " [ 162    4]\n",
      " [ 163    4]\n",
      " [ 164    5]\n",
      " [ 165    1]\n",
      " [ 166    5]\n",
      " [ 167    3]\n",
      " [ 168    2]\n",
      " [ 169    2]\n",
      " [ 170    3]\n",
      " [ 171    1]\n",
      " [ 172    1]\n",
      " [ 174    2]\n",
      " [ 175    2]\n",
      " [ 176    2]\n",
      " [ 177    3]\n",
      " [ 178    2]\n",
      " [ 179    1]\n",
      " [ 180    3]\n",
      " [ 181    2]\n",
      " [ 182    4]\n",
      " [ 183    2]\n",
      " [ 185    1]\n",
      " [ 186    1]\n",
      " [ 188    9]\n",
      " [ 189    2]\n",
      " [ 190    1]\n",
      " [ 191    3]\n",
      " [ 192    2]\n",
      " [ 193    4]\n",
      " [ 194    2]\n",
      " [ 195    2]\n",
      " [ 196    3]\n",
      " [ 197    3]\n",
      " [ 198    2]\n",
      " [ 199    1]\n",
      " [ 200    2]\n",
      " [ 201    2]\n",
      " [ 202    2]\n",
      " [ 203    2]\n",
      " [ 204    5]\n",
      " [ 205    1]\n",
      " [ 206    3]\n",
      " [ 207    3]\n",
      " [ 208    1]\n",
      " [ 209    2]\n",
      " [ 210    1]\n",
      " [ 211    2]\n",
      " [ 212    2]\n",
      " [ 213    2]\n",
      " [ 214    3]\n",
      " [ 215    2]\n",
      " [ 216    1]\n",
      " [ 217    1]\n",
      " [ 218    2]\n",
      " [ 219    2]\n",
      " [ 220    6]\n",
      " [ 221    3]\n",
      " [ 222    3]\n",
      " [ 223    3]\n",
      " [ 224    2]\n",
      " [ 225    1]\n",
      " [ 226    2]\n",
      " [ 227    2]\n",
      " [ 228    2]\n",
      " [ 229    2]\n",
      " [ 230    3]\n",
      " [ 231    4]\n",
      " [ 232    2]\n",
      " [ 233    2]\n",
      " [ 234    3]\n",
      " [ 235    1]\n",
      " [ 236    1]\n",
      " [ 237    2]\n",
      " [ 238    2]\n",
      " [ 239    1]\n",
      " [ 240    2]\n",
      " [ 241    3]\n",
      " [ 242    2]\n",
      " [ 243    1]\n",
      " [ 244    2]\n",
      " [ 245    7]\n",
      " [ 246    1]\n",
      " [ 247    5]\n",
      " [ 248    4]\n",
      " [ 249    1]\n",
      " [ 250    4]\n",
      " [ 251    1]\n",
      " [ 252    2]\n",
      " [ 253    2]\n",
      " [ 255    2]\n",
      " [ 256    2]\n",
      " [ 257    1]\n",
      " [ 258    3]\n",
      " [ 259    1]\n",
      " [ 260    2]\n",
      " [ 261    2]\n",
      " [ 262    3]\n",
      " [ 263    2]\n",
      " [ 264    3]\n",
      " [ 265    2]\n",
      " [ 266    1]\n",
      " [ 267    3]\n",
      " [ 269    4]\n",
      " [ 270    2]\n",
      " [ 271    1]\n",
      " [ 272    1]\n",
      " [ 273 3783]]\n"
     ]
    }
   ],
   "source": [
    "unique, counts = np.unique(predictions, return_counts=True)\n",
    "print(np.asarray((unique, counts)).T)"
   ]
  },
  {
   "cell_type": "code",
   "execution_count": 17,
   "id": "grand-savage",
   "metadata": {
    "execution": {
     "iopub.execute_input": "2021-03-17T12:42:25.066190Z",
     "iopub.status.busy": "2021-03-17T12:42:25.064937Z",
     "iopub.status.idle": "2021-03-17T12:42:25.070815Z",
     "shell.execute_reply": "2021-03-17T12:42:25.070121Z"
    },
    "papermill": {
     "duration": 0.37856,
     "end_time": "2021-03-17T12:42:25.070962",
     "exception": false,
     "start_time": "2021-03-17T12:42:24.692402",
     "status": "completed"
    },
    "tags": []
   },
   "outputs": [
    {
     "data": {
      "text/plain": [
       "(array([3371]),)"
      ]
     },
     "execution_count": 17,
     "metadata": {},
     "output_type": "execute_result"
    }
   ],
   "source": [
    "np.where(predictions==190)"
   ]
  },
  {
   "cell_type": "code",
   "execution_count": 18,
   "id": "first-trailer",
   "metadata": {
    "execution": {
     "iopub.execute_input": "2021-03-17T12:42:25.806551Z",
     "iopub.status.busy": "2021-03-17T12:42:25.805866Z",
     "iopub.status.idle": "2021-03-17T12:42:25.808332Z",
     "shell.execute_reply": "2021-03-17T12:42:25.809023Z"
    },
    "papermill": {
     "duration": 0.375217,
     "end_time": "2021-03-17T12:42:25.809265",
     "exception": false,
     "start_time": "2021-03-17T12:42:25.434048",
     "status": "completed"
    },
    "tags": []
   },
   "outputs": [],
   "source": [
    "def get_responses(seed_text, n):\n",
    "    print(\"Input -\", seed_text)\n",
    "    print(\"----------------------\")\n",
    "    responses = set()\n",
    "    trials = 10\n",
    "    while len(responses) < n and trials > 0:\n",
    "        token_list = tokenizer.texts_to_sequences([seed_text])[0]\n",
    "        token_list = tf.keras.preprocessing.sequence.pad_sequences([token_list], maxlen=max_sequence_len-1, padding='pre')\n",
    "        with strategy.scope():\n",
    "            predicted_index = model.predict_classes(token_list, verbose=10)\n",
    "        if predicted_index[0] == len(set(dbscan.labels_)) - 1:\n",
    "            print(\"Predicting outside clusters\")\n",
    "            predicted_index = -1\n",
    "\n",
    "        # randomly pick 1 index\n",
    "        possible_response = np.where(dbscan.labels_==predicted_index)[0]\n",
    "        response_index = random.sample(possible_response.tolist(), 1)[0]\n",
    "        # print(response_index)\n",
    "        responses.add(output_texts[response_index].replace(\"\\t\", \"\").replace(\"\\n\", \"\"))\n",
    "        \n",
    "        trials-=1\n",
    "        \n",
    "    for i, response in enumerate(responses):\n",
    "        print(\"Response\", (i + 1), \"->\", response)\n",
    "\n"
   ]
  },
  {
   "cell_type": "code",
   "execution_count": 19,
   "id": "colored-accommodation",
   "metadata": {
    "execution": {
     "iopub.execute_input": "2021-03-17T12:42:26.569196Z",
     "iopub.status.busy": "2021-03-17T12:42:26.568244Z",
     "iopub.status.idle": "2021-03-17T12:42:31.928143Z",
     "shell.execute_reply": "2021-03-17T12:42:31.928800Z"
    },
    "papermill": {
     "duration": 5.751516,
     "end_time": "2021-03-17T12:42:31.928993",
     "exception": false,
     "start_time": "2021-03-17T12:42:26.177477",
     "status": "completed"
    },
    "tags": []
   },
   "outputs": [
    {
     "name": "stdout",
     "output_type": "stream",
     "text": [
      "Input - goodbye\n",
      "----------------------\n",
      "Response 1 -> in any case thanks for chatting.\n"
     ]
    }
   ],
   "source": [
    "get_responses(\"goodbye\", 5)"
   ]
  },
  {
   "cell_type": "code",
   "execution_count": 20,
   "id": "annoying-planet",
   "metadata": {
    "execution": {
     "iopub.execute_input": "2021-03-17T12:42:32.652029Z",
     "iopub.status.busy": "2021-03-17T12:42:32.650946Z",
     "iopub.status.idle": "2021-03-17T12:42:34.773669Z",
     "shell.execute_reply": "2021-03-17T12:42:34.772850Z"
    },
    "papermill": {
     "duration": 2.484275,
     "end_time": "2021-03-17T12:42:34.773904",
     "exception": false,
     "start_time": "2021-03-17T12:42:32.289629",
     "status": "completed"
    },
    "tags": []
   },
   "outputs": [
    {
     "name": "stdout",
     "output_type": "stream",
     "text": [
      "Input - have a great day.\n",
      "----------------------\n",
      "Predicting outside clusters\n",
      "Predicting outside clusters\n",
      "Predicting outside clusters\n",
      "Predicting outside clusters\n",
      "Predicting outside clusters\n",
      "Response 1 -> i do especially rap albums. how about you\n",
      "Response 2 -> um no.\n",
      "Response 3 -> it's ok. don't really watch it\n",
      "Response 4 -> really he couldnt pick a more fitting name lol\n",
      "Response 5 -> me talk pretty one day is a classic.\n"
     ]
    }
   ],
   "source": [
    "get_responses(input_texts[1728], 5)"
   ]
  },
  {
   "cell_type": "code",
   "execution_count": 21,
   "id": "impressive-bottle",
   "metadata": {
    "execution": {
     "iopub.execute_input": "2021-03-17T12:42:35.506107Z",
     "iopub.status.busy": "2021-03-17T12:42:35.505287Z",
     "iopub.status.idle": "2021-03-17T12:42:39.731520Z",
     "shell.execute_reply": "2021-03-17T12:42:39.732078Z"
    },
    "papermill": {
     "duration": 4.591309,
     "end_time": "2021-03-17T12:42:39.732263",
     "exception": false,
     "start_time": "2021-03-17T12:42:35.140954",
     "status": "completed"
    },
    "tags": []
   },
   "outputs": [
    {
     "name": "stdout",
     "output_type": "stream",
     "text": [
      "Input - yes me too. great chat. take care\n",
      "----------------------\n",
      "Response 1 -> have a good night.\n"
     ]
    }
   ],
   "source": [
    "get_responses(input_texts[3107], 5)"
   ]
  },
  {
   "cell_type": "code",
   "execution_count": 22,
   "id": "juvenile-kennedy",
   "metadata": {
    "execution": {
     "iopub.execute_input": "2021-03-17T12:42:40.520052Z",
     "iopub.status.busy": "2021-03-17T12:42:40.519043Z",
     "iopub.status.idle": "2021-03-17T12:42:42.579953Z",
     "shell.execute_reply": "2021-03-17T12:42:42.578964Z"
    },
    "papermill": {
     "duration": 2.431146,
     "end_time": "2021-03-17T12:42:42.580165",
     "exception": false,
     "start_time": "2021-03-17T12:42:40.149019",
     "status": "completed"
    },
    "tags": []
   },
   "outputs": [
    {
     "name": "stdout",
     "output_type": "stream",
     "text": [
      "Input - hi do you like animals\n",
      "----------------------\n",
      "Predicting outside clusters\n",
      "Predicting outside clusters\n",
      "Predicting outside clusters\n",
      "Predicting outside clusters\n",
      "Predicting outside clusters\n",
      "Response 1 -> for sure. what's your favorite stephen king movie\n",
      "Response 2 -> did you see that hbo film leavign neverland\n",
      "Response 3 -> is he a contender for the dem's presidential candidacy\n",
      "Response 4 -> i agree with your sentiment.\n",
      "Response 5 -> no i read the news about the royal family.\n"
     ]
    }
   ],
   "source": [
    "get_responses(\"hi do you like animals\", 5)"
   ]
  },
  {
   "cell_type": "code",
   "execution_count": 23,
   "id": "governing-phoenix",
   "metadata": {
    "execution": {
     "iopub.execute_input": "2021-03-17T12:42:43.313170Z",
     "iopub.status.busy": "2021-03-17T12:42:43.312164Z",
     "iopub.status.idle": "2021-03-17T12:42:45.415084Z",
     "shell.execute_reply": "2021-03-17T12:42:45.414535Z"
    },
    "papermill": {
     "duration": 2.474331,
     "end_time": "2021-03-17T12:42:45.415236",
     "exception": false,
     "start_time": "2021-03-17T12:42:42.940905",
     "status": "completed"
    },
    "tags": []
   },
   "outputs": [
    {
     "name": "stdout",
     "output_type": "stream",
     "text": [
      "Input - how are you\n",
      "----------------------\n",
      "Predicting outside clusters\n",
      "Predicting outside clusters\n",
      "Predicting outside clusters\n",
      "Predicting outside clusters\n",
      "Predicting outside clusters\n",
      "Response 1 -> im great are you a religious person\n",
      "Response 2 -> thanks. same.\n",
      "Response 3 -> yeah love facebook how about yourself\n",
      "Response 4 -> yeah. the first president of zimbabwe was called banana\n",
      "Response 5 -> phone home or die.\n"
     ]
    }
   ],
   "source": [
    "get_responses(\"how are you\", 5)"
   ]
  },
  {
   "cell_type": "code",
   "execution_count": 24,
   "id": "visible-butterfly",
   "metadata": {
    "execution": {
     "iopub.execute_input": "2021-03-17T12:42:46.170808Z",
     "iopub.status.busy": "2021-03-17T12:42:46.169911Z",
     "iopub.status.idle": "2021-03-17T12:42:50.731383Z",
     "shell.execute_reply": "2021-03-17T12:42:50.732326Z"
    },
    "papermill": {
     "duration": 4.945441,
     "end_time": "2021-03-17T12:42:50.732583",
     "exception": false,
     "start_time": "2021-03-17T12:42:45.787142",
     "status": "completed"
    },
    "tags": []
   },
   "outputs": [
    {
     "name": "stdout",
     "output_type": "stream",
     "text": [
      "Input - goodmorning\n",
      "----------------------\n",
      "Response 1 -> in any case thanks for chatting.\n"
     ]
    }
   ],
   "source": [
    "get_responses(\"goodmorning\", 5)"
   ]
  }
 ],
 "metadata": {
  "kernelspec": {
   "display_name": "Python 3",
   "language": "python",
   "name": "python3"
  },
  "language_info": {
   "codemirror_mode": {
    "name": "ipython",
    "version": 3
   },
   "file_extension": ".py",
   "mimetype": "text/x-python",
   "name": "python",
   "nbconvert_exporter": "python",
   "pygments_lexer": "ipython3",
   "version": "3.7.9"
  },
  "papermill": {
   "default_parameters": {},
   "duration": 134.590821,
   "end_time": "2021-03-17T12:42:52.616457",
   "environment_variables": {},
   "exception": null,
   "input_path": "__notebook__.ipynb",
   "output_path": "__notebook__.ipynb",
   "parameters": {},
   "start_time": "2021-03-17T12:40:38.025636",
   "version": "2.3.2"
  }
 },
 "nbformat": 4,
 "nbformat_minor": 5
}
