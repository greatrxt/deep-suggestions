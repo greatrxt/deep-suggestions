{
 "cells": [
  {
   "cell_type": "code",
   "execution_count": 1,
   "metadata": {
    "execution": {
     "iopub.execute_input": "2021-03-11T06:41:32.332025Z",
     "iopub.status.busy": "2021-03-11T06:41:32.331368Z",
     "iopub.status.idle": "2021-03-11T06:41:39.132962Z",
     "shell.execute_reply": "2021-03-11T06:41:39.133549Z"
    },
    "papermill": {
     "duration": 6.821271,
     "end_time": "2021-03-11T06:41:39.133891",
     "exception": false,
     "start_time": "2021-03-11T06:41:32.312620",
     "status": "completed"
    },
    "tags": []
   },
   "outputs": [],
   "source": [
    "import pickle\n",
    "import numpy as np\n",
    "import tensorflow as tf\n",
    "from sklearn.preprocessing import OneHotEncoder\n",
    "import random"
   ]
  },
  {
   "cell_type": "code",
   "execution_count": 2,
   "metadata": {
    "execution": {
     "iopub.execute_input": "2021-03-11T06:41:39.162456Z",
     "iopub.status.busy": "2021-03-11T06:41:39.161825Z",
     "iopub.status.idle": "2021-03-11T06:41:44.897057Z",
     "shell.execute_reply": "2021-03-11T06:41:44.896396Z"
    },
    "papermill": {
     "duration": 5.750331,
     "end_time": "2021-03-11T06:41:44.897223",
     "exception": false,
     "start_time": "2021-03-11T06:41:39.146892",
     "status": "completed"
    },
    "tags": []
   },
   "outputs": [
    {
     "name": "stdout",
     "output_type": "stream",
     "text": [
      "Device: grpc://10.0.0.2:8470\n",
      "Number of replicas: 8\n",
      "2.4.1\n"
     ]
    }
   ],
   "source": [
    "try:\n",
    "    tpu = tf.distribute.cluster_resolver.TPUClusterResolver()\n",
    "    print('Device:', tpu.master())\n",
    "    tf.config.experimental_connect_to_cluster(tpu)\n",
    "    tf.tpu.experimental.initialize_tpu_system(tpu)\n",
    "    strategy = tf.distribute.experimental.TPUStrategy(tpu)\n",
    "except:\n",
    "    strategy = tf.distribute.get_strategy()\n",
    "print('Number of replicas:', strategy.num_replicas_in_sync)\n",
    "\n",
    "AUTOTUNE = tf.data.experimental.AUTOTUNE\n",
    "    \n",
    "print(tf.__version__)"
   ]
  },
  {
   "cell_type": "code",
   "execution_count": 3,
   "metadata": {
    "execution": {
     "iopub.execute_input": "2021-03-11T06:41:44.931076Z",
     "iopub.status.busy": "2021-03-11T06:41:44.930431Z",
     "iopub.status.idle": "2021-03-11T06:41:46.098554Z",
     "shell.execute_reply": "2021-03-11T06:41:46.097280Z"
    },
    "papermill": {
     "duration": 1.187611,
     "end_time": "2021-03-11T06:41:46.098724",
     "exception": false,
     "start_time": "2021-03-11T06:41:44.911113",
     "status": "completed"
    },
    "tags": []
   },
   "outputs": [],
   "source": [
    "with open('../input/smart-reply-sentence-similarity/input_texts.pickle', 'rb') as handle:\n",
    "    input_texts = pickle.load(handle)\n",
    "    \n",
    "with open('../input/smart-reply-clustering-input/input_dbscan.pickle', 'rb') as handle:\n",
    "    dbscan = pickle.load(handle)"
   ]
  },
  {
   "cell_type": "code",
   "execution_count": 4,
   "metadata": {
    "execution": {
     "iopub.execute_input": "2021-03-11T06:41:46.134988Z",
     "iopub.status.busy": "2021-03-11T06:41:46.132791Z",
     "iopub.status.idle": "2021-03-11T06:41:46.137396Z",
     "shell.execute_reply": "2021-03-11T06:41:46.136861Z"
    },
    "papermill": {
     "duration": 0.024705,
     "end_time": "2021-03-11T06:41:46.137535",
     "exception": false,
     "start_time": "2021-03-11T06:41:46.112830",
     "status": "completed"
    },
    "tags": []
   },
   "outputs": [
    {
     "name": "stdout",
     "output_type": "stream",
     "text": [
      "5001\n",
      "5001\n"
     ]
    }
   ],
   "source": [
    "print(len(input_texts))\n",
    "print(len(dbscan.labels_))"
   ]
  },
  {
   "cell_type": "code",
   "execution_count": 5,
   "metadata": {
    "execution": {
     "iopub.execute_input": "2021-03-11T06:41:46.176715Z",
     "iopub.status.busy": "2021-03-11T06:41:46.175945Z",
     "iopub.status.idle": "2021-03-11T06:41:46.189697Z",
     "shell.execute_reply": "2021-03-11T06:41:46.188996Z"
    },
    "papermill": {
     "duration": 0.038338,
     "end_time": "2021-03-11T06:41:46.189853",
     "exception": false,
     "start_time": "2021-03-11T06:41:46.151515",
     "status": "completed"
    },
    "tags": []
   },
   "outputs": [
    {
     "data": {
      "text/plain": [
       "(5001,)"
      ]
     },
     "execution_count": 5,
     "metadata": {},
     "output_type": "execute_result"
    }
   ],
   "source": [
    "dbscan.labels_.shape"
   ]
  },
  {
   "cell_type": "code",
   "execution_count": 6,
   "metadata": {
    "execution": {
     "iopub.execute_input": "2021-03-11T06:41:46.238207Z",
     "iopub.status.busy": "2021-03-11T06:41:46.237215Z",
     "iopub.status.idle": "2021-03-11T06:41:46.241185Z",
     "shell.execute_reply": "2021-03-11T06:41:46.241762Z"
    },
    "papermill": {
     "duration": 0.031411,
     "end_time": "2021-03-11T06:41:46.241937",
     "exception": false,
     "start_time": "2021-03-11T06:41:46.210526",
     "status": "completed"
    },
    "tags": []
   },
   "outputs": [
    {
     "data": {
      "text/plain": [
       "['yes it helped him smooth out his dance moves',\n",
       " 'hi. do you like to dance',\n",
       " \"yeah good point. he also invented some women's names\",\n",
       " 'do you know how google maps calculates traffic',\n",
       " 'i am not sure how do they do this',\n",
       " 'do you like comic books',\n",
       " 'hi do you like fish',\n",
       " 'you as well..',\n",
       " \"doesn't music needs melody .)\",\n",
       " 'lots of rap does have that.']"
      ]
     },
     "execution_count": 6,
     "metadata": {},
     "output_type": "execute_result"
    }
   ],
   "source": [
    "input_texts[:10]"
   ]
  },
  {
   "cell_type": "code",
   "execution_count": 7,
   "metadata": {
    "execution": {
     "iopub.execute_input": "2021-03-11T06:41:46.303527Z",
     "iopub.status.busy": "2021-03-11T06:41:46.302434Z",
     "iopub.status.idle": "2021-03-11T06:41:46.380517Z",
     "shell.execute_reply": "2021-03-11T06:41:46.381042Z"
    },
    "papermill": {
     "duration": 0.121596,
     "end_time": "2021-03-11T06:41:46.381231",
     "exception": false,
     "start_time": "2021-03-11T06:41:46.259635",
     "status": "completed"
    },
    "tags": []
   },
   "outputs": [],
   "source": [
    "# fitting tokenizer on all short messages\n",
    "tokenizer = tf.keras.preprocessing.text.Tokenizer()\n",
    "tokenizer.fit_on_texts(input_texts)\n",
    "total_words = len(tokenizer.word_index) + 1"
   ]
  },
  {
   "cell_type": "code",
   "execution_count": 8,
   "metadata": {
    "execution": {
     "iopub.execute_input": "2021-03-11T06:41:46.441745Z",
     "iopub.status.busy": "2021-03-11T06:41:46.436075Z",
     "iopub.status.idle": "2021-03-11T06:41:46.485643Z",
     "shell.execute_reply": "2021-03-11T06:41:46.486153Z"
    },
    "papermill": {
     "duration": 0.089268,
     "end_time": "2021-03-11T06:41:46.486347",
     "exception": false,
     "start_time": "2021-03-11T06:41:46.397079",
     "status": "completed"
    },
    "tags": []
   },
   "outputs": [
    {
     "data": {
      "text/plain": [
       "[[15, 12, 961, 152, 962, 178, 120, 153, 1422],\n",
       " [14, 2, 1, 8, 13, 153],\n",
       " [25, 16, 321, 34, 99, 279, 137, 963, 445],\n",
       " [2, 1, 17, 11, 179, 1423, 1424, 964],\n",
       " [3, 105, 40, 74, 11, 2, 31, 2, 106],\n",
       " [2, 1, 8, 604, 280],\n",
       " [14, 2, 1, 8, 226],\n",
       " [1, 58, 37],\n",
       " [446, 57, 965, 1425],\n",
       " [605, 19, 201, 154, 7, 9]]"
      ]
     },
     "execution_count": 8,
     "metadata": {},
     "output_type": "execute_result"
    }
   ],
   "source": [
    "input_tokens = tokenizer.texts_to_sequences(input_texts)\n",
    "input_tokens[:10]"
   ]
  },
  {
   "cell_type": "code",
   "execution_count": 9,
   "metadata": {
    "execution": {
     "iopub.execute_input": "2021-03-11T06:41:46.531736Z",
     "iopub.status.busy": "2021-03-11T06:41:46.530735Z",
     "iopub.status.idle": "2021-03-11T06:41:46.568595Z",
     "shell.execute_reply": "2021-03-11T06:41:46.567883Z"
    },
    "papermill": {
     "duration": 0.06708,
     "end_time": "2021-03-11T06:41:46.568747",
     "exception": false,
     "start_time": "2021-03-11T06:41:46.501667",
     "status": "completed"
    },
    "tags": []
   },
   "outputs": [],
   "source": [
    "def generate_padded_sequences(input_sequences):\n",
    "    max_sequence_len = max([len(x) for x in input_sequences])\n",
    "    input_sequences = np.array(tf.keras.preprocessing.sequence.pad_sequences(input_sequences, maxlen=max_sequence_len, padding='pre'))\n",
    "    \n",
    "    predictors = input_sequences[:,:-1]\n",
    "    #label = tf.keras.utils.to_categorical(label, num_classes=total_words)\n",
    "    return predictors, max_sequence_len\n",
    "\n",
    "predictors, max_sequence_len = generate_padded_sequences(input_tokens)"
   ]
  },
  {
   "cell_type": "code",
   "execution_count": 10,
   "metadata": {
    "execution": {
     "iopub.execute_input": "2021-03-11T06:41:46.608130Z",
     "iopub.status.busy": "2021-03-11T06:41:46.607502Z",
     "iopub.status.idle": "2021-03-11T06:41:46.612654Z",
     "shell.execute_reply": "2021-03-11T06:41:46.613138Z"
    },
    "papermill": {
     "duration": 0.028854,
     "end_time": "2021-03-11T06:41:46.613338",
     "exception": false,
     "start_time": "2021-03-11T06:41:46.584484",
     "status": "completed"
    },
    "tags": []
   },
   "outputs": [
    {
     "name": "stdout",
     "output_type": "stream",
     "text": [
      "[36 36 36 36 36  0  0 36 36 36]\n"
     ]
    }
   ],
   "source": [
    "labels = np.array(dbscan.labels_, copy=True)\n",
    "labels[labels == -1] = len(set(dbscan.labels_)) - 1\n",
    "print(labels[:10])"
   ]
  },
  {
   "cell_type": "code",
   "execution_count": 11,
   "metadata": {
    "execution": {
     "iopub.execute_input": "2021-03-11T06:41:46.651003Z",
     "iopub.status.busy": "2021-03-11T06:41:46.650364Z",
     "iopub.status.idle": "2021-03-11T06:41:46.657713Z",
     "shell.execute_reply": "2021-03-11T06:41:46.657140Z"
    },
    "papermill": {
     "duration": 0.02836,
     "end_time": "2021-03-11T06:41:46.657852",
     "exception": false,
     "start_time": "2021-03-11T06:41:46.629492",
     "status": "completed"
    },
    "tags": []
   },
   "outputs": [
    {
     "data": {
      "text/plain": [
       "(5001, 37)"
      ]
     },
     "execution_count": 11,
     "metadata": {},
     "output_type": "execute_result"
    }
   ],
   "source": [
    "encoder_labels = OneHotEncoder().fit(labels.reshape(-1, 1))\n",
    "one_hot_labels = encoder_labels.transform(labels.reshape(-1, 1))\n",
    "one_hot_labels.shape"
   ]
  },
  {
   "cell_type": "code",
   "execution_count": 12,
   "metadata": {
    "execution": {
     "iopub.execute_input": "2021-03-11T06:41:46.694157Z",
     "iopub.status.busy": "2021-03-11T06:41:46.693499Z",
     "iopub.status.idle": "2021-03-11T06:41:48.778713Z",
     "shell.execute_reply": "2021-03-11T06:41:48.777569Z"
    },
    "papermill": {
     "duration": 2.104482,
     "end_time": "2021-03-11T06:41:48.778913",
     "exception": false,
     "start_time": "2021-03-11T06:41:46.674431",
     "status": "completed"
    },
    "tags": []
   },
   "outputs": [
    {
     "name": "stdout",
     "output_type": "stream",
     "text": [
      "Model: \"sequential\"\n",
      "_________________________________________________________________\n",
      "Layer (type)                 Output Shape              Param #   \n",
      "=================================================================\n",
      "embedding (Embedding)        (None, 9, 256)            811520    \n",
      "_________________________________________________________________\n",
      "lstm (LSTM)                  (None, 256)               525312    \n",
      "_________________________________________________________________\n",
      "dropout (Dropout)            (None, 256)               0         \n",
      "_________________________________________________________________\n",
      "dense (Dense)                (None, 37)                9509      \n",
      "=================================================================\n",
      "Total params: 1,346,341\n",
      "Trainable params: 1,346,341\n",
      "Non-trainable params: 0\n",
      "_________________________________________________________________\n"
     ]
    }
   ],
   "source": [
    "def create_model(max_sequence_len, total_words):\n",
    "    input_len = max_sequence_len - 1\n",
    "    model = tf.keras.Sequential()\n",
    "    \n",
    "    # Add Input Embedding Layer\n",
    "    model.add(tf.keras.layers.Embedding(total_words, 256, input_length=input_len))\n",
    "    \n",
    "    # Add Hidden Layer 1 - LSTM Layer\n",
    "    #model.add(tf.keras.layers.LSTM(256, return_sequences=True))\n",
    "    #model.add(tf.keras.layers.Dropout(0.2))\n",
    "    \n",
    "    model.add(tf.keras.layers.LSTM(256))\n",
    "    model.add(tf.keras.layers.Dropout(0.2))\n",
    "    \n",
    "    # Add Output Layer\n",
    "    model.add(tf.keras.layers.Dense(one_hot_labels.shape[1], activation='softmax'))\n",
    "\n",
    "    model.compile(loss='categorical_crossentropy', optimizer='adam', metrics=[\"accuracy\"])\n",
    "    \n",
    "    return model\n",
    "\n",
    "\n",
    "with strategy.scope():\n",
    "    model = create_model(max_sequence_len, total_words)\n",
    "    model.summary()"
   ]
  },
  {
   "cell_type": "code",
   "execution_count": 13,
   "metadata": {
    "execution": {
     "iopub.execute_input": "2021-03-11T06:41:48.817854Z",
     "iopub.status.busy": "2021-03-11T06:41:48.817147Z",
     "iopub.status.idle": "2021-03-11T06:42:16.488471Z",
     "shell.execute_reply": "2021-03-11T06:42:16.489042Z"
    },
    "papermill": {
     "duration": 27.693558,
     "end_time": "2021-03-11T06:42:16.489239",
     "exception": false,
     "start_time": "2021-03-11T06:41:48.795681",
     "status": "completed"
    },
    "tags": []
   },
   "outputs": [
    {
     "name": "stdout",
     "output_type": "stream",
     "text": [
      "Epoch 1/10\n",
      "125/125 [==============================] - 7s 33ms/step - loss: 1.6327 - accuracy: 0.6978 - val_loss: 0.7790 - val_accuracy: 0.8292\n",
      "Epoch 2/10\n",
      "125/125 [==============================] - 2s 18ms/step - loss: 0.6214 - accuracy: 0.8487 - val_loss: 0.6653 - val_accuracy: 0.8272\n",
      "Epoch 3/10\n",
      "125/125 [==============================] - 2s 18ms/step - loss: 0.5027 - accuracy: 0.8693 - val_loss: 0.5686 - val_accuracy: 0.8382\n",
      "Epoch 4/10\n",
      "125/125 [==============================] - 2s 17ms/step - loss: 0.4163 - accuracy: 0.8870 - val_loss: 0.5483 - val_accuracy: 0.8412\n",
      "Epoch 5/10\n",
      "125/125 [==============================] - 2s 17ms/step - loss: 0.3422 - accuracy: 0.8904 - val_loss: 0.5250 - val_accuracy: 0.8482\n",
      "Epoch 6/10\n",
      "125/125 [==============================] - 2s 17ms/step - loss: 0.2936 - accuracy: 0.9058 - val_loss: 0.4926 - val_accuracy: 0.8511\n",
      "Epoch 7/10\n",
      "125/125 [==============================] - 2s 20ms/step - loss: 0.2722 - accuracy: 0.9061 - val_loss: 0.4560 - val_accuracy: 0.8551\n",
      "Epoch 8/10\n",
      "125/125 [==============================] - 2s 18ms/step - loss: 0.2439 - accuracy: 0.9128 - val_loss: 0.4830 - val_accuracy: 0.8531\n",
      "Epoch 9/10\n",
      "125/125 [==============================] - 2s 17ms/step - loss: 0.2336 - accuracy: 0.9187 - val_loss: 0.4432 - val_accuracy: 0.8691\n",
      "Epoch 10/10\n",
      "125/125 [==============================] - 2s 18ms/step - loss: 0.2143 - accuracy: 0.9225 - val_loss: 0.4483 - val_accuracy: 0.8611\n"
     ]
    }
   ],
   "source": [
    "history = model.fit(predictors, one_hot_labels.todense(), epochs=10, validation_split=0.2, verbose=1)"
   ]
  },
  {
   "cell_type": "code",
   "execution_count": 14,
   "metadata": {
    "execution": {
     "iopub.execute_input": "2021-03-11T06:42:16.686925Z",
     "iopub.status.busy": "2021-03-11T06:42:16.686239Z",
     "iopub.status.idle": "2021-03-11T06:42:16.871114Z",
     "shell.execute_reply": "2021-03-11T06:42:16.870518Z"
    },
    "papermill": {
     "duration": 0.284401,
     "end_time": "2021-03-11T06:42:16.871282",
     "exception": false,
     "start_time": "2021-03-11T06:42:16.586881",
     "status": "completed"
    },
    "tags": []
   },
   "outputs": [
    {
     "data": {
      "image/png": "[encoded data removed]",
      "text/plain": [
       "<Figure size 432x288 with 1 Axes>"
      ]
     },
     "metadata": {
      "needs_background": "light"
     },
     "output_type": "display_data"
    }
   ],
   "source": [
    "import matplotlib.pyplot as plt\n",
    "# summarize history for loss\n",
    "plt.plot(history.history['loss'])\n",
    "plt.plot(history.history['val_loss'])\n",
    "plt.title('model loss')\n",
    "plt.ylabel('loss')\n",
    "plt.xlabel('epoch')\n",
    "plt.legend(['train', 'test'], loc='upper right')\n",
    "plt.show()"
   ]
  },
  {
   "cell_type": "code",
   "execution_count": 15,
   "metadata": {
    "execution": {
     "iopub.execute_input": "2021-03-11T06:42:17.071495Z",
     "iopub.status.busy": "2021-03-11T06:42:17.070852Z",
     "iopub.status.idle": "2021-03-11T06:42:17.090367Z",
     "shell.execute_reply": "2021-03-11T06:42:17.089792Z"
    },
    "papermill": {
     "duration": 0.120894,
     "end_time": "2021-03-11T06:42:17.090526",
     "exception": false,
     "start_time": "2021-03-11T06:42:16.969632",
     "status": "completed"
    },
    "tags": []
   },
   "outputs": [],
   "source": [
    "with open('../input/smart-reply-sentence-similarity/target_texts.pickle', 'rb') as handle:\n",
    "    target_texts = pickle.load(handle)"
   ]
  },
  {
   "cell_type": "code",
   "execution_count": 16,
   "metadata": {
    "execution": {
     "iopub.execute_input": "2021-03-11T06:42:17.313601Z",
     "iopub.status.busy": "2021-03-11T06:42:17.312484Z",
     "iopub.status.idle": "2021-03-11T06:42:17.315905Z",
     "shell.execute_reply": "2021-03-11T06:42:17.315342Z"
    },
    "papermill": {
     "duration": 0.114139,
     "end_time": "2021-03-11T06:42:17.316062",
     "exception": false,
     "start_time": "2021-03-11T06:42:17.201923",
     "status": "completed"
    },
    "tags": []
   },
   "outputs": [],
   "source": [
    "def get_response(seed_text):\n",
    "    print(seed_text)\n",
    "    token_list = tokenizer.texts_to_sequences([seed_text])[0]\n",
    "    token_list = tf.keras.preprocessing.sequence.pad_sequences([token_list], maxlen=max_sequence_len-1, padding='pre')\n",
    "    predicted_index = model.predict_classes(token_list, verbose=0)\n",
    "    if predicted_index[0] == len(set(dbscan.labels_)) - 1:\n",
    "        print(\"Predicting outside clusters\")\n",
    "        predicted_index = -1\n",
    "    # randomly pick 1 index\n",
    "    possible_response = np.where(dbscan.labels_==predicted_index)[0]\n",
    "    #print(type(possible_response))\n",
    "    response_index = random.sample(possible_response.tolist(), 1)[0]\n",
    "    # print(response_index)\n",
    "    return target_texts[response_index].replace(\"\\t\", \"\").replace(\"\\n\", \"\")"
   ]
  },
  {
   "cell_type": "code",
   "execution_count": 17,
   "metadata": {
    "execution": {
     "iopub.execute_input": "2021-03-11T06:42:17.544593Z",
     "iopub.status.busy": "2021-03-11T06:42:17.543722Z",
     "iopub.status.idle": "2021-03-11T06:42:18.826502Z",
     "shell.execute_reply": "2021-03-11T06:42:18.825942Z"
    },
    "papermill": {
     "duration": 1.402593,
     "end_time": "2021-03-11T06:42:18.826655",
     "exception": false,
     "start_time": "2021-03-11T06:42:17.424062",
     "status": "completed"
    },
    "tags": []
   },
   "outputs": [
    {
     "name": "stdout",
     "output_type": "stream",
     "text": [
      "good morning\n"
     ]
    },
    {
     "name": "stderr",
     "output_type": "stream",
     "text": [
      "/opt/conda/lib/python3.7/site-packages/tensorflow/python/keras/engine/sequential.py:450: UserWarning: `model.predict_classes()` is deprecated and will be removed after 2021-01-01. Please use instead:* `np.argmax(model.predict(x), axis=-1)`,   if your model does multi-class classification   (e.g. if it uses a `softmax` last-layer activation).* `(model.predict(x) > 0.5).astype(\"int32\")`,   if your model does binary classification   (e.g. if it uses a `sigmoid` last-layer activation).\n",
      "  warnings.warn('`model.predict_classes()` is deprecated and '\n"
     ]
    },
    {
     "data": {
      "text/plain": [
       "'hello. looks like a great day.'"
      ]
     },
     "execution_count": 17,
     "metadata": {},
     "output_type": "execute_result"
    }
   ],
   "source": [
    "get_response(\"good morning\")"
   ]
  },
  {
   "cell_type": "code",
   "execution_count": 18,
   "metadata": {
    "execution": {
     "iopub.execute_input": "2021-03-11T06:42:19.032026Z",
     "iopub.status.busy": "2021-03-11T06:42:19.030913Z",
     "iopub.status.idle": "2021-03-11T06:42:19.443748Z",
     "shell.execute_reply": "2021-03-11T06:42:19.444239Z"
    },
    "papermill": {
     "duration": 0.519063,
     "end_time": "2021-03-11T06:42:19.444423",
     "exception": false,
     "start_time": "2021-03-11T06:42:18.925360",
     "status": "completed"
    },
    "tags": []
   },
   "outputs": [
    {
     "name": "stdout",
     "output_type": "stream",
     "text": [
      "have a good weekend too.\n",
      "Predicting outside clusters\n"
     ]
    },
    {
     "data": {
      "text/plain": [
       "'i did the kavanaugh stuff. did you'"
      ]
     },
     "execution_count": 18,
     "metadata": {},
     "output_type": "execute_result"
    }
   ],
   "source": [
    "get_response(input_texts[234])"
   ]
  },
  {
   "cell_type": "code",
   "execution_count": 19,
   "metadata": {
    "execution": {
     "iopub.execute_input": "2021-03-11T06:42:19.647577Z",
     "iopub.status.busy": "2021-03-11T06:42:19.645983Z",
     "iopub.status.idle": "2021-03-11T06:42:20.035761Z",
     "shell.execute_reply": "2021-03-11T06:42:20.036437Z"
    },
    "papermill": {
     "duration": 0.493471,
     "end_time": "2021-03-11T06:42:20.036627",
     "exception": false,
     "start_time": "2021-03-11T06:42:19.543156",
     "status": "completed"
    },
    "tags": []
   },
   "outputs": [
    {
     "name": "stdout",
     "output_type": "stream",
     "text": [
      "that is insane. do you watch the academy awards\n",
      "Predicting outside clusters\n"
     ]
    },
    {
     "data": {
      "text/plain": [
       "'no james corden is also in it.'"
      ]
     },
     "execution_count": 19,
     "metadata": {},
     "output_type": "execute_result"
    }
   ],
   "source": [
    "get_response(input_texts[34])"
   ]
  },
  {
   "cell_type": "code",
   "execution_count": 20,
   "metadata": {
    "execution": {
     "iopub.execute_input": "2021-03-11T06:42:20.242208Z",
     "iopub.status.busy": "2021-03-11T06:42:20.241442Z",
     "iopub.status.idle": "2021-03-11T06:42:20.620504Z",
     "shell.execute_reply": "2021-03-11T06:42:20.619930Z"
    },
    "papermill": {
     "duration": 0.484867,
     "end_time": "2021-03-11T06:42:20.620660",
     "exception": false,
     "start_time": "2021-03-11T06:42:20.135793",
     "status": "completed"
    },
    "tags": []
   },
   "outputs": [
    {
     "name": "stdout",
     "output_type": "stream",
     "text": [
      "how are you\n"
     ]
    },
    {
     "data": {
      "text/plain": [
       "'i watch time to time'"
      ]
     },
     "execution_count": 20,
     "metadata": {},
     "output_type": "execute_result"
    }
   ],
   "source": [
    "get_response(\"how are you\")"
   ]
  }
 ],
 "metadata": {
  "kernelspec": {
   "display_name": "Python 3",
   "language": "python",
   "name": "python3"
  },
  "language_info": {
   "codemirror_mode": {
    "name": "ipython",
    "version": 3
   },
   "file_extension": ".py",
   "mimetype": "text/x-python",
   "name": "python",
   "nbconvert_exporter": "python",
   "pygments_lexer": "ipython3",
   "version": "3.7.9"
  },
  "papermill": {
   "default_parameters": {},
   "duration": 56.857416,
   "end_time": "2021-03-11T06:42:23.416090",
   "environment_variables": {},
   "exception": null,
   "input_path": "__notebook__.ipynb",
   "output_path": "__notebook__.ipynb",
   "parameters": {},
   "start_time": "2021-03-11T06:41:26.558674",
   "version": "2.2.2"
  }
 },
 "nbformat": 4,
 "nbformat_minor": 4
}
