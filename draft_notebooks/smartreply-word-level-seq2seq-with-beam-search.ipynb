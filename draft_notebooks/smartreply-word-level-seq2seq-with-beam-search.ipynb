{
 "cells": [
  {
   "cell_type": "code",
   "execution_count": 1,
   "id": "electronic-november",
   "metadata": {
    "execution": {
     "iopub.execute_input": "2021-03-27T10:27:35.474457Z",
     "iopub.status.busy": "2021-03-27T10:27:35.472555Z",
     "iopub.status.idle": "2021-03-27T10:27:41.122299Z",
     "shell.execute_reply": "2021-03-27T10:27:41.121569Z"
    },
    "papermill": {
     "duration": 5.677042,
     "end_time": "2021-03-27T10:27:41.122471",
     "exception": false,
     "start_time": "2021-03-27T10:27:35.445429",
     "status": "completed"
    },
    "tags": []
   },
   "outputs": [],
   "source": [
    "import numpy as np\n",
    "import tensorflow as tf\n",
    "from tensorflow import keras\n",
    "import string, os \n",
    "import re\n",
    "from tqdm import tqdm\n",
    "import pandas as pd\n",
    "import matplotlib.pyplot as plt\n",
    "import pickle"
   ]
  },
  {
   "cell_type": "code",
   "execution_count": 2,
   "id": "annual-albania",
   "metadata": {
    "execution": {
     "iopub.execute_input": "2021-03-27T10:27:41.171063Z",
     "iopub.status.busy": "2021-03-27T10:27:41.170213Z",
     "iopub.status.idle": "2021-03-27T10:27:41.182673Z",
     "shell.execute_reply": "2021-03-27T10:27:41.181936Z"
    },
    "papermill": {
     "duration": 0.039265,
     "end_time": "2021-03-27T10:27:41.182809",
     "exception": false,
     "start_time": "2021-03-27T10:27:41.143544",
     "status": "completed"
    },
    "tags": []
   },
   "outputs": [
    {
     "name": "stdout",
     "output_type": "stream",
     "text": [
      "Number of replicas: 1\n",
      "2.4.1\n"
     ]
    }
   ],
   "source": [
    "try:\n",
    "    tpu = tf.distribute.cluster_resolver.TPUClusterResolver()\n",
    "    print('Device:', tpu.master())\n",
    "    tf.config.experimental_connect_to_cluster(tpu)\n",
    "    tf.tpu.experimental.initialize_tpu_system(tpu)\n",
    "    strategy = tf.distribute.experimental.TPUStrategy(tpu)\n",
    "except:\n",
    "    strategy = tf.distribute.get_strategy()\n",
    "print('Number of replicas:', strategy.num_replicas_in_sync)\n",
    "\n",
    "AUTOTUNE = tf.data.experimental.AUTOTUNE\n",
    "    \n",
    "print(tf.__version__)"
   ]
  },
  {
   "cell_type": "code",
   "execution_count": 3,
   "id": "electrical-wilderness",
   "metadata": {
    "execution": {
     "iopub.execute_input": "2021-03-27T10:27:41.229226Z",
     "iopub.status.busy": "2021-03-27T10:27:41.228414Z",
     "iopub.status.idle": "2021-03-27T10:27:41.233866Z",
     "shell.execute_reply": "2021-03-27T10:27:41.233327Z"
    },
    "papermill": {
     "duration": 0.030066,
     "end_time": "2021-03-27T10:27:41.233999",
     "exception": false,
     "start_time": "2021-03-27T10:27:41.203933",
     "status": "completed"
    },
    "tags": []
   },
   "outputs": [],
   "source": [
    "batch_size = 64  # Batch size for training.\n",
    "epochs = 200  # Number of epochs to train for.\n",
    "latent_dim = 512  # Latent dimensionality of the encoding space.\n",
    "num_samples = 50000"
   ]
  },
  {
   "cell_type": "code",
   "execution_count": 4,
   "id": "clinical-functionality",
   "metadata": {
    "execution": {
     "iopub.execute_input": "2021-03-27T10:27:41.290236Z",
     "iopub.status.busy": "2021-03-27T10:27:41.289472Z",
     "iopub.status.idle": "2021-03-27T10:27:42.080114Z",
     "shell.execute_reply": "2021-03-27T10:27:42.079271Z"
    },
    "papermill": {
     "duration": 0.826325,
     "end_time": "2021-03-27T10:27:42.080285",
     "exception": false,
     "start_time": "2021-03-27T10:27:41.253960",
     "status": "completed"
    },
    "tags": []
   },
   "outputs": [
    {
     "data": {
      "text/html": [
       "<div>\n",
       "<style scoped>\n",
       "    .dataframe tbody tr th:only-of-type {\n",
       "        vertical-align: middle;\n",
       "    }\n",
       "\n",
       "    .dataframe tbody tr th {\n",
       "        vertical-align: top;\n",
       "    }\n",
       "\n",
       "    .dataframe thead th {\n",
       "        text-align: right;\n",
       "    }\n",
       "</style>\n",
       "<table border=\"1\" class=\"dataframe\">\n",
       "  <thead>\n",
       "    <tr style=\"text-align: right;\">\n",
       "      <th></th>\n",
       "      <th>conversation_id</th>\n",
       "      <th>message</th>\n",
       "      <th>sentiment</th>\n",
       "    </tr>\n",
       "  </thead>\n",
       "  <tbody>\n",
       "    <tr>\n",
       "      <th>0</th>\n",
       "      <td>1</td>\n",
       "      <td>Are you a fan of Google or Microsoft?</td>\n",
       "      <td>Curious to dive deeper</td>\n",
       "    </tr>\n",
       "    <tr>\n",
       "      <th>1</th>\n",
       "      <td>1</td>\n",
       "      <td>Both are excellent technology they are helpfu...</td>\n",
       "      <td>Curious to dive deeper</td>\n",
       "    </tr>\n",
       "    <tr>\n",
       "      <th>2</th>\n",
       "      <td>1</td>\n",
       "      <td>I'm not  a huge fan of Google, but I use it a...</td>\n",
       "      <td>Curious to dive deeper</td>\n",
       "    </tr>\n",
       "    <tr>\n",
       "      <th>3</th>\n",
       "      <td>1</td>\n",
       "      <td>Google provides online related services and p...</td>\n",
       "      <td>Curious to dive deeper</td>\n",
       "    </tr>\n",
       "    <tr>\n",
       "      <th>4</th>\n",
       "      <td>1</td>\n",
       "      <td>Yeah, their services are good. I'm just not a...</td>\n",
       "      <td>Curious to dive deeper</td>\n",
       "    </tr>\n",
       "  </tbody>\n",
       "</table>\n",
       "</div>"
      ],
      "text/plain": [
       "   conversation_id                                            message  \\\n",
       "0                1              Are you a fan of Google or Microsoft?   \n",
       "1                1   Both are excellent technology they are helpfu...   \n",
       "2                1   I'm not  a huge fan of Google, but I use it a...   \n",
       "3                1   Google provides online related services and p...   \n",
       "4                1   Yeah, their services are good. I'm just not a...   \n",
       "\n",
       "                 sentiment  \n",
       "0   Curious to dive deeper  \n",
       "1   Curious to dive deeper  \n",
       "2   Curious to dive deeper  \n",
       "3   Curious to dive deeper  \n",
       "4   Curious to dive deeper  "
      ]
     },
     "execution_count": 4,
     "metadata": {},
     "output_type": "execute_result"
    }
   ],
   "source": [
    "# reading dataset\n",
    "df = pd.read_csv('../input/chatbot-dataset-topical-chat/topical_chat.csv')\n",
    "df.head()"
   ]
  },
  {
   "cell_type": "code",
   "execution_count": 5,
   "id": "wrapped-smart",
   "metadata": {
    "execution": {
     "iopub.execute_input": "2021-03-27T10:27:42.128709Z",
     "iopub.status.busy": "2021-03-27T10:27:42.127822Z",
     "iopub.status.idle": "2021-03-27T10:27:42.133323Z",
     "shell.execute_reply": "2021-03-27T10:27:42.132706Z"
    },
    "papermill": {
     "duration": 0.032472,
     "end_time": "2021-03-27T10:27:42.133454",
     "exception": false,
     "start_time": "2021-03-27T10:27:42.100982",
     "status": "completed"
    },
    "tags": []
   },
   "outputs": [],
   "source": [
    "# basic preprocessing\n",
    "def process(text):\n",
    "    text = text.lower().replace('\\n', ' ').replace('-', ' ').replace(':', ' ').replace(',', '') \\\n",
    "          .replace('\"', ' ').replace(\".\", \" \").replace(\"!\", \" \").replace(\"?\", \" \").replace(\";\", \" \").replace(\":\", \" \")\n",
    "\n",
    "    text = \"\".join(v for v in text if v not in string.punctuation).lower()\n",
    "    #text = text.encode(\"utf8\").decode(\"ascii\",'ignore')\n",
    "\n",
    "    text = \" \".join(text.split())\n",
    "    #text+=\"<eos>\"\n",
    "    return text\n"
   ]
  },
  {
   "cell_type": "code",
   "execution_count": 6,
   "id": "controlling-quarter",
   "metadata": {
    "execution": {
     "iopub.execute_input": "2021-03-27T10:27:42.183864Z",
     "iopub.status.busy": "2021-03-27T10:27:42.182626Z",
     "iopub.status.idle": "2021-03-27T10:27:46.107172Z",
     "shell.execute_reply": "2021-03-27T10:27:46.106611Z"
    },
    "papermill": {
     "duration": 3.951903,
     "end_time": "2021-03-27T10:27:46.107320",
     "exception": false,
     "start_time": "2021-03-27T10:27:42.155417",
     "status": "completed"
    },
    "tags": []
   },
   "outputs": [],
   "source": [
    "df.message = df.message.apply(process)"
   ]
  },
  {
   "cell_type": "code",
   "execution_count": 7,
   "id": "certain-intersection",
   "metadata": {
    "execution": {
     "iopub.execute_input": "2021-03-27T10:27:46.162000Z",
     "iopub.status.busy": "2021-03-27T10:27:46.161213Z",
     "iopub.status.idle": "2021-03-27T10:27:46.164878Z",
     "shell.execute_reply": "2021-03-27T10:27:46.165407Z"
    },
    "papermill": {
     "duration": 0.036619,
     "end_time": "2021-03-27T10:27:46.165567",
     "exception": false,
     "start_time": "2021-03-27T10:27:46.128948",
     "status": "completed"
    },
    "tags": []
   },
   "outputs": [
    {
     "data": {
      "text/html": [
       "<div>\n",
       "<style scoped>\n",
       "    .dataframe tbody tr th:only-of-type {\n",
       "        vertical-align: middle;\n",
       "    }\n",
       "\n",
       "    .dataframe tbody tr th {\n",
       "        vertical-align: top;\n",
       "    }\n",
       "\n",
       "    .dataframe thead th {\n",
       "        text-align: right;\n",
       "    }\n",
       "</style>\n",
       "<table border=\"1\" class=\"dataframe\">\n",
       "  <thead>\n",
       "    <tr style=\"text-align: right;\">\n",
       "      <th></th>\n",
       "      <th>conversation_id</th>\n",
       "      <th>message</th>\n",
       "      <th>sentiment</th>\n",
       "    </tr>\n",
       "  </thead>\n",
       "  <tbody>\n",
       "    <tr>\n",
       "      <th>0</th>\n",
       "      <td>1</td>\n",
       "      <td>are you a fan of google or microsoft</td>\n",
       "      <td>Curious to dive deeper</td>\n",
       "    </tr>\n",
       "    <tr>\n",
       "      <th>1</th>\n",
       "      <td>1</td>\n",
       "      <td>both are excellent technology they are helpful...</td>\n",
       "      <td>Curious to dive deeper</td>\n",
       "    </tr>\n",
       "    <tr>\n",
       "      <th>2</th>\n",
       "      <td>1</td>\n",
       "      <td>im not a huge fan of google but i use it a lot...</td>\n",
       "      <td>Curious to dive deeper</td>\n",
       "    </tr>\n",
       "    <tr>\n",
       "      <th>3</th>\n",
       "      <td>1</td>\n",
       "      <td>google provides online related services and pr...</td>\n",
       "      <td>Curious to dive deeper</td>\n",
       "    </tr>\n",
       "    <tr>\n",
       "      <th>4</th>\n",
       "      <td>1</td>\n",
       "      <td>yeah their services are good im just not a fan...</td>\n",
       "      <td>Curious to dive deeper</td>\n",
       "    </tr>\n",
       "  </tbody>\n",
       "</table>\n",
       "</div>"
      ],
      "text/plain": [
       "   conversation_id                                            message  \\\n",
       "0                1               are you a fan of google or microsoft   \n",
       "1                1  both are excellent technology they are helpful...   \n",
       "2                1  im not a huge fan of google but i use it a lot...   \n",
       "3                1  google provides online related services and pr...   \n",
       "4                1  yeah their services are good im just not a fan...   \n",
       "\n",
       "                 sentiment  \n",
       "0   Curious to dive deeper  \n",
       "1   Curious to dive deeper  \n",
       "2   Curious to dive deeper  \n",
       "3   Curious to dive deeper  \n",
       "4   Curious to dive deeper  "
      ]
     },
     "execution_count": 7,
     "metadata": {},
     "output_type": "execute_result"
    }
   ],
   "source": [
    "df.head()"
   ]
  },
  {
   "cell_type": "code",
   "execution_count": 8,
   "id": "unknown-triangle",
   "metadata": {
    "execution": {
     "iopub.execute_input": "2021-03-27T10:27:46.220154Z",
     "iopub.status.busy": "2021-03-27T10:27:46.219320Z",
     "iopub.status.idle": "2021-03-27T10:29:10.174416Z",
     "shell.execute_reply": "2021-03-27T10:29:10.173414Z"
    },
    "papermill": {
     "duration": 83.988346,
     "end_time": "2021-03-27T10:29:10.174583",
     "exception": false,
     "start_time": "2021-03-27T10:27:46.186237",
     "status": "completed"
    },
    "tags": []
   },
   "outputs": [
    {
     "name": "stderr",
     "output_type": "stream",
     "text": [
      "100%|██████████| 188378/188378 [01:23<00:00, 2244.23it/s]\n"
     ]
    }
   ],
   "source": [
    "# Vectorize the data.\n",
    "input_texts = []\n",
    "target_texts = []\n",
    "input_words_set = set()\n",
    "target_words_set = set()\n",
    "\n",
    "for conversation_index in tqdm(range(df.shape[0])):\n",
    "    \n",
    "    if conversation_index == 0:\n",
    "        continue\n",
    "        \n",
    "    input_text = df.iloc[conversation_index - 1]\n",
    "    target_text = df.iloc[conversation_index]\n",
    "    \n",
    "    if input_text.conversation_id == target_text.conversation_id:\n",
    "        \n",
    "        input_text = input_text.message\n",
    "        target_text = target_text.message\n",
    "        \n",
    "        if len(input_text.split()) > 2 and \\\n",
    "            len(target_text.split()) > 0 and \\\n",
    "            len(input_text.split()) < 30 and \\\n",
    "            len(target_text.split()) < 10 and \\\n",
    "            input_text and \\\n",
    "            target_text:\n",
    "            \n",
    "            target_text = \"bos \" + target_text + \" eos\"\n",
    "                \n",
    "            input_texts.append(input_text)\n",
    "            target_texts.append(target_text)\n",
    "            \n",
    "            for word in input_text.split():\n",
    "                if word not in input_words_set:\n",
    "                    input_words_set.add(word)\n",
    "            for word in target_text.split():\n",
    "                if word not in target_words_set:\n",
    "                    target_words_set.add(word)"
   ]
  },
  {
   "cell_type": "code",
   "execution_count": 9,
   "id": "accepting-assist",
   "metadata": {
    "execution": {
     "iopub.execute_input": "2021-03-27T10:29:10.774116Z",
     "iopub.status.busy": "2021-03-27T10:29:10.768950Z",
     "iopub.status.idle": "2021-03-27T10:29:11.650224Z",
     "shell.execute_reply": "2021-03-27T10:29:11.649509Z"
    },
    "papermill": {
     "duration": 1.185284,
     "end_time": "2021-03-27T10:29:11.650408",
     "exception": false,
     "start_time": "2021-03-27T10:29:10.465124",
     "status": "completed"
    },
    "tags": []
   },
   "outputs": [
    {
     "name": "stdout",
     "output_type": "stream",
     "text": [
      "Number of samples: 20190\n",
      "Number of unique input tokens: 12272\n",
      "Number of unique output tokens: 7485\n",
      "Max sequence length for inputs: 29\n",
      "Max sequence length for outputs: 11\n"
     ]
    }
   ],
   "source": [
    "input_words = sorted(list(input_words_set))\n",
    "target_words = sorted(list(target_words_set))\n",
    "num_encoder_tokens = len(input_words)\n",
    "num_decoder_tokens = len(target_words)\n",
    "max_encoder_seq_length = max([len(txt.split()) for txt in input_texts])\n",
    "max_decoder_seq_length = max([len(txt.split()) for txt in target_texts])\n",
    "\n",
    "print(\"Number of samples:\", len(input_texts))\n",
    "print(\"Number of unique input tokens:\", num_encoder_tokens)\n",
    "print(\"Number of unique output tokens:\", num_decoder_tokens)\n",
    "print(\"Max sequence length for inputs:\", max_encoder_seq_length)\n",
    "print(\"Max sequence length for outputs:\", max_decoder_seq_length)\n",
    "\n",
    "input_token_index = dict([(word, i) for i, word in enumerate(input_words)])\n",
    "target_token_index = dict([(word, i) for i, word in enumerate(target_words)])\n",
    "\n",
    "#saving\n",
    "with open('input_token_index.pickle', 'wb') as handle:\n",
    "    pickle.dump(input_token_index, handle, protocol=pickle.HIGHEST_PROTOCOL)\n",
    "    \n",
    "#saving\n",
    "with open('target_token_index.pickle', 'wb') as handle:\n",
    "    pickle.dump(target_token_index, handle, protocol=pickle.HIGHEST_PROTOCOL)\n",
    "\n",
    "\n",
    "encoder_input_data = np.zeros(\n",
    "    (len(input_texts), max_encoder_seq_length), dtype=\"float32\"\n",
    ")\n",
    "decoder_input_data = np.zeros(\n",
    "    (len(input_texts), max_decoder_seq_length), dtype=\"float32\"\n",
    ")\n",
    "decoder_target_data = np.zeros(\n",
    "    (len(input_texts), max_decoder_seq_length, num_decoder_tokens), dtype=\"float32\"\n",
    ")\n",
    "\n",
    "for i, (input_text, target_text) in enumerate(zip(input_texts, target_texts)):\n",
    "    \n",
    "    for t, word in enumerate(input_text.split()):\n",
    "        encoder_input_data[i, t] = input_token_index[word]\n",
    "    \n",
    "    for t, word in enumerate(target_text.split()):\n",
    "        # decoder_target_data is ahead of decoder_input_data by one timestep\n",
    "        decoder_input_data[i, t] = target_token_index[word]\n",
    "        if t > 0:\n",
    "            # decoder_target_data will be ahead by one timestep\n",
    "            # and will not include the start character.\n",
    "            decoder_target_data[i, t - 1, target_token_index[word]] = 1.0"
   ]
  },
  {
   "cell_type": "code",
   "execution_count": 10,
   "id": "collected-mozambique",
   "metadata": {
    "execution": {
     "iopub.execute_input": "2021-03-27T10:29:12.237080Z",
     "iopub.status.busy": "2021-03-27T10:29:12.236167Z",
     "iopub.status.idle": "2021-03-27T10:29:16.675833Z",
     "shell.execute_reply": "2021-03-27T10:29:16.675061Z"
    },
    "papermill": {
     "duration": 4.739496,
     "end_time": "2021-03-27T10:29:16.676042",
     "exception": false,
     "start_time": "2021-03-27T10:29:11.936546",
     "status": "completed"
    },
    "tags": []
   },
   "outputs": [
    {
     "name": "stdout",
     "output_type": "stream",
     "text": [
      "Model: \"model\"\n",
      "__________________________________________________________________________________________________\n",
      "Layer (type)                    Output Shape         Param #     Connected to                     \n",
      "==================================================================================================\n",
      "input_1 (InputLayer)            [(None, None)]       0                                            \n",
      "__________________________________________________________________________________________________\n",
      "input_2 (InputLayer)            [(None, None)]       0                                            \n",
      "__________________________________________________________________________________________________\n",
      "embedding (Embedding)           (None, None, 100)    1227200     input_1[0][0]                    \n",
      "__________________________________________________________________________________________________\n",
      "embedding_1 (Embedding)         (None, None, 100)    748500      input_2[0][0]                    \n",
      "__________________________________________________________________________________________________\n",
      "lstm (LSTM)                     [(None, 512), (None, 1255424     embedding[0][0]                  \n",
      "__________________________________________________________________________________________________\n",
      "lstm_1 (LSTM)                   [(None, None, 512),  1255424     embedding_1[0][0]                \n",
      "                                                                 lstm[0][1]                       \n",
      "                                                                 lstm[0][2]                       \n",
      "__________________________________________________________________________________________________\n",
      "dense (Dense)                   (None, None, 7485)   3839805     lstm_1[0][0]                     \n",
      "==================================================================================================\n",
      "Total params: 8,326,353\n",
      "Trainable params: 8,326,353\n",
      "Non-trainable params: 0\n",
      "__________________________________________________________________________________________________\n"
     ]
    }
   ],
   "source": [
    "embedding_size = 100\n",
    "\n",
    "# seq2seq model - https://keras.io/examples/nlp/lstm_seq2seq/\n",
    "with strategy.scope():\n",
    "    # Define an input sequence and process it.\n",
    "    encoder_inputs = keras.Input(shape=(None,))\n",
    "    \n",
    "    encoder_embedding_output = keras.layers.Embedding(num_encoder_tokens, embedding_size)(encoder_inputs)\n",
    "                                               \n",
    "    encoder = keras.layers.LSTM(latent_dim, return_state=True)\n",
    "    encoder_outputs, state_h, state_c = encoder(encoder_embedding_output)\n",
    "\n",
    "    # We discard `encoder_outputs` and only keep the states.\n",
    "    encoder_states = [state_h, state_c]\n",
    "\n",
    "    # Set up the decoder, using `encoder_states` as initial state.\n",
    "    decoder_inputs = keras.Input(shape=(None,))\n",
    "    \n",
    "    decoder_embedding = keras.layers.Embedding(num_decoder_tokens, embedding_size)\n",
    "    decoder_embedding_output = decoder_embedding(decoder_inputs)\n",
    "    \n",
    "\n",
    "    # We set up our decoder to return full output sequences,\n",
    "    # and to return internal states as well. We don't use the\n",
    "    # return states in the training model, but we will use them in inference.\n",
    "    decoder_lstm = keras.layers.LSTM(latent_dim, return_sequences=True, return_state=True)\n",
    "    decoder_outputs, _, _ = decoder_lstm(decoder_embedding_output, initial_state=encoder_states)\n",
    "    decoder_dense = keras.layers.Dense(num_decoder_tokens, activation=\"softmax\")\n",
    "    decoder_outputs = decoder_dense(decoder_outputs)\n",
    "\n",
    "    # Define the model that will turn\n",
    "    # `encoder_input_data` & `decoder_input_data` into `decoder_target_data`\n",
    "    model = keras.Model([encoder_inputs, decoder_inputs], decoder_outputs)\n",
    "    model.compile(\n",
    "        optimizer=\"adam\", loss=\"categorical_crossentropy\", metrics=[\"accuracy\"]\n",
    "    )\n",
    "    model.summary()"
   ]
  },
  {
   "cell_type": "code",
   "execution_count": 11,
   "id": "exciting-desire",
   "metadata": {
    "_kg_hide-output": true,
    "execution": {
     "iopub.execute_input": "2021-03-27T10:29:17.253690Z",
     "iopub.status.busy": "2021-03-27T10:29:17.252850Z",
     "iopub.status.idle": "2021-03-27T10:36:04.207706Z",
     "shell.execute_reply": "2021-03-27T10:36:04.207109Z"
    },
    "papermill": {
     "duration": 407.246187,
     "end_time": "2021-03-27T10:36:04.207870",
     "exception": false,
     "start_time": "2021-03-27T10:29:16.961683",
     "status": "completed"
    },
    "tags": []
   },
   "outputs": [
    {
     "name": "stdout",
     "output_type": "stream",
     "text": [
      "Epoch 1/20\n",
      "284/284 [==============================] - 29s 79ms/step - loss: 4.2122 - accuracy: 0.1085 - val_loss: 3.8888 - val_accuracy: 0.1148\n",
      "Epoch 2/20\n",
      "284/284 [==============================] - 19s 69ms/step - loss: 3.7445 - accuracy: 0.1195 - val_loss: 3.7955 - val_accuracy: 0.1236\n",
      "Epoch 3/20\n",
      "284/284 [==============================] - 19s 68ms/step - loss: 3.6225 - accuracy: 0.1300 - val_loss: 3.6998 - val_accuracy: 0.1358\n",
      "Epoch 4/20\n",
      "284/284 [==============================] - 20s 69ms/step - loss: 3.4956 - accuracy: 0.1425 - val_loss: 3.5775 - val_accuracy: 0.1541\n",
      "Epoch 5/20\n",
      "284/284 [==============================] - 19s 68ms/step - loss: 3.3715 - accuracy: 0.1589 - val_loss: 3.5158 - val_accuracy: 0.1596\n",
      "Epoch 6/20\n",
      "284/284 [==============================] - 20s 69ms/step - loss: 3.2700 - accuracy: 0.1705 - val_loss: 3.4535 - val_accuracy: 0.1725\n",
      "Epoch 7/20\n",
      "284/284 [==============================] - 20s 69ms/step - loss: 3.1933 - accuracy: 0.1784 - val_loss: 3.4085 - val_accuracy: 0.1741\n",
      "Epoch 8/20\n",
      "284/284 [==============================] - 19s 68ms/step - loss: 3.1294 - accuracy: 0.1846 - val_loss: 3.3742 - val_accuracy: 0.1781\n",
      "Epoch 9/20\n",
      "284/284 [==============================] - 20s 71ms/step - loss: 3.0254 - accuracy: 0.1925 - val_loss: 3.3333 - val_accuracy: 0.1841\n",
      "Epoch 10/20\n",
      "284/284 [==============================] - 19s 68ms/step - loss: 2.9738 - accuracy: 0.1959 - val_loss: 3.3165 - val_accuracy: 0.1856\n",
      "Epoch 11/20\n",
      "284/284 [==============================] - 20s 70ms/step - loss: 2.9074 - accuracy: 0.2018 - val_loss: 3.2769 - val_accuracy: 0.1905\n",
      "Epoch 12/20\n",
      "284/284 [==============================] - 20s 70ms/step - loss: 2.8611 - accuracy: 0.2064 - val_loss: 3.2671 - val_accuracy: 0.1914\n",
      "Epoch 13/20\n",
      "284/284 [==============================] - 20s 71ms/step - loss: 2.7887 - accuracy: 0.2116 - val_loss: 3.2327 - val_accuracy: 0.1951\n",
      "Epoch 14/20\n",
      "284/284 [==============================] - 20s 70ms/step - loss: 2.7088 - accuracy: 0.2176 - val_loss: 3.2163 - val_accuracy: 0.1984\n",
      "Epoch 15/20\n",
      "284/284 [==============================] - 19s 69ms/step - loss: 2.6602 - accuracy: 0.2219 - val_loss: 3.2198 - val_accuracy: 0.2001\n",
      "Epoch 16/20\n",
      "284/284 [==============================] - 19s 68ms/step - loss: 2.6048 - accuracy: 0.2289 - val_loss: 3.2086 - val_accuracy: 0.2021\n",
      "Epoch 17/20\n",
      "284/284 [==============================] - 19s 68ms/step - loss: 2.5347 - accuracy: 0.2334 - val_loss: 3.2116 - val_accuracy: 0.2052\n",
      "Epoch 18/20\n",
      "284/284 [==============================] - 19s 69ms/step - loss: 2.4710 - accuracy: 0.2402 - val_loss: 3.2293 - val_accuracy: 0.2057\n",
      "Epoch 19/20\n",
      "284/284 [==============================] - 19s 67ms/step - loss: 2.4227 - accuracy: 0.2443 - val_loss: 3.2528 - val_accuracy: 0.2088\n",
      "Epoch 20/20\n",
      "284/284 [==============================] - 20s 69ms/step - loss: 2.3768 - accuracy: 0.2511 - val_loss: 3.2830 - val_accuracy: 0.2109\n"
     ]
    }
   ],
   "source": [
    "history = model.fit(\n",
    "    [encoder_input_data, decoder_input_data],\n",
    "    decoder_target_data,\n",
    "    batch_size=batch_size,\n",
    "    epochs=20,\n",
    "    validation_split=0.1,\n",
    ")"
   ]
  },
  {
   "cell_type": "code",
   "execution_count": 12,
   "id": "imposed-turner",
   "metadata": {
    "execution": {
     "iopub.execute_input": "2021-03-27T10:36:08.825090Z",
     "iopub.status.busy": "2021-03-27T10:36:08.812163Z",
     "iopub.status.idle": "2021-03-27T10:36:09.054700Z",
     "shell.execute_reply": "2021-03-27T10:36:09.053930Z"
    },
    "papermill": {
     "duration": 2.418151,
     "end_time": "2021-03-27T10:36:09.054857",
     "exception": false,
     "start_time": "2021-03-27T10:36:06.636706",
     "status": "completed"
    },
    "tags": []
   },
   "outputs": [
    {
     "data": {
      "image/png": "[encoded data removed]",
      "text/plain": [
       "<Figure size 432x288 with 1 Axes>"
      ]
     },
     "metadata": {
      "needs_background": "light"
     },
     "output_type": "display_data"
    }
   ],
   "source": [
    "# summarize history for loss\n",
    "plt.plot(history.history['loss'])\n",
    "plt.plot(history.history['val_loss'])\n",
    "plt.title('model loss')\n",
    "plt.ylabel('loss')\n",
    "plt.xlabel('epoch')\n",
    "plt.legend(['train', 'test'], loc='upper right')\n",
    "plt.show()"
   ]
  },
  {
   "cell_type": "code",
   "execution_count": 13,
   "id": "compliant-blind",
   "metadata": {
    "execution": {
     "iopub.execute_input": "2021-03-27T10:36:13.362289Z",
     "iopub.status.busy": "2021-03-27T10:36:13.360965Z",
     "iopub.status.idle": "2021-03-27T10:36:13.528260Z",
     "shell.execute_reply": "2021-03-27T10:36:13.527712Z"
    },
    "papermill": {
     "duration": 2.352986,
     "end_time": "2021-03-27T10:36:13.528407",
     "exception": false,
     "start_time": "2021-03-27T10:36:11.175421",
     "status": "completed"
    },
    "tags": []
   },
   "outputs": [],
   "source": [
    "# Save model\n",
    "model.save(\"s2s.hdf5\")"
   ]
  },
  {
   "cell_type": "code",
   "execution_count": 14,
   "id": "enormous-gentleman",
   "metadata": {
    "execution": {
     "iopub.execute_input": "2021-03-27T10:36:18.206918Z",
     "iopub.status.busy": "2021-03-27T10:36:18.205889Z",
     "iopub.status.idle": "2021-03-27T10:36:18.494740Z",
     "shell.execute_reply": "2021-03-27T10:36:18.493825Z"
    },
    "papermill": {
     "duration": 2.82737,
     "end_time": "2021-03-27T10:36:18.494887",
     "exception": false,
     "start_time": "2021-03-27T10:36:15.667517",
     "status": "completed"
    },
    "tags": []
   },
   "outputs": [
    {
     "name": "stdout",
     "output_type": "stream",
     "text": [
      "Model: \"model_1\"\n",
      "_________________________________________________________________\n",
      "Layer (type)                 Output Shape              Param #   \n",
      "=================================================================\n",
      "input_1 (InputLayer)         [(None, None)]            0         \n",
      "_________________________________________________________________\n",
      "embedding (Embedding)        (None, None, 100)         1227200   \n",
      "_________________________________________________________________\n",
      "lstm (LSTM)                  [(None, 512), (None, 512) 1255424   \n",
      "=================================================================\n",
      "Total params: 2,482,624\n",
      "Trainable params: 2,482,624\n",
      "Non-trainable params: 0\n",
      "_________________________________________________________________\n"
     ]
    }
   ],
   "source": [
    "# define the encoder model \n",
    "encoder_model = keras.Model(encoder_inputs, encoder_states)\n",
    "encoder_model.summary()\n",
    "\n",
    "decoder_state_input_h = keras.Input(shape=(None,))\n",
    "decoder_state_input_c = keras.Input(shape=(None,))\n",
    "decoder_states_inputs = [decoder_state_input_h, decoder_state_input_c]\n",
    "\n",
    "decoder_embedding_output = decoder_embedding(decoder_inputs)\n",
    "\n",
    "decoder_outputs2, state_h2, state_c2 = decoder_lstm(decoder_embedding_output, initial_state=decoder_states_inputs)\n",
    "decoder_states2 = [state_h2, state_c2]\n",
    "decoder_outputs2 = decoder_dense(decoder_outputs2)\n",
    "decoder_model = keras.Model(\n",
    "    [decoder_inputs] + decoder_states_inputs,\n",
    "    [decoder_outputs2] + decoder_states2)\n",
    "# Reverse-lookup token index to decode sequences back \n",
    "reverse_input_char_index = dict(\n",
    "    (i, char) for char, i in input_token_index.items())\n",
    "reverse_target_char_index = dict(\n",
    "    (i, char) for char, i in target_token_index.items())"
   ]
  },
  {
   "cell_type": "code",
   "execution_count": 15,
   "id": "tested-charles",
   "metadata": {
    "execution": {
     "iopub.execute_input": "2021-03-27T10:36:22.815121Z",
     "iopub.status.busy": "2021-03-27T10:36:22.813958Z",
     "iopub.status.idle": "2021-03-27T10:36:22.874603Z",
     "shell.execute_reply": "2021-03-27T10:36:22.873967Z"
    },
    "papermill": {
     "duration": 2.185785,
     "end_time": "2021-03-27T10:36:22.874747",
     "exception": false,
     "start_time": "2021-03-27T10:36:20.688962",
     "status": "completed"
    },
    "tags": []
   },
   "outputs": [],
   "source": [
    "encoder_model.save(\"encoder_model.hdf5\")\n",
    "decoder_model.save(\"decoder_model.hdf5\")"
   ]
  },
  {
   "cell_type": "code",
   "execution_count": 16,
   "id": "referenced-helmet",
   "metadata": {
    "execution": {
     "iopub.execute_input": "2021-03-27T10:36:27.143194Z",
     "iopub.status.busy": "2021-03-27T10:36:27.142213Z",
     "iopub.status.idle": "2021-03-27T10:36:27.149782Z",
     "shell.execute_reply": "2021-03-27T10:36:27.149167Z"
    },
    "papermill": {
     "duration": 2.167144,
     "end_time": "2021-03-27T10:36:27.149927",
     "exception": false,
     "start_time": "2021-03-27T10:36:24.982783",
     "status": "completed"
    },
    "tags": []
   },
   "outputs": [],
   "source": [
    "def respond(text):\n",
    "    input_seq = np.zeros(\n",
    "        (1, max_encoder_seq_length), dtype=\"float32\"\n",
    "    )\n",
    "    \n",
    "    for t, word in enumerate(text.split()):\n",
    "        input_seq[0, t] = input_token_index[word]\n",
    "        \n",
    "    # Encode the input as state vectors.\n",
    "    states_value = encoder_model.predict(input_seq)\n",
    "    # Generate empty target sequence of length 1.\n",
    "    target_seq = np.zeros((1,1))\n",
    "    # Populate the first character of target sequence with the start character.\n",
    "    target_seq[0, 0] = target_token_index['bos']\n",
    "    # Sampling loop for a batch of sequences\n",
    "    # (to simplify, here we assume a batch of size 1).\n",
    "    stop_condition = False\n",
    "    decoded_sentence = ''\n",
    "    while not stop_condition:\n",
    "        output_tokens, h, c = decoder_model.predict([target_seq] + states_value)\n",
    "\n",
    "        # Sample a token\n",
    "        sampled_token_index = np.argmax(output_tokens[0, -1, :])\n",
    "        sampled_char = reverse_target_char_index[sampled_token_index]\n",
    "        \n",
    "        # Exit condition: either hit max length\n",
    "        # or find stop character.\n",
    "        if (sampled_char == 'eos' or\n",
    "           len(decoded_sentence) > 50):\n",
    "            stop_condition = True\n",
    "        else:\n",
    "            decoded_sentence += ' ' + sampled_char\n",
    "            \n",
    "        # Update the target sequence (of length 1).\n",
    "        target_seq = np.zeros((1,1))\n",
    "        target_seq[0, 0] = sampled_token_index\n",
    "        # Update states\n",
    "        states_value = [h, c]\n",
    "    return decoded_sentence"
   ]
  },
  {
   "cell_type": "code",
   "execution_count": 17,
   "id": "affecting-policy",
   "metadata": {
    "execution": {
     "iopub.execute_input": "2021-03-27T10:36:31.752275Z",
     "iopub.status.busy": "2021-03-27T10:36:31.748164Z",
     "iopub.status.idle": "2021-03-27T10:36:32.849560Z",
     "shell.execute_reply": "2021-03-27T10:36:32.848980Z"
    },
    "papermill": {
     "duration": 3.208566,
     "end_time": "2021-03-27T10:36:32.849696",
     "exception": false,
     "start_time": "2021-03-27T10:36:29.641130",
     "status": "completed"
    },
    "tags": []
   },
   "outputs": [
    {
     "data": {
      "text/plain": [
       "' im doing great how about you'"
      ]
     },
     "execution_count": 17,
     "metadata": {},
     "output_type": "execute_result"
    }
   ],
   "source": [
    "respond(\"how are you\")"
   ]
  },
  {
   "cell_type": "code",
   "execution_count": 18,
   "id": "suitable-bermuda",
   "metadata": {
    "execution": {
     "iopub.execute_input": "2021-03-27T10:36:37.842131Z",
     "iopub.status.busy": "2021-03-27T10:36:37.841118Z",
     "iopub.status.idle": "2021-03-27T10:36:38.206846Z",
     "shell.execute_reply": "2021-03-27T10:36:38.206348Z"
    },
    "papermill": {
     "duration": 2.604019,
     "end_time": "2021-03-27T10:36:38.207095",
     "exception": false,
     "start_time": "2021-03-27T10:36:35.603076",
     "status": "completed"
    },
    "tags": []
   },
   "outputs": [
    {
     "data": {
      "text/plain": [
       "' im doing great how about you'"
      ]
     },
     "execution_count": 18,
     "metadata": {},
     "output_type": "execute_result"
    }
   ],
   "source": [
    "respond(\"good morning\")"
   ]
  },
  {
   "cell_type": "code",
   "execution_count": 19,
   "id": "aware-mortgage",
   "metadata": {
    "execution": {
     "iopub.execute_input": "2021-03-27T10:36:42.812109Z",
     "iopub.status.busy": "2021-03-27T10:36:42.811124Z",
     "iopub.status.idle": "2021-03-27T10:36:42.948252Z",
     "shell.execute_reply": "2021-03-27T10:36:42.947662Z"
    },
    "papermill": {
     "duration": 2.259753,
     "end_time": "2021-03-27T10:36:42.948406",
     "exception": false,
     "start_time": "2021-03-27T10:36:40.688653",
     "status": "completed"
    },
    "tags": []
   },
   "outputs": [
    {
     "data": {
      "text/plain": [
       "' bye'"
      ]
     },
     "execution_count": 19,
     "metadata": {},
     "output_type": "execute_result"
    }
   ],
   "source": [
    "respond(\"good bye\")"
   ]
  },
  {
   "cell_type": "code",
   "execution_count": 20,
   "id": "valid-atlantic",
   "metadata": {
    "execution": {
     "iopub.execute_input": "2021-03-27T10:36:47.213884Z",
     "iopub.status.busy": "2021-03-27T10:36:47.212751Z",
     "iopub.status.idle": "2021-03-27T10:36:55.985380Z",
     "shell.execute_reply": "2021-03-27T10:36:55.984741Z"
    },
    "papermill": {
     "duration": 10.895664,
     "end_time": "2021-03-27T10:36:55.985527",
     "exception": false,
     "start_time": "2021-03-27T10:36:45.089863",
     "status": "completed"
    },
    "tags": []
   },
   "outputs": [
    {
     "name": "stdout",
     "output_type": "stream",
     "text": [
      "-\n",
      "Input sentence: yes google is the biggest search engine and google service figure out top 100 website including youtube and blogger\n",
      "Decoded sentence:  that is true do you like the simpsons\n",
      "-\n",
      "Input sentence: yes he even won a hardcore cha cha championship in 1958\n",
      "Decoded sentence:  yeah do you know who invented the simpsons\n",
      "-\n",
      "Input sentence: true did you know jackson had a patent on a dancing device\n",
      "Decoded sentence:  i wonder how that is that is that\n",
      "-\n",
      "Input sentence: yes it helped him smooth out his dance moves\n",
      "Decoded sentence:  that is true do you like to\n",
      "-\n",
      "Input sentence: i wonder if they met how that would go from there\n",
      "Decoded sentence:  yeah do you know who is it\n",
      "-\n",
      "Input sentence: oh yeah i didnt know that either i also want to go to google plex to see the goats who mow their lawn by eating it\n",
      "Decoded sentence:  i agree do you like the simpsons\n",
      "-\n",
      "Input sentence: hi do you like to dance\n",
      "Decoded sentence:  i do like the simpsons\n",
      "-\n",
      "Input sentence: dancing is a lot of fun did you know that bruce lee was a great dancer\n",
      "Decoded sentence:  i did not know that is that\n",
      "-\n",
      "Input sentence: he was indeed his music is even in the library of congress\n",
      "Decoded sentence:  yeah do you know who invented the simpsons\n",
      "-\n",
      "Input sentence: wow that is amazing coming from such a talented singer and dancer i couldnt even dance like that even if i dreamed of it\n",
      "Decoded sentence:  i wonder how about that 70s show\n",
      "-\n",
      "Input sentence: i heard that some professional ballet dancer can go through four pairs of shoes in a week\n",
      "Decoded sentence:  that is crazy do you like the simpsons\n",
      "-\n",
      "Input sentence: ha ha it was so nice chatting with you as well have a nice day bye\n",
      "Decoded sentence:  you too\n",
      "-\n",
      "Input sentence: yes he was in the nutcracker as the mouse king\n",
      "Decoded sentence:  yeah do you know who invented the simpsons\n",
      "-\n",
      "Input sentence: i wonder if they had met what he would have written about her\n",
      "Decoded sentence:  i wonder how that is that is that\n",
      "-\n",
      "Input sentence: yeah good point he also invented some womens names\n",
      "Decoded sentence:  that is crazy do you like the simpsons\n",
      "-\n",
      "Input sentence: and before on google moon they used to use cheese for close ups\n",
      "Decoded sentence:  that is true do you like the simpsons\n",
      "-\n",
      "Input sentence: do you know how google maps calculates traffic\n",
      "Decoded sentence:  i think it was called to travel\n",
      "-\n",
      "Input sentence: i am not sure how do they do this\n",
      "Decoded sentence:  i agree do you like the simpsons\n",
      "-\n",
      "Input sentence: but i like that they like to have fun too have you ever typed askew into google\n",
      "Decoded sentence:  i do not like it i love the simpsons\n",
      "-\n",
      "Input sentence: do you like comic books\n",
      "Decoded sentence:  i do like the simpsons\n"
     ]
    }
   ],
   "source": [
    "for seq_index in range(20):\n",
    "    # Take one sequence (part of the training set)\n",
    "    # for trying out decoding.\n",
    "    decoded_sentence = respond(input_texts[seq_index])\n",
    "    print(\"-\")\n",
    "    print(\"Input sentence:\", input_texts[seq_index])\n",
    "    print(\"Decoded sentence:\", decoded_sentence)"
   ]
  },
  {
   "cell_type": "code",
   "execution_count": 21,
   "id": "together-morgan",
   "metadata": {
    "execution": {
     "iopub.execute_input": "2021-03-27T10:37:00.327038Z",
     "iopub.status.busy": "2021-03-27T10:37:00.326399Z",
     "iopub.status.idle": "2021-03-27T10:37:00.329960Z",
     "shell.execute_reply": "2021-03-27T10:37:00.330499Z"
    },
    "papermill": {
     "duration": 2.141757,
     "end_time": "2021-03-27T10:37:00.330656",
     "exception": false,
     "start_time": "2021-03-27T10:36:58.188899",
     "status": "completed"
    },
    "tags": []
   },
   "outputs": [
    {
     "data": {
      "text/plain": [
       "2367"
      ]
     },
     "execution_count": 21,
     "metadata": {},
     "output_type": "execute_result"
    }
   ],
   "source": [
    "eos_token = target_token_index['eos']\n",
    "eos_token"
   ]
  },
  {
   "cell_type": "code",
   "execution_count": 22,
   "id": "contemporary-franklin",
   "metadata": {
    "execution": {
     "iopub.execute_input": "2021-03-27T10:37:04.839115Z",
     "iopub.status.busy": "2021-03-27T10:37:04.838175Z",
     "iopub.status.idle": "2021-03-27T10:37:04.842442Z",
     "shell.execute_reply": "2021-03-27T10:37:04.841802Z"
    },
    "papermill": {
     "duration": 2.119635,
     "end_time": "2021-03-27T10:37:04.842590",
     "exception": false,
     "start_time": "2021-03-27T10:37:02.722955",
     "status": "completed"
    },
    "tags": []
   },
   "outputs": [],
   "source": [
    "from math import log\n",
    "def generate_beam_text(seed_text, next_words, beam_search_n, break_at_eos):\n",
    "    \n",
    "    distributions_scores_states = [[list(), 0.0, [None, None]]]\n",
    "    \n",
    "    decoder_states_value = None\n",
    "    \n",
    "    for _ in range(next_words):\n",
    "        \n",
    "        sequence_temp_candidates = list()\n",
    "        \n",
    "        for i in range(len(distributions_scores_states)): \n",
    "            \n",
    "            input_seq = np.zeros(\n",
    "                (1, max_encoder_seq_length), dtype=\"float32\"\n",
    "            )\n",
    "            \n",
    "            # Generate empty target sequence of length 1.\n",
    "            target_seq = np.zeros((1,1))\n",
    "            \n",
    "            seq, score, states_values = distributions_scores_states[i]\n",
    "            \n",
    "            if len(distributions_scores_states) == 1:\n",
    "                for t, word in enumerate(process(seed_text).split()):\n",
    "                    input_seq[0, t] = input_token_index[word]\n",
    "                \n",
    "                # Encode the input as state vectors.\n",
    "                decoder_states_value = encoder_model.predict(input_seq)\n",
    "                \n",
    "                # Populate the first character of target sequence with the start character.\n",
    "                target_seq[0, 0] = target_token_index['bos']\n",
    "                \n",
    "            else:\n",
    "                target_seq[0, 0] = seq[-1]\n",
    "                decoder_states_value = states_values\n",
    "                \n",
    "                candidate_sentence = \"\"\n",
    "                for token_index in seq:\n",
    "                    if token_index == eos_token:\n",
    "                        break\n",
    "                        \n",
    "                    word = reverse_target_char_index[token_index]\n",
    "                    candidate_sentence+=word + \" \"\n",
    "                \n",
    "                print(\"score :\", score, \" | \", candidate_sentence)\n",
    "            \n",
    "            \n",
    "            output_tokens_distribution, h, c = decoder_model.predict([target_seq] + decoder_states_value)\n",
    "            \n",
    "            # Update states\n",
    "            decoder_states_value = [h, c]\n",
    "\n",
    "            predicted_distribution = output_tokens_distribution[0][0]\n",
    "            \n",
    "            for j in range(len(predicted_distribution)):\n",
    "                if predicted_distribution[j] > 0:\n",
    "                    candidate = [seq + [j], score - log(predicted_distribution[j]), decoder_states_value]\n",
    "                    if break_at_eos and j == eos_token:\n",
    "                        continue\n",
    "                    else:\n",
    "                        sequence_temp_candidates.append(candidate)\n",
    "\n",
    "        \n",
    "        # 2. score and sort all candidates\n",
    "        ordered = sorted(sequence_temp_candidates, key=lambda tup:tup[1])\n",
    "        \n",
    "        distributions_scores_states = ordered[:beam_search_n]\n",
    "          \n",
    "        print(\"-----\")\n"
   ]
  },
  {
   "cell_type": "code",
   "execution_count": 23,
   "id": "laughing-moldova",
   "metadata": {
    "execution": {
     "iopub.execute_input": "2021-03-27T10:37:09.696643Z",
     "iopub.status.busy": "2021-03-27T10:37:09.695489Z",
     "iopub.status.idle": "2021-03-27T10:37:12.847990Z",
     "shell.execute_reply": "2021-03-27T10:37:12.847056Z"
    },
    "papermill": {
     "duration": 5.390994,
     "end_time": "2021-03-27T10:37:12.848152",
     "exception": false,
     "start_time": "2021-03-27T10:37:07.457158",
     "status": "completed"
    },
    "tags": []
   },
   "outputs": [
    {
     "name": "stdout",
     "output_type": "stream",
     "text": [
      "-----\n",
      "score : 1.508763374648386  |  yeah \n",
      "score : 2.300557150569393  |  i \n",
      "score : 2.722317758640162  |  yes \n",
      "score : 3.1788073380596176  |  thats \n",
      "score : 3.239766224844746  |  that \n",
      "-----\n",
      "score : 3.0749155085018067  |  yeah do \n",
      "score : 3.635949544669585  |  that is \n",
      "score : 4.153193165356847  |  yeah it \n",
      "score : 4.181916516769293  |  i wonder \n",
      "score : 4.2536417320853825  |  yeah did \n",
      "-----\n",
      "score : 3.082756643449847  |  yeah do you \n",
      "score : 4.319386933931611  |  yeah did you \n",
      "score : 4.80027326558378  |  yeah it was \n",
      "score : 5.4698747423512595  |  i wonder if \n",
      "score : 5.561435009076355  |  that is a \n",
      "-----\n",
      "score : 3.855469520224067  |  yeah do you know \n",
      "score : 4.44540486420173  |  yeah do you like \n",
      "score : 5.15764814941168  |  yeah did you know \n",
      "score : 5.249811273073151  |  yeah did you ever \n",
      "score : 5.966278879033659  |  yeah do you listen \n",
      "-----\n"
     ]
    }
   ],
   "source": [
    "generate_beam_text(\"i wonder if they met how that would go from there\", 5, 5, False)"
   ]
  },
  {
   "cell_type": "code",
   "execution_count": 24,
   "id": "smoking-voltage",
   "metadata": {
    "execution": {
     "iopub.execute_input": "2021-03-27T10:37:17.108440Z",
     "iopub.status.busy": "2021-03-27T10:37:17.107406Z",
     "iopub.status.idle": "2021-03-27T10:37:19.027274Z",
     "shell.execute_reply": "2021-03-27T10:37:19.027816Z"
    },
    "papermill": {
     "duration": 4.042042,
     "end_time": "2021-03-27T10:37:19.028001",
     "exception": false,
     "start_time": "2021-03-27T10:37:14.985959",
     "status": "completed"
    },
    "tags": []
   },
   "outputs": [
    {
     "name": "stdout",
     "output_type": "stream",
     "text": [
      "-----\n",
      "score : 0.6923293816944258  |  i \n",
      "score : 1.7951278810092168  |  yes \n",
      "score : 2.5549163675296684  |  hello \n",
      "score : 3.076988190827499  |  hi \n",
      "score : 3.4503708156687045  |  no \n",
      "-----\n",
      "score : 1.7784087598247964  |  i do \n",
      "score : 2.2440612155839346  |  i love \n",
      "score : 2.2472715145797  |  yes i \n",
      "score : 2.9221924466814833  |  i am \n",
      "score : 3.3952805422411156  |  hello i \n",
      "-----\n",
      "score : 3.223500757115688  |  i do like \n",
      "score : 3.5311024281654237  |  yes i love \n",
      "score : 3.5903981162668344  |  yes i do \n",
      "score : 3.9675193287741655  |  i do do \n",
      "score : 4.005788316589965  |  i do not \n",
      "-----\n"
     ]
    }
   ],
   "source": [
    "generate_beam_text(\"do you like comic books\", 4, 5, False)"
   ]
  },
  {
   "cell_type": "code",
   "execution_count": 25,
   "id": "amber-perception",
   "metadata": {
    "execution": {
     "iopub.execute_input": "2021-03-27T10:37:23.741247Z",
     "iopub.status.busy": "2021-03-27T10:37:23.740550Z",
     "iopub.status.idle": "2021-03-27T10:37:26.094997Z",
     "shell.execute_reply": "2021-03-27T10:37:26.093730Z"
    },
    "papermill": {
     "duration": 4.859103,
     "end_time": "2021-03-27T10:37:26.095156",
     "exception": false,
     "start_time": "2021-03-27T10:37:21.236053",
     "status": "completed"
    },
    "tags": []
   },
   "outputs": [
    {
     "name": "stdout",
     "output_type": "stream",
     "text": [
      "-----\n",
      "score : 1.7102533650594378  |  have \n",
      "score : 1.7118555216243436  |  you \n",
      "score : 2.328844675879099  |  thanks \n",
      "score : 3.1592126918586683  |  same \n",
      "score : 3.1686122547974658  |  good \n",
      "-----\n",
      "score : 1.821844011993711  |  have a \n",
      "score : 2.1114886353258004  |  you too \n",
      "score : 3.364815084312946  |  you as \n",
      "score : 3.4689299083235925  |  thanks \n",
      "score : 3.702053709354673  |  thanks you \n",
      "-----\n",
      "score : 2.336939836421376  |  have a good \n",
      "score : 2.455030583826675  |  you too \n",
      "score : 3.3327284266831114  |  have a great \n",
      "score : 3.559883090899644  |  you as well \n",
      "score : 4.876384816966427  |  thanks you \n",
      "-----\n",
      "score : 3.175420771274927  |  have a good day \n",
      "score : 3.860761856899029  |  have a great day \n",
      "score : 3.8740029184516396  |  you as well \n",
      "score : 4.21619233912346  |  have a good one \n",
      "score : 4.613287070278759  |  have a good night \n",
      "-----\n"
     ]
    }
   ],
   "source": [
    "generate_beam_text(\"thanks\", 5, 5, False)"
   ]
  },
  {
   "cell_type": "code",
   "execution_count": 26,
   "id": "incident-bunch",
   "metadata": {
    "execution": {
     "iopub.execute_input": "2021-03-27T10:37:30.400971Z",
     "iopub.status.busy": "2021-03-27T10:37:30.400378Z",
     "iopub.status.idle": "2021-03-27T10:37:32.782575Z",
     "shell.execute_reply": "2021-03-27T10:37:32.781753Z"
    },
    "papermill": {
     "duration": 4.499802,
     "end_time": "2021-03-27T10:37:32.782713",
     "exception": false,
     "start_time": "2021-03-27T10:37:28.282911",
     "status": "completed"
    },
    "tags": []
   },
   "outputs": [
    {
     "name": "stdout",
     "output_type": "stream",
     "text": [
      "-----\n",
      "score : 0.6967029514232902  |  i \n",
      "score : 2.058328723317083  |  yes \n",
      "score : 2.3854770252110087  |  hello \n",
      "score : 2.973131143488388  |  hi \n",
      "score : 3.1969852540288826  |  im \n",
      "-----\n",
      "score : 1.8577302773662696  |  i do \n",
      "score : 2.1974824432530173  |  i love \n",
      "score : 2.5369583358750436  |  yes i \n",
      "score : 2.663272202514004  |  i am \n",
      "score : 3.214885945392991  |  hello i \n",
      "-----\n",
      "score : 3.473527080311821  |  i do like \n",
      "score : 3.7176748035168794  |  yes i love \n",
      "score : 3.8828897931598765  |  i do do \n",
      "score : 4.018547636007732  |  yes i do \n",
      "score : 4.246595135131729  |  i am a \n",
      "-----\n",
      "score : 3.892527788427893  |  i do do you \n",
      "score : 5.497044016645958  |  yes i do do \n",
      "score : 5.660947931904751  |  yes i love the \n",
      "score : 5.675961980351319  |  i do like the \n",
      "score : 5.792850907830006  |  yes i do like \n",
      "-----\n"
     ]
    }
   ],
   "source": [
    "generate_beam_text(\"hi do you like to dance\", 5, 5, False)"
   ]
  }
 ],
 "metadata": {
  "kernelspec": {
   "display_name": "Python 3",
   "language": "python",
   "name": "python3"
  },
  "language_info": {
   "codemirror_mode": {
    "name": "ipython",
    "version": 3
   },
   "file_extension": ".py",
   "mimetype": "text/x-python",
   "name": "python",
   "nbconvert_exporter": "python",
   "pygments_lexer": "ipython3",
   "version": "3.7.9"
  },
  "papermill": {
   "default_parameters": {},
   "duration": 609.075203,
   "end_time": "2021-03-27T10:37:38.482862",
   "environment_variables": {},
   "exception": null,
   "input_path": "__notebook__.ipynb",
   "output_path": "__notebook__.ipynb",
   "parameters": {},
   "start_time": "2021-03-27T10:27:29.407659",
   "version": "2.3.2"
  }
 },
 "nbformat": 4,
 "nbformat_minor": 5
}
