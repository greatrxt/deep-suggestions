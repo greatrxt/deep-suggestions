{
 "cells": [
  {
   "cell_type": "code",
   "execution_count": 1,
   "metadata": {
    "_cell_guid": "b1076dfc-b9ad-4769-8c92-a6c4dae69d19",
    "_uuid": "8f2839f25d086af736a60e9eeb907d3b93b6e0e5",
    "execution": {
     "iopub.execute_input": "2021-03-15T05:19:59.692898Z",
     "iopub.status.busy": "2021-03-15T05:19:59.692185Z",
     "iopub.status.idle": "2021-03-15T05:20:01.125397Z",
     "shell.execute_reply": "2021-03-15T05:20:01.124585Z"
    },
    "papermill": {
     "duration": 1.446525,
     "end_time": "2021-03-15T05:20:01.125612",
     "exception": false,
     "start_time": "2021-03-15T05:19:59.679087",
     "status": "completed"
    },
    "tags": []
   },
   "outputs": [],
   "source": [
    "import pickle\n",
    "import numpy as np\n",
    "import os\n",
    "from sklearn.cluster import DBSCAN\n",
    "from sklearn import metrics\n",
    "from sklearn.preprocessing import StandardScaler\n",
    "from tqdm import tqdm\n",
    "import pandas as pd\n",
    "import matplotlib.pyplot as plt"
   ]
  },
  {
   "cell_type": "code",
   "execution_count": 2,
   "metadata": {
    "execution": {
     "iopub.execute_input": "2021-03-15T05:20:01.145920Z",
     "iopub.status.busy": "2021-03-15T05:20:01.145234Z",
     "iopub.status.idle": "2021-03-15T05:29:06.129502Z",
     "shell.execute_reply": "2021-03-15T05:29:06.130053Z"
    },
    "papermill": {
     "duration": 544.996736,
     "end_time": "2021-03-15T05:29:06.130444",
     "exception": false,
     "start_time": "2021-03-15T05:20:01.133708",
     "status": "completed"
    },
    "tags": []
   },
   "outputs": [
    {
     "data": {
      "text/html": [
       "<div>\n",
       "<style scoped>\n",
       "    .dataframe tbody tr th:only-of-type {\n",
       "        vertical-align: middle;\n",
       "    }\n",
       "\n",
       "    .dataframe tbody tr th {\n",
       "        vertical-align: top;\n",
       "    }\n",
       "\n",
       "    .dataframe thead th {\n",
       "        text-align: right;\n",
       "    }\n",
       "</style>\n",
       "<table border=\"1\" class=\"dataframe\">\n",
       "  <thead>\n",
       "    <tr style=\"text-align: right;\">\n",
       "      <th></th>\n",
       "      <th>0</th>\n",
       "      <th>1</th>\n",
       "      <th>2</th>\n",
       "      <th>3</th>\n",
       "      <th>4</th>\n",
       "      <th>5</th>\n",
       "      <th>6</th>\n",
       "      <th>7</th>\n",
       "      <th>8</th>\n",
       "      <th>9</th>\n",
       "      <th>...</th>\n",
       "      <th>21851</th>\n",
       "      <th>21852</th>\n",
       "      <th>21853</th>\n",
       "      <th>21854</th>\n",
       "      <th>21855</th>\n",
       "      <th>21856</th>\n",
       "      <th>21857</th>\n",
       "      <th>21858</th>\n",
       "      <th>21859</th>\n",
       "      <th>21860</th>\n",
       "    </tr>\n",
       "  </thead>\n",
       "  <tbody>\n",
       "    <tr>\n",
       "      <th>0</th>\n",
       "      <td>[0.0</td>\n",
       "      <td>0.624848</td>\n",
       "      <td>0.314564</td>\n",
       "      <td>0.654934</td>\n",
       "      <td>1.294268</td>\n",
       "      <td>1.364455</td>\n",
       "      <td>0.938746</td>\n",
       "      <td>1.383702</td>\n",
       "      <td>1.292668</td>\n",
       "      <td>0.660964</td>\n",
       "      <td>...</td>\n",
       "      <td>1.409477</td>\n",
       "      <td>1.395588</td>\n",
       "      <td>1.390710</td>\n",
       "      <td>1.355762</td>\n",
       "      <td>0.687141</td>\n",
       "      <td>1.349455</td>\n",
       "      <td>1.402012</td>\n",
       "      <td>0.653049</td>\n",
       "      <td>1.311919</td>\n",
       "      <td>0.9562379121780396]</td>\n",
       "    </tr>\n",
       "    <tr>\n",
       "      <th>1</th>\n",
       "      <td>[0.6248483657836914</td>\n",
       "      <td>0.000000</td>\n",
       "      <td>0.589709</td>\n",
       "      <td>0.807700</td>\n",
       "      <td>1.285767</td>\n",
       "      <td>1.341164</td>\n",
       "      <td>0.823230</td>\n",
       "      <td>1.350526</td>\n",
       "      <td>1.294159</td>\n",
       "      <td>0.808111</td>\n",
       "      <td>...</td>\n",
       "      <td>1.397494</td>\n",
       "      <td>1.375932</td>\n",
       "      <td>1.362597</td>\n",
       "      <td>0.911160</td>\n",
       "      <td>0.820518</td>\n",
       "      <td>1.339717</td>\n",
       "      <td>1.392230</td>\n",
       "      <td>0.772044</td>\n",
       "      <td>1.281263</td>\n",
       "      <td>0.9735188484191895]</td>\n",
       "    </tr>\n",
       "    <tr>\n",
       "      <th>2</th>\n",
       "      <td>[0.31456369161605835</td>\n",
       "      <td>0.589709</td>\n",
       "      <td>0.000000</td>\n",
       "      <td>0.881516</td>\n",
       "      <td>1.287673</td>\n",
       "      <td>1.334015</td>\n",
       "      <td>0.884419</td>\n",
       "      <td>1.362229</td>\n",
       "      <td>1.257278</td>\n",
       "      <td>0.883174</td>\n",
       "      <td>...</td>\n",
       "      <td>1.391326</td>\n",
       "      <td>1.365764</td>\n",
       "      <td>1.355997</td>\n",
       "      <td>1.313436</td>\n",
       "      <td>0.876100</td>\n",
       "      <td>1.329372</td>\n",
       "      <td>1.374006</td>\n",
       "      <td>0.873905</td>\n",
       "      <td>1.239146</td>\n",
       "      <td>0.6768272519111633]</td>\n",
       "    </tr>\n",
       "    <tr>\n",
       "      <th>3</th>\n",
       "      <td>[0.6549341082572937</td>\n",
       "      <td>0.807700</td>\n",
       "      <td>0.881516</td>\n",
       "      <td>0.000000</td>\n",
       "      <td>1.284081</td>\n",
       "      <td>1.399736</td>\n",
       "      <td>1.098558</td>\n",
       "      <td>1.410195</td>\n",
       "      <td>1.336739</td>\n",
       "      <td>0.077397</td>\n",
       "      <td>...</td>\n",
       "      <td>1.412715</td>\n",
       "      <td>1.396264</td>\n",
       "      <td>1.409354</td>\n",
       "      <td>1.400940</td>\n",
       "      <td>0.308745</td>\n",
       "      <td>1.346607</td>\n",
       "      <td>1.408358</td>\n",
       "      <td>0.537295</td>\n",
       "      <td>1.407516</td>\n",
       "      <td>1.3937983512878418]</td>\n",
       "    </tr>\n",
       "    <tr>\n",
       "      <th>4</th>\n",
       "      <td>[1.2942681312561035</td>\n",
       "      <td>1.285767</td>\n",
       "      <td>1.287673</td>\n",
       "      <td>1.284081</td>\n",
       "      <td>0.000000</td>\n",
       "      <td>1.318497</td>\n",
       "      <td>1.122091</td>\n",
       "      <td>1.295318</td>\n",
       "      <td>0.336642</td>\n",
       "      <td>1.264313</td>\n",
       "      <td>...</td>\n",
       "      <td>0.220967</td>\n",
       "      <td>0.754786</td>\n",
       "      <td>1.246654</td>\n",
       "      <td>1.267452</td>\n",
       "      <td>1.254806</td>\n",
       "      <td>1.265662</td>\n",
       "      <td>1.316441</td>\n",
       "      <td>1.035034</td>\n",
       "      <td>1.274180</td>\n",
       "      <td>1.3418880701065063]</td>\n",
       "    </tr>\n",
       "  </tbody>\n",
       "</table>\n",
       "<p>5 rows × 21861 columns</p>\n",
       "</div>"
      ],
      "text/plain": [
       "                  0         1         2         3         4         5      \\\n",
       "0                  [0.0  0.624848  0.314564  0.654934  1.294268  1.364455   \n",
       "1   [0.6248483657836914  0.000000  0.589709  0.807700  1.285767  1.341164   \n",
       "2  [0.31456369161605835  0.589709  0.000000  0.881516  1.287673  1.334015   \n",
       "3   [0.6549341082572937  0.807700  0.881516  0.000000  1.284081  1.399736   \n",
       "4   [1.2942681312561035  1.285767  1.287673  1.284081  0.000000  1.318497   \n",
       "\n",
       "      6         7         8         9      ...     21851     21852     21853  \\\n",
       "0  0.938746  1.383702  1.292668  0.660964  ...  1.409477  1.395588  1.390710   \n",
       "1  0.823230  1.350526  1.294159  0.808111  ...  1.397494  1.375932  1.362597   \n",
       "2  0.884419  1.362229  1.257278  0.883174  ...  1.391326  1.365764  1.355997   \n",
       "3  1.098558  1.410195  1.336739  0.077397  ...  1.412715  1.396264  1.409354   \n",
       "4  1.122091  1.295318  0.336642  1.264313  ...  0.220967  0.754786  1.246654   \n",
       "\n",
       "      21854     21855     21856     21857     21858     21859  \\\n",
       "0  1.355762  0.687141  1.349455  1.402012  0.653049  1.311919   \n",
       "1  0.911160  0.820518  1.339717  1.392230  0.772044  1.281263   \n",
       "2  1.313436  0.876100  1.329372  1.374006  0.873905  1.239146   \n",
       "3  1.400940  0.308745  1.346607  1.408358  0.537295  1.407516   \n",
       "4  1.267452  1.254806  1.265662  1.316441  1.035034  1.274180   \n",
       "\n",
       "                  21860  \n",
       "0   0.9562379121780396]  \n",
       "1   0.9735188484191895]  \n",
       "2   0.6768272519111633]  \n",
       "3   1.3937983512878418]  \n",
       "4   1.3418880701065063]  \n",
       "\n",
       "[5 rows x 21861 columns]"
      ]
     },
     "execution_count": 2,
     "metadata": {},
     "output_type": "execute_result"
    }
   ],
   "source": [
    "df = pd.read_csv(\"../input/smart-reply-sentence-similarity-using-annoy/target_similarity_matrix.txt\", header=None)\n",
    "df.head()"
   ]
  },
  {
   "cell_type": "code",
   "execution_count": 3,
   "metadata": {
    "execution": {
     "iopub.execute_input": "2021-03-15T05:29:06.148591Z",
     "iopub.status.busy": "2021-03-15T05:29:06.147948Z",
     "iopub.status.idle": "2021-03-15T05:29:06.157935Z",
     "shell.execute_reply": "2021-03-15T05:29:06.158464Z"
    },
    "papermill": {
     "duration": 0.02137,
     "end_time": "2021-03-15T05:29:06.158630",
     "exception": false,
     "start_time": "2021-03-15T05:29:06.137260",
     "status": "completed"
    },
    "tags": []
   },
   "outputs": [
    {
     "data": {
      "text/plain": [
       "0                        [0.0\n",
       "1         [0.6248483657836914\n",
       "2        [0.31456369161605835\n",
       "3         [0.6549341082572937\n",
       "4         [1.2942681312561035\n",
       "                 ...         \n",
       "21856     [1.3494552373886108\n",
       "21857     [1.4020123481750488\n",
       "21858     [0.6530489921569824\n",
       "21859     [1.3119194507598877\n",
       "21860     [0.9562379121780396\n",
       "Name: 0, Length: 21861, dtype: object"
      ]
     },
     "execution_count": 3,
     "metadata": {},
     "output_type": "execute_result"
    }
   ],
   "source": [
    "# first and last column data contains [ and ]\n",
    "df.iloc[:,0]"
   ]
  },
  {
   "cell_type": "code",
   "execution_count": 4,
   "metadata": {
    "execution": {
     "iopub.execute_input": "2021-03-15T05:29:06.185954Z",
     "iopub.status.busy": "2021-03-15T05:29:06.184673Z",
     "iopub.status.idle": "2021-03-15T05:29:06.189070Z",
     "shell.execute_reply": "2021-03-15T05:29:06.188548Z"
    },
    "papermill": {
     "duration": 0.023387,
     "end_time": "2021-03-15T05:29:06.189221",
     "exception": false,
     "start_time": "2021-03-15T05:29:06.165834",
     "status": "completed"
    },
    "tags": []
   },
   "outputs": [
    {
     "data": {
      "text/html": [
       "<div>\n",
       "<style scoped>\n",
       "    .dataframe tbody tr th:only-of-type {\n",
       "        vertical-align: middle;\n",
       "    }\n",
       "\n",
       "    .dataframe tbody tr th {\n",
       "        vertical-align: top;\n",
       "    }\n",
       "\n",
       "    .dataframe thead th {\n",
       "        text-align: right;\n",
       "    }\n",
       "</style>\n",
       "<table border=\"1\" class=\"dataframe\">\n",
       "  <thead>\n",
       "    <tr style=\"text-align: right;\">\n",
       "      <th></th>\n",
       "      <th>21860</th>\n",
       "    </tr>\n",
       "  </thead>\n",
       "  <tbody>\n",
       "    <tr>\n",
       "      <th>0</th>\n",
       "      <td>0.9562379121780396]</td>\n",
       "    </tr>\n",
       "    <tr>\n",
       "      <th>1</th>\n",
       "      <td>0.9735188484191895]</td>\n",
       "    </tr>\n",
       "    <tr>\n",
       "      <th>2</th>\n",
       "      <td>0.6768272519111633]</td>\n",
       "    </tr>\n",
       "    <tr>\n",
       "      <th>3</th>\n",
       "      <td>1.3937983512878418]</td>\n",
       "    </tr>\n",
       "    <tr>\n",
       "      <th>4</th>\n",
       "      <td>1.3418880701065063]</td>\n",
       "    </tr>\n",
       "    <tr>\n",
       "      <th>...</th>\n",
       "      <td>...</td>\n",
       "    </tr>\n",
       "    <tr>\n",
       "      <th>21856</th>\n",
       "      <td>1.2391308546066284]</td>\n",
       "    </tr>\n",
       "    <tr>\n",
       "      <th>21857</th>\n",
       "      <td>1.2473222017288208]</td>\n",
       "    </tr>\n",
       "    <tr>\n",
       "      <th>21858</th>\n",
       "      <td>1.381412148475647]</td>\n",
       "    </tr>\n",
       "    <tr>\n",
       "      <th>21859</th>\n",
       "      <td>1.0659825801849365]</td>\n",
       "    </tr>\n",
       "    <tr>\n",
       "      <th>21860</th>\n",
       "      <td>0.0]</td>\n",
       "    </tr>\n",
       "  </tbody>\n",
       "</table>\n",
       "<p>21861 rows × 1 columns</p>\n",
       "</div>"
      ],
      "text/plain": [
       "                      21860\n",
       "0       0.9562379121780396]\n",
       "1       0.9735188484191895]\n",
       "2       0.6768272519111633]\n",
       "3       1.3937983512878418]\n",
       "4       1.3418880701065063]\n",
       "...                     ...\n",
       "21856   1.2391308546066284]\n",
       "21857   1.2473222017288208]\n",
       "21858    1.381412148475647]\n",
       "21859   1.0659825801849365]\n",
       "21860                  0.0]\n",
       "\n",
       "[21861 rows x 1 columns]"
      ]
     },
     "execution_count": 4,
     "metadata": {},
     "output_type": "execute_result"
    }
   ],
   "source": [
    "df.iloc[:,-1:]"
   ]
  },
  {
   "cell_type": "code",
   "execution_count": 5,
   "metadata": {
    "execution": {
     "iopub.execute_input": "2021-03-15T05:29:06.255038Z",
     "iopub.status.busy": "2021-03-15T05:29:06.222999Z",
     "iopub.status.idle": "2021-03-15T05:29:06.281539Z",
     "shell.execute_reply": "2021-03-15T05:29:06.280874Z"
    },
    "papermill": {
     "duration": 0.084453,
     "end_time": "2021-03-15T05:29:06.281685",
     "exception": false,
     "start_time": "2021-03-15T05:29:06.197232",
     "status": "completed"
    },
    "tags": []
   },
   "outputs": [
    {
     "name": "stderr",
     "output_type": "stream",
     "text": [
      "/opt/conda/lib/python3.7/site-packages/ipykernel_launcher.py:2: FutureWarning: The default value of regex will change from True to False in a future version. In addition, single character regular expressions will*not* be treated as literal strings when regex=True.\n",
      "  \n",
      "/opt/conda/lib/python3.7/site-packages/ipykernel_launcher.py:3: FutureWarning: The default value of regex will change from True to False in a future version. In addition, single character regular expressions will*not* be treated as literal strings when regex=True.\n",
      "  This is separate from the ipykernel package so we can avoid doing imports until\n"
     ]
    }
   ],
   "source": [
    "# cleaning first and last columns\n",
    "df.iloc[:,0] = df.iloc[:,0].str.replace(\"[\", \"\").str.strip()\n",
    "df.iloc[:,-1:] = df.iloc[:,-1].str.replace(\"]\", \"\").str.strip()"
   ]
  },
  {
   "cell_type": "code",
   "execution_count": 6,
   "metadata": {
    "execution": {
     "iopub.execute_input": "2021-03-15T05:29:06.306469Z",
     "iopub.status.busy": "2021-03-15T05:29:06.305492Z",
     "iopub.status.idle": "2021-03-15T05:29:06.310012Z",
     "shell.execute_reply": "2021-03-15T05:29:06.309347Z"
    },
    "papermill": {
     "duration": 0.019907,
     "end_time": "2021-03-15T05:29:06.310176",
     "exception": false,
     "start_time": "2021-03-15T05:29:06.290269",
     "status": "completed"
    },
    "tags": []
   },
   "outputs": [
    {
     "data": {
      "text/plain": [
       "0                        0.0\n",
       "1         0.6248483657836914\n",
       "2        0.31456369161605835\n",
       "3         0.6549341082572937\n",
       "4         1.2942681312561035\n",
       "                ...         \n",
       "21856     1.3494552373886108\n",
       "21857     1.4020123481750488\n",
       "21858     0.6530489921569824\n",
       "21859     1.3119194507598877\n",
       "21860     0.9562379121780396\n",
       "Name: 0, Length: 21861, dtype: object"
      ]
     },
     "execution_count": 6,
     "metadata": {},
     "output_type": "execute_result"
    }
   ],
   "source": [
    "df.iloc[:,0]"
   ]
  },
  {
   "cell_type": "code",
   "execution_count": 7,
   "metadata": {
    "execution": {
     "iopub.execute_input": "2021-03-15T05:29:06.339721Z",
     "iopub.status.busy": "2021-03-15T05:29:06.338965Z",
     "iopub.status.idle": "2021-03-15T05:29:06.344619Z",
     "shell.execute_reply": "2021-03-15T05:29:06.343969Z"
    },
    "papermill": {
     "duration": 0.025697,
     "end_time": "2021-03-15T05:29:06.344769",
     "exception": false,
     "start_time": "2021-03-15T05:29:06.319072",
     "status": "completed"
    },
    "tags": []
   },
   "outputs": [
    {
     "data": {
      "text/html": [
       "<div>\n",
       "<style scoped>\n",
       "    .dataframe tbody tr th:only-of-type {\n",
       "        vertical-align: middle;\n",
       "    }\n",
       "\n",
       "    .dataframe tbody tr th {\n",
       "        vertical-align: top;\n",
       "    }\n",
       "\n",
       "    .dataframe thead th {\n",
       "        text-align: right;\n",
       "    }\n",
       "</style>\n",
       "<table border=\"1\" class=\"dataframe\">\n",
       "  <thead>\n",
       "    <tr style=\"text-align: right;\">\n",
       "      <th></th>\n",
       "      <th>21860</th>\n",
       "    </tr>\n",
       "  </thead>\n",
       "  <tbody>\n",
       "    <tr>\n",
       "      <th>0</th>\n",
       "      <td>0.9562379121780396</td>\n",
       "    </tr>\n",
       "    <tr>\n",
       "      <th>1</th>\n",
       "      <td>0.9735188484191895</td>\n",
       "    </tr>\n",
       "    <tr>\n",
       "      <th>2</th>\n",
       "      <td>0.6768272519111633</td>\n",
       "    </tr>\n",
       "    <tr>\n",
       "      <th>3</th>\n",
       "      <td>1.3937983512878418</td>\n",
       "    </tr>\n",
       "    <tr>\n",
       "      <th>4</th>\n",
       "      <td>1.3418880701065063</td>\n",
       "    </tr>\n",
       "    <tr>\n",
       "      <th>...</th>\n",
       "      <td>...</td>\n",
       "    </tr>\n",
       "    <tr>\n",
       "      <th>21856</th>\n",
       "      <td>1.2391308546066284</td>\n",
       "    </tr>\n",
       "    <tr>\n",
       "      <th>21857</th>\n",
       "      <td>1.2473222017288208</td>\n",
       "    </tr>\n",
       "    <tr>\n",
       "      <th>21858</th>\n",
       "      <td>1.381412148475647</td>\n",
       "    </tr>\n",
       "    <tr>\n",
       "      <th>21859</th>\n",
       "      <td>1.0659825801849365</td>\n",
       "    </tr>\n",
       "    <tr>\n",
       "      <th>21860</th>\n",
       "      <td>0.0</td>\n",
       "    </tr>\n",
       "  </tbody>\n",
       "</table>\n",
       "<p>21861 rows × 1 columns</p>\n",
       "</div>"
      ],
      "text/plain": [
       "                    21860\n",
       "0      0.9562379121780396\n",
       "1      0.9735188484191895\n",
       "2      0.6768272519111633\n",
       "3      1.3937983512878418\n",
       "4      1.3418880701065063\n",
       "...                   ...\n",
       "21856  1.2391308546066284\n",
       "21857  1.2473222017288208\n",
       "21858   1.381412148475647\n",
       "21859  1.0659825801849365\n",
       "21860                 0.0\n",
       "\n",
       "[21861 rows x 1 columns]"
      ]
     },
     "execution_count": 7,
     "metadata": {},
     "output_type": "execute_result"
    }
   ],
   "source": [
    "df.iloc[:,-1:]"
   ]
  },
  {
   "cell_type": "code",
   "execution_count": 8,
   "metadata": {
    "execution": {
     "iopub.execute_input": "2021-03-15T05:29:06.369282Z",
     "iopub.status.busy": "2021-03-15T05:29:06.368480Z",
     "iopub.status.idle": "2021-03-15T05:50:10.166349Z",
     "shell.execute_reply": "2021-03-15T05:50:10.165586Z"
    },
    "papermill": {
     "duration": 1263.812101,
     "end_time": "2021-03-15T05:50:10.166567",
     "exception": false,
     "start_time": "2021-03-15T05:29:06.354466",
     "status": "completed"
    },
    "tags": []
   },
   "outputs": [],
   "source": [
    "# saving the dataframe \n",
    "df.to_csv('target_similarity_matrix_float.csv', header=False, index=False)"
   ]
  }
 ],
 "metadata": {
  "kernelspec": {
   "display_name": "Python 3",
   "language": "python",
   "name": "python3"
  },
  "language_info": {
   "codemirror_mode": {
    "name": "ipython",
    "version": 3
   },
   "file_extension": ".py",
   "mimetype": "text/x-python",
   "name": "python",
   "nbconvert_exporter": "python",
   "pygments_lexer": "ipython3",
   "version": "3.7.9"
  },
  "papermill": {
   "default_parameters": {},
   "duration": 1817.458172,
   "end_time": "2021-03-15T05:50:11.294542",
   "environment_variables": {},
   "exception": null,
   "input_path": "__notebook__.ipynb",
   "output_path": "__notebook__.ipynb",
   "parameters": {},
   "start_time": "2021-03-15T05:19:53.836370",
   "version": "2.2.2"
  }
 },
 "nbformat": 4,
 "nbformat_minor": 4
}
