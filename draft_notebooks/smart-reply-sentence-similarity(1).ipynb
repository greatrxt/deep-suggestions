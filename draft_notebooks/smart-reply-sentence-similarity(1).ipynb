{
 "cells": [
  {
   "cell_type": "code",
   "execution_count": 1,
   "metadata": {
    "_cell_guid": "b1076dfc-b9ad-4769-8c92-a6c4dae69d19",
    "_uuid": "8f2839f25d086af736a60e9eeb907d3b93b6e0e5",
    "execution": {
     "iopub.execute_input": "2021-03-08T08:20:45.789352Z",
     "iopub.status.busy": "2021-03-08T08:20:45.788320Z",
     "iopub.status.idle": "2021-03-08T08:20:51.513941Z",
     "shell.execute_reply": "2021-03-08T08:20:51.514430Z"
    },
    "papermill": {
     "duration": 5.744182,
     "end_time": "2021-03-08T08:20:51.514797",
     "exception": false,
     "start_time": "2021-03-08T08:20:45.770615",
     "status": "completed"
    },
    "tags": []
   },
   "outputs": [],
   "source": [
    "import numpy as np\n",
    "import tensorflow as tf\n",
    "from tensorflow import keras\n",
    "import string, os \n",
    "import re\n",
    "from tqdm import tqdm\n",
    "import pandas as pd\n",
    "import matplotlib.pyplot as plt\n",
    "import pickle\n",
    "import gc"
   ]
  },
  {
   "cell_type": "code",
   "execution_count": 2,
   "metadata": {
    "execution": {
     "iopub.execute_input": "2021-03-08T08:20:51.547326Z",
     "iopub.status.busy": "2021-03-08T08:20:51.546659Z",
     "iopub.status.idle": "2021-03-08T08:20:52.368081Z",
     "shell.execute_reply": "2021-03-08T08:20:52.368529Z"
    },
    "papermill": {
     "duration": 0.839884,
     "end_time": "2021-03-08T08:20:52.368688",
     "exception": false,
     "start_time": "2021-03-08T08:20:51.528804",
     "status": "completed"
    },
    "tags": []
   },
   "outputs": [
    {
     "data": {
      "text/html": [
       "<div>\n",
       "<style scoped>\n",
       "    .dataframe tbody tr th:only-of-type {\n",
       "        vertical-align: middle;\n",
       "    }\n",
       "\n",
       "    .dataframe tbody tr th {\n",
       "        vertical-align: top;\n",
       "    }\n",
       "\n",
       "    .dataframe thead th {\n",
       "        text-align: right;\n",
       "    }\n",
       "</style>\n",
       "<table border=\"1\" class=\"dataframe\">\n",
       "  <thead>\n",
       "    <tr style=\"text-align: right;\">\n",
       "      <th></th>\n",
       "      <th>conversation_id</th>\n",
       "      <th>message</th>\n",
       "      <th>sentiment</th>\n",
       "    </tr>\n",
       "  </thead>\n",
       "  <tbody>\n",
       "    <tr>\n",
       "      <th>0</th>\n",
       "      <td>1</td>\n",
       "      <td>Are you a fan of Google or Microsoft?</td>\n",
       "      <td>Curious to dive deeper</td>\n",
       "    </tr>\n",
       "    <tr>\n",
       "      <th>1</th>\n",
       "      <td>1</td>\n",
       "      <td>Both are excellent technology they are helpfu...</td>\n",
       "      <td>Curious to dive deeper</td>\n",
       "    </tr>\n",
       "    <tr>\n",
       "      <th>2</th>\n",
       "      <td>1</td>\n",
       "      <td>I'm not  a huge fan of Google, but I use it a...</td>\n",
       "      <td>Curious to dive deeper</td>\n",
       "    </tr>\n",
       "    <tr>\n",
       "      <th>3</th>\n",
       "      <td>1</td>\n",
       "      <td>Google provides online related services and p...</td>\n",
       "      <td>Curious to dive deeper</td>\n",
       "    </tr>\n",
       "    <tr>\n",
       "      <th>4</th>\n",
       "      <td>1</td>\n",
       "      <td>Yeah, their services are good. I'm just not a...</td>\n",
       "      <td>Curious to dive deeper</td>\n",
       "    </tr>\n",
       "    <tr>\n",
       "      <th>...</th>\n",
       "      <td>...</td>\n",
       "      <td>...</td>\n",
       "      <td>...</td>\n",
       "    </tr>\n",
       "    <tr>\n",
       "      <th>188373</th>\n",
       "      <td>8628</td>\n",
       "      <td>Wow, it does not seem like that long. Since I...</td>\n",
       "      <td>Surprised</td>\n",
       "    </tr>\n",
       "    <tr>\n",
       "      <th>188374</th>\n",
       "      <td>8628</td>\n",
       "      <td>I havent seen that episode, I might google it...</td>\n",
       "      <td>Curious to dive deeper</td>\n",
       "    </tr>\n",
       "    <tr>\n",
       "      <th>188375</th>\n",
       "      <td>8628</td>\n",
       "      <td>I don't think I have either. That's an insane...</td>\n",
       "      <td>Curious to dive deeper</td>\n",
       "    </tr>\n",
       "    <tr>\n",
       "      <th>188376</th>\n",
       "      <td>8628</td>\n",
       "      <td>I did, my little brother used to love Thomas ...</td>\n",
       "      <td>Happy</td>\n",
       "    </tr>\n",
       "    <tr>\n",
       "      <th>188377</th>\n",
       "      <td>8628</td>\n",
       "      <td>It did. Ringo Starr, George Carlin, and Alec ...</td>\n",
       "      <td>Neutral</td>\n",
       "    </tr>\n",
       "  </tbody>\n",
       "</table>\n",
       "<p>188378 rows × 3 columns</p>\n",
       "</div>"
      ],
      "text/plain": [
       "        conversation_id                                            message  \\\n",
       "0                     1              Are you a fan of Google or Microsoft?   \n",
       "1                     1   Both are excellent technology they are helpfu...   \n",
       "2                     1   I'm not  a huge fan of Google, but I use it a...   \n",
       "3                     1   Google provides online related services and p...   \n",
       "4                     1   Yeah, their services are good. I'm just not a...   \n",
       "...                 ...                                                ...   \n",
       "188373             8628   Wow, it does not seem like that long. Since I...   \n",
       "188374             8628   I havent seen that episode, I might google it...   \n",
       "188375             8628   I don't think I have either. That's an insane...   \n",
       "188376             8628   I did, my little brother used to love Thomas ...   \n",
       "188377             8628   It did. Ringo Starr, George Carlin, and Alec ...   \n",
       "\n",
       "                      sentiment  \n",
       "0        Curious to dive deeper  \n",
       "1        Curious to dive deeper  \n",
       "2        Curious to dive deeper  \n",
       "3        Curious to dive deeper  \n",
       "4        Curious to dive deeper  \n",
       "...                         ...  \n",
       "188373                Surprised  \n",
       "188374   Curious to dive deeper  \n",
       "188375   Curious to dive deeper  \n",
       "188376                    Happy  \n",
       "188377                  Neutral  \n",
       "\n",
       "[188378 rows x 3 columns]"
      ]
     },
     "execution_count": 2,
     "metadata": {},
     "output_type": "execute_result"
    }
   ],
   "source": [
    "# reading dataset\n",
    "df = pd.read_csv('../input/chatbot-dataset-topical-chat/topical_chat.csv')\n",
    "df"
   ]
  },
  {
   "cell_type": "code",
   "execution_count": 3,
   "metadata": {
    "execution": {
     "iopub.execute_input": "2021-03-08T08:20:52.404190Z",
     "iopub.status.busy": "2021-03-08T08:20:52.403593Z",
     "iopub.status.idle": "2021-03-08T08:20:52.526961Z",
     "shell.execute_reply": "2021-03-08T08:20:52.526382Z"
    },
    "papermill": {
     "duration": 0.144731,
     "end_time": "2021-03-08T08:20:52.527124",
     "exception": false,
     "start_time": "2021-03-08T08:20:52.382393",
     "status": "completed"
    },
    "tags": []
   },
   "outputs": [],
   "source": [
    "df.drop_duplicates(subset=['conversation_id', 'message'], inplace=True)"
   ]
  },
  {
   "cell_type": "code",
   "execution_count": 4,
   "metadata": {
    "execution": {
     "iopub.execute_input": "2021-03-08T08:20:52.600519Z",
     "iopub.status.busy": "2021-03-08T08:20:52.599865Z",
     "iopub.status.idle": "2021-03-08T08:20:52.608601Z",
     "shell.execute_reply": "2021-03-08T08:20:52.607991Z"
    },
    "papermill": {
     "duration": 0.067394,
     "end_time": "2021-03-08T08:20:52.608783",
     "exception": false,
     "start_time": "2021-03-08T08:20:52.541389",
     "status": "completed"
    },
    "tags": []
   },
   "outputs": [
    {
     "data": {
      "text/plain": [
       "conversation_id    188336\n",
       "message            188336\n",
       "sentiment          188336\n",
       "dtype: int64"
      ]
     },
     "execution_count": 4,
     "metadata": {},
     "output_type": "execute_result"
    }
   ],
   "source": [
    "df.count()"
   ]
  },
  {
   "cell_type": "code",
   "execution_count": 5,
   "metadata": {
    "execution": {
     "iopub.execute_input": "2021-03-08T08:20:52.645222Z",
     "iopub.status.busy": "2021-03-08T08:20:52.644343Z",
     "iopub.status.idle": "2021-03-08T08:20:52.647500Z",
     "shell.execute_reply": "2021-03-08T08:20:52.646970Z"
    },
    "papermill": {
     "duration": 0.024301,
     "end_time": "2021-03-08T08:20:52.647705",
     "exception": false,
     "start_time": "2021-03-08T08:20:52.623404",
     "status": "completed"
    },
    "tags": []
   },
   "outputs": [],
   "source": [
    "# basic preprocessing\n",
    "def process(text):\n",
    "    text = text.lower().replace('\\n', ' ').replace('-', ' ').replace(':', ' ').replace(',', '') \\\n",
    "          .replace('\"', '').replace(\"...\", \".\").replace(\"..\", \".\").replace(\"!\", \".\").replace(\"?\", \"\").replace(\";\", \".\").replace(\":\", \" \")\n",
    "\n",
    "    #text = \"\".join(v for v in text if v not in string.punctuation).lower()\n",
    "    #text = text.encode(\"utf8\").decode(\"ascii\",'ignore')\n",
    "\n",
    "    text = \" \".join(text.split())\n",
    "    #text+=\"<eos>\"\n",
    "    return text"
   ]
  },
  {
   "cell_type": "code",
   "execution_count": 6,
   "metadata": {
    "execution": {
     "iopub.execute_input": "2021-03-08T08:20:52.688260Z",
     "iopub.status.busy": "2021-03-08T08:20:52.682894Z",
     "iopub.status.idle": "2021-03-08T08:20:53.595968Z",
     "shell.execute_reply": "2021-03-08T08:20:53.595418Z"
    },
    "papermill": {
     "duration": 0.933919,
     "end_time": "2021-03-08T08:20:53.596147",
     "exception": false,
     "start_time": "2021-03-08T08:20:52.662228",
     "status": "completed"
    },
    "tags": []
   },
   "outputs": [],
   "source": [
    "df.message = df.message.apply(process)"
   ]
  },
  {
   "cell_type": "code",
   "execution_count": 7,
   "metadata": {
    "execution": {
     "iopub.execute_input": "2021-03-08T08:20:53.637037Z",
     "iopub.status.busy": "2021-03-08T08:20:53.635975Z",
     "iopub.status.idle": "2021-03-08T08:20:53.639910Z",
     "shell.execute_reply": "2021-03-08T08:20:53.640344Z"
    },
    "papermill": {
     "duration": 0.029252,
     "end_time": "2021-03-08T08:20:53.640529",
     "exception": false,
     "start_time": "2021-03-08T08:20:53.611277",
     "status": "completed"
    },
    "tags": []
   },
   "outputs": [
    {
     "data": {
      "text/html": [
       "<div>\n",
       "<style scoped>\n",
       "    .dataframe tbody tr th:only-of-type {\n",
       "        vertical-align: middle;\n",
       "    }\n",
       "\n",
       "    .dataframe tbody tr th {\n",
       "        vertical-align: top;\n",
       "    }\n",
       "\n",
       "    .dataframe thead th {\n",
       "        text-align: right;\n",
       "    }\n",
       "</style>\n",
       "<table border=\"1\" class=\"dataframe\">\n",
       "  <thead>\n",
       "    <tr style=\"text-align: right;\">\n",
       "      <th></th>\n",
       "      <th>conversation_id</th>\n",
       "      <th>message</th>\n",
       "      <th>sentiment</th>\n",
       "    </tr>\n",
       "  </thead>\n",
       "  <tbody>\n",
       "    <tr>\n",
       "      <th>0</th>\n",
       "      <td>1</td>\n",
       "      <td>are you a fan of google or microsoft</td>\n",
       "      <td>Curious to dive deeper</td>\n",
       "    </tr>\n",
       "    <tr>\n",
       "      <th>1</th>\n",
       "      <td>1</td>\n",
       "      <td>both are excellent technology they are helpful...</td>\n",
       "      <td>Curious to dive deeper</td>\n",
       "    </tr>\n",
       "    <tr>\n",
       "      <th>2</th>\n",
       "      <td>1</td>\n",
       "      <td>i'm not a huge fan of google but i use it a lo...</td>\n",
       "      <td>Curious to dive deeper</td>\n",
       "    </tr>\n",
       "    <tr>\n",
       "      <th>3</th>\n",
       "      <td>1</td>\n",
       "      <td>google provides online related services and pr...</td>\n",
       "      <td>Curious to dive deeper</td>\n",
       "    </tr>\n",
       "    <tr>\n",
       "      <th>4</th>\n",
       "      <td>1</td>\n",
       "      <td>yeah their services are good. i'm just not a f...</td>\n",
       "      <td>Curious to dive deeper</td>\n",
       "    </tr>\n",
       "  </tbody>\n",
       "</table>\n",
       "</div>"
      ],
      "text/plain": [
       "   conversation_id                                            message  \\\n",
       "0                1               are you a fan of google or microsoft   \n",
       "1                1  both are excellent technology they are helpful...   \n",
       "2                1  i'm not a huge fan of google but i use it a lo...   \n",
       "3                1  google provides online related services and pr...   \n",
       "4                1  yeah their services are good. i'm just not a f...   \n",
       "\n",
       "                 sentiment  \n",
       "0   Curious to dive deeper  \n",
       "1   Curious to dive deeper  \n",
       "2   Curious to dive deeper  \n",
       "3   Curious to dive deeper  \n",
       "4   Curious to dive deeper  "
      ]
     },
     "execution_count": 7,
     "metadata": {},
     "output_type": "execute_result"
    }
   ],
   "source": [
    "df.head()"
   ]
  },
  {
   "cell_type": "code",
   "execution_count": 8,
   "metadata": {
    "execution": {
     "iopub.execute_input": "2021-03-08T08:20:53.680126Z",
     "iopub.status.busy": "2021-03-08T08:20:53.679468Z",
     "iopub.status.idle": "2021-03-08T08:22:11.459054Z",
     "shell.execute_reply": "2021-03-08T08:22:11.459523Z"
    },
    "papermill": {
     "duration": 77.804277,
     "end_time": "2021-03-08T08:22:11.459695",
     "exception": false,
     "start_time": "2021-03-08T08:20:53.655418",
     "status": "completed"
    },
    "tags": []
   },
   "outputs": [
    {
     "name": "stderr",
     "output_type": "stream",
     "text": [
      "100%|██████████| 188336/188336 [01:17<00:00, 2421.76it/s] \n"
     ]
    }
   ],
   "source": [
    "# Vectorize the data.\n",
    "input_texts = []\n",
    "target_texts = []\n",
    "input_characters = set()\n",
    "target_characters = set()\n",
    "\n",
    "for conversation_index, row in tqdm(df.iterrows(), total=df.shape[0]):\n",
    "    \n",
    "    if conversation_index == 0:\n",
    "        continue\n",
    "        \n",
    "    if len(input_texts) > 5000:\n",
    "        continue\n",
    "        \n",
    "    input_text = df.iloc[conversation_index - 1]\n",
    "    target_text = df.iloc[conversation_index]\n",
    "    \n",
    "    \"\"\"\n",
    "    if \".\" in question:\n",
    "        if question.index(\".\") <= len(question):\n",
    "            question = question.split(\".\")[len(question.split(\".\")) - 1].strip()\n",
    "            \n",
    "            \n",
    "    \n",
    "    if \".\" in answer:\n",
    "        if answer.index(\".\") <= len(answer):\n",
    "            answer = answer.split('.')[0].strip()\n",
    "    \n",
    "    answer = \"\\t\" + answer + \"\\n\"\n",
    "    \"\"\"\n",
    "    if input_text.conversation_id == target_text.conversation_id:\n",
    "        \n",
    "        input_text = input_text.message\n",
    "        target_text = target_text.message\n",
    "        \n",
    "        if len(input_text.split()) > 2 and \\\n",
    "            len(target_text.split()) > 0 and \\\n",
    "            len(input_text.split()) < 10 and \\\n",
    "            len(target_text.split()) < 10 and \\\n",
    "            input_text and \\\n",
    "            target_text:\n",
    "                \n",
    "            input_texts.append(input_text)\n",
    "            target_texts.append(target_text)\n",
    "\n",
    "            for char in input_text:\n",
    "                if char not in input_characters:\n",
    "                    input_characters.add(char)\n",
    "            for char in target_text:\n",
    "                if char not in target_characters:\n",
    "                    target_characters.add(char)"
   ]
  },
  {
   "cell_type": "code",
   "execution_count": 9,
   "metadata": {
    "execution": {
     "iopub.execute_input": "2021-03-08T08:22:11.947336Z",
     "iopub.status.busy": "2021-03-08T08:22:11.946473Z",
     "iopub.status.idle": "2021-03-08T08:22:11.950775Z",
     "shell.execute_reply": "2021-03-08T08:22:11.950120Z"
    },
    "papermill": {
     "duration": 0.252462,
     "end_time": "2021-03-08T08:22:11.950923",
     "exception": false,
     "start_time": "2021-03-08T08:22:11.698461",
     "status": "completed"
    },
    "tags": []
   },
   "outputs": [
    {
     "name": "stdout",
     "output_type": "stream",
     "text": [
      "5001\n",
      "5001\n"
     ]
    }
   ],
   "source": [
    "print(len(input_texts))\n",
    "print(len(target_texts))"
   ]
  },
  {
   "cell_type": "code",
   "execution_count": 10,
   "metadata": {
    "execution": {
     "iopub.execute_input": "2021-03-08T08:22:12.437107Z",
     "iopub.status.busy": "2021-03-08T08:22:12.436436Z",
     "iopub.status.idle": "2021-03-08T08:22:12.442053Z",
     "shell.execute_reply": "2021-03-08T08:22:12.441393Z"
    },
    "papermill": {
     "duration": 0.251815,
     "end_time": "2021-03-08T08:22:12.442190",
     "exception": false,
     "start_time": "2021-03-08T08:22:12.190375",
     "status": "completed"
    },
    "tags": []
   },
   "outputs": [],
   "source": [
    "#saving\n",
    "with open('input_texts.pickle', 'wb') as handle:\n",
    "    pickle.dump(input_texts, handle, protocol=pickle.HIGHEST_PROTOCOL)\n",
    "    \n",
    "#saving\n",
    "with open('target_texts.pickle', 'wb') as handle:\n",
    "    pickle.dump(target_texts, handle, protocol=pickle.HIGHEST_PROTOCOL)\n",
    "    \n",
    "\n",
    "#saving\n",
    "with open('input_characters.pickle', 'wb') as handle:\n",
    "    pickle.dump(input_characters, handle, protocol=pickle.HIGHEST_PROTOCOL)\n",
    "    \n",
    "#saving\n",
    "with open('target_characters.pickle', 'wb') as handle:\n",
    "    pickle.dump(target_characters, handle, protocol=pickle.HIGHEST_PROTOCOL)"
   ]
  },
  {
   "cell_type": "code",
   "execution_count": 11,
   "metadata": {
    "execution": {
     "iopub.execute_input": "2021-03-08T08:22:12.941649Z",
     "iopub.status.busy": "2021-03-08T08:22:12.940981Z",
     "iopub.status.idle": "2021-03-08T08:22:21.649433Z",
     "shell.execute_reply": "2021-03-08T08:22:21.648808Z"
    },
    "papermill": {
     "duration": 8.968822,
     "end_time": "2021-03-08T08:22:21.649589",
     "exception": false,
     "start_time": "2021-03-08T08:22:12.680767",
     "status": "completed"
    },
    "tags": []
   },
   "outputs": [
    {
     "name": "stdout",
     "output_type": "stream",
     "text": [
      "Collecting sent2vec\r\n",
      "  Downloading sent2vec-0.2.0-py3-none-any.whl (5.2 kB)\r\n",
      "Requirement already satisfied: numpy in /opt/conda/lib/python3.7/site-packages (from sent2vec) (1.19.5)\r\n",
      "Requirement already satisfied: torch in /opt/conda/lib/python3.7/site-packages (from sent2vec) (1.7.0)\r\n",
      "Requirement already satisfied: transformers in /opt/conda/lib/python3.7/site-packages (from sent2vec) (4.2.2)\r\n",
      "Requirement already satisfied: gensim in /opt/conda/lib/python3.7/site-packages (from sent2vec) (3.8.3)\r\n",
      "Requirement already satisfied: spacy in /opt/conda/lib/python3.7/site-packages (from sent2vec) (2.3.5)\r\n",
      "Requirement already satisfied: smart-open>=1.8.1 in /opt/conda/lib/python3.7/site-packages (from gensim->sent2vec) (3.0.0)\r\n",
      "Requirement already satisfied: six>=1.5.0 in /opt/conda/lib/python3.7/site-packages (from gensim->sent2vec) (1.15.0)\r\n",
      "Requirement already satisfied: scipy>=0.18.1 in /opt/conda/lib/python3.7/site-packages (from gensim->sent2vec) (1.5.4)\r\n",
      "Requirement already satisfied: requests in /opt/conda/lib/python3.7/site-packages (from smart-open>=1.8.1->gensim->sent2vec) (2.25.1)\r\n",
      "Requirement already satisfied: urllib3<1.27,>=1.21.1 in /opt/conda/lib/python3.7/site-packages (from requests->smart-open>=1.8.1->gensim->sent2vec) (1.26.2)\r\n",
      "Requirement already satisfied: chardet<5,>=3.0.2 in /opt/conda/lib/python3.7/site-packages (from requests->smart-open>=1.8.1->gensim->sent2vec) (3.0.4)\r\n",
      "Requirement already satisfied: certifi>=2017.4.17 in /opt/conda/lib/python3.7/site-packages (from requests->smart-open>=1.8.1->gensim->sent2vec) (2020.12.5)\r\n",
      "Requirement already satisfied: idna<3,>=2.5 in /opt/conda/lib/python3.7/site-packages (from requests->smart-open>=1.8.1->gensim->sent2vec) (2.10)\r\n",
      "Requirement already satisfied: setuptools in /opt/conda/lib/python3.7/site-packages (from spacy->sent2vec) (49.6.0.post20201009)\r\n",
      "Requirement already satisfied: wasabi<1.1.0,>=0.4.0 in /opt/conda/lib/python3.7/site-packages (from spacy->sent2vec) (0.8.2)\r\n",
      "Requirement already satisfied: srsly<1.1.0,>=1.0.2 in /opt/conda/lib/python3.7/site-packages (from spacy->sent2vec) (1.0.5)\r\n",
      "Requirement already satisfied: catalogue<1.1.0,>=0.0.7 in /opt/conda/lib/python3.7/site-packages (from spacy->sent2vec) (1.0.0)\r\n",
      "Requirement already satisfied: plac<1.2.0,>=0.9.6 in /opt/conda/lib/python3.7/site-packages (from spacy->sent2vec) (1.1.3)\r\n",
      "Requirement already satisfied: murmurhash<1.1.0,>=0.28.0 in /opt/conda/lib/python3.7/site-packages (from spacy->sent2vec) (1.0.5)\r\n",
      "Requirement already satisfied: blis<0.8.0,>=0.4.0 in /opt/conda/lib/python3.7/site-packages (from spacy->sent2vec) (0.7.4)\r\n",
      "Requirement already satisfied: tqdm<5.0.0,>=4.38.0 in /opt/conda/lib/python3.7/site-packages (from spacy->sent2vec) (4.55.1)\r\n",
      "Requirement already satisfied: cymem<2.1.0,>=2.0.2 in /opt/conda/lib/python3.7/site-packages (from spacy->sent2vec) (2.0.5)\r\n",
      "Requirement already satisfied: preshed<3.1.0,>=3.0.2 in /opt/conda/lib/python3.7/site-packages (from spacy->sent2vec) (3.0.5)\r\n",
      "Requirement already satisfied: thinc<7.5.0,>=7.4.1 in /opt/conda/lib/python3.7/site-packages (from spacy->sent2vec) (7.4.5)\r\n",
      "Requirement already satisfied: importlib-metadata>=0.20 in /opt/conda/lib/python3.7/site-packages (from catalogue<1.1.0,>=0.0.7->spacy->sent2vec) (3.3.0)\r\n",
      "Requirement already satisfied: zipp>=0.5 in /opt/conda/lib/python3.7/site-packages (from importlib-metadata>=0.20->catalogue<1.1.0,>=0.0.7->spacy->sent2vec) (3.4.0)\r\n",
      "Requirement already satisfied: typing-extensions>=3.6.4 in /opt/conda/lib/python3.7/site-packages (from importlib-metadata>=0.20->catalogue<1.1.0,>=0.0.7->spacy->sent2vec) (3.7.4.3)\r\n",
      "Requirement already satisfied: future in /opt/conda/lib/python3.7/site-packages (from torch->sent2vec) (0.18.2)\r\n",
      "Requirement already satisfied: dataclasses in /opt/conda/lib/python3.7/site-packages (from torch->sent2vec) (0.6)\r\n",
      "Requirement already satisfied: regex!=2019.12.17 in /opt/conda/lib/python3.7/site-packages (from transformers->sent2vec) (2020.11.13)\r\n",
      "Requirement already satisfied: tokenizers==0.9.4 in /opt/conda/lib/python3.7/site-packages (from transformers->sent2vec) (0.9.4)\r\n",
      "Requirement already satisfied: packaging in /opt/conda/lib/python3.7/site-packages (from transformers->sent2vec) (20.8)\r\n",
      "Requirement already satisfied: filelock in /opt/conda/lib/python3.7/site-packages (from transformers->sent2vec) (3.0.12)\r\n",
      "Requirement already satisfied: sacremoses in /opt/conda/lib/python3.7/site-packages (from transformers->sent2vec) (0.0.43)\r\n",
      "Requirement already satisfied: pyparsing>=2.0.2 in /opt/conda/lib/python3.7/site-packages (from packaging->transformers->sent2vec) (2.4.7)\r\n",
      "Requirement already satisfied: click in /opt/conda/lib/python3.7/site-packages (from sacremoses->transformers->sent2vec) (7.1.2)\r\n",
      "Requirement already satisfied: joblib in /opt/conda/lib/python3.7/site-packages (from sacremoses->transformers->sent2vec) (1.0.0)\r\n",
      "Installing collected packages: sent2vec\r\n",
      "Successfully installed sent2vec-0.2.0\r\n",
      "Note: you may need to restart the kernel to use updated packages.\n"
     ]
    }
   ],
   "source": [
    "pip install sent2vec"
   ]
  },
  {
   "cell_type": "code",
   "execution_count": 12,
   "metadata": {
    "execution": {
     "iopub.execute_input": "2021-03-08T08:22:22.169617Z",
     "iopub.status.busy": "2021-03-08T08:22:22.168976Z",
     "iopub.status.idle": "2021-03-08T08:25:21.178953Z",
     "shell.execute_reply": "2021-03-08T08:25:21.179425Z"
    },
    "papermill": {
     "duration": 179.259204,
     "end_time": "2021-03-08T08:25:21.179611",
     "exception": false,
     "start_time": "2021-03-08T08:22:21.920407",
     "status": "completed"
    },
    "tags": []
   },
   "outputs": [
    {
     "name": "stdout",
     "output_type": "stream",
     "text": [
      "input_texts length - 5001\n"
     ]
    },
    {
     "data": {
      "application/vnd.jupyter.widget-view+json": {
       "model_id": "873f80629d7d4c37b9391750805b0d24",
       "version_major": 2,
       "version_minor": 0
      },
      "text/plain": [
       "Downloading:   0%|          | 0.00/232k [00:00<?, ?B/s]"
      ]
     },
     "metadata": {},
     "output_type": "display_data"
    },
    {
     "data": {
      "application/vnd.jupyter.widget-view+json": {
       "model_id": "8a3b6fbfb3674f169a62b0923b3df9d5",
       "version_major": 2,
       "version_minor": 0
      },
      "text/plain": [
       "Downloading:   0%|          | 0.00/442 [00:00<?, ?B/s]"
      ]
     },
     "metadata": {},
     "output_type": "display_data"
    },
    {
     "data": {
      "application/vnd.jupyter.widget-view+json": {
       "model_id": "5f5b1715d412443cbd240a0dfa977b58",
       "version_major": 2,
       "version_minor": 0
      },
      "text/plain": [
       "Downloading:   0%|          | 0.00/268M [00:00<?, ?B/s]"
      ]
     },
     "metadata": {},
     "output_type": "display_data"
    },
    {
     "name": "stdout",
     "output_type": "stream",
     "text": [
      "input_vectors_bert length - 5001\n",
      "input texts done in 166.571231895 seconds\n",
      "target_texts length - 5001\n",
      "target_vectors_bert length - 5001\n",
      "target texts done 166.63865307799998 seconds\n"
     ]
    }
   ],
   "source": [
    "from scipy import spatial\n",
    "from sent2vec.vectorizer import Vectorizer\n",
    "import time\n",
    "\n",
    "\n",
    "start = time.process_time()\n",
    "input_vectorizer = Vectorizer()\n",
    "print(\"input_texts length - \" + str(len(input_texts)))\n",
    "gc.collect()\n",
    "input_vectorizer.bert(input_texts)\n",
    "input_vectors_bert = input_vectorizer.vectors\n",
    "print(\"input_vectors_bert length - \" + str(len(input_vectors_bert)))\n",
    "print(\"input texts done in\", time.process_time() - start, \"seconds\")\n",
    "\n",
    "start = time.process_time()\n",
    "target_vectorizer = Vectorizer()\n",
    "print(\"target_texts length - \" + str(len(target_texts)))\n",
    "gc.collect()\n",
    "target_vectorizer.bert(target_texts)\n",
    "target_vectors_bert = target_vectorizer.vectors\n",
    "print(\"target_vectors_bert length - \" + str(len(target_vectors_bert)))\n",
    "print(\"target texts done\", time.process_time() - start, \"seconds\")"
   ]
  },
  {
   "cell_type": "code",
   "execution_count": 13,
   "metadata": {
    "execution": {
     "iopub.execute_input": "2021-03-08T08:25:21.670644Z",
     "iopub.status.busy": "2021-03-08T08:25:21.669647Z",
     "iopub.status.idle": "2021-03-08T08:25:21.672864Z",
     "shell.execute_reply": "2021-03-08T08:25:21.672389Z"
    },
    "papermill": {
     "duration": 0.252116,
     "end_time": "2021-03-08T08:25:21.672992",
     "exception": false,
     "start_time": "2021-03-08T08:25:21.420876",
     "status": "completed"
    },
    "tags": []
   },
   "outputs": [],
   "source": [
    "def find_distance(index, vectors_bert):\n",
    "    dist_list = list()\n",
    "    for sentence_vector in vectors_bert:\n",
    "        dist_list.append((spatial.distance.cosine(vectors_bert[index], sentence_vector)))\n",
    "        \n",
    "    dist_list = np.array(dist_list)\n",
    "    return dist_list"
   ]
  },
  {
   "cell_type": "code",
   "execution_count": 14,
   "metadata": {
    "execution": {
     "iopub.execute_input": "2021-03-08T08:25:22.172955Z",
     "iopub.status.busy": "2021-03-08T08:25:22.171298Z",
     "iopub.status.idle": "2021-03-08T08:25:23.020196Z",
     "shell.execute_reply": "2021-03-08T08:25:23.020733Z"
    },
    "papermill": {
     "duration": 1.103204,
     "end_time": "2021-03-08T08:25:23.020909",
     "exception": false,
     "start_time": "2021-03-08T08:25:21.917705",
     "status": "completed"
    },
    "tags": []
   },
   "outputs": [
    {
     "name": "stdout",
     "output_type": "stream",
     "text": [
      "yeah it seems. it is owned by warner bros -> yeah they seem to have their hand on everything\n",
      "\n",
      "true. did you know they own imdb -> yes since 1998 they just seem to be everywhere\n",
      "nice. what's your favorite horror film -> insidious the last key this film is my favorite.\n",
      "yeah for sure. have you seen the original version -> i think what i saw was the original.\n",
      "that's really cool. do you like entertainment -> sure. do you play video games\n",
      "yeah crazy. do you watch the nba -> i do. do you know who reggie miller is\n",
      "yeah. do you remember the website neopets -> i do not whats that\n",
      "nice. did you ever see the movie transformers -> some. which one\n",
      "oh wow. you love the gory stuff -> sure\n",
      "yeah. do you know who owns the site -> yes it is actually warner bros\n",
      "\n",
      "Similar to query answer\n",
      "{\"i didn't know that what is it about\", 'yeah i guess that makes sense quite a bit', 'yes since 1998 they just seem to be everywhere', 'yeah i know but they keep topping the charts', 'yes they have it in their code of conduct', 'yeah and they reason better than the chimps do', 'i see are they a good team', 'yeah he must be good at that it seems', 'i am not sure how do they do this', 'yeah and they have blood drives too for them', 'yeah and they can reason better than chimps'}\n"
     ]
    }
   ],
   "source": [
    "query_index = 28\n",
    "print(input_texts[query_index], \"->\", target_texts[query_index])\n",
    "print()\n",
    "\n",
    "nearest_k = 10\n",
    "input_distance_list = find_distance(query_index, input_vectors_bert)\n",
    "target_distance_list = find_distance(query_index, target_vectors_bert)\n",
    "\n",
    "for similar_index in input_distance_list.argsort()[:nearest_k]:\n",
    "    if query_index!=similar_index:\n",
    "        print(input_texts[similar_index], \"->\", target_texts[similar_index])\n",
    "        \n",
    "answers = set()\n",
    "for similar_index in target_distance_list.argsort():\n",
    "    \n",
    "    if similar_index < len(target_texts):\n",
    "    \n",
    "        if target_texts[similar_index].strip() != target_texts[query_index].strip():\n",
    "            answers.add(target_texts[similar_index].strip())\n",
    "\n",
    "        if len(answers) > 10:\n",
    "            break\n",
    "\n",
    "print()\n",
    "print(\"Similar to query answer\")\n",
    "print(answers)"
   ]
  },
  {
   "cell_type": "code",
   "execution_count": 15,
   "metadata": {
    "execution": {
     "iopub.execute_input": "2021-03-08T08:25:23.520538Z",
     "iopub.status.busy": "2021-03-08T08:25:23.519599Z",
     "iopub.status.idle": "2021-03-08T08:25:23.524227Z",
     "shell.execute_reply": "2021-03-08T08:25:23.523623Z"
    },
    "papermill": {
     "duration": 0.257066,
     "end_time": "2021-03-08T08:25:23.524366",
     "exception": false,
     "start_time": "2021-03-08T08:25:23.267300",
     "status": "completed"
    },
    "tags": []
   },
   "outputs": [
    {
     "data": {
      "text/plain": [
       "'input_similarity_matrix = np.empty((len(input_vectors_bert), len(input_vectors_bert)))\\nfor i in tqdm(range(len(input_vectors_bert))):\\n    input_distance_list = find_distance(i, input_vectors_bert)\\n    for j in range(len(input_vectors_bert)):\\n        if i==j:\\n            input_similarity_matrix[i, j] = 0\\n        elif input_similarity_matrix[j, i]:\\n            input_similarity_matrix[i, j] = input_similarity_matrix[j, i]\\n        else:\\n            input_similarity_matrix[i, j] = input_distance_list[j]\\n'"
      ]
     },
     "execution_count": 15,
     "metadata": {},
     "output_type": "execute_result"
    }
   ],
   "source": [
    "\"\"\"input_similarity_matrix = np.empty((len(input_vectors_bert), len(input_vectors_bert)))\n",
    "for i in tqdm(range(len(input_vectors_bert))):\n",
    "    input_distance_list = find_distance(i, input_vectors_bert)\n",
    "    for j in range(len(input_vectors_bert)):\n",
    "        if i==j:\n",
    "            input_similarity_matrix[i, j] = 0\n",
    "        elif input_similarity_matrix[j, i]:\n",
    "            input_similarity_matrix[i, j] = input_similarity_matrix[j, i]\n",
    "        else:\n",
    "            input_similarity_matrix[i, j] = input_distance_list[j]\n",
    "\"\"\""
   ]
  },
  {
   "cell_type": "code",
   "execution_count": 16,
   "metadata": {
    "execution": {
     "iopub.execute_input": "2021-03-08T08:25:24.022634Z",
     "iopub.status.busy": "2021-03-08T08:25:24.021799Z",
     "iopub.status.idle": "2021-03-08T08:25:24.048566Z",
     "shell.execute_reply": "2021-03-08T08:25:24.047886Z"
    },
    "papermill": {
     "duration": 0.278275,
     "end_time": "2021-03-08T08:25:24.048728",
     "exception": false,
     "start_time": "2021-03-08T08:25:23.770453",
     "status": "completed"
    },
    "tags": []
   },
   "outputs": [],
   "source": [
    "# https://docs.python.org/3/library/multiprocessing.html#sharing-state-between-processes\n",
    "from multiprocessing import Process, Value, Array\n",
    "import psutil\n",
    "import multiprocessing as mp\n",
    "\n",
    "# https://stackoverflow.com/questions/9754034/can-i-create-a-shared-multiarray-or-lists-of-lists-object-in-python-for-multipro\n",
    "# https://stackoverflow.com/questions/7894791/use-numpy-array-in-shared-memory-for-multiprocessing/7908612#7908612\n",
    "\n",
    "from multiprocessing import Process, Value, Array\n",
    "import ctypes as c\n",
    "import math"
   ]
  },
  {
   "cell_type": "code",
   "execution_count": 17,
   "metadata": {
    "execution": {
     "iopub.execute_input": "2021-03-08T08:25:24.683433Z",
     "iopub.status.busy": "2021-03-08T08:25:24.682777Z",
     "iopub.status.idle": "2021-03-08T08:25:24.686019Z",
     "shell.execute_reply": "2021-03-08T08:25:24.685531Z"
    },
    "papermill": {
     "duration": 0.326202,
     "end_time": "2021-03-08T08:25:24.686190",
     "exception": false,
     "start_time": "2021-03-08T08:25:24.359988",
     "status": "completed"
    },
    "tags": []
   },
   "outputs": [],
   "source": [
    "# https://stackoverflow.com/questions/5784389/using-100-of-all-cores-with-the-multiprocessing-module/35371568\n",
    "def fill_similarity_matrix(batch_num, total_batches, similarity_matrix, vectors_bert):\n",
    "    \n",
    "    start_index = batch_num * math.floor(len(similarity_matrix)/total_batches)    \n",
    "    if batch_num + 1 == total_batches:\n",
    "        end_index = len(similarity_matrix)\n",
    "    else:\n",
    "        end_index = start_index + math.floor(len(similarity_matrix)/total_batches)\n",
    "        \n",
    "    desc = \"Batch \" + str(batch_num + 1) + \" of \" + str(total_batches) + \". Starting at \" + str(start_index) + \" End at \" + str(end_index)\n",
    "    #print(desc)\n",
    "    for i in tqdm(range(start_index, end_index), desc=desc):\n",
    "        distance_list = find_distance(i, vectors_bert)\n",
    "        for j in range(len(vectors_bert)):\n",
    "            if i==j:\n",
    "                similarity_matrix[i][j] = 0\n",
    "            elif similarity_matrix[j][i]:\n",
    "                similarity_matrix[i][j] = similarity_matrix[j][i]\n",
    "            else:\n",
    "                similarity_matrix[i][j] = distance_list[j]\n",
    "\n",
    "\n",
    "def split_fill_similarity_matrix(name, vectors_bert):          \n",
    "    procs = list()\n",
    "    n_cpus = psutil.cpu_count()\n",
    "\n",
    "    shared_similarity_matrix = [Array(c.c_double, len(vectors_bert)) for _ in range(len(vectors_bert))]\n",
    "\n",
    "    for cpu in range(n_cpus):\n",
    "        p = Process(target=fill_similarity_matrix, args=(cpu, n_cpus, shared_similarity_matrix, vectors_bert))\n",
    "        p.start()\n",
    "        procs.append(p)\n",
    "\n",
    "    for p in procs:\n",
    "        p.join()\n",
    "        print('processes joined')\n",
    "\n",
    "    with open(name + '.txt', 'w') as f:\n",
    "        for i in tqdm(range(len(shared_similarity_matrix)), desc=\"writing to file\"):\n",
    "            f.write(str(list(shared_similarity_matrix[i])))\n",
    "            if i != len(shared_similarity_matrix) - 1:\n",
    "                f.write(\"\\n\")\n",
    "                \n",
    "        print(\"done writing to file\")"
   ]
  },
  {
   "cell_type": "code",
   "execution_count": 18,
   "metadata": {
    "execution": {
     "iopub.execute_input": "2021-03-08T08:25:25.236649Z",
     "iopub.status.busy": "2021-03-08T08:25:25.235966Z",
     "iopub.status.idle": "2021-03-08T08:43:11.090673Z",
     "shell.execute_reply": "2021-03-08T08:43:11.091159Z"
    },
    "papermill": {
     "duration": 1066.126291,
     "end_time": "2021-03-08T08:43:11.091357",
     "exception": false,
     "start_time": "2021-03-08T08:25:24.965066",
     "status": "completed"
    },
    "tags": []
   },
   "outputs": [
    {
     "name": "stderr",
     "output_type": "stream",
     "text": [
      "Batch 3 of 4. Starting at 2500 End at 3750: 100%|██████████| 1250/1250 [16:40<00:00,  1.25it/s]\n",
      "Batch 4 of 4. Starting at 3750 End at 5001: 100%|██████████| 1251/1251 [16:41<00:00,  1.25it/s]\n",
      "Batch 1 of 4. Starting at 0 End at 1250: 100%|██████████| 1250/1250 [16:41<00:00,  1.25it/s]\n"
     ]
    },
    {
     "name": "stdout",
     "output_type": "stream",
     "text": [
      "processes joined\n"
     ]
    },
    {
     "name": "stderr",
     "output_type": "stream",
     "text": [
      "Batch 2 of 4. Starting at 1250 End at 2500: 100%|██████████| 1250/1250 [16:42<00:00,  1.25it/s]\n",
      "writing to file:   0%|          | 8/5001 [00:00<01:04, 76.84it/s]"
     ]
    },
    {
     "name": "stdout",
     "output_type": "stream",
     "text": [
      "processes joined\n",
      "processes joined\n",
      "processes joined\n"
     ]
    },
    {
     "name": "stderr",
     "output_type": "stream",
     "text": [
      "writing to file: 100%|██████████| 5001/5001 [01:02<00:00, 80.46it/s]\n"
     ]
    },
    {
     "name": "stdout",
     "output_type": "stream",
     "text": [
      "done writing to file\n"
     ]
    }
   ],
   "source": [
    "split_fill_similarity_matrix('input_similarity_matrix', input_vectors_bert)"
   ]
  },
  {
   "cell_type": "code",
   "execution_count": 19,
   "metadata": {
    "execution": {
     "iopub.execute_input": "2021-03-08T08:43:15.357544Z",
     "iopub.status.busy": "2021-03-08T08:43:15.356612Z",
     "iopub.status.idle": "2021-03-08T08:43:15.359671Z",
     "shell.execute_reply": "2021-03-08T08:43:15.359071Z"
    },
    "papermill": {
     "duration": 2.118555,
     "end_time": "2021-03-08T08:43:15.359809",
     "exception": false,
     "start_time": "2021-03-08T08:43:13.241254",
     "status": "completed"
    },
    "tags": []
   },
   "outputs": [],
   "source": [
    "import ast\n",
    "\n",
    "# https://stackoverflow.com/questions/1894269/how-to-convert-string-representation-of-list-to-a-list\n",
    "def convert_file_to_matrix(file_path):\n",
    "    matrix_file = open(file_path, \"r\")\n",
    "    matrix_file = matrix_file.read()\n",
    "    matrix_file = matrix_file.split(\"\\n\")\n",
    "\n",
    "    matrix = list()\n",
    "    for row in matrix_file:\n",
    "        matrix.append(ast.literal_eval(row))\n",
    "\n",
    "    return matrix"
   ]
  },
  {
   "cell_type": "code",
   "execution_count": 20,
   "metadata": {
    "execution": {
     "iopub.execute_input": "2021-03-08T08:43:19.740537Z",
     "iopub.status.busy": "2021-03-08T08:43:19.739738Z",
     "iopub.status.idle": "2021-03-08T08:43:19.742454Z",
     "shell.execute_reply": "2021-03-08T08:43:19.741878Z"
    },
    "papermill": {
     "duration": 2.396272,
     "end_time": "2021-03-08T08:43:19.742637",
     "exception": false,
     "start_time": "2021-03-08T08:43:17.346365",
     "status": "completed"
    },
    "tags": []
   },
   "outputs": [],
   "source": [
    "#print(convert_file_to_matrix(\"./input_similarity_matrix.txt\"))"
   ]
  },
  {
   "cell_type": "code",
   "execution_count": 21,
   "metadata": {
    "execution": {
     "iopub.execute_input": "2021-03-08T08:43:23.998350Z",
     "iopub.status.busy": "2021-03-08T08:43:23.997219Z",
     "iopub.status.idle": "2021-03-08T09:01:51.234284Z",
     "shell.execute_reply": "2021-03-08T09:01:51.233407Z"
    },
    "papermill": {
     "duration": 1109.387249,
     "end_time": "2021-03-08T09:01:51.234542",
     "exception": false,
     "start_time": "2021-03-08T08:43:21.847293",
     "status": "completed"
    },
    "tags": []
   },
   "outputs": [
    {
     "name": "stderr",
     "output_type": "stream",
     "text": [
      "Batch 4 of 4. Starting at 3750 End at 5001: 100%|██████████| 1251/1251 [17:16<00:00,  1.21it/s]\n",
      "Batch 3 of 4. Starting at 2500 End at 3750: 100%|██████████| 1250/1250 [17:18<00:00,  1.20it/s]\n",
      "Batch 2 of 4. Starting at 1250 End at 2500: 100%|██████████| 1250/1250 [17:23<00:00,  1.20it/s]\n",
      "Batch 1 of 4. Starting at 0 End at 1250: 100%|██████████| 1250/1250 [17:25<00:00,  1.20it/s]\n",
      "writing to file:   0%|          | 9/5001 [00:00<00:57, 86.60it/s]"
     ]
    },
    {
     "name": "stdout",
     "output_type": "stream",
     "text": [
      "processes joined\n",
      "processes joined\n",
      "processes joined\n",
      "processes joined\n"
     ]
    },
    {
     "name": "stderr",
     "output_type": "stream",
     "text": [
      "writing to file: 100%|██████████| 5001/5001 [01:01<00:00, 81.87it/s]\n"
     ]
    },
    {
     "name": "stdout",
     "output_type": "stream",
     "text": [
      "done writing to file\n"
     ]
    }
   ],
   "source": [
    "split_fill_similarity_matrix('target_similarity_matrix', target_vectors_bert)"
   ]
  }
 ],
 "metadata": {
  "kernelspec": {
   "display_name": "Python 3",
   "language": "python",
   "name": "python3"
  },
  "language_info": {
   "codemirror_mode": {
    "name": "ipython",
    "version": 3
   },
   "file_extension": ".py",
   "mimetype": "text/x-python",
   "name": "python",
   "nbconvert_exporter": "python",
   "pygments_lexer": "ipython3",
   "version": "3.7.9"
  },
  "papermill": {
   "default_parameters": {},
   "duration": 2476.357861,
   "end_time": "2021-03-08T09:01:56.748264",
   "environment_variables": {},
   "exception": null,
   "input_path": "__notebook__.ipynb",
   "output_path": "__notebook__.ipynb",
   "parameters": {},
   "start_time": "2021-03-08T08:20:40.390403",
   "version": "2.2.2"
  },
  "widgets": {
   "application/vnd.jupyter.widget-state+json": {
    "state": {
     "0b0dc9532cc342fbb1d7a1e6b07ab07a": {
      "model_module": "@jupyter-widgets/controls",
      "model_module_version": "1.5.0",
      "model_name": "DescriptionStyleModel",
      "state": {
       "_model_module": "@jupyter-widgets/controls",
       "_model_module_version": "1.5.0",
       "_model_name": "DescriptionStyleModel",
       "_view_count": null,
       "_view_module": "@jupyter-widgets/base",
       "_view_module_version": "1.2.0",
       "_view_name": "StyleView",
       "description_width": ""
      }
     },
     "1d2565d941f44922a8d5f526d1dde2eb": {
      "model_module": "@jupyter-widgets/base",
      "model_module_version": "1.2.0",
      "model_name": "LayoutModel",
      "state": {
       "_model_module": "@jupyter-widgets/base",
       "_model_module_version": "1.2.0",
       "_model_name": "LayoutModel",
       "_view_count": null,
       "_view_module": "@jupyter-widgets/base",
       "_view_module_version": "1.2.0",
       "_view_name": "LayoutView",
       "align_content": null,
       "align_items": null,
       "align_self": null,
       "border": null,
       "bottom": null,
       "display": null,
       "flex": null,
       "flex_flow": null,
       "grid_area": null,
       "grid_auto_columns": null,
       "grid_auto_flow": null,
       "grid_auto_rows": null,
       "grid_column": null,
       "grid_gap": null,
       "grid_row": null,
       "grid_template_areas": null,
       "grid_template_columns": null,
       "grid_template_rows": null,
       "height": null,
       "justify_content": null,
       "justify_items": null,
       "left": null,
       "margin": null,
       "max_height": null,
       "max_width": null,
       "min_height": null,
       "min_width": null,
       "object_fit": null,
       "object_position": null,
       "order": null,
       "overflow": null,
       "overflow_x": null,
       "overflow_y": null,
       "padding": null,
       "right": null,
       "top": null,
       "visibility": null,
       "width": null
      }
     },
     "1ea16538245043cda7a74434d7f3099a": {
      "model_module": "@jupyter-widgets/controls",
      "model_module_version": "1.5.0",
      "model_name": "HTMLModel",
      "state": {
       "_dom_classes": [],
       "_model_module": "@jupyter-widgets/controls",
       "_model_module_version": "1.5.0",
       "_model_name": "HTMLModel",
       "_view_count": null,
       "_view_module": "@jupyter-widgets/controls",
       "_view_module_version": "1.5.0",
       "_view_name": "HTMLView",
       "description": "",
       "description_tooltip": null,
       "layout": "IPY_MODEL_64ea82b0df9d4e5caf7d4758609e27b3",
       "placeholder": "​",
       "style": "IPY_MODEL_6e75ccebca314402b7919086e898294e",
       "value": " 232k/232k [00:00&lt;00:00, 871kB/s]"
      }
     },
     "24321c47b12b4ef493e9873304d151ee": {
      "model_module": "@jupyter-widgets/controls",
      "model_module_version": "1.5.0",
      "model_name": "FloatProgressModel",
      "state": {
       "_dom_classes": [],
       "_model_module": "@jupyter-widgets/controls",
       "_model_module_version": "1.5.0",
       "_model_name": "FloatProgressModel",
       "_view_count": null,
       "_view_module": "@jupyter-widgets/controls",
       "_view_module_version": "1.5.0",
       "_view_name": "ProgressView",
       "bar_style": "success",
       "description": "",
       "description_tooltip": null,
       "layout": "IPY_MODEL_a8d8b12355d94ceca24280ba11195b58",
       "max": 442.0,
       "min": 0.0,
       "orientation": "horizontal",
       "style": "IPY_MODEL_248350940d3148a1ae25887733c63aa3",
       "value": 442.0
      }
     },
     "248350940d3148a1ae25887733c63aa3": {
      "model_module": "@jupyter-widgets/controls",
      "model_module_version": "1.5.0",
      "model_name": "ProgressStyleModel",
      "state": {
       "_model_module": "@jupyter-widgets/controls",
       "_model_module_version": "1.5.0",
       "_model_name": "ProgressStyleModel",
       "_view_count": null,
       "_view_module": "@jupyter-widgets/base",
       "_view_module_version": "1.2.0",
       "_view_name": "StyleView",
       "bar_color": null,
       "description_width": ""
      }
     },
     "29ebbb2e61b54afa8069daa7180d8a7c": {
      "model_module": "@jupyter-widgets/base",
      "model_module_version": "1.2.0",
      "model_name": "LayoutModel",
      "state": {
       "_model_module": "@jupyter-widgets/base",
       "_model_module_version": "1.2.0",
       "_model_name": "LayoutModel",
       "_view_count": null,
       "_view_module": "@jupyter-widgets/base",
       "_view_module_version": "1.2.0",
       "_view_name": "LayoutView",
       "align_content": null,
       "align_items": null,
       "align_self": null,
       "border": null,
       "bottom": null,
       "display": null,
       "flex": null,
       "flex_flow": null,
       "grid_area": null,
       "grid_auto_columns": null,
       "grid_auto_flow": null,
       "grid_auto_rows": null,
       "grid_column": null,
       "grid_gap": null,
       "grid_row": null,
       "grid_template_areas": null,
       "grid_template_columns": null,
       "grid_template_rows": null,
       "height": null,
       "justify_content": null,
       "justify_items": null,
       "left": null,
       "margin": null,
       "max_height": null,
       "max_width": null,
       "min_height": null,
       "min_width": null,
       "object_fit": null,
       "object_position": null,
       "order": null,
       "overflow": null,
       "overflow_x": null,
       "overflow_y": null,
       "padding": null,
       "right": null,
       "top": null,
       "visibility": null,
       "width": null
      }
     },
     "2df2ad28f9fe4d43ba9579b24a55f0f9": {
      "model_module": "@jupyter-widgets/controls",
      "model_module_version": "1.5.0",
      "model_name": "DescriptionStyleModel",
      "state": {
       "_model_module": "@jupyter-widgets/controls",
       "_model_module_version": "1.5.0",
       "_model_name": "DescriptionStyleModel",
       "_view_count": null,
       "_view_module": "@jupyter-widgets/base",
       "_view_module_version": "1.2.0",
       "_view_name": "StyleView",
       "description_width": ""
      }
     },
     "4255fa18c9f94bc995fa8934e60a47b5": {
      "model_module": "@jupyter-widgets/base",
      "model_module_version": "1.2.0",
      "model_name": "LayoutModel",
      "state": {
       "_model_module": "@jupyter-widgets/base",
       "_model_module_version": "1.2.0",
       "_model_name": "LayoutModel",
       "_view_count": null,
       "_view_module": "@jupyter-widgets/base",
       "_view_module_version": "1.2.0",
       "_view_name": "LayoutView",
       "align_content": null,
       "align_items": null,
       "align_self": null,
       "border": null,
       "bottom": null,
       "display": null,
       "flex": null,
       "flex_flow": null,
       "grid_area": null,
       "grid_auto_columns": null,
       "grid_auto_flow": null,
       "grid_auto_rows": null,
       "grid_column": null,
       "grid_gap": null,
       "grid_row": null,
       "grid_template_areas": null,
       "grid_template_columns": null,
       "grid_template_rows": null,
       "height": null,
       "justify_content": null,
       "justify_items": null,
       "left": null,
       "margin": null,
       "max_height": null,
       "max_width": null,
       "min_height": null,
       "min_width": null,
       "object_fit": null,
       "object_position": null,
       "order": null,
       "overflow": null,
       "overflow_x": null,
       "overflow_y": null,
       "padding": null,
       "right": null,
       "top": null,
       "visibility": null,
       "width": null
      }
     },
     "4786cfbbada84df9bef1c18630e249f4": {
      "model_module": "@jupyter-widgets/controls",
      "model_module_version": "1.5.0",
      "model_name": "HTMLModel",
      "state": {
       "_dom_classes": [],
       "_model_module": "@jupyter-widgets/controls",
       "_model_module_version": "1.5.0",
       "_model_name": "HTMLModel",
       "_view_count": null,
       "_view_module": "@jupyter-widgets/controls",
       "_view_module_version": "1.5.0",
       "_view_name": "HTMLView",
       "description": "",
       "description_tooltip": null,
       "layout": "IPY_MODEL_75ccddf464ba40dfb08e4ec35922d9ff",
       "placeholder": "​",
       "style": "IPY_MODEL_4deb29903b0441ad8227ddbc64235eb4",
       "value": " 442/442 [00:00&lt;00:00, 14.4kB/s]"
      }
     },
     "4b1287cb3c7d450a8ebf81193fe62018": {
      "model_module": "@jupyter-widgets/controls",
      "model_module_version": "1.5.0",
      "model_name": "ProgressStyleModel",
      "state": {
       "_model_module": "@jupyter-widgets/controls",
       "_model_module_version": "1.5.0",
       "_model_name": "ProgressStyleModel",
       "_view_count": null,
       "_view_module": "@jupyter-widgets/base",
       "_view_module_version": "1.2.0",
       "_view_name": "StyleView",
       "bar_color": null,
       "description_width": ""
      }
     },
     "4deb29903b0441ad8227ddbc64235eb4": {
      "model_module": "@jupyter-widgets/controls",
      "model_module_version": "1.5.0",
      "model_name": "DescriptionStyleModel",
      "state": {
       "_model_module": "@jupyter-widgets/controls",
       "_model_module_version": "1.5.0",
       "_model_name": "DescriptionStyleModel",
       "_view_count": null,
       "_view_module": "@jupyter-widgets/base",
       "_view_module_version": "1.2.0",
       "_view_name": "StyleView",
       "description_width": ""
      }
     },
     "5aaad84a0ce542a6aef5861a617739bd": {
      "model_module": "@jupyter-widgets/controls",
      "model_module_version": "1.5.0",
      "model_name": "HTMLModel",
      "state": {
       "_dom_classes": [],
       "_model_module": "@jupyter-widgets/controls",
       "_model_module_version": "1.5.0",
       "_model_name": "HTMLModel",
       "_view_count": null,
       "_view_module": "@jupyter-widgets/controls",
       "_view_module_version": "1.5.0",
       "_view_name": "HTMLView",
       "description": "",
       "description_tooltip": null,
       "layout": "IPY_MODEL_602735a70d204d0080c92d38dbe1d4ef",
       "placeholder": "​",
       "style": "IPY_MODEL_6f7f906a657840df996484930430fde8",
       "value": "Downloading: 100%"
      }
     },
     "5f5b1715d412443cbd240a0dfa977b58": {
      "model_module": "@jupyter-widgets/controls",
      "model_module_version": "1.5.0",
      "model_name": "HBoxModel",
      "state": {
       "_dom_classes": [],
       "_model_module": "@jupyter-widgets/controls",
       "_model_module_version": "1.5.0",
       "_model_name": "HBoxModel",
       "_view_count": null,
       "_view_module": "@jupyter-widgets/controls",
       "_view_module_version": "1.5.0",
       "_view_name": "HBoxView",
       "box_style": "",
       "children": [
        "IPY_MODEL_5aaad84a0ce542a6aef5861a617739bd",
        "IPY_MODEL_efa540340abd444f8be0646e06139a07",
        "IPY_MODEL_efee928985534e79abd5f00a150eb2d4"
       ],
       "layout": "IPY_MODEL_b5ae684d0123474fb4d2f1ecf9313167"
      }
     },
     "602735a70d204d0080c92d38dbe1d4ef": {
      "model_module": "@jupyter-widgets/base",
      "model_module_version": "1.2.0",
      "model_name": "LayoutModel",
      "state": {
       "_model_module": "@jupyter-widgets/base",
       "_model_module_version": "1.2.0",
       "_model_name": "LayoutModel",
       "_view_count": null,
       "_view_module": "@jupyter-widgets/base",
       "_view_module_version": "1.2.0",
       "_view_name": "LayoutView",
       "align_content": null,
       "align_items": null,
       "align_self": null,
       "border": null,
       "bottom": null,
       "display": null,
       "flex": null,
       "flex_flow": null,
       "grid_area": null,
       "grid_auto_columns": null,
       "grid_auto_flow": null,
       "grid_auto_rows": null,
       "grid_column": null,
       "grid_gap": null,
       "grid_row": null,
       "grid_template_areas": null,
       "grid_template_columns": null,
       "grid_template_rows": null,
       "height": null,
       "justify_content": null,
       "justify_items": null,
       "left": null,
       "margin": null,
       "max_height": null,
       "max_width": null,
       "min_height": null,
       "min_width": null,
       "object_fit": null,
       "object_position": null,
       "order": null,
       "overflow": null,
       "overflow_x": null,
       "overflow_y": null,
       "padding": null,
       "right": null,
       "top": null,
       "visibility": null,
       "width": null
      }
     },
     "64ea82b0df9d4e5caf7d4758609e27b3": {
      "model_module": "@jupyter-widgets/base",
      "model_module_version": "1.2.0",
      "model_name": "LayoutModel",
      "state": {
       "_model_module": "@jupyter-widgets/base",
       "_model_module_version": "1.2.0",
       "_model_name": "LayoutModel",
       "_view_count": null,
       "_view_module": "@jupyter-widgets/base",
       "_view_module_version": "1.2.0",
       "_view_name": "LayoutView",
       "align_content": null,
       "align_items": null,
       "align_self": null,
       "border": null,
       "bottom": null,
       "display": null,
       "flex": null,
       "flex_flow": null,
       "grid_area": null,
       "grid_auto_columns": null,
       "grid_auto_flow": null,
       "grid_auto_rows": null,
       "grid_column": null,
       "grid_gap": null,
       "grid_row": null,
       "grid_template_areas": null,
       "grid_template_columns": null,
       "grid_template_rows": null,
       "height": null,
       "justify_content": null,
       "justify_items": null,
       "left": null,
       "margin": null,
       "max_height": null,
       "max_width": null,
       "min_height": null,
       "min_width": null,
       "object_fit": null,
       "object_position": null,
       "order": null,
       "overflow": null,
       "overflow_x": null,
       "overflow_y": null,
       "padding": null,
       "right": null,
       "top": null,
       "visibility": null,
       "width": null
      }
     },
     "6e75ccebca314402b7919086e898294e": {
      "model_module": "@jupyter-widgets/controls",
      "model_module_version": "1.5.0",
      "model_name": "DescriptionStyleModel",
      "state": {
       "_model_module": "@jupyter-widgets/controls",
       "_model_module_version": "1.5.0",
       "_model_name": "DescriptionStyleModel",
       "_view_count": null,
       "_view_module": "@jupyter-widgets/base",
       "_view_module_version": "1.2.0",
       "_view_name": "StyleView",
       "description_width": ""
      }
     },
     "6f7f906a657840df996484930430fde8": {
      "model_module": "@jupyter-widgets/controls",
      "model_module_version": "1.5.0",
      "model_name": "DescriptionStyleModel",
      "state": {
       "_model_module": "@jupyter-widgets/controls",
       "_model_module_version": "1.5.0",
       "_model_name": "DescriptionStyleModel",
       "_view_count": null,
       "_view_module": "@jupyter-widgets/base",
       "_view_module_version": "1.2.0",
       "_view_name": "StyleView",
       "description_width": ""
      }
     },
     "75ccddf464ba40dfb08e4ec35922d9ff": {
      "model_module": "@jupyter-widgets/base",
      "model_module_version": "1.2.0",
      "model_name": "LayoutModel",
      "state": {
       "_model_module": "@jupyter-widgets/base",
       "_model_module_version": "1.2.0",
       "_model_name": "LayoutModel",
       "_view_count": null,
       "_view_module": "@jupyter-widgets/base",
       "_view_module_version": "1.2.0",
       "_view_name": "LayoutView",
       "align_content": null,
       "align_items": null,
       "align_self": null,
       "border": null,
       "bottom": null,
       "display": null,
       "flex": null,
       "flex_flow": null,
       "grid_area": null,
       "grid_auto_columns": null,
       "grid_auto_flow": null,
       "grid_auto_rows": null,
       "grid_column": null,
       "grid_gap": null,
       "grid_row": null,
       "grid_template_areas": null,
       "grid_template_columns": null,
       "grid_template_rows": null,
       "height": null,
       "justify_content": null,
       "justify_items": null,
       "left": null,
       "margin": null,
       "max_height": null,
       "max_width": null,
       "min_height": null,
       "min_width": null,
       "object_fit": null,
       "object_position": null,
       "order": null,
       "overflow": null,
       "overflow_x": null,
       "overflow_y": null,
       "padding": null,
       "right": null,
       "top": null,
       "visibility": null,
       "width": null
      }
     },
     "873f80629d7d4c37b9391750805b0d24": {
      "model_module": "@jupyter-widgets/controls",
      "model_module_version": "1.5.0",
      "model_name": "HBoxModel",
      "state": {
       "_dom_classes": [],
       "_model_module": "@jupyter-widgets/controls",
       "_model_module_version": "1.5.0",
       "_model_name": "HBoxModel",
       "_view_count": null,
       "_view_module": "@jupyter-widgets/controls",
       "_view_module_version": "1.5.0",
       "_view_name": "HBoxView",
       "box_style": "",
       "children": [
        "IPY_MODEL_d5c517c973f640c5b028961a2f0116ee",
        "IPY_MODEL_d2beddf64c0a4df1ab61eb8d344a1862",
        "IPY_MODEL_1ea16538245043cda7a74434d7f3099a"
       ],
       "layout": "IPY_MODEL_d886411bd3ef4d38bc1e189091c824de"
      }
     },
     "8a3b6fbfb3674f169a62b0923b3df9d5": {
      "model_module": "@jupyter-widgets/controls",
      "model_module_version": "1.5.0",
      "model_name": "HBoxModel",
      "state": {
       "_dom_classes": [],
       "_model_module": "@jupyter-widgets/controls",
       "_model_module_version": "1.5.0",
       "_model_name": "HBoxModel",
       "_view_count": null,
       "_view_module": "@jupyter-widgets/controls",
       "_view_module_version": "1.5.0",
       "_view_name": "HBoxView",
       "box_style": "",
       "children": [
        "IPY_MODEL_dc911330770a492d90d7e96aeaf57ce8",
        "IPY_MODEL_24321c47b12b4ef493e9873304d151ee",
        "IPY_MODEL_4786cfbbada84df9bef1c18630e249f4"
       ],
       "layout": "IPY_MODEL_e2c145673c3342ce9f35d97570925861"
      }
     },
     "a8d8b12355d94ceca24280ba11195b58": {
      "model_module": "@jupyter-widgets/base",
      "model_module_version": "1.2.0",
      "model_name": "LayoutModel",
      "state": {
       "_model_module": "@jupyter-widgets/base",
       "_model_module_version": "1.2.0",
       "_model_name": "LayoutModel",
       "_view_count": null,
       "_view_module": "@jupyter-widgets/base",
       "_view_module_version": "1.2.0",
       "_view_name": "LayoutView",
       "align_content": null,
       "align_items": null,
       "align_self": null,
       "border": null,
       "bottom": null,
       "display": null,
       "flex": null,
       "flex_flow": null,
       "grid_area": null,
       "grid_auto_columns": null,
       "grid_auto_flow": null,
       "grid_auto_rows": null,
       "grid_column": null,
       "grid_gap": null,
       "grid_row": null,
       "grid_template_areas": null,
       "grid_template_columns": null,
       "grid_template_rows": null,
       "height": null,
       "justify_content": null,
       "justify_items": null,
       "left": null,
       "margin": null,
       "max_height": null,
       "max_width": null,
       "min_height": null,
       "min_width": null,
       "object_fit": null,
       "object_position": null,
       "order": null,
       "overflow": null,
       "overflow_x": null,
       "overflow_y": null,
       "padding": null,
       "right": null,
       "top": null,
       "visibility": null,
       "width": null
      }
     },
     "b5ae684d0123474fb4d2f1ecf9313167": {
      "model_module": "@jupyter-widgets/base",
      "model_module_version": "1.2.0",
      "model_name": "LayoutModel",
      "state": {
       "_model_module": "@jupyter-widgets/base",
       "_model_module_version": "1.2.0",
       "_model_name": "LayoutModel",
       "_view_count": null,
       "_view_module": "@jupyter-widgets/base",
       "_view_module_version": "1.2.0",
       "_view_name": "LayoutView",
       "align_content": null,
       "align_items": null,
       "align_self": null,
       "border": null,
       "bottom": null,
       "display": null,
       "flex": null,
       "flex_flow": null,
       "grid_area": null,
       "grid_auto_columns": null,
       "grid_auto_flow": null,
       "grid_auto_rows": null,
       "grid_column": null,
       "grid_gap": null,
       "grid_row": null,
       "grid_template_areas": null,
       "grid_template_columns": null,
       "grid_template_rows": null,
       "height": null,
       "justify_content": null,
       "justify_items": null,
       "left": null,
       "margin": null,
       "max_height": null,
       "max_width": null,
       "min_height": null,
       "min_width": null,
       "object_fit": null,
       "object_position": null,
       "order": null,
       "overflow": null,
       "overflow_x": null,
       "overflow_y": null,
       "padding": null,
       "right": null,
       "top": null,
       "visibility": null,
       "width": null
      }
     },
     "c0d8e4815a91435e8f73fcf6dae9d76a": {
      "model_module": "@jupyter-widgets/base",
      "model_module_version": "1.2.0",
      "model_name": "LayoutModel",
      "state": {
       "_model_module": "@jupyter-widgets/base",
       "_model_module_version": "1.2.0",
       "_model_name": "LayoutModel",
       "_view_count": null,
       "_view_module": "@jupyter-widgets/base",
       "_view_module_version": "1.2.0",
       "_view_name": "LayoutView",
       "align_content": null,
       "align_items": null,
       "align_self": null,
       "border": null,
       "bottom": null,
       "display": null,
       "flex": null,
       "flex_flow": null,
       "grid_area": null,
       "grid_auto_columns": null,
       "grid_auto_flow": null,
       "grid_auto_rows": null,
       "grid_column": null,
       "grid_gap": null,
       "grid_row": null,
       "grid_template_areas": null,
       "grid_template_columns": null,
       "grid_template_rows": null,
       "height": null,
       "justify_content": null,
       "justify_items": null,
       "left": null,
       "margin": null,
       "max_height": null,
       "max_width": null,
       "min_height": null,
       "min_width": null,
       "object_fit": null,
       "object_position": null,
       "order": null,
       "overflow": null,
       "overflow_x": null,
       "overflow_y": null,
       "padding": null,
       "right": null,
       "top": null,
       "visibility": null,
       "width": null
      }
     },
     "ca0abf2c761a49f6a02cd7a0484a63ff": {
      "model_module": "@jupyter-widgets/controls",
      "model_module_version": "1.5.0",
      "model_name": "DescriptionStyleModel",
      "state": {
       "_model_module": "@jupyter-widgets/controls",
       "_model_module_version": "1.5.0",
       "_model_name": "DescriptionStyleModel",
       "_view_count": null,
       "_view_module": "@jupyter-widgets/base",
       "_view_module_version": "1.2.0",
       "_view_name": "StyleView",
       "description_width": ""
      }
     },
     "d2beddf64c0a4df1ab61eb8d344a1862": {
      "model_module": "@jupyter-widgets/controls",
      "model_module_version": "1.5.0",
      "model_name": "FloatProgressModel",
      "state": {
       "_dom_classes": [],
       "_model_module": "@jupyter-widgets/controls",
       "_model_module_version": "1.5.0",
       "_model_name": "FloatProgressModel",
       "_view_count": null,
       "_view_module": "@jupyter-widgets/controls",
       "_view_module_version": "1.5.0",
       "_view_name": "ProgressView",
       "bar_style": "success",
       "description": "",
       "description_tooltip": null,
       "layout": "IPY_MODEL_4255fa18c9f94bc995fa8934e60a47b5",
       "max": 231508.0,
       "min": 0.0,
       "orientation": "horizontal",
       "style": "IPY_MODEL_fcfa9aaa0d794c7dac5ae80020e62e35",
       "value": 231508.0
      }
     },
     "d5c517c973f640c5b028961a2f0116ee": {
      "model_module": "@jupyter-widgets/controls",
      "model_module_version": "1.5.0",
      "model_name": "HTMLModel",
      "state": {
       "_dom_classes": [],
       "_model_module": "@jupyter-widgets/controls",
       "_model_module_version": "1.5.0",
       "_model_name": "HTMLModel",
       "_view_count": null,
       "_view_module": "@jupyter-widgets/controls",
       "_view_module_version": "1.5.0",
       "_view_name": "HTMLView",
       "description": "",
       "description_tooltip": null,
       "layout": "IPY_MODEL_1d2565d941f44922a8d5f526d1dde2eb",
       "placeholder": "​",
       "style": "IPY_MODEL_ca0abf2c761a49f6a02cd7a0484a63ff",
       "value": "Downloading: 100%"
      }
     },
     "d886411bd3ef4d38bc1e189091c824de": {
      "model_module": "@jupyter-widgets/base",
      "model_module_version": "1.2.0",
      "model_name": "LayoutModel",
      "state": {
       "_model_module": "@jupyter-widgets/base",
       "_model_module_version": "1.2.0",
       "_model_name": "LayoutModel",
       "_view_count": null,
       "_view_module": "@jupyter-widgets/base",
       "_view_module_version": "1.2.0",
       "_view_name": "LayoutView",
       "align_content": null,
       "align_items": null,
       "align_self": null,
       "border": null,
       "bottom": null,
       "display": null,
       "flex": null,
       "flex_flow": null,
       "grid_area": null,
       "grid_auto_columns": null,
       "grid_auto_flow": null,
       "grid_auto_rows": null,
       "grid_column": null,
       "grid_gap": null,
       "grid_row": null,
       "grid_template_areas": null,
       "grid_template_columns": null,
       "grid_template_rows": null,
       "height": null,
       "justify_content": null,
       "justify_items": null,
       "left": null,
       "margin": null,
       "max_height": null,
       "max_width": null,
       "min_height": null,
       "min_width": null,
       "object_fit": null,
       "object_position": null,
       "order": null,
       "overflow": null,
       "overflow_x": null,
       "overflow_y": null,
       "padding": null,
       "right": null,
       "top": null,
       "visibility": null,
       "width": null
      }
     },
     "dc911330770a492d90d7e96aeaf57ce8": {
      "model_module": "@jupyter-widgets/controls",
      "model_module_version": "1.5.0",
      "model_name": "HTMLModel",
      "state": {
       "_dom_classes": [],
       "_model_module": "@jupyter-widgets/controls",
       "_model_module_version": "1.5.0",
       "_model_name": "HTMLModel",
       "_view_count": null,
       "_view_module": "@jupyter-widgets/controls",
       "_view_module_version": "1.5.0",
       "_view_name": "HTMLView",
       "description": "",
       "description_tooltip": null,
       "layout": "IPY_MODEL_c0d8e4815a91435e8f73fcf6dae9d76a",
       "placeholder": "​",
       "style": "IPY_MODEL_2df2ad28f9fe4d43ba9579b24a55f0f9",
       "value": "Downloading: 100%"
      }
     },
     "e2c145673c3342ce9f35d97570925861": {
      "model_module": "@jupyter-widgets/base",
      "model_module_version": "1.2.0",
      "model_name": "LayoutModel",
      "state": {
       "_model_module": "@jupyter-widgets/base",
       "_model_module_version": "1.2.0",
       "_model_name": "LayoutModel",
       "_view_count": null,
       "_view_module": "@jupyter-widgets/base",
       "_view_module_version": "1.2.0",
       "_view_name": "LayoutView",
       "align_content": null,
       "align_items": null,
       "align_self": null,
       "border": null,
       "bottom": null,
       "display": null,
       "flex": null,
       "flex_flow": null,
       "grid_area": null,
       "grid_auto_columns": null,
       "grid_auto_flow": null,
       "grid_auto_rows": null,
       "grid_column": null,
       "grid_gap": null,
       "grid_row": null,
       "grid_template_areas": null,
       "grid_template_columns": null,
       "grid_template_rows": null,
       "height": null,
       "justify_content": null,
       "justify_items": null,
       "left": null,
       "margin": null,
       "max_height": null,
       "max_width": null,
       "min_height": null,
       "min_width": null,
       "object_fit": null,
       "object_position": null,
       "order": null,
       "overflow": null,
       "overflow_x": null,
       "overflow_y": null,
       "padding": null,
       "right": null,
       "top": null,
       "visibility": null,
       "width": null
      }
     },
     "ed7a7f485f7b468d8af039e547eae815": {
      "model_module": "@jupyter-widgets/base",
      "model_module_version": "1.2.0",
      "model_name": "LayoutModel",
      "state": {
       "_model_module": "@jupyter-widgets/base",
       "_model_module_version": "1.2.0",
       "_model_name": "LayoutModel",
       "_view_count": null,
       "_view_module": "@jupyter-widgets/base",
       "_view_module_version": "1.2.0",
       "_view_name": "LayoutView",
       "align_content": null,
       "align_items": null,
       "align_self": null,
       "border": null,
       "bottom": null,
       "display": null,
       "flex": null,
       "flex_flow": null,
       "grid_area": null,
       "grid_auto_columns": null,
       "grid_auto_flow": null,
       "grid_auto_rows": null,
       "grid_column": null,
       "grid_gap": null,
       "grid_row": null,
       "grid_template_areas": null,
       "grid_template_columns": null,
       "grid_template_rows": null,
       "height": null,
       "justify_content": null,
       "justify_items": null,
       "left": null,
       "margin": null,
       "max_height": null,
       "max_width": null,
       "min_height": null,
       "min_width": null,
       "object_fit": null,
       "object_position": null,
       "order": null,
       "overflow": null,
       "overflow_x": null,
       "overflow_y": null,
       "padding": null,
       "right": null,
       "top": null,
       "visibility": null,
       "width": null
      }
     },
     "efa540340abd444f8be0646e06139a07": {
      "model_module": "@jupyter-widgets/controls",
      "model_module_version": "1.5.0",
      "model_name": "FloatProgressModel",
      "state": {
       "_dom_classes": [],
       "_model_module": "@jupyter-widgets/controls",
       "_model_module_version": "1.5.0",
       "_model_name": "FloatProgressModel",
       "_view_count": null,
       "_view_module": "@jupyter-widgets/controls",
       "_view_module_version": "1.5.0",
       "_view_name": "ProgressView",
       "bar_style": "success",
       "description": "",
       "description_tooltip": null,
       "layout": "IPY_MODEL_29ebbb2e61b54afa8069daa7180d8a7c",
       "max": 267967963.0,
       "min": 0.0,
       "orientation": "horizontal",
       "style": "IPY_MODEL_4b1287cb3c7d450a8ebf81193fe62018",
       "value": 267967963.0
      }
     },
     "efee928985534e79abd5f00a150eb2d4": {
      "model_module": "@jupyter-widgets/controls",
      "model_module_version": "1.5.0",
      "model_name": "HTMLModel",
      "state": {
       "_dom_classes": [],
       "_model_module": "@jupyter-widgets/controls",
       "_model_module_version": "1.5.0",
       "_model_name": "HTMLModel",
       "_view_count": null,
       "_view_module": "@jupyter-widgets/controls",
       "_view_module_version": "1.5.0",
       "_view_name": "HTMLView",
       "description": "",
       "description_tooltip": null,
       "layout": "IPY_MODEL_ed7a7f485f7b468d8af039e547eae815",
       "placeholder": "​",
       "style": "IPY_MODEL_0b0dc9532cc342fbb1d7a1e6b07ab07a",
       "value": " 268M/268M [00:06&lt;00:00, 41.8MB/s]"
      }
     },
     "fcfa9aaa0d794c7dac5ae80020e62e35": {
      "model_module": "@jupyter-widgets/controls",
      "model_module_version": "1.5.0",
      "model_name": "ProgressStyleModel",
      "state": {
       "_model_module": "@jupyter-widgets/controls",
       "_model_module_version": "1.5.0",
       "_model_name": "ProgressStyleModel",
       "_view_count": null,
       "_view_module": "@jupyter-widgets/base",
       "_view_module_version": "1.2.0",
       "_view_name": "StyleView",
       "bar_color": null,
       "description_width": ""
      }
     }
    },
    "version_major": 2,
    "version_minor": 0
   }
  }
 },
 "nbformat": 4,
 "nbformat_minor": 4
}
