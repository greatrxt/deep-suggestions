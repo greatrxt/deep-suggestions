{
 "cells": [
  {
   "cell_type": "code",
   "execution_count": 1,
   "metadata": {
    "_cell_guid": "b1076dfc-b9ad-4769-8c92-a6c4dae69d19",
    "_uuid": "8f2839f25d086af736a60e9eeb907d3b93b6e0e5",
    "execution": {
     "iopub.execute_input": "2021-03-03T16:06:32.180255Z",
     "iopub.status.busy": "2021-03-03T16:06:32.179456Z",
     "iopub.status.idle": "2021-03-03T16:06:33.627507Z",
     "shell.execute_reply": "2021-03-03T16:06:33.626769Z"
    },
    "papermill": {
     "duration": 1.464326,
     "end_time": "2021-03-03T16:06:33.627714",
     "exception": false,
     "start_time": "2021-03-03T16:06:32.163388",
     "status": "completed"
    },
    "tags": []
   },
   "outputs": [],
   "source": [
    "import pickle\n",
    "import numpy as np\n",
    "\n",
    "from sklearn.cluster import DBSCAN\n",
    "from sklearn import metrics\n",
    "from sklearn.preprocessing import StandardScaler\n",
    "from tqdm import tqdm\n",
    "import pandas as pd\n",
    "import matplotlib.pyplot as plt"
   ]
  },
  {
   "cell_type": "code",
   "execution_count": 2,
   "metadata": {
    "execution": {
     "iopub.execute_input": "2021-03-03T16:06:33.656322Z",
     "iopub.status.busy": "2021-03-03T16:06:33.655583Z",
     "iopub.status.idle": "2021-03-03T16:06:33.685259Z",
     "shell.execute_reply": "2021-03-03T16:06:33.684525Z"
    },
    "papermill": {
     "duration": 0.045589,
     "end_time": "2021-03-03T16:06:33.685414",
     "exception": false,
     "start_time": "2021-03-03T16:06:33.639825",
     "status": "completed"
    },
    "tags": []
   },
   "outputs": [],
   "source": [
    "with open(\"../input/smart-reply-sentence-similarity/input_texts.pickle\", 'rb') as handle:\n",
    "    input_texts = pickle.load(handle)"
   ]
  },
  {
   "cell_type": "code",
   "execution_count": 3,
   "metadata": {
    "execution": {
     "iopub.execute_input": "2021-03-03T16:06:33.714958Z",
     "iopub.status.busy": "2021-03-03T16:06:33.714271Z",
     "iopub.status.idle": "2021-03-03T16:10:18.653034Z",
     "shell.execute_reply": "2021-03-03T16:10:18.653656Z"
    },
    "papermill": {
     "duration": 224.956613,
     "end_time": "2021-03-03T16:10:18.653858",
     "exception": false,
     "start_time": "2021-03-03T16:06:33.697245",
     "status": "completed"
    },
    "tags": []
   },
   "outputs": [
    {
     "data": {
      "text/html": [
       "<div>\n",
       "<style scoped>\n",
       "    .dataframe tbody tr th:only-of-type {\n",
       "        vertical-align: middle;\n",
       "    }\n",
       "\n",
       "    .dataframe tbody tr th {\n",
       "        vertical-align: top;\n",
       "    }\n",
       "\n",
       "    .dataframe thead th {\n",
       "        text-align: right;\n",
       "    }\n",
       "</style>\n",
       "<table border=\"1\" class=\"dataframe\">\n",
       "  <thead>\n",
       "    <tr style=\"text-align: right;\">\n",
       "      <th></th>\n",
       "      <th>0</th>\n",
       "      <th>1</th>\n",
       "      <th>2</th>\n",
       "      <th>3</th>\n",
       "      <th>4</th>\n",
       "      <th>5</th>\n",
       "      <th>6</th>\n",
       "      <th>7</th>\n",
       "      <th>8</th>\n",
       "      <th>9</th>\n",
       "      <th>...</th>\n",
       "      <th>15831</th>\n",
       "      <th>15832</th>\n",
       "      <th>15833</th>\n",
       "      <th>15834</th>\n",
       "      <th>15835</th>\n",
       "      <th>15836</th>\n",
       "      <th>15837</th>\n",
       "      <th>15838</th>\n",
       "      <th>15839</th>\n",
       "      <th>15840</th>\n",
       "    </tr>\n",
       "  </thead>\n",
       "  <tbody>\n",
       "    <tr>\n",
       "      <th>0</th>\n",
       "      <td>[0.0</td>\n",
       "      <td>0.028734</td>\n",
       "      <td>0.027896</td>\n",
       "      <td>0.034412</td>\n",
       "      <td>0.031692</td>\n",
       "      <td>0.030466</td>\n",
       "      <td>0.063301</td>\n",
       "      <td>0.039833</td>\n",
       "      <td>0.039226</td>\n",
       "      <td>0.034412</td>\n",
       "      <td>...</td>\n",
       "      <td>0.045533</td>\n",
       "      <td>0.029787</td>\n",
       "      <td>0.029133</td>\n",
       "      <td>0.021897</td>\n",
       "      <td>0.020846</td>\n",
       "      <td>0.031487</td>\n",
       "      <td>0.063886</td>\n",
       "      <td>0.027929</td>\n",
       "      <td>0.037734</td>\n",
       "      <td>0.0320625901222229]</td>\n",
       "    </tr>\n",
       "    <tr>\n",
       "      <th>1</th>\n",
       "      <td>[0.028733551502227783</td>\n",
       "      <td>0.000000</td>\n",
       "      <td>0.024473</td>\n",
       "      <td>0.012667</td>\n",
       "      <td>0.020592</td>\n",
       "      <td>0.010325</td>\n",
       "      <td>0.045364</td>\n",
       "      <td>0.013770</td>\n",
       "      <td>0.016877</td>\n",
       "      <td>0.012667</td>\n",
       "      <td>...</td>\n",
       "      <td>0.030869</td>\n",
       "      <td>0.008784</td>\n",
       "      <td>0.016132</td>\n",
       "      <td>0.016506</td>\n",
       "      <td>0.011956</td>\n",
       "      <td>0.018705</td>\n",
       "      <td>0.035486</td>\n",
       "      <td>0.014873</td>\n",
       "      <td>0.017064</td>\n",
       "      <td>0.015716552734375]</td>\n",
       "    </tr>\n",
       "    <tr>\n",
       "      <th>2</th>\n",
       "      <td>[0.027895689010620117</td>\n",
       "      <td>0.024473</td>\n",
       "      <td>0.000000</td>\n",
       "      <td>0.033816</td>\n",
       "      <td>0.014762</td>\n",
       "      <td>0.027025</td>\n",
       "      <td>0.052140</td>\n",
       "      <td>0.038405</td>\n",
       "      <td>0.035809</td>\n",
       "      <td>0.033816</td>\n",
       "      <td>...</td>\n",
       "      <td>0.041643</td>\n",
       "      <td>0.028751</td>\n",
       "      <td>0.021723</td>\n",
       "      <td>0.026664</td>\n",
       "      <td>0.022712</td>\n",
       "      <td>0.030015</td>\n",
       "      <td>0.058062</td>\n",
       "      <td>0.026405</td>\n",
       "      <td>0.032695</td>\n",
       "      <td>0.031088829040527344]</td>\n",
       "    </tr>\n",
       "    <tr>\n",
       "      <th>3</th>\n",
       "      <td>[0.0344119668006897</td>\n",
       "      <td>0.012667</td>\n",
       "      <td>0.033816</td>\n",
       "      <td>0.000000</td>\n",
       "      <td>0.025240</td>\n",
       "      <td>0.004443</td>\n",
       "      <td>0.059595</td>\n",
       "      <td>0.007277</td>\n",
       "      <td>0.008881</td>\n",
       "      <td>0.000000</td>\n",
       "      <td>...</td>\n",
       "      <td>0.033340</td>\n",
       "      <td>0.009798</td>\n",
       "      <td>0.016464</td>\n",
       "      <td>0.010436</td>\n",
       "      <td>0.015498</td>\n",
       "      <td>0.023792</td>\n",
       "      <td>0.028518</td>\n",
       "      <td>0.014157</td>\n",
       "      <td>0.008842</td>\n",
       "      <td>0.02057814598083496]</td>\n",
       "    </tr>\n",
       "    <tr>\n",
       "      <th>4</th>\n",
       "      <td>[0.03169173002243042</td>\n",
       "      <td>0.020592</td>\n",
       "      <td>0.014762</td>\n",
       "      <td>0.025240</td>\n",
       "      <td>0.000000</td>\n",
       "      <td>0.024405</td>\n",
       "      <td>0.047637</td>\n",
       "      <td>0.024676</td>\n",
       "      <td>0.033265</td>\n",
       "      <td>0.025240</td>\n",
       "      <td>...</td>\n",
       "      <td>0.028596</td>\n",
       "      <td>0.023108</td>\n",
       "      <td>0.016733</td>\n",
       "      <td>0.022498</td>\n",
       "      <td>0.019728</td>\n",
       "      <td>0.015570</td>\n",
       "      <td>0.042603</td>\n",
       "      <td>0.021523</td>\n",
       "      <td>0.031186</td>\n",
       "      <td>0.029881536960601807]</td>\n",
       "    </tr>\n",
       "  </tbody>\n",
       "</table>\n",
       "<p>5 rows × 15841 columns</p>\n",
       "</div>"
      ],
      "text/plain": [
       "                   0         1         2         3         4         5      \\\n",
       "0                   [0.0  0.028734  0.027896  0.034412  0.031692  0.030466   \n",
       "1  [0.028733551502227783  0.000000  0.024473  0.012667  0.020592  0.010325   \n",
       "2  [0.027895689010620117  0.024473  0.000000  0.033816  0.014762  0.027025   \n",
       "3    [0.0344119668006897  0.012667  0.033816  0.000000  0.025240  0.004443   \n",
       "4   [0.03169173002243042  0.020592  0.014762  0.025240  0.000000  0.024405   \n",
       "\n",
       "      6         7         8         9      ...     15831     15832     15833  \\\n",
       "0  0.063301  0.039833  0.039226  0.034412  ...  0.045533  0.029787  0.029133   \n",
       "1  0.045364  0.013770  0.016877  0.012667  ...  0.030869  0.008784  0.016132   \n",
       "2  0.052140  0.038405  0.035809  0.033816  ...  0.041643  0.028751  0.021723   \n",
       "3  0.059595  0.007277  0.008881  0.000000  ...  0.033340  0.009798  0.016464   \n",
       "4  0.047637  0.024676  0.033265  0.025240  ...  0.028596  0.023108  0.016733   \n",
       "\n",
       "      15834     15835     15836     15837     15838     15839  \\\n",
       "0  0.021897  0.020846  0.031487  0.063886  0.027929  0.037734   \n",
       "1  0.016506  0.011956  0.018705  0.035486  0.014873  0.017064   \n",
       "2  0.026664  0.022712  0.030015  0.058062  0.026405  0.032695   \n",
       "3  0.010436  0.015498  0.023792  0.028518  0.014157  0.008842   \n",
       "4  0.022498  0.019728  0.015570  0.042603  0.021523  0.031186   \n",
       "\n",
       "                    15840  \n",
       "0     0.0320625901222229]  \n",
       "1      0.015716552734375]  \n",
       "2   0.031088829040527344]  \n",
       "3    0.02057814598083496]  \n",
       "4   0.029881536960601807]  \n",
       "\n",
       "[5 rows x 15841 columns]"
      ]
     },
     "execution_count": 3,
     "metadata": {},
     "output_type": "execute_result"
    }
   ],
   "source": [
    "tqdm.pandas()\n",
    "df = pd.read_csv(\"../input/smart-reply-sentence-similarity/input_similarity_matrix.txt\", header=None)\n",
    "df.head()"
   ]
  },
  {
   "cell_type": "code",
   "execution_count": 4,
   "metadata": {
    "execution": {
     "iopub.execute_input": "2021-03-03T16:10:18.686692Z",
     "iopub.status.busy": "2021-03-03T16:10:18.685651Z",
     "iopub.status.idle": "2021-03-03T16:10:18.689580Z",
     "shell.execute_reply": "2021-03-03T16:10:18.690053Z"
    },
    "papermill": {
     "duration": 0.023821,
     "end_time": "2021-03-03T16:10:18.690226",
     "exception": false,
     "start_time": "2021-03-03T16:10:18.666405",
     "status": "completed"
    },
    "tags": []
   },
   "outputs": [
    {
     "data": {
      "text/plain": [
       "0                         [0.0\n",
       "1        [0.028733551502227783\n",
       "2        [0.027895689010620117\n",
       "3          [0.0344119668006897\n",
       "4         [0.03169173002243042\n",
       "                 ...          \n",
       "15836    [0.031486690044403076\n",
       "15837     [0.06388592720031738\n",
       "15838     [0.02792912721633911\n",
       "15839     [0.03773373365402222\n",
       "15840      [0.0320625901222229\n",
       "Name: 0, Length: 15841, dtype: object"
      ]
     },
     "execution_count": 4,
     "metadata": {},
     "output_type": "execute_result"
    }
   ],
   "source": [
    "# first and last column data contains [ and ]\n",
    "df.iloc[:,0]"
   ]
  },
  {
   "cell_type": "code",
   "execution_count": 5,
   "metadata": {
    "execution": {
     "iopub.execute_input": "2021-03-03T16:10:18.728693Z",
     "iopub.status.busy": "2021-03-03T16:10:18.728022Z",
     "iopub.status.idle": "2021-03-03T16:10:18.732471Z",
     "shell.execute_reply": "2021-03-03T16:10:18.731885Z"
    },
    "papermill": {
     "duration": 0.029482,
     "end_time": "2021-03-03T16:10:18.732611",
     "exception": false,
     "start_time": "2021-03-03T16:10:18.703129",
     "status": "completed"
    },
    "tags": []
   },
   "outputs": [
    {
     "data": {
      "text/html": [
       "<div>\n",
       "<style scoped>\n",
       "    .dataframe tbody tr th:only-of-type {\n",
       "        vertical-align: middle;\n",
       "    }\n",
       "\n",
       "    .dataframe tbody tr th {\n",
       "        vertical-align: top;\n",
       "    }\n",
       "\n",
       "    .dataframe thead th {\n",
       "        text-align: right;\n",
       "    }\n",
       "</style>\n",
       "<table border=\"1\" class=\"dataframe\">\n",
       "  <thead>\n",
       "    <tr style=\"text-align: right;\">\n",
       "      <th></th>\n",
       "      <th>15840</th>\n",
       "    </tr>\n",
       "  </thead>\n",
       "  <tbody>\n",
       "    <tr>\n",
       "      <th>0</th>\n",
       "      <td>0.0320625901222229]</td>\n",
       "    </tr>\n",
       "    <tr>\n",
       "      <th>1</th>\n",
       "      <td>0.015716552734375]</td>\n",
       "    </tr>\n",
       "    <tr>\n",
       "      <th>2</th>\n",
       "      <td>0.031088829040527344]</td>\n",
       "    </tr>\n",
       "    <tr>\n",
       "      <th>3</th>\n",
       "      <td>0.02057814598083496]</td>\n",
       "    </tr>\n",
       "    <tr>\n",
       "      <th>4</th>\n",
       "      <td>0.029881536960601807]</td>\n",
       "    </tr>\n",
       "    <tr>\n",
       "      <th>...</th>\n",
       "      <td>...</td>\n",
       "    </tr>\n",
       "    <tr>\n",
       "      <th>15836</th>\n",
       "      <td>0.023702800273895264]</td>\n",
       "    </tr>\n",
       "    <tr>\n",
       "      <th>15837</th>\n",
       "      <td>0.03144943714141846]</td>\n",
       "    </tr>\n",
       "    <tr>\n",
       "      <th>15838</th>\n",
       "      <td>0.01103067398071289]</td>\n",
       "    </tr>\n",
       "    <tr>\n",
       "      <th>15839</th>\n",
       "      <td>0.019704699516296387]</td>\n",
       "    </tr>\n",
       "    <tr>\n",
       "      <th>15840</th>\n",
       "      <td>0.0]</td>\n",
       "    </tr>\n",
       "  </tbody>\n",
       "</table>\n",
       "<p>15841 rows × 1 columns</p>\n",
       "</div>"
      ],
      "text/plain": [
       "                        15840\n",
       "0         0.0320625901222229]\n",
       "1          0.015716552734375]\n",
       "2       0.031088829040527344]\n",
       "3        0.02057814598083496]\n",
       "4       0.029881536960601807]\n",
       "...                       ...\n",
       "15836   0.023702800273895264]\n",
       "15837    0.03144943714141846]\n",
       "15838    0.01103067398071289]\n",
       "15839   0.019704699516296387]\n",
       "15840                    0.0]\n",
       "\n",
       "[15841 rows x 1 columns]"
      ]
     },
     "execution_count": 5,
     "metadata": {},
     "output_type": "execute_result"
    }
   ],
   "source": [
    "df.iloc[:,-1:]"
   ]
  },
  {
   "cell_type": "code",
   "execution_count": 6,
   "metadata": {
    "execution": {
     "iopub.execute_input": "2021-03-03T16:10:18.764557Z",
     "iopub.status.busy": "2021-03-03T16:10:18.763960Z",
     "iopub.status.idle": "2021-03-03T16:10:18.813426Z",
     "shell.execute_reply": "2021-03-03T16:10:18.813916Z"
    },
    "papermill": {
     "duration": 0.066276,
     "end_time": "2021-03-03T16:10:18.814112",
     "exception": false,
     "start_time": "2021-03-03T16:10:18.747836",
     "status": "completed"
    },
    "tags": []
   },
   "outputs": [
    {
     "name": "stderr",
     "output_type": "stream",
     "text": [
      "/opt/conda/lib/python3.7/site-packages/ipykernel_launcher.py:2: FutureWarning: The default value of regex will change from True to False in a future version. In addition, single character regular expressions will*not* be treated as literal strings when regex=True.\n",
      "  \n",
      "/opt/conda/lib/python3.7/site-packages/ipykernel_launcher.py:3: FutureWarning: The default value of regex will change from True to False in a future version. In addition, single character regular expressions will*not* be treated as literal strings when regex=True.\n",
      "  This is separate from the ipykernel package so we can avoid doing imports until\n"
     ]
    }
   ],
   "source": [
    "# cleaning first and last columns\n",
    "df.iloc[:,0] = df.iloc[:,0].str.replace(\"[\", \"\").str.strip()\n",
    "df.iloc[:,-1:] = df.iloc[:,-1].str.replace(\"]\", \"\").str.strip()"
   ]
  },
  {
   "cell_type": "code",
   "execution_count": 7,
   "metadata": {
    "execution": {
     "iopub.execute_input": "2021-03-03T16:10:18.846229Z",
     "iopub.status.busy": "2021-03-03T16:10:18.845495Z",
     "iopub.status.idle": "2021-03-03T16:10:18.853410Z",
     "shell.execute_reply": "2021-03-03T16:10:18.853871Z"
    },
    "papermill": {
     "duration": 0.02592,
     "end_time": "2021-03-03T16:10:18.854098",
     "exception": false,
     "start_time": "2021-03-03T16:10:18.828178",
     "status": "completed"
    },
    "tags": []
   },
   "outputs": [
    {
     "data": {
      "text/plain": [
       "0                         0.0\n",
       "1        0.028733551502227783\n",
       "2        0.027895689010620117\n",
       "3          0.0344119668006897\n",
       "4         0.03169173002243042\n",
       "                 ...         \n",
       "15836    0.031486690044403076\n",
       "15837     0.06388592720031738\n",
       "15838     0.02792912721633911\n",
       "15839     0.03773373365402222\n",
       "15840      0.0320625901222229\n",
       "Name: 0, Length: 15841, dtype: object"
      ]
     },
     "execution_count": 7,
     "metadata": {},
     "output_type": "execute_result"
    }
   ],
   "source": [
    "df.iloc[:,0]"
   ]
  },
  {
   "cell_type": "code",
   "execution_count": 8,
   "metadata": {
    "execution": {
     "iopub.execute_input": "2021-03-03T16:10:18.887158Z",
     "iopub.status.busy": "2021-03-03T16:10:18.886431Z",
     "iopub.status.idle": "2021-03-03T16:10:18.898035Z",
     "shell.execute_reply": "2021-03-03T16:10:18.897382Z"
    },
    "papermill": {
     "duration": 0.029542,
     "end_time": "2021-03-03T16:10:18.898260",
     "exception": false,
     "start_time": "2021-03-03T16:10:18.868718",
     "status": "completed"
    },
    "tags": []
   },
   "outputs": [
    {
     "data": {
      "text/html": [
       "<div>\n",
       "<style scoped>\n",
       "    .dataframe tbody tr th:only-of-type {\n",
       "        vertical-align: middle;\n",
       "    }\n",
       "\n",
       "    .dataframe tbody tr th {\n",
       "        vertical-align: top;\n",
       "    }\n",
       "\n",
       "    .dataframe thead th {\n",
       "        text-align: right;\n",
       "    }\n",
       "</style>\n",
       "<table border=\"1\" class=\"dataframe\">\n",
       "  <thead>\n",
       "    <tr style=\"text-align: right;\">\n",
       "      <th></th>\n",
       "      <th>15840</th>\n",
       "    </tr>\n",
       "  </thead>\n",
       "  <tbody>\n",
       "    <tr>\n",
       "      <th>0</th>\n",
       "      <td>0.0320625901222229</td>\n",
       "    </tr>\n",
       "    <tr>\n",
       "      <th>1</th>\n",
       "      <td>0.015716552734375</td>\n",
       "    </tr>\n",
       "    <tr>\n",
       "      <th>2</th>\n",
       "      <td>0.031088829040527344</td>\n",
       "    </tr>\n",
       "    <tr>\n",
       "      <th>3</th>\n",
       "      <td>0.02057814598083496</td>\n",
       "    </tr>\n",
       "    <tr>\n",
       "      <th>4</th>\n",
       "      <td>0.029881536960601807</td>\n",
       "    </tr>\n",
       "    <tr>\n",
       "      <th>...</th>\n",
       "      <td>...</td>\n",
       "    </tr>\n",
       "    <tr>\n",
       "      <th>15836</th>\n",
       "      <td>0.023702800273895264</td>\n",
       "    </tr>\n",
       "    <tr>\n",
       "      <th>15837</th>\n",
       "      <td>0.03144943714141846</td>\n",
       "    </tr>\n",
       "    <tr>\n",
       "      <th>15838</th>\n",
       "      <td>0.01103067398071289</td>\n",
       "    </tr>\n",
       "    <tr>\n",
       "      <th>15839</th>\n",
       "      <td>0.019704699516296387</td>\n",
       "    </tr>\n",
       "    <tr>\n",
       "      <th>15840</th>\n",
       "      <td>0.0</td>\n",
       "    </tr>\n",
       "  </tbody>\n",
       "</table>\n",
       "<p>15841 rows × 1 columns</p>\n",
       "</div>"
      ],
      "text/plain": [
       "                      15840\n",
       "0        0.0320625901222229\n",
       "1         0.015716552734375\n",
       "2      0.031088829040527344\n",
       "3       0.02057814598083496\n",
       "4      0.029881536960601807\n",
       "...                     ...\n",
       "15836  0.023702800273895264\n",
       "15837   0.03144943714141846\n",
       "15838   0.01103067398071289\n",
       "15839  0.019704699516296387\n",
       "15840                   0.0\n",
       "\n",
       "[15841 rows x 1 columns]"
      ]
     },
     "execution_count": 8,
     "metadata": {},
     "output_type": "execute_result"
    }
   ],
   "source": [
    "df.iloc[:,-1:]"
   ]
  },
  {
   "cell_type": "code",
   "execution_count": 9,
   "metadata": {
    "execution": {
     "iopub.execute_input": "2021-03-03T16:10:18.934763Z",
     "iopub.status.busy": "2021-03-03T16:10:18.933426Z",
     "iopub.status.idle": "2021-03-03T16:11:02.610085Z",
     "shell.execute_reply": "2021-03-03T16:11:02.610588Z"
    },
    "papermill": {
     "duration": 43.697079,
     "end_time": "2021-03-03T16:11:02.610757",
     "exception": false,
     "start_time": "2021-03-03T16:10:18.913678",
     "status": "completed"
    },
    "tags": []
   },
   "outputs": [
    {
     "data": {
      "text/html": [
       "<div>\n",
       "<style scoped>\n",
       "    .dataframe tbody tr th:only-of-type {\n",
       "        vertical-align: middle;\n",
       "    }\n",
       "\n",
       "    .dataframe tbody tr th {\n",
       "        vertical-align: top;\n",
       "    }\n",
       "\n",
       "    .dataframe thead th {\n",
       "        text-align: right;\n",
       "    }\n",
       "</style>\n",
       "<table border=\"1\" class=\"dataframe\">\n",
       "  <thead>\n",
       "    <tr style=\"text-align: right;\">\n",
       "      <th></th>\n",
       "      <th>0</th>\n",
       "      <th>1</th>\n",
       "      <th>2</th>\n",
       "      <th>3</th>\n",
       "      <th>4</th>\n",
       "      <th>5</th>\n",
       "      <th>6</th>\n",
       "      <th>7</th>\n",
       "      <th>8</th>\n",
       "      <th>9</th>\n",
       "      <th>...</th>\n",
       "      <th>15831</th>\n",
       "      <th>15832</th>\n",
       "      <th>15833</th>\n",
       "      <th>15834</th>\n",
       "      <th>15835</th>\n",
       "      <th>15836</th>\n",
       "      <th>15837</th>\n",
       "      <th>15838</th>\n",
       "      <th>15839</th>\n",
       "      <th>15840</th>\n",
       "    </tr>\n",
       "  </thead>\n",
       "  <tbody>\n",
       "    <tr>\n",
       "      <th>count</th>\n",
       "      <td>15841.000000</td>\n",
       "      <td>15841.000000</td>\n",
       "      <td>15841.000000</td>\n",
       "      <td>15841.000000</td>\n",
       "      <td>15841.000000</td>\n",
       "      <td>15841.000000</td>\n",
       "      <td>15841.000000</td>\n",
       "      <td>15841.000000</td>\n",
       "      <td>15841.000000</td>\n",
       "      <td>15841.000000</td>\n",
       "      <td>...</td>\n",
       "      <td>15841.000000</td>\n",
       "      <td>15841.000000</td>\n",
       "      <td>15841.000000</td>\n",
       "      <td>15841.000000</td>\n",
       "      <td>15841.000000</td>\n",
       "      <td>15841.000000</td>\n",
       "      <td>15841.000000</td>\n",
       "      <td>15841.000000</td>\n",
       "      <td>15841.000000</td>\n",
       "      <td>15841.000000</td>\n",
       "    </tr>\n",
       "    <tr>\n",
       "      <th>mean</th>\n",
       "      <td>0.040852</td>\n",
       "      <td>0.026237</td>\n",
       "      <td>0.037013</td>\n",
       "      <td>0.026025</td>\n",
       "      <td>0.032498</td>\n",
       "      <td>0.025518</td>\n",
       "      <td>0.056041</td>\n",
       "      <td>0.030081</td>\n",
       "      <td>0.028649</td>\n",
       "      <td>0.026025</td>\n",
       "      <td>...</td>\n",
       "      <td>0.042082</td>\n",
       "      <td>0.026227</td>\n",
       "      <td>0.027419</td>\n",
       "      <td>0.028036</td>\n",
       "      <td>0.027468</td>\n",
       "      <td>0.031947</td>\n",
       "      <td>0.043230</td>\n",
       "      <td>0.028446</td>\n",
       "      <td>0.027229</td>\n",
       "      <td>0.032016</td>\n",
       "    </tr>\n",
       "    <tr>\n",
       "      <th>std</th>\n",
       "      <td>0.014149</td>\n",
       "      <td>0.013194</td>\n",
       "      <td>0.013171</td>\n",
       "      <td>0.016351</td>\n",
       "      <td>0.012618</td>\n",
       "      <td>0.015533</td>\n",
       "      <td>0.013745</td>\n",
       "      <td>0.016990</td>\n",
       "      <td>0.017181</td>\n",
       "      <td>0.016351</td>\n",
       "      <td>...</td>\n",
       "      <td>0.019706</td>\n",
       "      <td>0.013946</td>\n",
       "      <td>0.013065</td>\n",
       "      <td>0.015708</td>\n",
       "      <td>0.013325</td>\n",
       "      <td>0.015246</td>\n",
       "      <td>0.021469</td>\n",
       "      <td>0.014444</td>\n",
       "      <td>0.016797</td>\n",
       "      <td>0.014543</td>\n",
       "    </tr>\n",
       "    <tr>\n",
       "      <th>min</th>\n",
       "      <td>0.000000</td>\n",
       "      <td>0.000000</td>\n",
       "      <td>0.000000</td>\n",
       "      <td>0.000000</td>\n",
       "      <td>0.000000</td>\n",
       "      <td>0.000000</td>\n",
       "      <td>0.000000</td>\n",
       "      <td>0.000000</td>\n",
       "      <td>0.000000</td>\n",
       "      <td>0.000000</td>\n",
       "      <td>...</td>\n",
       "      <td>0.000000</td>\n",
       "      <td>0.000000</td>\n",
       "      <td>0.000000</td>\n",
       "      <td>0.000000</td>\n",
       "      <td>0.000000</td>\n",
       "      <td>0.000000</td>\n",
       "      <td>0.000000</td>\n",
       "      <td>0.000000</td>\n",
       "      <td>0.000000</td>\n",
       "      <td>0.000000</td>\n",
       "    </tr>\n",
       "    <tr>\n",
       "      <th>25%</th>\n",
       "      <td>0.030924</td>\n",
       "      <td>0.016900</td>\n",
       "      <td>0.028585</td>\n",
       "      <td>0.013699</td>\n",
       "      <td>0.023896</td>\n",
       "      <td>0.013959</td>\n",
       "      <td>0.046983</td>\n",
       "      <td>0.018894</td>\n",
       "      <td>0.016833</td>\n",
       "      <td>0.013699</td>\n",
       "      <td>...</td>\n",
       "      <td>0.029303</td>\n",
       "      <td>0.016499</td>\n",
       "      <td>0.018263</td>\n",
       "      <td>0.017348</td>\n",
       "      <td>0.017872</td>\n",
       "      <td>0.021443</td>\n",
       "      <td>0.028711</td>\n",
       "      <td>0.018663</td>\n",
       "      <td>0.015644</td>\n",
       "      <td>0.022215</td>\n",
       "    </tr>\n",
       "    <tr>\n",
       "      <th>50%</th>\n",
       "      <td>0.037460</td>\n",
       "      <td>0.022473</td>\n",
       "      <td>0.033457</td>\n",
       "      <td>0.022994</td>\n",
       "      <td>0.029428</td>\n",
       "      <td>0.021984</td>\n",
       "      <td>0.054865</td>\n",
       "      <td>0.025745</td>\n",
       "      <td>0.026057</td>\n",
       "      <td>0.022994</td>\n",
       "      <td>...</td>\n",
       "      <td>0.038234</td>\n",
       "      <td>0.022993</td>\n",
       "      <td>0.023784</td>\n",
       "      <td>0.024109</td>\n",
       "      <td>0.023863</td>\n",
       "      <td>0.029488</td>\n",
       "      <td>0.038353</td>\n",
       "      <td>0.025604</td>\n",
       "      <td>0.025095</td>\n",
       "      <td>0.028623</td>\n",
       "    </tr>\n",
       "    <tr>\n",
       "      <th>75%</th>\n",
       "      <td>0.047054</td>\n",
       "      <td>0.031735</td>\n",
       "      <td>0.042838</td>\n",
       "      <td>0.034193</td>\n",
       "      <td>0.037515</td>\n",
       "      <td>0.033850</td>\n",
       "      <td>0.062590</td>\n",
       "      <td>0.036764</td>\n",
       "      <td>0.037638</td>\n",
       "      <td>0.034193</td>\n",
       "      <td>...</td>\n",
       "      <td>0.049842</td>\n",
       "      <td>0.033172</td>\n",
       "      <td>0.034010</td>\n",
       "      <td>0.036261</td>\n",
       "      <td>0.033035</td>\n",
       "      <td>0.038471</td>\n",
       "      <td>0.053399</td>\n",
       "      <td>0.033938</td>\n",
       "      <td>0.035973</td>\n",
       "      <td>0.038174</td>\n",
       "    </tr>\n",
       "    <tr>\n",
       "      <th>max</th>\n",
       "      <td>0.125754</td>\n",
       "      <td>0.115644</td>\n",
       "      <td>0.116545</td>\n",
       "      <td>0.119274</td>\n",
       "      <td>0.114803</td>\n",
       "      <td>0.114957</td>\n",
       "      <td>0.147932</td>\n",
       "      <td>0.142525</td>\n",
       "      <td>0.129412</td>\n",
       "      <td>0.119274</td>\n",
       "      <td>...</td>\n",
       "      <td>0.173402</td>\n",
       "      <td>0.113865</td>\n",
       "      <td>0.119366</td>\n",
       "      <td>0.120635</td>\n",
       "      <td>0.108018</td>\n",
       "      <td>0.138511</td>\n",
       "      <td>0.168584</td>\n",
       "      <td>0.125378</td>\n",
       "      <td>0.123035</td>\n",
       "      <td>0.130154</td>\n",
       "    </tr>\n",
       "  </tbody>\n",
       "</table>\n",
       "<p>8 rows × 15841 columns</p>\n",
       "</div>"
      ],
      "text/plain": [
       "              0             1             2             3             4      \\\n",
       "count  15841.000000  15841.000000  15841.000000  15841.000000  15841.000000   \n",
       "mean       0.040852      0.026237      0.037013      0.026025      0.032498   \n",
       "std        0.014149      0.013194      0.013171      0.016351      0.012618   \n",
       "min        0.000000      0.000000      0.000000      0.000000      0.000000   \n",
       "25%        0.030924      0.016900      0.028585      0.013699      0.023896   \n",
       "50%        0.037460      0.022473      0.033457      0.022994      0.029428   \n",
       "75%        0.047054      0.031735      0.042838      0.034193      0.037515   \n",
       "max        0.125754      0.115644      0.116545      0.119274      0.114803   \n",
       "\n",
       "              5             6             7             8             9      \\\n",
       "count  15841.000000  15841.000000  15841.000000  15841.000000  15841.000000   \n",
       "mean       0.025518      0.056041      0.030081      0.028649      0.026025   \n",
       "std        0.015533      0.013745      0.016990      0.017181      0.016351   \n",
       "min        0.000000      0.000000      0.000000      0.000000      0.000000   \n",
       "25%        0.013959      0.046983      0.018894      0.016833      0.013699   \n",
       "50%        0.021984      0.054865      0.025745      0.026057      0.022994   \n",
       "75%        0.033850      0.062590      0.036764      0.037638      0.034193   \n",
       "max        0.114957      0.147932      0.142525      0.129412      0.119274   \n",
       "\n",
       "       ...         15831         15832         15833         15834  \\\n",
       "count  ...  15841.000000  15841.000000  15841.000000  15841.000000   \n",
       "mean   ...      0.042082      0.026227      0.027419      0.028036   \n",
       "std    ...      0.019706      0.013946      0.013065      0.015708   \n",
       "min    ...      0.000000      0.000000      0.000000      0.000000   \n",
       "25%    ...      0.029303      0.016499      0.018263      0.017348   \n",
       "50%    ...      0.038234      0.022993      0.023784      0.024109   \n",
       "75%    ...      0.049842      0.033172      0.034010      0.036261   \n",
       "max    ...      0.173402      0.113865      0.119366      0.120635   \n",
       "\n",
       "              15835         15836         15837         15838         15839  \\\n",
       "count  15841.000000  15841.000000  15841.000000  15841.000000  15841.000000   \n",
       "mean       0.027468      0.031947      0.043230      0.028446      0.027229   \n",
       "std        0.013325      0.015246      0.021469      0.014444      0.016797   \n",
       "min        0.000000      0.000000      0.000000      0.000000      0.000000   \n",
       "25%        0.017872      0.021443      0.028711      0.018663      0.015644   \n",
       "50%        0.023863      0.029488      0.038353      0.025604      0.025095   \n",
       "75%        0.033035      0.038471      0.053399      0.033938      0.035973   \n",
       "max        0.108018      0.138511      0.168584      0.125378      0.123035   \n",
       "\n",
       "              15840  \n",
       "count  15841.000000  \n",
       "mean       0.032016  \n",
       "std        0.014543  \n",
       "min        0.000000  \n",
       "25%        0.022215  \n",
       "50%        0.028623  \n",
       "75%        0.038174  \n",
       "max        0.130154  \n",
       "\n",
       "[8 rows x 15841 columns]"
      ]
     },
     "execution_count": 9,
     "metadata": {},
     "output_type": "execute_result"
    }
   ],
   "source": [
    "# converting datatype to float\n",
    "input_similarity_matrix = df.astype(float)\n",
    "input_similarity_matrix.describe()"
   ]
  },
  {
   "cell_type": "code",
   "execution_count": 10,
   "metadata": {
    "execution": {
     "iopub.execute_input": "2021-03-03T16:11:02.648036Z",
     "iopub.status.busy": "2021-03-03T16:11:02.647341Z",
     "iopub.status.idle": "2021-03-03T16:11:02.658329Z",
     "shell.execute_reply": "2021-03-03T16:11:02.657745Z"
    },
    "papermill": {
     "duration": 0.031771,
     "end_time": "2021-03-03T16:11:02.658469",
     "exception": false,
     "start_time": "2021-03-03T16:11:02.626698",
     "status": "completed"
    },
    "tags": []
   },
   "outputs": [
    {
     "data": {
      "text/plain": [
       "0.0068166255950927"
      ]
     },
     "execution_count": 10,
     "metadata": {},
     "output_type": "execute_result"
    }
   ],
   "source": [
    "# finding 10th neighbour distance to sentence 1\n",
    "input_similarity_matrix.iloc[1].nsmallest(10).iloc[10-1]"
   ]
  },
  {
   "cell_type": "code",
   "execution_count": 11,
   "metadata": {
    "execution": {
     "iopub.execute_input": "2021-03-03T16:11:02.697313Z",
     "iopub.status.busy": "2021-03-03T16:11:02.696563Z",
     "iopub.status.idle": "2021-03-03T16:11:14.803166Z",
     "shell.execute_reply": "2021-03-03T16:11:14.802416Z"
    },
    "papermill": {
     "duration": 12.128217,
     "end_time": "2021-03-03T16:11:14.803325",
     "exception": false,
     "start_time": "2021-03-03T16:11:02.675108",
     "status": "completed"
    },
    "tags": []
   },
   "outputs": [],
   "source": [
    "# extending logic to all rows\n",
    "def sort_and_select_10_neigh_dist(row):\n",
    "    return row.nsmallest(10).iloc[10-1]\n",
    "\n",
    "neighbor_10_dist = input_similarity_matrix.apply(sort_and_select_10_neigh_dist, axis = 1) "
   ]
  },
  {
   "cell_type": "code",
   "execution_count": 12,
   "metadata": {
    "execution": {
     "iopub.execute_input": "2021-03-03T16:11:14.846222Z",
     "iopub.status.busy": "2021-03-03T16:11:14.841762Z",
     "iopub.status.idle": "2021-03-03T16:11:14.849523Z",
     "shell.execute_reply": "2021-03-03T16:11:14.850062Z"
    },
    "papermill": {
     "duration": 0.029998,
     "end_time": "2021-03-03T16:11:14.850246",
     "exception": false,
     "start_time": "2021-03-03T16:11:14.820248",
     "status": "completed"
    },
    "tags": []
   },
   "outputs": [
    {
     "data": {
      "text/plain": [
       "count    15841.000000\n",
       "mean         0.007815\n",
       "std          0.007173\n",
       "min          0.000000\n",
       "25%          0.001760\n",
       "50%          0.006844\n",
       "75%          0.011797\n",
       "max          0.067153\n",
       "dtype: float64"
      ]
     },
     "execution_count": 12,
     "metadata": {},
     "output_type": "execute_result"
    }
   ],
   "source": [
    "neighbor_10_dist.describe()"
   ]
  },
  {
   "cell_type": "code",
   "execution_count": 13,
   "metadata": {
    "execution": {
     "iopub.execute_input": "2021-03-03T16:11:14.892277Z",
     "iopub.status.busy": "2021-03-03T16:11:14.891581Z",
     "iopub.status.idle": "2021-03-03T16:11:15.700093Z",
     "shell.execute_reply": "2021-03-03T16:11:15.699516Z"
    },
    "papermill": {
     "duration": 0.832192,
     "end_time": "2021-03-03T16:11:15.700248",
     "exception": false,
     "start_time": "2021-03-03T16:11:14.868056",
     "status": "completed"
    },
    "tags": []
   },
   "outputs": [
    {
     "name": "stdout",
     "output_type": "stream",
     "text": [
      "by the way do you like fish ?  - Similarity Score : 0.0\n",
      "by the way do you like dogs ?  - Similarity Score : 0.0023227334022521\n",
      "by the way do you like cars ?  - Similarity Score : 0.0033760070800781\n",
      "by the way do you like football ?  - Similarity Score : 0.0042977929115295\n",
      "on a different note do you like dogs ?  - Similarity Score : 0.0056469440460205\n",
      "do you like looking up at the stars ?  - Similarity Score : 0.0056816935539245\n",
      "do you like dogs or cats more ?  - Similarity Score : 0.0061844587326049\n",
      "how do you like the blue color ?  - Similarity Score : 0.0064437389373779\n",
      "do you like any animals by the way ?  - Similarity Score : 0.0067468881607055\n",
      "do you like the temptations ?  - Similarity Score : 0.0068166255950927\n"
     ]
    }
   ],
   "source": [
    "for x in list(input_similarity_matrix.nsmallest(10, 1).index.astype(int)):\n",
    "    print(input_texts[x], \" - Similarity Score :\", input_similarity_matrix[x][1]) "
   ]
  },
  {
   "cell_type": "code",
   "execution_count": 14,
   "metadata": {
    "execution": {
     "iopub.execute_input": "2021-03-03T16:11:15.742889Z",
     "iopub.status.busy": "2021-03-03T16:11:15.742141Z",
     "iopub.status.idle": "2021-03-03T16:11:15.747188Z",
     "shell.execute_reply": "2021-03-03T16:11:15.746573Z"
    },
    "papermill": {
     "duration": 0.029058,
     "end_time": "2021-03-03T16:11:15.747337",
     "exception": false,
     "start_time": "2021-03-03T16:11:15.718279",
     "status": "completed"
    },
    "tags": []
   },
   "outputs": [
    {
     "name": "stdout",
     "output_type": "stream",
     "text": [
      "0.030684375762939406\n"
     ]
    }
   ],
   "source": [
    "# using 40th percentile value as appropriate distance for 10th neighbour\n",
    "eps_10 = neighbor_10_dist.quantile(0.99)\n",
    "print(eps_10)"
   ]
  },
  {
   "cell_type": "code",
   "execution_count": 15,
   "metadata": {
    "execution": {
     "iopub.execute_input": "2021-03-03T16:11:15.793891Z",
     "iopub.status.busy": "2021-03-03T16:11:15.793227Z",
     "iopub.status.idle": "2021-03-03T22:30:50.523391Z",
     "shell.execute_reply": "2021-03-03T22:30:50.523904Z"
    },
    "papermill": {
     "duration": 22774.758353,
     "end_time": "2021-03-03T22:30:50.524142",
     "exception": false,
     "start_time": "2021-03-03T16:11:15.765789",
     "status": "completed"
    },
    "tags": []
   },
   "outputs": [
    {
     "name": "stdout",
     "output_type": "stream",
     "text": [
      "Taking EPS as 0.0\n",
      "Estimated number of clusters: 100\n",
      "Estimated number of noise points: 12197\n",
      "-----------\n",
      "Taking EPS as 0.0017603039741516\n",
      "Estimated number of clusters: 100\n",
      "Estimated number of noise points: 12197\n",
      "-----------\n",
      "Taking EPS as 0.0206244587898254\n",
      "Estimated number of clusters: 100\n",
      "Estimated number of noise points: 12197\n",
      "-----------\n",
      "Taking EPS as 0.030684375762939406\n",
      "Estimated number of clusters: 100\n",
      "Estimated number of noise points: 12197\n",
      "-----------\n",
      "Taking EPS as 0.7\n",
      "Estimated number of clusters: 100\n",
      "Estimated number of noise points: 12197\n",
      "-----------\n",
      "Taking EPS as 0.8\n",
      "Estimated number of clusters: 100\n",
      "Estimated number of noise points: 12197\n",
      "-----------\n",
      "Taking EPS as 0.9\n",
      "Estimated number of clusters: 100\n",
      "Estimated number of noise points: 12197\n",
      "-----------\n",
      "Taking EPS as 1.0\n",
      "Estimated number of clusters: 100\n",
      "Estimated number of noise points: 12197\n",
      "-----------\n",
      "Taking EPS as 1.5\n",
      "Estimated number of clusters: 100\n",
      "Estimated number of noise points: 12197\n",
      "-----------\n",
      "Taking EPS as 2\n",
      "Estimated number of clusters: 100\n",
      "Estimated number of noise points: 12197\n",
      "-----------\n",
      "Taking EPS as 3\n",
      "Estimated number of clusters: 100\n",
      "Estimated number of noise points: 12197\n",
      "-----------\n",
      "Taking EPS as 4\n",
      "Estimated number of clusters: 100\n",
      "Estimated number of noise points: 12197\n",
      "-----------\n",
      "Taking EPS as 5\n",
      "Estimated number of clusters: 100\n",
      "Estimated number of noise points: 12197\n",
      "-----------\n",
      "Taking EPS as 8\n",
      "Estimated number of clusters: 100\n",
      "Estimated number of noise points: 12197\n",
      "-----------\n",
      "Taking EPS as 10\n",
      "Estimated number of clusters: 100\n",
      "Estimated number of noise points: 12197\n",
      "-----------\n"
     ]
    }
   ],
   "source": [
    "eps_range = [neighbor_10_dist.quantile(0.1), neighbor_10_dist.quantile(0.25), neighbor_10_dist.quantile(0.95),\n",
    "            neighbor_10_dist.quantile(0.99), 0.7, 0.8, 0.9, 1.0, 1.5, 2, 3, 4, 5, 8, 10]\n",
    "\n",
    "\n",
    "eps_num_clusters = list()\n",
    "eps_num_noise = list()\n",
    "\n",
    "for eps_num in eps_range:\n",
    "    \n",
    "    print(\"Taking EPS as\", eps_num)\n",
    "    # Compute DBSCAN\n",
    "    db = DBSCAN(eps=eps_10, min_samples=10, n_jobs=-1).fit(input_similarity_matrix)\n",
    "    #core_samples_mask = np.zeros_like(db.labels_, dtype=bool)\n",
    "    #core_samples_mask[db.core_sample_indices_] = True\n",
    "    labels = db.labels_\n",
    "\n",
    "    # Number of clusters in labels, ignoring noise if present.\n",
    "    n_clusters_ = len(set(labels)) - (1 if -1 in labels else 0)\n",
    "    n_noise_ = list(labels).count(-1)\n",
    "    \n",
    "    eps_num_clusters.append(n_clusters_)\n",
    "    eps_num_noise.append(n_noise_)\n",
    "\n",
    "    print('Estimated number of clusters: %d' % n_clusters_)\n",
    "    print('Estimated number of noise points: %d' % n_noise_)\n",
    "    print(\"-----------\")"
   ]
  },
  {
   "cell_type": "code",
   "execution_count": 16,
   "metadata": {
    "execution": {
     "iopub.execute_input": "2021-03-03T22:30:50.595178Z",
     "iopub.status.busy": "2021-03-03T22:30:50.590883Z",
     "iopub.status.idle": "2021-03-03T22:30:50.743133Z",
     "shell.execute_reply": "2021-03-03T22:30:50.742481Z"
    },
    "papermill": {
     "duration": 0.196287,
     "end_time": "2021-03-03T22:30:50.743279",
     "exception": false,
     "start_time": "2021-03-03T22:30:50.546992",
     "status": "completed"
    },
    "tags": []
   },
   "outputs": [
    {
     "data": {
      "image/png": "[encoded data removed]",
      "text/plain": [
       "<Figure size 432x288 with 1 Axes>"
      ]
     },
     "metadata": {
      "needs_background": "light"
     },
     "output_type": "display_data"
    }
   ],
   "source": [
    "plt.plot(eps_range, eps_num_clusters)\n",
    "plt.show()"
   ]
  },
  {
   "cell_type": "code",
   "execution_count": 17,
   "metadata": {
    "execution": {
     "iopub.execute_input": "2021-03-03T22:30:50.798058Z",
     "iopub.status.busy": "2021-03-03T22:30:50.797016Z",
     "iopub.status.idle": "2021-03-03T22:30:50.801494Z",
     "shell.execute_reply": "2021-03-03T22:30:50.801963Z"
    },
    "papermill": {
     "duration": 0.035035,
     "end_time": "2021-03-03T22:30:50.802140",
     "exception": false,
     "start_time": "2021-03-03T22:30:50.767105",
     "status": "completed"
    },
    "tags": []
   },
   "outputs": [
    {
     "data": {
      "text/plain": [
       "\"\\nunique_labels = set(labels)\\ncolors = [plt.cm.Spectral(each)\\n          for each in np.linspace(0, 1, len(unique_labels))]\\nfor k, col in zip(unique_labels, colors):\\n    if k == -1:\\n        # Black used for noise.\\n        col = [0, 0, 0, 1]\\n        continue\\n\\n    class_member_mask = (labels == k)\\n\\n    xy = X[class_member_mask & core_samples_mask]\\n    plt.plot(xy[:, 0], xy[:, 1], 'o', markerfacecolor=tuple(col),\\n             markeredgecolor='k', markersize=14)\\n\\n    xy = X[class_member_mask & ~core_samples_mask]\\n    plt.plot(xy[:, 0], xy[:, 1], 'x', markerfacecolor=tuple(col),\\n             markeredgecolor='k', markersize=6)\\n\\nplt.title('Estimated number of clusters: %d' % n_clusters_)\\nplt.show()\\n\""
      ]
     },
     "execution_count": 17,
     "metadata": {},
     "output_type": "execute_result"
    }
   ],
   "source": [
    "# Plot result\n",
    "\n",
    "# Black removed and is used for noise instead.\n",
    "\"\"\"\n",
    "unique_labels = set(labels)\n",
    "colors = [plt.cm.Spectral(each)\n",
    "          for each in np.linspace(0, 1, len(unique_labels))]\n",
    "for k, col in zip(unique_labels, colors):\n",
    "    if k == -1:\n",
    "        # Black used for noise.\n",
    "        col = [0, 0, 0, 1]\n",
    "        continue\n",
    "\n",
    "    class_member_mask = (labels == k)\n",
    "\n",
    "    xy = X[class_member_mask & core_samples_mask]\n",
    "    plt.plot(xy[:, 0], xy[:, 1], 'o', markerfacecolor=tuple(col),\n",
    "             markeredgecolor='k', markersize=14)\n",
    "\n",
    "    xy = X[class_member_mask & ~core_samples_mask]\n",
    "    plt.plot(xy[:, 0], xy[:, 1], 'x', markerfacecolor=tuple(col),\n",
    "             markeredgecolor='k', markersize=6)\n",
    "\n",
    "plt.title('Estimated number of clusters: %d' % n_clusters_)\n",
    "plt.show()\n",
    "\"\"\""
   ]
  },
  {
   "cell_type": "code",
   "execution_count": 18,
   "metadata": {
    "execution": {
     "iopub.execute_input": "2021-03-03T22:30:50.857381Z",
     "iopub.status.busy": "2021-03-03T22:30:50.856444Z",
     "iopub.status.idle": "2021-03-03T22:30:50.861001Z",
     "shell.execute_reply": "2021-03-03T22:30:50.861469Z"
    },
    "papermill": {
     "duration": 0.035407,
     "end_time": "2021-03-03T22:30:50.861660",
     "exception": false,
     "start_time": "2021-03-03T22:30:50.826253",
     "status": "completed"
    },
    "tags": []
   },
   "outputs": [
    {
     "data": {
      "text/plain": [
       "'\\nfrom collections import Counter\\n\\nfor unique_label in set(labels):\\n    \\n    class_member_mask = (labels == unique_label)\\n    print(\"In cluster\", unique_label, \"found\", Counter(class_member_mask)[True], \"points\")\\n    print(\"Samples\")\\n    print(np.array(input_texts)[class_member_mask])\\n    print(\"-------------------------------------\")\\n    #print(Counter(class_member_mask).keys()) # equals to list(set(words))\\n    #Counter(words).values() # counts the elements\\' frequency\\n'"
      ]
     },
     "execution_count": 18,
     "metadata": {},
     "output_type": "execute_result"
    }
   ],
   "source": [
    "\"\"\"\n",
    "from collections import Counter\n",
    "\n",
    "for unique_label in set(labels):\n",
    "    \n",
    "    class_member_mask = (labels == unique_label)\n",
    "    print(\"In cluster\", unique_label, \"found\", Counter(class_member_mask)[True], \"points\")\n",
    "    print(\"Samples\")\n",
    "    print(np.array(input_texts)[class_member_mask])\n",
    "    print(\"-------------------------------------\")\n",
    "    #print(Counter(class_member_mask).keys()) # equals to list(set(words))\n",
    "    #Counter(words).values() # counts the elements' frequency\n",
    "\"\"\""
   ]
  }
 ],
 "metadata": {
  "kernelspec": {
   "display_name": "Python 3",
   "language": "python",
   "name": "python3"
  },
  "language_info": {
   "codemirror_mode": {
    "name": "ipython",
    "version": 3
   },
   "file_extension": ".py",
   "mimetype": "text/x-python",
   "name": "python",
   "nbconvert_exporter": "python",
   "pygments_lexer": "ipython3",
   "version": "3.7.9"
  },
  "papermill": {
   "default_parameters": {},
   "duration": 23065.552715,
   "end_time": "2021-03-03T22:30:51.797921",
   "environment_variables": {},
   "exception": null,
   "input_path": "__notebook__.ipynb",
   "output_path": "__notebook__.ipynb",
   "parameters": {},
   "start_time": "2021-03-03T16:06:26.245206",
   "version": "2.2.2"
  }
 },
 "nbformat": 4,
 "nbformat_minor": 4
}
